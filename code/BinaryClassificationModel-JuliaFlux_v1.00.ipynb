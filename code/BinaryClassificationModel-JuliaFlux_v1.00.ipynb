{
 "cells": [
  {
   "cell_type": "markdown",
   "metadata": {},
   "source": [
    "# Binary Classification Model using Julia Flux"
   ]
  },
  {
   "cell_type": "markdown",
   "metadata": {},
   "source": [
    "Version: 1.00 (Initial)"
   ]
  },
  {
   "cell_type": "markdown",
   "metadata": {},
   "source": [
    "### Readme"
   ]
  },
  {
   "cell_type": "markdown",
   "metadata": {},
   "source": [
    "I did the \"**Deep Learning with Flux**\" course provided by **Julia Academy** (https://juliaacademy.com/courses/). I express my sincere gratitude to **Dr. Matt Bauman** for presenting this course and sharing the associated Jupyter Notebook. This notebook is associated with first lecture \"**Introduction to Flux**\" of the mentioned course.\n",
    "\n",
    "As I was attending the first lecture, I realized I need to code myself to understand and record my inferences and in the process came up with this working notebook. Intent is to have this for my future reference as well as be useful to someone new to the field learning ML/DL.\n",
    "\n",
    "This notebook provides a quick introduction to **Julia Flux** by having a **Binary Classification Model** implemented to **classify Apples and Bananas Images**. \n",
    "\n",
    "Details of what this notebook covers is listed below:\n",
    "- How to setup the Environment\n",
    "- Where to get the datasets from \n",
    "- Which packages to install and how\n",
    "- Quick Introduction to Activation Function (Sigmoid)\n",
    "- Quick Introduction to Loss and Optimizer Function\n",
    "- Create a Model with Flux - Get output for a random input - Compare output with Manual Implementation\n",
    "- Use Model As Is (without training) to classify Apples and Bananas\n",
    "- Use Manually Trained Model to classify Apples and Bananas\n",
    "- Use Flux Trained Model to classify Apples and Bananas\n",
    "    - Visualization of the results using plots\n",
    "\n",
    "We have **492 Apple** Instances and **490 Banana** Instances (Images) widely spaced apart per their **Red** and **Green** values. Refer below image:\n",
    "<img src=\"images/Input.jpg\">\n",
    "\n",
    "By using the Flux Model, we are able to classify these instances into 2 Classes - **\"0\" for Apples** (1 to 492) and **\"1\" for Bananas** (493 to 982). Refer below image:\n",
    "<img src=\"images/Prediction.jpg\">"
   ]
  },
  {
   "cell_type": "markdown",
   "metadata": {},
   "source": [
    "### How to setup the Environment"
   ]
  },
  {
   "cell_type": "markdown",
   "metadata": {},
   "source": [
    "I am using **Julia REPL** and **Jupyter Environment** for the notebook. If you wish to setup this environment, here is what I did:\n",
    "- I installed Julia 1.3.1 from: https://julialang.org/downloads/\n",
    "- Once I installed Julia, I invoked Jupyter Environment from the REPL using following:\n",
    "    - julia> using IJulia\n",
    "    - julia> notebook(detached=true)     \n",
    "- I created a New Notebook (File->New Notebook... select Julia) ... which is this notebook and started editing."
   ]
  },
  {
   "cell_type": "markdown",
   "metadata": {},
   "source": [
    "###  Where to get the datasets from "
   ]
  },
  {
   "cell_type": "markdown",
   "metadata": {},
   "source": [
    "I got data files from this URL as mentioned in the course: https://github.com/JuliaComputing/JuliaAcademyData.jl\n",
    "- go to \"courses/Deep learning with Flux/data/\"\n",
    "- you will find files: apples.dat, bananas.dat"
   ]
  },
  {
   "cell_type": "markdown",
   "metadata": {},
   "source": [
    "### Which packages to install and how"
   ]
  },
  {
   "cell_type": "markdown",
   "metadata": {},
   "source": [
    "I added the packages I did not have on my system - so that can use them during the course - by using following code at the REPL\n",
    "- **Flux**\n",
    "    - is the deep learning package from Julia - helps create/train/use models\n",
    "    - julia> using Pkg\n",
    "    - julia> Pkg.add(\"Flux\")\n",
    "- **Plots**\n",
    "    - helps create graphs for visualization as you build & refine your model\n",
    "    - julia> using Pkg\n",
    "    - julia> Pkg.add(\"Plots\")\n",
    "- **CSV**\n",
    "    - helps read data from CSV files to use as inputs for the model\n",
    "    - julia> using Pkg\n",
    "    - julia> Pkg.add(\"CSV\")\n",
    "- **DataFrames**\n",
    "    - data is stored/modified in structures called dataframes, dataframes provides support for same. \n",
    "    - julia> using Pkg\n",
    "    - julia> Pkg.add(\"DataFrames\")"
   ]
  },
  {
   "cell_type": "markdown",
   "metadata": {},
   "source": [
    "### Quick Introduction to Activation Function (Sigmoid)"
   ]
  },
  {
   "cell_type": "markdown",
   "metadata": {},
   "source": [
    "Sigmoid is a commonly used activation function. Flux supports sigmoid function as a built-in function."
   ]
  },
  {
   "cell_type": "code",
   "execution_count": 1,
   "metadata": {},
   "outputs": [
    {
     "name": "stderr",
     "output_type": "stream",
     "text": [
      "┌ Warning: CuArrays.jl only supports CUDNN v7.6 or higher\n",
      "└ @ CuArrays C:\\Users\\Chinmoy\\.julia\\packages\\CuArrays\\HE8G6\\src\\CuArrays.jl:121\n"
     ]
    }
   ],
   "source": [
    "using Flux"
   ]
  },
  {
   "cell_type": "code",
   "execution_count": 2,
   "metadata": {},
   "outputs": [
    {
     "name": "stdout",
     "output_type": "stream",
     "text": [
      "\"\u001b[36mσ\u001b[39m\" can be typed by \u001b[36m\\sigma<tab>\u001b[39m\n",
      "\n",
      "search: \u001b[0m\u001b[1mσ\u001b[22m log\u001b[0m\u001b[1mσ\u001b[22m hard\u001b[0m\u001b[1mσ\u001b[22m\n",
      "\n"
     ]
    },
    {
     "data": {
      "text/latex": [
       "\\begin{verbatim}\n",
       "σ(x) = 1 / (1 + exp(-x))\n",
       "\\end{verbatim}\n",
       "Classic \\href{https://en.wikipedia.org/wiki/Sigmoid_function}{sigmoid} activation function.\n",
       "\n"
      ],
      "text/markdown": [
       "```\n",
       "σ(x) = 1 / (1 + exp(-x))\n",
       "```\n",
       "\n",
       "Classic [sigmoid](https://en.wikipedia.org/wiki/Sigmoid_function) activation function.\n"
      ],
      "text/plain": [
       "\u001b[36m  σ(x) = 1 / (1 + exp(-x))\u001b[39m\n",
       "\n",
       "  Classic sigmoid (https://en.wikipedia.org/wiki/Sigmoid_function) activation\n",
       "  function."
      ]
     },
     "execution_count": 2,
     "metadata": {},
     "output_type": "execute_result"
    }
   ],
   "source": [
    "?σ"
   ]
  },
  {
   "cell_type": "markdown",
   "metadata": {},
   "source": [
    "Plot the sigmoid function."
   ]
  },
  {
   "cell_type": "code",
   "execution_count": 3,
   "metadata": {},
   "outputs": [],
   "source": [
    "using Plots"
   ]
  },
  {
   "cell_type": "code",
   "execution_count": 4,
   "metadata": {},
   "outputs": [
    {
     "data": {
      "image/svg+xml": [
       "<?xml version=\"1.0\" encoding=\"utf-8\"?>\n",
       "<svg xmlns=\"http://www.w3.org/2000/svg\" xmlns:xlink=\"http://www.w3.org/1999/xlink\" width=\"600\" height=\"400\" viewBox=\"0 0 2400 1600\">\n",
       "<defs>\n",
       "  <clipPath id=\"clip1200\">\n",
       "    <rect x=\"0\" y=\"0\" width=\"2400\" height=\"1600\"/>\n",
       "  </clipPath>\n",
       "</defs>\n",
       "<path clip-path=\"url(#clip1200)\" d=\"\n",
       "M0 1600 L2400 1600 L2400 0 L0 0  Z\n",
       "  \" fill=\"#ffffff\" fill-rule=\"evenodd\" fill-opacity=\"1\"/>\n",
       "<defs>\n",
       "  <clipPath id=\"clip1201\">\n",
       "    <rect x=\"480\" y=\"0\" width=\"1681\" height=\"1600\"/>\n",
       "  </clipPath>\n",
       "</defs>\n",
       "<path clip-path=\"url(#clip1200)\" d=\"\n",
       "M242.344 1425.62 L2352.76 1425.62 L2352.76 47.2441 L242.344 47.2441  Z\n",
       "  \" fill=\"#ffffff\" fill-rule=\"evenodd\" fill-opacity=\"1\"/>\n",
       "<defs>\n",
       "  <clipPath id=\"clip1202\">\n",
       "    <rect x=\"242\" y=\"47\" width=\"2111\" height=\"1379\"/>\n",
       "  </clipPath>\n",
       "</defs>\n",
       "<polyline clip-path=\"url(#clip1202)\" style=\"stroke:#000000; stroke-width:2; stroke-opacity:0.1; fill:none\" points=\"\n",
       "  501.168,1425.62 501.168,47.2441 \n",
       "  \"/>\n",
       "<polyline clip-path=\"url(#clip1202)\" style=\"stroke:#000000; stroke-width:2; stroke-opacity:0.1; fill:none\" points=\"\n",
       "  899.359,1425.62 899.359,47.2441 \n",
       "  \"/>\n",
       "<polyline clip-path=\"url(#clip1202)\" style=\"stroke:#000000; stroke-width:2; stroke-opacity:0.1; fill:none\" points=\"\n",
       "  1297.55,1425.62 1297.55,47.2441 \n",
       "  \"/>\n",
       "<polyline clip-path=\"url(#clip1202)\" style=\"stroke:#000000; stroke-width:2; stroke-opacity:0.1; fill:none\" points=\"\n",
       "  1695.74,1425.62 1695.74,47.2441 \n",
       "  \"/>\n",
       "<polyline clip-path=\"url(#clip1202)\" style=\"stroke:#000000; stroke-width:2; stroke-opacity:0.1; fill:none\" points=\"\n",
       "  2093.93,1425.62 2093.93,47.2441 \n",
       "  \"/>\n",
       "<polyline clip-path=\"url(#clip1202)\" style=\"stroke:#000000; stroke-width:2; stroke-opacity:0.1; fill:none\" points=\"\n",
       "  242.344,1395.43 2352.76,1395.43 \n",
       "  \"/>\n",
       "<polyline clip-path=\"url(#clip1202)\" style=\"stroke:#000000; stroke-width:2; stroke-opacity:0.1; fill:none\" points=\"\n",
       "  242.344,1065.93 2352.76,1065.93 \n",
       "  \"/>\n",
       "<polyline clip-path=\"url(#clip1202)\" style=\"stroke:#000000; stroke-width:2; stroke-opacity:0.1; fill:none\" points=\"\n",
       "  242.344,736.431 2352.76,736.431 \n",
       "  \"/>\n",
       "<polyline clip-path=\"url(#clip1202)\" style=\"stroke:#000000; stroke-width:2; stroke-opacity:0.1; fill:none\" points=\"\n",
       "  242.344,406.932 2352.76,406.932 \n",
       "  \"/>\n",
       "<polyline clip-path=\"url(#clip1202)\" style=\"stroke:#000000; stroke-width:2; stroke-opacity:0.1; fill:none\" points=\"\n",
       "  242.344,77.4335 2352.76,77.4335 \n",
       "  \"/>\n",
       "<polyline clip-path=\"url(#clip1200)\" style=\"stroke:#000000; stroke-width:4; stroke-opacity:1; fill:none\" points=\"\n",
       "  242.344,1425.62 2352.76,1425.62 \n",
       "  \"/>\n",
       "<polyline clip-path=\"url(#clip1200)\" style=\"stroke:#000000; stroke-width:4; stroke-opacity:1; fill:none\" points=\"\n",
       "  242.344,1425.62 242.344,47.2441 \n",
       "  \"/>\n",
       "<polyline clip-path=\"url(#clip1200)\" style=\"stroke:#000000; stroke-width:4; stroke-opacity:1; fill:none\" points=\"\n",
       "  501.168,1425.62 501.168,1409.08 \n",
       "  \"/>\n",
       "<polyline clip-path=\"url(#clip1200)\" style=\"stroke:#000000; stroke-width:4; stroke-opacity:1; fill:none\" points=\"\n",
       "  899.359,1425.62 899.359,1409.08 \n",
       "  \"/>\n",
       "<polyline clip-path=\"url(#clip1200)\" style=\"stroke:#000000; stroke-width:4; stroke-opacity:1; fill:none\" points=\"\n",
       "  1297.55,1425.62 1297.55,1409.08 \n",
       "  \"/>\n",
       "<polyline clip-path=\"url(#clip1200)\" style=\"stroke:#000000; stroke-width:4; stroke-opacity:1; fill:none\" points=\"\n",
       "  1695.74,1425.62 1695.74,1409.08 \n",
       "  \"/>\n",
       "<polyline clip-path=\"url(#clip1200)\" style=\"stroke:#000000; stroke-width:4; stroke-opacity:1; fill:none\" points=\"\n",
       "  2093.93,1425.62 2093.93,1409.08 \n",
       "  \"/>\n",
       "<polyline clip-path=\"url(#clip1200)\" style=\"stroke:#000000; stroke-width:4; stroke-opacity:1; fill:none\" points=\"\n",
       "  242.344,1395.43 267.669,1395.43 \n",
       "  \"/>\n",
       "<polyline clip-path=\"url(#clip1200)\" style=\"stroke:#000000; stroke-width:4; stroke-opacity:1; fill:none\" points=\"\n",
       "  242.344,1065.93 267.669,1065.93 \n",
       "  \"/>\n",
       "<polyline clip-path=\"url(#clip1200)\" style=\"stroke:#000000; stroke-width:4; stroke-opacity:1; fill:none\" points=\"\n",
       "  242.344,736.431 267.669,736.431 \n",
       "  \"/>\n",
       "<polyline clip-path=\"url(#clip1200)\" style=\"stroke:#000000; stroke-width:4; stroke-opacity:1; fill:none\" points=\"\n",
       "  242.344,406.932 267.669,406.932 \n",
       "  \"/>\n",
       "<polyline clip-path=\"url(#clip1200)\" style=\"stroke:#000000; stroke-width:4; stroke-opacity:1; fill:none\" points=\"\n",
       "  242.344,77.4335 267.669,77.4335 \n",
       "  \"/>\n",
       "<g clip-path=\"url(#clip1200)\">\n",
       "<text style=\"fill:#000000; fill-opacity:1; font-family:Arial,Helvetica Neue,Helvetica,sans-serif; font-size:48px; text-anchor:middle;\" transform=\"rotate(0, 501.168, 1479.62)\" x=\"501.168\" y=\"1479.62\">-4</text>\n",
       "</g>\n",
       "<g clip-path=\"url(#clip1200)\">\n",
       "<text style=\"fill:#000000; fill-opacity:1; font-family:Arial,Helvetica Neue,Helvetica,sans-serif; font-size:48px; text-anchor:middle;\" transform=\"rotate(0, 899.359, 1479.62)\" x=\"899.359\" y=\"1479.62\">-2</text>\n",
       "</g>\n",
       "<g clip-path=\"url(#clip1200)\">\n",
       "<text style=\"fill:#000000; fill-opacity:1; font-family:Arial,Helvetica Neue,Helvetica,sans-serif; font-size:48px; text-anchor:middle;\" transform=\"rotate(0, 1297.55, 1479.62)\" x=\"1297.55\" y=\"1479.62\">0</text>\n",
       "</g>\n",
       "<g clip-path=\"url(#clip1200)\">\n",
       "<text style=\"fill:#000000; fill-opacity:1; font-family:Arial,Helvetica Neue,Helvetica,sans-serif; font-size:48px; text-anchor:middle;\" transform=\"rotate(0, 1695.74, 1479.62)\" x=\"1695.74\" y=\"1479.62\">2</text>\n",
       "</g>\n",
       "<g clip-path=\"url(#clip1200)\">\n",
       "<text style=\"fill:#000000; fill-opacity:1; font-family:Arial,Helvetica Neue,Helvetica,sans-serif; font-size:48px; text-anchor:middle;\" transform=\"rotate(0, 2093.93, 1479.62)\" x=\"2093.93\" y=\"1479.62\">4</text>\n",
       "</g>\n",
       "<g clip-path=\"url(#clip1200)\">\n",
       "<text style=\"fill:#000000; fill-opacity:1; font-family:Arial,Helvetica Neue,Helvetica,sans-serif; font-size:48px; text-anchor:end;\" transform=\"rotate(0, 218.344, 1412.93)\" x=\"218.344\" y=\"1412.93\">0.00</text>\n",
       "</g>\n",
       "<g clip-path=\"url(#clip1200)\">\n",
       "<text style=\"fill:#000000; fill-opacity:1; font-family:Arial,Helvetica Neue,Helvetica,sans-serif; font-size:48px; text-anchor:end;\" transform=\"rotate(0, 218.344, 1083.43)\" x=\"218.344\" y=\"1083.43\">0.25</text>\n",
       "</g>\n",
       "<g clip-path=\"url(#clip1200)\">\n",
       "<text style=\"fill:#000000; fill-opacity:1; font-family:Arial,Helvetica Neue,Helvetica,sans-serif; font-size:48px; text-anchor:end;\" transform=\"rotate(0, 218.344, 753.931)\" x=\"218.344\" y=\"753.931\">0.50</text>\n",
       "</g>\n",
       "<g clip-path=\"url(#clip1200)\">\n",
       "<text style=\"fill:#000000; fill-opacity:1; font-family:Arial,Helvetica Neue,Helvetica,sans-serif; font-size:48px; text-anchor:end;\" transform=\"rotate(0, 218.344, 424.432)\" x=\"218.344\" y=\"424.432\">0.75</text>\n",
       "</g>\n",
       "<g clip-path=\"url(#clip1200)\">\n",
       "<text style=\"fill:#000000; fill-opacity:1; font-family:Arial,Helvetica Neue,Helvetica,sans-serif; font-size:48px; text-anchor:end;\" transform=\"rotate(0, 218.344, 94.9335)\" x=\"218.344\" y=\"94.9335\">1.00</text>\n",
       "</g>\n",
       "<g clip-path=\"url(#clip1200)\">\n",
       "<text style=\"fill:#000000; fill-opacity:1; font-family:Arial,Helvetica Neue,Helvetica,sans-serif; font-size:66px; text-anchor:middle;\" transform=\"rotate(0, 1297.55, 1559.48)\" x=\"1297.55\" y=\"1559.48\">x</text>\n",
       "</g>\n",
       "<g clip-path=\"url(#clip1200)\">\n",
       "<text style=\"fill:#000000; fill-opacity:1; font-family:Symbol; font-size:72px; text-anchor:start;\" transform=\"rotate(-90, 90.697, 796.497)\" x=\"90.697\" y=\"796.497\">σ</text>\n",
       "</g>\n",
       "<g clip-path=\"url(#clip1200)\">\n",
       "<text style=\"fill:#000000; fill-opacity:1; font-family:Arial,Helvetica Neue,Helvetica,sans-serif; font-size:66px; text-anchor:start;\" transform=\"rotate(-90, 90.697, 753.536)\" x=\"90.697\" y=\"753.536\">(x)</text>\n",
       "</g>\n",
       "<polyline clip-path=\"url(#clip1202)\" style=\"stroke:#009af9; stroke-width:4; stroke-opacity:1; fill:none\" points=\"\n",
       "  302.073,1386.61 321.516,1385.71 501.298,1371.71 609.339,1355.14 700.686,1332.8 750.301,1316.14 799.915,1295.4 845.655,1271.99 891.395,1243.77 940.434,1207.46 \n",
       "  989.472,1164.17 1046.29,1104.65 1103.1,1034.88 1153.59,964.812 1204.08,888.335 1248.36,817.427 1292.64,744.562 1389.18,587.403 1486.3,445.52 1539.99,378.384 \n",
       "  1593.68,320.361 1644.76,273.566 1695.85,234.469 1748.96,201.149 1802.08,174.309 1846.79,155.984 1891.5,140.946 2000.68,114.899 2103.31,100.068 2267.72,87.4411 \n",
       "  2293.03,86.2547 \n",
       "  \"/>\n",
       "<path clip-path=\"url(#clip1200)\" d=\"\n",
       "M2009.51 251.724 L2280.76 251.724 L2280.76 130.764 L2009.51 130.764  Z\n",
       "  \" fill=\"#ffffff\" fill-rule=\"evenodd\" fill-opacity=\"1\"/>\n",
       "<polyline clip-path=\"url(#clip1200)\" style=\"stroke:#000000; stroke-width:4; stroke-opacity:1; fill:none\" points=\"\n",
       "  2009.51,251.724 2280.76,251.724 2280.76,130.764 2009.51,130.764 2009.51,251.724 \n",
       "  \"/>\n",
       "<polyline clip-path=\"url(#clip1200)\" style=\"stroke:#009af9; stroke-width:4; stroke-opacity:1; fill:none\" points=\"\n",
       "  2033.51,191.244 2177.51,191.244 \n",
       "  \"/>\n",
       "<g clip-path=\"url(#clip1200)\">\n",
       "<text style=\"fill:#000000; fill-opacity:1; font-family:Symbol; font-size:52px; text-anchor:start;\" transform=\"rotate(0, 2201.51, 204.895)\" x=\"2201.51\" y=\"204.895\">σ</text>\n",
       "</g>\n",
       "</svg>\n"
      ]
     },
     "execution_count": 4,
     "metadata": {},
     "output_type": "execute_result"
    }
   ],
   "source": [
    "plot(σ, -5, 5, label=\"\\\\sigma\", xlabel=\"x\", ylabel=\"\\\\sigma\\\\(x\\\\)\")"
   ]
  },
  {
   "cell_type": "markdown",
   "metadata": {},
   "source": [
    "### Quick Introduction to Loss and Optimizer Function"
   ]
  },
  {
   "cell_type": "markdown",
   "metadata": {},
   "source": [
    "Mean Squarred Error Function calculates the mean of the difference of the predicted output(y-cap) and expected output(y) for all instances (say n). mse = sum of all (y-cap - y) divided by n"
   ]
  },
  {
   "cell_type": "code",
   "execution_count": 5,
   "metadata": {},
   "outputs": [
    {
     "data": {
      "text/html": [
       "# 1 method for generic function <b>mse</b>:<ul><li> mse(ŷ, y) in Flux at <a href=\"file://C:/Users/Chinmoy/.julia/packages/Flux/NpkMm/src/layers/stateless.jl\" target=\"_blank\">C:\\Users\\Chinmoy\\.julia\\packages\\Flux\\NpkMm\\src\\layers\\stateless.jl:15</a></li> </ul>"
      ],
      "text/plain": [
       "# 1 method for generic function \"mse\":\n",
       "[1] mse(ŷ, y) in Flux at C:\\Users\\Chinmoy\\.julia\\packages\\Flux\\NpkMm\\src\\layers\\stateless.jl:15"
      ]
     },
     "execution_count": 5,
     "metadata": {},
     "output_type": "execute_result"
    }
   ],
   "source": [
    "methods(Flux.mse)"
   ]
  },
  {
   "cell_type": "markdown",
   "metadata": {},
   "source": [
    "Loss function is used to calculate the loss to get an idea of how accurately is model emulating the expected behaviour so that the optimizer function can then decide the direction of movement (gradient descent) to optimize the model."
   ]
  },
  {
   "cell_type": "markdown",
   "metadata": {},
   "source": [
    "### Create a Model with Flux - Get output for a random input - Compare output with Manual Implementation"
   ]
  },
  {
   "cell_type": "markdown",
   "metadata": {},
   "source": [
    "A neuron can be automatically created using the Dense function supported with Flux. We willl create a neuron with 2 inputs, 1 output and sigmoid as the activation function."
   ]
  },
  {
   "cell_type": "code",
   "execution_count": 6,
   "metadata": {},
   "outputs": [
    {
     "data": {
      "text/plain": [
       "Dense(2, 1, σ)"
      ]
     },
     "execution_count": 6,
     "metadata": {},
     "output_type": "execute_result"
    }
   ],
   "source": [
    "model = Dense(2,1,σ)"
   ]
  },
  {
   "cell_type": "markdown",
   "metadata": {},
   "source": [
    "Flux's model object comes with places to store weights and bias denoted by W and b respectively."
   ]
  },
  {
   "cell_type": "code",
   "execution_count": 7,
   "metadata": {},
   "outputs": [
    {
     "data": {
      "text/plain": [
       "1×2 Array{Float32,2}:\n",
       " 1.15517  0.445622"
      ]
     },
     "execution_count": 7,
     "metadata": {},
     "output_type": "execute_result"
    }
   ],
   "source": [
    "model.W"
   ]
  },
  {
   "cell_type": "code",
   "execution_count": 8,
   "metadata": {},
   "outputs": [
    {
     "data": {
      "text/plain": [
       "1-element Array{Float32,1}:\n",
       " 0.0"
      ]
     },
     "execution_count": 8,
     "metadata": {},
     "output_type": "execute_result"
    }
   ],
   "source": [
    "model.b"
   ]
  },
  {
   "cell_type": "code",
   "execution_count": 9,
   "metadata": {},
   "outputs": [
    {
     "data": {
      "text/plain": [
       "Array{Float32,2}"
      ]
     },
     "execution_count": 9,
     "metadata": {},
     "output_type": "execute_result"
    }
   ],
   "source": [
    "typeof(model.W)"
   ]
  },
  {
   "cell_type": "code",
   "execution_count": 10,
   "metadata": {},
   "outputs": [
    {
     "data": {
      "text/plain": [
       "Array{Float32,1}"
      ]
     },
     "execution_count": 10,
     "metadata": {},
     "output_type": "execute_result"
    }
   ],
   "source": [
    "typeof(model.b)"
   ]
  },
  {
   "cell_type": "markdown",
   "metadata": {},
   "source": [
    "Let us feed a random input to the model to see the output from the model."
   ]
  },
  {
   "cell_type": "code",
   "execution_count": 11,
   "metadata": {},
   "outputs": [
    {
     "data": {
      "text/plain": [
       "2-element Array{Float64,1}:\n",
       " 0.7147726950122226 \n",
       " 0.11105698192099722"
      ]
     },
     "execution_count": 11,
     "metadata": {},
     "output_type": "execute_result"
    }
   ],
   "source": [
    "x = rand(2)"
   ]
  },
  {
   "cell_type": "code",
   "execution_count": 12,
   "metadata": {},
   "outputs": [
    {
     "data": {
      "text/plain": [
       "1-element Array{Float32,1}:\n",
       " 0.70582116"
      ]
     },
     "execution_count": 12,
     "metadata": {},
     "output_type": "execute_result"
    }
   ],
   "source": [
    "model(x)"
   ]
  },
  {
   "cell_type": "markdown",
   "metadata": {},
   "source": [
    "Let us manually implement the operations done by above statement to get an understanding of what Flux did here i.e. we will multiply the model weights with the input and add bias, then pass the result through the sigmoid activation function. We will use the broadcast operator \".\" to apply sigmoid activation function over all the array elements."
   ]
  },
  {
   "cell_type": "code",
   "execution_count": 13,
   "metadata": {},
   "outputs": [
    {
     "data": {
      "text/plain": [
       "1-element Array{Float64,1}:\n",
       " 0.7058211107317147"
      ]
     },
     "execution_count": 13,
     "metadata": {},
     "output_type": "execute_result"
    }
   ],
   "source": [
    "σ.(model.W*x + model.b)"
   ]
  },
  {
   "cell_type": "markdown",
   "metadata": {},
   "source": [
    "Note: model output from Flux matches with the manual implementation of the same logic. Flux implementation will be useful when the network is large (more neurons, more layers) so that we do not have to implement the logic manually and can get the output with fewer lines of code."
   ]
  },
  {
   "cell_type": "markdown",
   "metadata": {},
   "source": [
    "### Use Model As Is (without training) to classify Apples and Bananas"
   ]
  },
  {
   "cell_type": "markdown",
   "metadata": {},
   "source": [
    "Load apples and bananas images from the respective files. Delimiters help distinguish one image file from the other while reading. To keep it simple for this exercise, let us exclude instances which have missing data. Normalizing Names helps a common name for the columns e.g. some instances might have the column name as \"red\" and some as \" red\", however, both mean same."
   ]
  },
  {
   "cell_type": "code",
   "execution_count": 14,
   "metadata": {},
   "outputs": [],
   "source": [
    "using CSV"
   ]
  },
  {
   "cell_type": "code",
   "execution_count": 15,
   "metadata": {},
   "outputs": [],
   "source": [
    "using DataFrames"
   ]
  },
  {
   "cell_type": "markdown",
   "metadata": {},
   "source": [
    "Load 492 apple images into a dataframe. Each image data is a row, hence 492 rows. There are 5 columns which has details for a given image = height of the image, width of the image; red value of the image, green value of the image, blue value of the image corresponding the RGB values of the image."
   ]
  },
  {
   "cell_type": "code",
   "execution_count": 16,
   "metadata": {},
   "outputs": [
    {
     "name": "stderr",
     "output_type": "stream",
     "text": [
      "┌ Warning: `allowmissing` is a deprecated keyword argument\n",
      "└ @ CSV C:\\Users\\Chinmoy\\.julia\\packages\\CSV\\1vUJg\\src\\CSV.jl:324\n"
     ]
    },
    {
     "data": {
      "text/html": [
       "<table class=\"data-frame\"><thead><tr><th></th><th>height</th><th>width</th><th>red</th><th>green</th><th>blue</th></tr><tr><th></th><th>Int64</th><th>Int64</th><th>Float64</th><th>Float64</th><th>Float64</th></tr></thead><tbody><p>492 rows × 5 columns</p><tr><th>1</th><td>90</td><td>99</td><td>0.501466</td><td>0.229304</td><td>0.148436</td></tr><tr><th>2</th><td>94</td><td>99</td><td>0.434225</td><td>0.128667</td><td>0.108166</td></tr><tr><th>3</th><td>94</td><td>99</td><td>0.43412</td><td>0.128334</td><td>0.108348</td></tr><tr><th>4</th><td>94</td><td>99</td><td>0.432922</td><td>0.127469</td><td>0.106358</td></tr><tr><th>5</th><td>94</td><td>99</td><td>0.433292</td><td>0.126873</td><td>0.106027</td></tr><tr><th>6</th><td>94</td><td>99</td><td>0.432438</td><td>0.127182</td><td>0.105781</td></tr><tr><th>7</th><td>94</td><td>99</td><td>0.432922</td><td>0.127296</td><td>0.106408</td></tr><tr><th>8</th><td>95</td><td>99</td><td>0.431167</td><td>0.126159</td><td>0.104195</td></tr><tr><th>9</th><td>95</td><td>99</td><td>0.431867</td><td>0.125932</td><td>0.104244</td></tr><tr><th>10</th><td>95</td><td>99</td><td>0.43034</td><td>0.126404</td><td>0.103801</td></tr><tr><th>11</th><td>95</td><td>99</td><td>0.43023</td><td>0.125699</td><td>0.104274</td></tr><tr><th>12</th><td>88</td><td>99</td><td>0.485033</td><td>0.20775</td><td>0.141373</td></tr><tr><th>13</th><td>95</td><td>99</td><td>0.428999</td><td>0.125561</td><td>0.10327</td></tr><tr><th>14</th><td>95</td><td>99</td><td>0.429271</td><td>0.125775</td><td>0.10429</td></tr><tr><th>15</th><td>95</td><td>99</td><td>0.428053</td><td>0.126368</td><td>0.103594</td></tr><tr><th>16</th><td>95</td><td>99</td><td>0.428074</td><td>0.126014</td><td>0.104247</td></tr><tr><th>17</th><td>95</td><td>99</td><td>0.427192</td><td>0.126647</td><td>0.104108</td></tr><tr><th>18</th><td>94</td><td>99</td><td>0.42784</td><td>0.127914</td><td>0.105842</td></tr><tr><th>19</th><td>94</td><td>99</td><td>0.426216</td><td>0.127807</td><td>0.104806</td></tr><tr><th>20</th><td>94</td><td>99</td><td>0.426301</td><td>0.128333</td><td>0.10631</td></tr><tr><th>21</th><td>94</td><td>99</td><td>0.424659</td><td>0.127903</td><td>0.10526</td></tr><tr><th>22</th><td>94</td><td>99</td><td>0.425326</td><td>0.128483</td><td>0.105477</td></tr><tr><th>23</th><td>87</td><td>99</td><td>0.484851</td><td>0.206276</td><td>0.141794</td></tr><tr><th>24</th><td>93</td><td>99</td><td>0.423081</td><td>0.129253</td><td>0.105577</td></tr><tr><th>25</th><td>93</td><td>99</td><td>0.423146</td><td>0.129009</td><td>0.106624</td></tr><tr><th>26</th><td>93</td><td>99</td><td>0.421603</td><td>0.12913</td><td>0.106127</td></tr><tr><th>27</th><td>93</td><td>99</td><td>0.421609</td><td>0.129092</td><td>0.10697</td></tr><tr><th>28</th><td>92</td><td>99</td><td>0.421213</td><td>0.130389</td><td>0.107312</td></tr><tr><th>29</th><td>92</td><td>99</td><td>0.42096</td><td>0.130232</td><td>0.108094</td></tr><tr><th>30</th><td>92</td><td>99</td><td>0.420167</td><td>0.130548</td><td>0.107605</td></tr><tr><th>&vellip;</th><td>&vellip;</td><td>&vellip;</td><td>&vellip;</td><td>&vellip;</td><td>&vellip;</td></tr></tbody></table>"
      ],
      "text/latex": [
       "\\begin{tabular}{r|ccccc}\n",
       "\t& height & width & red & green & blue\\\\\n",
       "\t\\hline\n",
       "\t& Int64 & Int64 & Float64 & Float64 & Float64\\\\\n",
       "\t\\hline\n",
       "\t1 & 90 & 99 & 0.501466 & 0.229304 & 0.148436 \\\\\n",
       "\t2 & 94 & 99 & 0.434225 & 0.128667 & 0.108166 \\\\\n",
       "\t3 & 94 & 99 & 0.43412 & 0.128334 & 0.108348 \\\\\n",
       "\t4 & 94 & 99 & 0.432922 & 0.127469 & 0.106358 \\\\\n",
       "\t5 & 94 & 99 & 0.433292 & 0.126873 & 0.106027 \\\\\n",
       "\t6 & 94 & 99 & 0.432438 & 0.127182 & 0.105781 \\\\\n",
       "\t7 & 94 & 99 & 0.432922 & 0.127296 & 0.106408 \\\\\n",
       "\t8 & 95 & 99 & 0.431167 & 0.126159 & 0.104195 \\\\\n",
       "\t9 & 95 & 99 & 0.431867 & 0.125932 & 0.104244 \\\\\n",
       "\t10 & 95 & 99 & 0.43034 & 0.126404 & 0.103801 \\\\\n",
       "\t11 & 95 & 99 & 0.43023 & 0.125699 & 0.104274 \\\\\n",
       "\t12 & 88 & 99 & 0.485033 & 0.20775 & 0.141373 \\\\\n",
       "\t13 & 95 & 99 & 0.428999 & 0.125561 & 0.10327 \\\\\n",
       "\t14 & 95 & 99 & 0.429271 & 0.125775 & 0.10429 \\\\\n",
       "\t15 & 95 & 99 & 0.428053 & 0.126368 & 0.103594 \\\\\n",
       "\t16 & 95 & 99 & 0.428074 & 0.126014 & 0.104247 \\\\\n",
       "\t17 & 95 & 99 & 0.427192 & 0.126647 & 0.104108 \\\\\n",
       "\t18 & 94 & 99 & 0.42784 & 0.127914 & 0.105842 \\\\\n",
       "\t19 & 94 & 99 & 0.426216 & 0.127807 & 0.104806 \\\\\n",
       "\t20 & 94 & 99 & 0.426301 & 0.128333 & 0.10631 \\\\\n",
       "\t21 & 94 & 99 & 0.424659 & 0.127903 & 0.10526 \\\\\n",
       "\t22 & 94 & 99 & 0.425326 & 0.128483 & 0.105477 \\\\\n",
       "\t23 & 87 & 99 & 0.484851 & 0.206276 & 0.141794 \\\\\n",
       "\t24 & 93 & 99 & 0.423081 & 0.129253 & 0.105577 \\\\\n",
       "\t25 & 93 & 99 & 0.423146 & 0.129009 & 0.106624 \\\\\n",
       "\t26 & 93 & 99 & 0.421603 & 0.12913 & 0.106127 \\\\\n",
       "\t27 & 93 & 99 & 0.421609 & 0.129092 & 0.10697 \\\\\n",
       "\t28 & 92 & 99 & 0.421213 & 0.130389 & 0.107312 \\\\\n",
       "\t29 & 92 & 99 & 0.42096 & 0.130232 & 0.108094 \\\\\n",
       "\t30 & 92 & 99 & 0.420167 & 0.130548 & 0.107605 \\\\\n",
       "\t$\\dots$ & $\\dots$ & $\\dots$ & $\\dots$ & $\\dots$ & $\\dots$ \\\\\n",
       "\\end{tabular}\n"
      ],
      "text/plain": [
       "492×5 DataFrame\n",
       "│ Row │ height │ width │ red      │ green    │ blue     │\n",
       "│     │ \u001b[90mInt64\u001b[39m  │ \u001b[90mInt64\u001b[39m │ \u001b[90mFloat64\u001b[39m  │ \u001b[90mFloat64\u001b[39m  │ \u001b[90mFloat64\u001b[39m  │\n",
       "├─────┼────────┼───────┼──────────┼──────────┼──────────┤\n",
       "│ 1   │ 90     │ 99    │ 0.501466 │ 0.229304 │ 0.148436 │\n",
       "│ 2   │ 94     │ 99    │ 0.434225 │ 0.128667 │ 0.108166 │\n",
       "│ 3   │ 94     │ 99    │ 0.43412  │ 0.128334 │ 0.108348 │\n",
       "│ 4   │ 94     │ 99    │ 0.432922 │ 0.127469 │ 0.106358 │\n",
       "│ 5   │ 94     │ 99    │ 0.433292 │ 0.126873 │ 0.106027 │\n",
       "│ 6   │ 94     │ 99    │ 0.432438 │ 0.127182 │ 0.105781 │\n",
       "│ 7   │ 94     │ 99    │ 0.432922 │ 0.127296 │ 0.106408 │\n",
       "│ 8   │ 95     │ 99    │ 0.431167 │ 0.126159 │ 0.104195 │\n",
       "│ 9   │ 95     │ 99    │ 0.431867 │ 0.125932 │ 0.104244 │\n",
       "│ 10  │ 95     │ 99    │ 0.43034  │ 0.126404 │ 0.103801 │\n",
       "⋮\n",
       "│ 482 │ 98     │ 99    │ 0.459049 │ 0.139552 │ 0.109713 │\n",
       "│ 483 │ 98     │ 99    │ 0.460158 │ 0.141178 │ 0.110293 │\n",
       "│ 484 │ 98     │ 99    │ 0.461967 │ 0.142167 │ 0.111156 │\n",
       "│ 485 │ 98     │ 99    │ 0.462939 │ 0.144067 │ 0.11163  │\n",
       "│ 486 │ 99     │ 99    │ 0.464322 │ 0.143808 │ 0.111625 │\n",
       "│ 487 │ 99     │ 99    │ 0.465106 │ 0.14517  │ 0.111227 │\n",
       "│ 488 │ 98     │ 99    │ 0.467485 │ 0.146692 │ 0.113257 │\n",
       "│ 489 │ 98     │ 99    │ 0.468352 │ 0.147962 │ 0.112711 │\n",
       "│ 490 │ 98     │ 99    │ 0.471226 │ 0.150144 │ 0.113324 │\n",
       "│ 491 │ 99     │ 99    │ 0.52215  │ 0.199051 │ 0.1244   │\n",
       "│ 492 │ 98     │ 99    │ 0.471621 │ 0.150672 │ 0.113324 │"
      ]
     },
     "execution_count": 16,
     "metadata": {},
     "output_type": "execute_result"
    }
   ],
   "source": [
    "apples = DataFrame(CSV.File(\"data/apples.dat\", delim='\\t', allowmissing=:none, normalizenames=true))"
   ]
  },
  {
   "cell_type": "code",
   "execution_count": 17,
   "metadata": {},
   "outputs": [
    {
     "data": {
      "text/plain": [
       "DataFrame"
      ]
     },
     "execution_count": 17,
     "metadata": {},
     "output_type": "execute_result"
    }
   ],
   "source": [
    "typeof(apples)"
   ]
  },
  {
   "cell_type": "markdown",
   "metadata": {},
   "source": [
    "Load 490 banana images into a dataframe. Each image data is a row, hence 490 rows. There are 5 columns which has details for a given image = height of the image, width of the image; red value of the image, green value of the image, blue value of the image corresponding the RGB values of the image."
   ]
  },
  {
   "cell_type": "code",
   "execution_count": 18,
   "metadata": {},
   "outputs": [
    {
     "name": "stderr",
     "output_type": "stream",
     "text": [
      "┌ Warning: `allowmissing` is a deprecated keyword argument\n",
      "└ @ CSV C:\\Users\\Chinmoy\\.julia\\packages\\CSV\\1vUJg\\src\\CSV.jl:324\n"
     ]
    },
    {
     "data": {
      "text/html": [
       "<table class=\"data-frame\"><thead><tr><th></th><th>height</th><th>width</th><th>red</th><th>green</th><th>blue</th></tr><tr><th></th><th>Int64</th><th>Int64</th><th>Float64</th><th>Float64</th><th>Float64</th></tr></thead><tbody><p>490 rows × 5 columns</p><tr><th>1</th><td>98</td><td>99</td><td>0.583507</td><td>0.500662</td><td>0.207504</td></tr><tr><th>2</th><td>50</td><td>99</td><td>0.609666</td><td>0.514869</td><td>0.186871</td></tr><tr><th>3</th><td>52</td><td>99</td><td>0.610012</td><td>0.515759</td><td>0.187504</td></tr><tr><th>4</th><td>99</td><td>69</td><td>0.568033</td><td>0.492939</td><td>0.239316</td></tr><tr><th>5</th><td>51</td><td>99</td><td>0.609766</td><td>0.51485</td><td>0.183329</td></tr><tr><th>6</th><td>53</td><td>99</td><td>0.608089</td><td>0.514609</td><td>0.183374</td></tr><tr><th>7</th><td>53</td><td>99</td><td>0.608676</td><td>0.515487</td><td>0.186206</td></tr><tr><th>8</th><td>53</td><td>99</td><td>0.609278</td><td>0.516486</td><td>0.188582</td></tr><tr><th>9</th><td>99</td><td>67</td><td>0.569099</td><td>0.494501</td><td>0.241941</td></tr><tr><th>10</th><td>54</td><td>99</td><td>0.610284</td><td>0.516183</td><td>0.189116</td></tr><tr><th>11</th><td>54</td><td>99</td><td>0.607329</td><td>0.515344</td><td>0.188351</td></tr><tr><th>12</th><td>56</td><td>99</td><td>0.608367</td><td>0.51465</td><td>0.188733</td></tr><tr><th>13</th><td>56</td><td>99</td><td>0.606331</td><td>0.513778</td><td>0.18818</td></tr><tr><th>14</th><td>56</td><td>99</td><td>0.608364</td><td>0.516287</td><td>0.193825</td></tr><tr><th>15</th><td>57</td><td>99</td><td>0.605807</td><td>0.513735</td><td>0.191391</td></tr><tr><th>16</th><td>58</td><td>99</td><td>0.605733</td><td>0.512879</td><td>0.190078</td></tr><tr><th>17</th><td>59</td><td>99</td><td>0.604937</td><td>0.513665</td><td>0.192874</td></tr><tr><th>18</th><td>59</td><td>99</td><td>0.603498</td><td>0.511384</td><td>0.192722</td></tr><tr><th>19</th><td>59</td><td>99</td><td>0.600693</td><td>0.510035</td><td>0.189299</td></tr><tr><th>20</th><td>61</td><td>99</td><td>0.602988</td><td>0.511165</td><td>0.194563</td></tr><tr><th>21</th><td>61</td><td>99</td><td>0.600188</td><td>0.509263</td><td>0.193743</td></tr><tr><th>22</th><td>61</td><td>99</td><td>0.599505</td><td>0.507729</td><td>0.193026</td></tr><tr><th>23</th><td>63</td><td>99</td><td>0.597605</td><td>0.507</td><td>0.194595</td></tr><tr><th>24</th><td>65</td><td>99</td><td>0.596964</td><td>0.506184</td><td>0.196388</td></tr><tr><th>25</th><td>66</td><td>99</td><td>0.597058</td><td>0.506745</td><td>0.197678</td></tr><tr><th>26</th><td>67</td><td>99</td><td>0.597075</td><td>0.50638</td><td>0.19838</td></tr><tr><th>27</th><td>69</td><td>99</td><td>0.592933</td><td>0.504191</td><td>0.198419</td></tr><tr><th>28</th><td>73</td><td>99</td><td>0.589429</td><td>0.500421</td><td>0.201329</td></tr><tr><th>29</th><td>78</td><td>99</td><td>0.586179</td><td>0.49841</td><td>0.201781</td></tr><tr><th>30</th><td>79</td><td>99</td><td>0.582614</td><td>0.495792</td><td>0.201449</td></tr><tr><th>&vellip;</th><td>&vellip;</td><td>&vellip;</td><td>&vellip;</td><td>&vellip;</td><td>&vellip;</td></tr></tbody></table>"
      ],
      "text/latex": [
       "\\begin{tabular}{r|ccccc}\n",
       "\t& height & width & red & green & blue\\\\\n",
       "\t\\hline\n",
       "\t& Int64 & Int64 & Float64 & Float64 & Float64\\\\\n",
       "\t\\hline\n",
       "\t1 & 98 & 99 & 0.583507 & 0.500662 & 0.207504 \\\\\n",
       "\t2 & 50 & 99 & 0.609666 & 0.514869 & 0.186871 \\\\\n",
       "\t3 & 52 & 99 & 0.610012 & 0.515759 & 0.187504 \\\\\n",
       "\t4 & 99 & 69 & 0.568033 & 0.492939 & 0.239316 \\\\\n",
       "\t5 & 51 & 99 & 0.609766 & 0.51485 & 0.183329 \\\\\n",
       "\t6 & 53 & 99 & 0.608089 & 0.514609 & 0.183374 \\\\\n",
       "\t7 & 53 & 99 & 0.608676 & 0.515487 & 0.186206 \\\\\n",
       "\t8 & 53 & 99 & 0.609278 & 0.516486 & 0.188582 \\\\\n",
       "\t9 & 99 & 67 & 0.569099 & 0.494501 & 0.241941 \\\\\n",
       "\t10 & 54 & 99 & 0.610284 & 0.516183 & 0.189116 \\\\\n",
       "\t11 & 54 & 99 & 0.607329 & 0.515344 & 0.188351 \\\\\n",
       "\t12 & 56 & 99 & 0.608367 & 0.51465 & 0.188733 \\\\\n",
       "\t13 & 56 & 99 & 0.606331 & 0.513778 & 0.18818 \\\\\n",
       "\t14 & 56 & 99 & 0.608364 & 0.516287 & 0.193825 \\\\\n",
       "\t15 & 57 & 99 & 0.605807 & 0.513735 & 0.191391 \\\\\n",
       "\t16 & 58 & 99 & 0.605733 & 0.512879 & 0.190078 \\\\\n",
       "\t17 & 59 & 99 & 0.604937 & 0.513665 & 0.192874 \\\\\n",
       "\t18 & 59 & 99 & 0.603498 & 0.511384 & 0.192722 \\\\\n",
       "\t19 & 59 & 99 & 0.600693 & 0.510035 & 0.189299 \\\\\n",
       "\t20 & 61 & 99 & 0.602988 & 0.511165 & 0.194563 \\\\\n",
       "\t21 & 61 & 99 & 0.600188 & 0.509263 & 0.193743 \\\\\n",
       "\t22 & 61 & 99 & 0.599505 & 0.507729 & 0.193026 \\\\\n",
       "\t23 & 63 & 99 & 0.597605 & 0.507 & 0.194595 \\\\\n",
       "\t24 & 65 & 99 & 0.596964 & 0.506184 & 0.196388 \\\\\n",
       "\t25 & 66 & 99 & 0.597058 & 0.506745 & 0.197678 \\\\\n",
       "\t26 & 67 & 99 & 0.597075 & 0.50638 & 0.19838 \\\\\n",
       "\t27 & 69 & 99 & 0.592933 & 0.504191 & 0.198419 \\\\\n",
       "\t28 & 73 & 99 & 0.589429 & 0.500421 & 0.201329 \\\\\n",
       "\t29 & 78 & 99 & 0.586179 & 0.49841 & 0.201781 \\\\\n",
       "\t30 & 79 & 99 & 0.582614 & 0.495792 & 0.201449 \\\\\n",
       "\t$\\dots$ & $\\dots$ & $\\dots$ & $\\dots$ & $\\dots$ & $\\dots$ \\\\\n",
       "\\end{tabular}\n"
      ],
      "text/plain": [
       "490×5 DataFrame\n",
       "│ Row │ height │ width │ red      │ green    │ blue     │\n",
       "│     │ \u001b[90mInt64\u001b[39m  │ \u001b[90mInt64\u001b[39m │ \u001b[90mFloat64\u001b[39m  │ \u001b[90mFloat64\u001b[39m  │ \u001b[90mFloat64\u001b[39m  │\n",
       "├─────┼────────┼───────┼──────────┼──────────┼──────────┤\n",
       "│ 1   │ 98     │ 99    │ 0.583507 │ 0.500662 │ 0.207504 │\n",
       "│ 2   │ 50     │ 99    │ 0.609666 │ 0.514869 │ 0.186871 │\n",
       "│ 3   │ 52     │ 99    │ 0.610012 │ 0.515759 │ 0.187504 │\n",
       "│ 4   │ 99     │ 69    │ 0.568033 │ 0.492939 │ 0.239316 │\n",
       "│ 5   │ 51     │ 99    │ 0.609766 │ 0.51485  │ 0.183329 │\n",
       "│ 6   │ 53     │ 99    │ 0.608089 │ 0.514609 │ 0.183374 │\n",
       "│ 7   │ 53     │ 99    │ 0.608676 │ 0.515487 │ 0.186206 │\n",
       "│ 8   │ 53     │ 99    │ 0.609278 │ 0.516486 │ 0.188582 │\n",
       "│ 9   │ 99     │ 67    │ 0.569099 │ 0.494501 │ 0.241941 │\n",
       "│ 10  │ 54     │ 99    │ 0.610284 │ 0.516183 │ 0.189116 │\n",
       "⋮\n",
       "│ 480 │ 37     │ 99    │ 0.528731 │ 0.456548 │ 0.230871 │\n",
       "│ 481 │ 37     │ 99    │ 0.524028 │ 0.452379 │ 0.226256 │\n",
       "│ 482 │ 37     │ 99    │ 0.523906 │ 0.452571 │ 0.230475 │\n",
       "│ 483 │ 39     │ 99    │ 0.523823 │ 0.4514   │ 0.229759 │\n",
       "│ 484 │ 39     │ 99    │ 0.522489 │ 0.449973 │ 0.233683 │\n",
       "│ 485 │ 41     │ 99    │ 0.517573 │ 0.444391 │ 0.227029 │\n",
       "│ 486 │ 41     │ 99    │ 0.515956 │ 0.441912 │ 0.230229 │\n",
       "│ 487 │ 41     │ 99    │ 0.517585 │ 0.444827 │ 0.234798 │\n",
       "│ 488 │ 41     │ 99    │ 0.510357 │ 0.436022 │ 0.228139 │\n",
       "│ 489 │ 43     │ 99    │ 0.508873 │ 0.43433  │ 0.230683 │\n",
       "│ 490 │ 31     │ 99    │ 0.528205 │ 0.440139 │ 0.199588 │"
      ]
     },
     "execution_count": 18,
     "metadata": {},
     "output_type": "execute_result"
    }
   ],
   "source": [
    "bananas = DataFrame(CSV.File(\"data/bananas.dat\", delim='\\t', allowmissing=:none, normalizenames=true))"
   ]
  },
  {
   "cell_type": "markdown",
   "metadata": {},
   "source": [
    "Here each instance (image) has 5 inputs corresponding to it i.e. height/weight/red value/green value/blue value. Our model accepts 2 inputs only. We will use the red and green values of the images to classify them as apples or bananas. "
   ]
  },
  {
   "cell_type": "markdown",
   "metadata": {},
   "source": [
    "Note: To keep the focus on building an model and seeing it run, we chose the red/green... technically, we can look at other options e.g. run an exercise to see which 2 values will give best result and chose those 2 OR build a 3 input model so that we can feed all 3 values etc."
   ]
  },
  {
   "cell_type": "code",
   "execution_count": 19,
   "metadata": {},
   "outputs": [
    {
     "data": {
      "text/plain": [
       "492-element Array{Array{Float64,1},1}:\n",
       " [0.5014661151631883, 0.22930441097534052] \n",
       " [0.4342254940829249, 0.1286670449863579]  \n",
       " [0.4341196192611507, 0.1283343194344977]  \n",
       " [0.43292152183068955, 0.12746865916878627]\n",
       " [0.4332916920418286, 0.12687320747253036] \n",
       " [0.43243837386176553, 0.12718165906107473]\n",
       " [0.4329222095428659, 0.127296222767609]   \n",
       " [0.4311669294311532, 0.12615909751878962] \n",
       " [0.43186658074810524, 0.12593155154602345]\n",
       " [0.4303403153394724, 0.12640444560215408] \n",
       " [0.4302302502007849, 0.12569890987963223] \n",
       " [0.4850330408406459, 0.20774997291734418] \n",
       " [0.4289987119309, 0.12556138558335778]    \n",
       " ⋮                                         \n",
       " [0.4567426454785655, 0.13869407466403796] \n",
       " [0.4590486162219305, 0.1395517990505897]  \n",
       " [0.4601581872919335, 0.14117849279714548] \n",
       " [0.46196735818763357, 0.1421665971353089] \n",
       " [0.4629390550656122, 0.1440671374165337]  \n",
       " [0.46432223450752835, 0.14380783472718045]\n",
       " [0.46510595158618334, 0.1451697450733138] \n",
       " [0.4674854279681992, 0.14669161842995918] \n",
       " [0.4683520273050642, 0.1479623444588349]  \n",
       " [0.47122560995595364, 0.15014409003925697]\n",
       " [0.5221495448895305, 0.19905118489113516] \n",
       " [0.4716205187110819, 0.15067156358946546] "
      ]
     },
     "execution_count": 19,
     "metadata": {},
     "output_type": "execute_result"
    }
   ],
   "source": [
    "x_apples = [ [row.red, row.green] for row in eachrow(apples) ]"
   ]
  },
  {
   "cell_type": "code",
   "execution_count": 20,
   "metadata": {},
   "outputs": [
    {
     "data": {
      "text/plain": [
       "Array{Array{Float64,1},1}"
      ]
     },
     "execution_count": 20,
     "metadata": {},
     "output_type": "execute_result"
    }
   ],
   "source": [
    "typeof(x_apples)"
   ]
  },
  {
   "cell_type": "code",
   "execution_count": 21,
   "metadata": {},
   "outputs": [
    {
     "data": {
      "text/plain": [
       "(492,)"
      ]
     },
     "execution_count": 21,
     "metadata": {},
     "output_type": "execute_result"
    }
   ],
   "source": [
    "size(x_apples)"
   ]
  },
  {
   "cell_type": "code",
   "execution_count": 22,
   "metadata": {},
   "outputs": [
    {
     "data": {
      "text/plain": [
       "(2,)"
      ]
     },
     "execution_count": 22,
     "metadata": {},
     "output_type": "execute_result"
    }
   ],
   "source": [
    "size(x_apples[1])"
   ]
  },
  {
   "cell_type": "markdown",
   "metadata": {},
   "source": [
    "Observe x_apples is an array of array. It is a column vector of 492 rows (corresponding to 492 apple images), each row containing a 2-row column vector, where the two rows corresponds to red and green values of the image. Each instance 2-row column vector can be fed an input to our model (2 inputs, 1 output)."
   ]
  },
  {
   "cell_type": "code",
   "execution_count": 23,
   "metadata": {},
   "outputs": [
    {
     "data": {
      "text/plain": [
       "490-element Array{Array{Float64,1},1}:\n",
       " [0.5835067538126356, 0.500662309368192]  \n",
       " [0.6096658836445241, 0.514868541076373]  \n",
       " [0.61001222127424, 0.5157592947018083]   \n",
       " [0.5680333392636676, 0.4929391278094967] \n",
       " [0.6097662880271572, 0.5148498882514222] \n",
       " [0.6080886893475433, 0.5146088965412025] \n",
       " [0.6086763977507786, 0.5154866998805462] \n",
       " [0.6092775365179625, 0.5164860873506747] \n",
       " [0.5690986557452848, 0.4945007761667278] \n",
       " [0.610284435646972, 0.5161825666623635]  \n",
       " [0.607329117213896, 0.5153440757746397]  \n",
       " [0.6083665640474657, 0.5146497517166334] \n",
       " [0.6063312071816673, 0.5137782965773128] \n",
       " ⋮                                        \n",
       " [0.5291302161890399, 0.4403100385453329] \n",
       " [0.5287307644576823, 0.4565478406552493] \n",
       " [0.5240277326400172, 0.45237940480059413]\n",
       " [0.5239057876671794, 0.4525711129522229] \n",
       " [0.5238233433790978, 0.45140008185437314]\n",
       " [0.5224889335097888, 0.44997337957681116]\n",
       " [0.5175726263709806, 0.4443909309164674] \n",
       " [0.5159556048834634, 0.4419119496855347] \n",
       " [0.5175850178187539, 0.44482679017155075]\n",
       " [0.5103568171454631, 0.4360222868217053] \n",
       " [0.5088734503702476, 0.43433036580969037]\n",
       " [0.5282048652067627, 0.4401388105372926] "
      ]
     },
     "execution_count": 23,
     "metadata": {},
     "output_type": "execute_result"
    }
   ],
   "source": [
    "x_bananas = [ [row.red, row.green] for row in eachrow(bananas) ]"
   ]
  },
  {
   "cell_type": "markdown",
   "metadata": {},
   "source": [
    "Observe x_bananas is an array of array. It is a column vector of 490 rows (corresponding to 490 banana images), each row containing a 2-row column vector, where the two rows corresponds to red and green values of the image. Each instance 2-row column vector can be fed an input to our model (2 inputs, 1 output)."
   ]
  },
  {
   "cell_type": "markdown",
   "metadata": {},
   "source": [
    "Model needs to receive inputs for both apples and bananas. Hence, we will combine x_apples and x_bananas to create a xs. xs will have 982 rows... first 492 rows corresponding to apples, later 490 rows corresponding to bananas."
   ]
  },
  {
   "cell_type": "code",
   "execution_count": 24,
   "metadata": {},
   "outputs": [
    {
     "data": {
      "text/plain": [
       "982-element Array{Array{Float64,1},1}:\n",
       " [0.5014661151631883, 0.22930441097534052] \n",
       " [0.4342254940829249, 0.1286670449863579]  \n",
       " [0.4341196192611507, 0.1283343194344977]  \n",
       " [0.43292152183068955, 0.12746865916878627]\n",
       " [0.4332916920418286, 0.12687320747253036] \n",
       " [0.43243837386176553, 0.12718165906107473]\n",
       " [0.4329222095428659, 0.127296222767609]   \n",
       " [0.4311669294311532, 0.12615909751878962] \n",
       " [0.43186658074810524, 0.12593155154602345]\n",
       " [0.4303403153394724, 0.12640444560215408] \n",
       " [0.4302302502007849, 0.12569890987963223] \n",
       " [0.4850330408406459, 0.20774997291734418] \n",
       " [0.4289987119309, 0.12556138558335778]    \n",
       " ⋮                                         \n",
       " [0.5291302161890399, 0.4403100385453329]  \n",
       " [0.5287307644576823, 0.4565478406552493]  \n",
       " [0.5240277326400172, 0.45237940480059413] \n",
       " [0.5239057876671794, 0.4525711129522229]  \n",
       " [0.5238233433790978, 0.45140008185437314] \n",
       " [0.5224889335097888, 0.44997337957681116] \n",
       " [0.5175726263709806, 0.4443909309164674]  \n",
       " [0.5159556048834634, 0.4419119496855347]  \n",
       " [0.5175850178187539, 0.44482679017155075] \n",
       " [0.5103568171454631, 0.4360222868217053]  \n",
       " [0.5088734503702476, 0.43433036580969037] \n",
       " [0.5282048652067627, 0.4401388105372926]  "
      ]
     },
     "execution_count": 24,
     "metadata": {},
     "output_type": "execute_result"
    }
   ],
   "source": [
    "xs = [x_apples;x_bananas]"
   ]
  },
  {
   "cell_type": "markdown",
   "metadata": {},
   "source": [
    "Model needs to classify the inputs as apples or bananas i.e. it needs to unique output for each say 0 for apples and 1 for bananas - these outputs are also called as labels (label 0 for apple, label 1 for bananas). We need to create the expected output column vector (ys)- this will be required to train the model. "
   ]
  },
  {
   "cell_type": "markdown",
   "metadata": {},
   "source": [
    "ys is a column vector with 982 rows ... first 492 rows corresponding to 0 for apples, later 490 rows corresponding to 1 for bananas. This is accomplished by using the fill function to fill with 0 and 1 for the respectibe rows obtained by using size function on x_apples, x_bananas respectively."
   ]
  },
  {
   "cell_type": "code",
   "execution_count": 25,
   "metadata": {},
   "outputs": [
    {
     "data": {
      "text/plain": [
       "982-element Array{Int64,1}:\n",
       " 0\n",
       " 0\n",
       " 0\n",
       " 0\n",
       " 0\n",
       " 0\n",
       " 0\n",
       " 0\n",
       " 0\n",
       " 0\n",
       " 0\n",
       " 0\n",
       " 0\n",
       " ⋮\n",
       " 1\n",
       " 1\n",
       " 1\n",
       " 1\n",
       " 1\n",
       " 1\n",
       " 1\n",
       " 1\n",
       " 1\n",
       " 1\n",
       " 1\n",
       " 1"
      ]
     },
     "execution_count": 25,
     "metadata": {},
     "output_type": "execute_result"
    }
   ],
   "source": [
    "ys = [fill(0,size(x_apples)); fill(1,size(x_bananas))]"
   ]
  },
  {
   "cell_type": "markdown",
   "metadata": {},
   "source": [
    "Our model is:"
   ]
  },
  {
   "cell_type": "code",
   "execution_count": 26,
   "metadata": {},
   "outputs": [
    {
     "data": {
      "text/plain": [
       "Dense(2, 1, σ)"
      ]
     },
     "execution_count": 26,
     "metadata": {},
     "output_type": "execute_result"
    }
   ],
   "source": [
    "model = Dense(2,1,σ)"
   ]
  },
  {
   "cell_type": "markdown",
   "metadata": {},
   "source": [
    "Model is not yet trained. Hence, it must be having random weights and bias values. Let us use to predict outputs."
   ]
  },
  {
   "cell_type": "code",
   "execution_count": 27,
   "metadata": {},
   "outputs": [
    {
     "data": {
      "text/plain": [
       "1-element Array{Float32,1}:\n",
       " 0.65322804"
      ]
     },
     "execution_count": 27,
     "metadata": {},
     "output_type": "execute_result"
    }
   ],
   "source": [
    "model(xs[1])"
   ]
  },
  {
   "cell_type": "code",
   "execution_count": 28,
   "metadata": {},
   "outputs": [
    {
     "data": {
      "text/plain": [
       "1-element Array{Float32,1}:\n",
       " 0.7196695"
      ]
     },
     "execution_count": 28,
     "metadata": {},
     "output_type": "execute_result"
    }
   ],
   "source": [
    "model(xs[end])"
   ]
  },
  {
   "cell_type": "markdown",
   "metadata": {},
   "source": [
    "Observe, we expect a 0 for first element as it is an apple and 1 for last element as it is a banana... however the model is not able to predict these values as it is not trained yet."
   ]
  },
  {
   "cell_type": "markdown",
   "metadata": {},
   "source": [
    "### Use Manually Trained Model to classify Apples and Bananas"
   ]
  },
  {
   "cell_type": "markdown",
   "metadata": {},
   "source": [
    "We will calculate the loss for 1 sample/instance to use it as feedback to the model to optimize it's weights. We will use mean squarred error as the loss function. We will use the first instance in xs as the input and ys as the expected output. Note: model(xs[1]) gives the predicted output and hence enables in calculating the loss."
   ]
  },
  {
   "cell_type": "code",
   "execution_count": 29,
   "metadata": {},
   "outputs": [
    {
     "data": {
      "text/plain": [
       "0.42670688f0"
      ]
     },
     "execution_count": 29,
     "metadata": {},
     "output_type": "execute_result"
    }
   ],
   "source": [
    "loss = Flux.mse(model(xs[1]),ys[1])"
   ]
  },
  {
   "cell_type": "code",
   "execution_count": 30,
   "metadata": {},
   "outputs": [
    {
     "data": {
      "text/plain": [
       "Float32"
      ]
     },
     "execution_count": 30,
     "metadata": {},
     "output_type": "execute_result"
    }
   ],
   "source": [
    "typeof(loss)"
   ]
  },
  {
   "cell_type": "markdown",
   "metadata": {},
   "source": [
    "Let us observe the weight values of the model before the feedback."
   ]
  },
  {
   "cell_type": "code",
   "execution_count": 31,
   "metadata": {},
   "outputs": [
    {
     "data": {
      "text/plain": [
       "1×2 Array{Float32,2}:\n",
       " 0.627827  1.38866"
      ]
     },
     "execution_count": 31,
     "metadata": {},
     "output_type": "execute_result"
    }
   ],
   "source": [
    "model.W"
   ]
  },
  {
   "cell_type": "markdown",
   "metadata": {},
   "source": [
    "Let us now feed the loss to the model."
   ]
  },
  {
   "cell_type": "code",
   "execution_count": 32,
   "metadata": {},
   "outputs": [],
   "source": [
    "# below code does not work with Julia v1.3.1\n",
    "# understood Tracker was replaced with Zygote, which is a very different structure. \n",
    "# need to try gradient(function, data) - Zygote docs have simple examples of this.\n",
    "# using Flux.Tracker\n",
    "# back!(loss)"
   ]
  },
  {
   "cell_type": "markdown",
   "metadata": {},
   "source": [
    "I could not implement the code, however, writing down the idea we wanted to do. You feed the loss from 1 sample to the model. the model uses it to optimize its parameters. You can use the model to predict the output for the same input and see an small improvement. When you repeat above feedaback multiple times and over multiple samples to the model, the model gets trained better and the predicted value from the model becomes more closer to the expected value."
   ]
  },
  {
   "cell_type": "markdown",
   "metadata": {},
   "source": [
    "### Use Flux Trained Model to classify Apples and Bananas"
   ]
  },
  {
   "cell_type": "markdown",
   "metadata": {},
   "source": [
    "We will use Flux.train! function to train the model."
   ]
  },
  {
   "cell_type": "code",
   "execution_count": 33,
   "metadata": {},
   "outputs": [
    {
     "data": {
      "text/latex": [
       "\\begin{verbatim}\n",
       "train!(loss, params, data, opt; cb)\n",
       "\\end{verbatim}\n",
       "For each datapoint \\texttt{d} in \\texttt{data} computes the gradient of \\texttt{loss(d...)} through backpropagation and calls the optimizer \\texttt{opt}.\n",
       "\n",
       "In case datapoints \\texttt{d} are of numeric array type, assumes no splatting is needed  and computes the gradient of \\texttt{loss(d)}.\n",
       "\n",
       "Takes a callback as keyword argument \\texttt{cb}. For example, this will print \"training\" every 10 seconds:\n",
       "\n",
       "train!(loss, params, data, opt,          cb = throttle(() -> println(\"training\"), 10))\n",
       "\n",
       "The callback can call \\texttt{Flux.stop()} to interrupt the training loop.\n",
       "\n",
       "Multiple optimisers and callbacks can be passed to \\texttt{opt} and \\texttt{cb} as arrays.\n",
       "\n"
      ],
      "text/markdown": [
       "```\n",
       "train!(loss, params, data, opt; cb)\n",
       "```\n",
       "\n",
       "For each datapoint `d` in `data` computes the gradient of `loss(d...)` through backpropagation and calls the optimizer `opt`.\n",
       "\n",
       "In case datapoints `d` are of numeric array type, assumes no splatting is needed  and computes the gradient of `loss(d)`.\n",
       "\n",
       "Takes a callback as keyword argument `cb`. For example, this will print \"training\" every 10 seconds:\n",
       "\n",
       "train!(loss, params, data, opt,          cb = throttle(() -> println(\"training\"), 10))\n",
       "\n",
       "The callback can call `Flux.stop()` to interrupt the training loop.\n",
       "\n",
       "Multiple optimisers and callbacks can be passed to `opt` and `cb` as arrays.\n"
      ],
      "text/plain": [
       "\u001b[36m  train!(loss, params, data, opt; cb)\u001b[39m\n",
       "\n",
       "  For each datapoint \u001b[36md\u001b[39m in \u001b[36mdata\u001b[39m computes the gradient of \u001b[36mloss(d...)\u001b[39m through\n",
       "  backpropagation and calls the optimizer \u001b[36mopt\u001b[39m.\n",
       "\n",
       "  In case datapoints \u001b[36md\u001b[39m are of numeric array type, assumes no splatting is\n",
       "  needed and computes the gradient of \u001b[36mloss(d)\u001b[39m.\n",
       "\n",
       "  Takes a callback as keyword argument \u001b[36mcb\u001b[39m. For example, this will print\n",
       "  \"training\" every 10 seconds:\n",
       "\n",
       "  train!(loss, params, data, opt, cb = throttle(() -> println(\"training\"),\n",
       "  10))\n",
       "\n",
       "  The callback can call \u001b[36mFlux.stop()\u001b[39m to interrupt the training loop.\n",
       "\n",
       "  Multiple optimisers and callbacks can be passed to \u001b[36mopt\u001b[39m and \u001b[36mcb\u001b[39m as arrays."
      ]
     },
     "execution_count": 33,
     "metadata": {},
     "output_type": "execute_result"
    }
   ],
   "source": [
    "?Flux.train!"
   ]
  },
  {
   "cell_type": "markdown",
   "metadata": {},
   "source": [
    "Define Model. 2 inputs, 1 output, Sigmoid as the Activation Function."
   ]
  },
  {
   "cell_type": "code",
   "execution_count": 34,
   "metadata": {},
   "outputs": [
    {
     "data": {
      "text/plain": [
       "Dense(2, 1, σ)"
      ]
     },
     "execution_count": 34,
     "metadata": {},
     "output_type": "execute_result"
    }
   ],
   "source": [
    "model = Dense(2,1,σ)"
   ]
  },
  {
   "cell_type": "markdown",
   "metadata": {},
   "source": [
    "Define Loss Function. We will use Mean Squarred Error Function. We provide predicted and expected output parameters to the function."
   ]
  },
  {
   "cell_type": "code",
   "execution_count": 35,
   "metadata": {},
   "outputs": [
    {
     "data": {
      "text/plain": [
       "Loss (generic function with 1 method)"
      ]
     },
     "execution_count": 35,
     "metadata": {},
     "output_type": "execute_result"
    }
   ],
   "source": [
    "Loss(x,y) = Flux.mse(model(x),y)"
   ]
  },
  {
   "cell_type": "markdown",
   "metadata": {},
   "source": [
    "Define Optimizer Function. We will use ADAM. We will use default values"
   ]
  },
  {
   "cell_type": "code",
   "execution_count": 36,
   "metadata": {},
   "outputs": [
    {
     "name": "stdout",
     "output_type": "stream",
     "text": [
      "search: \u001b[0m\u001b[1mA\u001b[22m\u001b[0m\u001b[1mD\u001b[22m\u001b[0m\u001b[1mA\u001b[22m\u001b[0m\u001b[1mM\u001b[22m \u001b[0m\u001b[1mA\u001b[22m\u001b[0m\u001b[1mD\u001b[22m\u001b[0m\u001b[1mA\u001b[22m\u001b[0m\u001b[1mM\u001b[22mW \u001b[0m\u001b[1mA\u001b[22m\u001b[0m\u001b[1md\u001b[22m\u001b[0m\u001b[1ma\u001b[22m\u001b[0m\u001b[1mM\u001b[22max R\u001b[0m\u001b[1mA\u001b[22m\u001b[0m\u001b[1mD\u001b[22m\u001b[0m\u001b[1mA\u001b[22m\u001b[0m\u001b[1mM\u001b[22m N\u001b[0m\u001b[1mA\u001b[22m\u001b[0m\u001b[1mD\u001b[22m\u001b[0m\u001b[1mA\u001b[22m\u001b[0m\u001b[1mM\u001b[22m b\u001b[0m\u001b[1ma\u001b[22mcken\u001b[0m\u001b[1md\u001b[22m_n\u001b[0m\u001b[1ma\u001b[22m\u001b[0m\u001b[1mm\u001b[22me \u001b[0m\u001b[1mA\u001b[22mbstract\u001b[0m\u001b[1mD\u001b[22m\u001b[0m\u001b[1ma\u001b[22mtaFra\u001b[0m\u001b[1mm\u001b[22me \u001b[0m\u001b[1mA\u001b[22m\u001b[0m\u001b[1mD\u001b[22m\u001b[0m\u001b[1mA\u001b[22mGrad\n",
      "\n"
     ]
    },
    {
     "data": {
      "text/latex": [
       "\\begin{verbatim}\n",
       "ADAM(η, β::Tuple)\n",
       "\\end{verbatim}\n",
       "Implements the ADAM optimiser.\n",
       "\n",
       "\\subsection{Paramters}\n",
       "\\begin{itemize}\n",
       "\\item Learning Rate (\\texttt{η}): Defaults to \\texttt{0.001}.\n",
       "\n",
       "\n",
       "\\item Beta (\\texttt{β::Tuple}): The first element refers to β1 and the second to β2. Defaults to \\texttt{(0.9, 0.999)}.\n",
       "\n",
       "\\end{itemize}\n",
       "\\subsection{Examples}\n",
       "\\begin{verbatim}\n",
       "opt = ADAM() # uses the default η = 0.001 and β = (0.9, 0.999)\n",
       "\n",
       "opt = ADAM(0.001, (0.9, 0.8))\n",
       "\\end{verbatim}\n",
       "\\subsection{References}\n",
       "\\href{https://arxiv.org/abs/1412.6980v8}{ADAM} optimiser.\n",
       "\n"
      ],
      "text/markdown": [
       "```\n",
       "ADAM(η, β::Tuple)\n",
       "```\n",
       "\n",
       "Implements the ADAM optimiser.\n",
       "\n",
       "## Paramters\n",
       "\n",
       "  * Learning Rate (`η`): Defaults to `0.001`.\n",
       "  * Beta (`β::Tuple`): The first element refers to β1 and the second to β2. Defaults to `(0.9, 0.999)`.\n",
       "\n",
       "## Examples\n",
       "\n",
       "```julia\n",
       "opt = ADAM() # uses the default η = 0.001 and β = (0.9, 0.999)\n",
       "\n",
       "opt = ADAM(0.001, (0.9, 0.8))\n",
       "```\n",
       "\n",
       "## References\n",
       "\n",
       "[ADAM](https://arxiv.org/abs/1412.6980v8) optimiser.\n"
      ],
      "text/plain": [
       "\u001b[36m  ADAM(η, β::Tuple)\u001b[39m\n",
       "\n",
       "  Implements the ADAM optimiser.\n",
       "\n",
       "\u001b[1m  Paramters\u001b[22m\n",
       "\u001b[1m  ===========\u001b[22m\n",
       "\n",
       "    •    Learning Rate (\u001b[36mη\u001b[39m): Defaults to \u001b[36m0.001\u001b[39m.\n",
       "\n",
       "    •    Beta (\u001b[36mβ::Tuple\u001b[39m): The first element refers to β1 and the second to\n",
       "        β2. Defaults to \u001b[36m(0.9, 0.999)\u001b[39m.\n",
       "\n",
       "\u001b[1m  Examples\u001b[22m\n",
       "\u001b[1m  ==========\u001b[22m\n",
       "\n",
       "\u001b[36m  opt = ADAM() # uses the default η = 0.001 and β = (0.9, 0.999)\u001b[39m\n",
       "\u001b[36m  \u001b[39m\n",
       "\u001b[36m  opt = ADAM(0.001, (0.9, 0.8))\u001b[39m\n",
       "\n",
       "\u001b[1m  References\u001b[22m\n",
       "\u001b[1m  ============\u001b[22m\n",
       "\n",
       "  ADAM (https://arxiv.org/abs/1412.6980v8) optimiser."
      ]
     },
     "execution_count": 36,
     "metadata": {},
     "output_type": "execute_result"
    }
   ],
   "source": [
    "?ADAM"
   ]
  },
  {
   "cell_type": "code",
   "execution_count": 37,
   "metadata": {},
   "outputs": [
    {
     "data": {
      "text/plain": [
       "ADAM(0.001, (0.9, 0.999), IdDict{Any,Any}())"
      ]
     },
     "execution_count": 37,
     "metadata": {},
     "output_type": "execute_result"
    }
   ],
   "source": [
    "opt = ADAM()"
   ]
  },
  {
   "cell_type": "markdown",
   "metadata": {},
   "source": [
    "Form the data for training - have the input, output together"
   ]
  },
  {
   "cell_type": "code",
   "execution_count": 38,
   "metadata": {},
   "outputs": [
    {
     "data": {
      "text/plain": [
       "Base.Iterators.Zip{Tuple{Array{Array{Float64,1},1},Array{Int64,1}}}((Array{Float64,1}[[0.5014661151631883, 0.22930441097534052], [0.4342254940829249, 0.1286670449863579], [0.4341196192611507, 0.1283343194344977], [0.43292152183068955, 0.12746865916878627], [0.4332916920418286, 0.12687320747253036], [0.43243837386176553, 0.12718165906107473], [0.4329222095428659, 0.127296222767609], [0.4311669294311532, 0.12615909751878962], [0.43186658074810524, 0.12593155154602345], [0.4303403153394724, 0.12640444560215408]  …  [0.5240277326400172, 0.45237940480059413], [0.5239057876671794, 0.4525711129522229], [0.5238233433790978, 0.45140008185437314], [0.5224889335097888, 0.44997337957681116], [0.5175726263709806, 0.4443909309164674], [0.5159556048834634, 0.4419119496855347], [0.5175850178187539, 0.44482679017155075], [0.5103568171454631, 0.4360222868217053], [0.5088734503702476, 0.43433036580969037], [0.5282048652067627, 0.4401388105372926]], [0, 0, 0, 0, 0, 0, 0, 0, 0, 0  …  1, 1, 1, 1, 1, 1, 1, 1, 1, 1]))"
      ]
     },
     "execution_count": 38,
     "metadata": {},
     "output_type": "execute_result"
    }
   ],
   "source": [
    "data = zip(xs,ys)"
   ]
  },
  {
   "cell_type": "markdown",
   "metadata": {},
   "source": [
    "Train the model once and predict the values for the first (apple -> 0) and last instance (banana -> 1) to observe the model performance."
   ]
  },
  {
   "cell_type": "code",
   "execution_count": 39,
   "metadata": {},
   "outputs": [],
   "source": [
    "Flux.train!(Loss, params(model), data, opt)"
   ]
  },
  {
   "cell_type": "code",
   "execution_count": 40,
   "metadata": {},
   "outputs": [
    {
     "data": {
      "text/plain": [
       "1-element Array{Float32,1}:\n",
       " 0.505622"
      ]
     },
     "execution_count": 40,
     "metadata": {},
     "output_type": "execute_result"
    }
   ],
   "source": [
    "model(xs[1])"
   ]
  },
  {
   "cell_type": "code",
   "execution_count": 41,
   "metadata": {},
   "outputs": [
    {
     "data": {
      "text/plain": [
       "1-element Array{Float32,1}:\n",
       " 0.50880194"
      ]
     },
     "execution_count": 41,
     "metadata": {},
     "output_type": "execute_result"
    }
   ],
   "source": [
    "model(xs[end])"
   ]
  },
  {
   "cell_type": "markdown",
   "metadata": {},
   "source": [
    "Train the model 10 times and predict the values for the first (apple -> 0) and last instance (banana -> 1) to observe the improvement in model performance... minor improvement."
   ]
  },
  {
   "cell_type": "code",
   "execution_count": 42,
   "metadata": {},
   "outputs": [],
   "source": [
    "for i in 1:10\n",
    "    Flux.train!(Loss, params(model), data, opt)\n",
    "end"
   ]
  },
  {
   "cell_type": "code",
   "execution_count": 43,
   "metadata": {},
   "outputs": [
    {
     "data": {
      "text/plain": [
       "1-element Array{Float32,1}:\n",
       " 0.55303115"
      ]
     },
     "execution_count": 43,
     "metadata": {},
     "output_type": "execute_result"
    }
   ],
   "source": [
    "model(xs[1])"
   ]
  },
  {
   "cell_type": "code",
   "execution_count": 44,
   "metadata": {},
   "outputs": [
    {
     "data": {
      "text/plain": [
       "1-element Array{Float32,1}:\n",
       " 0.6995519"
      ]
     },
     "execution_count": 44,
     "metadata": {},
     "output_type": "execute_result"
    }
   ],
   "source": [
    "model(xs[end])"
   ]
  },
  {
   "cell_type": "markdown",
   "metadata": {},
   "source": [
    "Train the model 100 times and predict the values for the first (apple -> 0) and last instance (banana -> 1) to observe the improvement in model performance... major improvement. We get values closure to 0 for first instance and closure to 1 for the last instance."
   ]
  },
  {
   "cell_type": "code",
   "execution_count": 45,
   "metadata": {},
   "outputs": [],
   "source": [
    "for i in 1:100\n",
    "    Flux.train!(Loss, params(model), data, opt)\n",
    "end"
   ]
  },
  {
   "cell_type": "code",
   "execution_count": 46,
   "metadata": {},
   "outputs": [
    {
     "data": {
      "text/plain": [
       "1-element Array{Float32,1}:\n",
       " 0.14228071"
      ]
     },
     "execution_count": 46,
     "metadata": {},
     "output_type": "execute_result"
    }
   ],
   "source": [
    "model(xs[1])"
   ]
  },
  {
   "cell_type": "code",
   "execution_count": 47,
   "metadata": {},
   "outputs": [
    {
     "data": {
      "text/plain": [
       "1-element Array{Float32,1}:\n",
       " 0.8858558"
      ]
     },
     "execution_count": 47,
     "metadata": {},
     "output_type": "execute_result"
    }
   ],
   "source": [
    "model(xs[end])"
   ]
  },
  {
   "cell_type": "markdown",
   "metadata": {},
   "source": [
    "Get the model outputs for all inputs into a predicted_output array."
   ]
  },
  {
   "cell_type": "code",
   "execution_count": 48,
   "metadata": {},
   "outputs": [
    {
     "data": {
      "text/plain": [
       "982"
      ]
     },
     "execution_count": 48,
     "metadata": {},
     "output_type": "execute_result"
    }
   ],
   "source": [
    "size(xs,1)"
   ]
  },
  {
   "cell_type": "code",
   "execution_count": 49,
   "metadata": {},
   "outputs": [],
   "source": [
    "global predicted_output = []\n",
    "                   for i in 1:size(xs,1)\n",
    "                        push!(predicted_output, model(xs[i]))\n",
    "                   end   "
   ]
  },
  {
   "cell_type": "code",
   "execution_count": 50,
   "metadata": {},
   "outputs": [
    {
     "data": {
      "text/plain": [
       "(982,)"
      ]
     },
     "execution_count": 50,
     "metadata": {},
     "output_type": "execute_result"
    }
   ],
   "source": [
    "size(predicted_output)"
   ]
  },
  {
   "cell_type": "code",
   "execution_count": 51,
   "metadata": {},
   "outputs": [
    {
     "data": {
      "text/plain": [
       "982-element Array{Any,1}:\n",
       " Float32[0.14228071] \n",
       " Float32[0.03091258] \n",
       " Float32[0.030737795]\n",
       " Float32[0.03038064] \n",
       " Float32[0.030017786]\n",
       " Float32[0.03027177] \n",
       " Float32[0.030285848]\n",
       " Float32[0.029842224]\n",
       " Float32[0.029650293]\n",
       " Float32[0.030057719]\n",
       " Float32[0.029686823]\n",
       " Float32[0.10502223] \n",
       " Float32[0.029734578]\n",
       " ⋮                   \n",
       " Float32[0.8858581]  \n",
       " Float32[0.91322964] \n",
       " Float32[0.9082133]  \n",
       " Float32[0.90854603] \n",
       " Float32[0.9067367]  \n",
       " Float32[0.90485376] \n",
       " Float32[0.8970597]  \n",
       " Float32[0.8932356]  \n",
       " Float32[0.89780504] \n",
       " Float32[0.88426405] \n",
       " Float32[0.88152343] \n",
       " Float32[0.8858558]  "
      ]
     },
     "execution_count": 51,
     "metadata": {},
     "output_type": "execute_result"
    }
   ],
   "source": [
    "predicted_output"
   ]
  },
  {
   "cell_type": "markdown",
   "metadata": {},
   "source": [
    "predicted_output elements has values in the range [0,1]. Convert the floating point values to 0 or 1 - to represent Apples and Bananas respectively by using the threshold value as 0.5. "
   ]
  },
  {
   "cell_type": "code",
   "execution_count": 52,
   "metadata": {},
   "outputs": [
    {
     "data": {
      "text/plain": [
       "1-element Array{Float32,1}:\n",
       " 0.14228071"
      ]
     },
     "execution_count": 52,
     "metadata": {},
     "output_type": "execute_result"
    }
   ],
   "source": [
    "predicted_output[1]"
   ]
  },
  {
   "cell_type": "code",
   "execution_count": 53,
   "metadata": {},
   "outputs": [
    {
     "data": {
      "text/plain": [
       "0.14228071f0"
      ]
     },
     "execution_count": 53,
     "metadata": {},
     "output_type": "execute_result"
    }
   ],
   "source": [
    "predicted_output[1][1]"
   ]
  },
  {
   "cell_type": "code",
   "execution_count": 54,
   "metadata": {},
   "outputs": [
    {
     "data": {
      "text/plain": [
       "0.8858558f0"
      ]
     },
     "execution_count": 54,
     "metadata": {},
     "output_type": "execute_result"
    }
   ],
   "source": [
    "predicted_output[982][1]"
   ]
  },
  {
   "cell_type": "code",
   "execution_count": 55,
   "metadata": {},
   "outputs": [],
   "source": [
    "for i in 1:size(xs,1)\n",
    "    if(predicted_output[i][1] < 0.5)\n",
    "        predicted_output[i]=0\n",
    "    else\n",
    "        predicted_output[i]=1\n",
    "    end\n",
    "end"
   ]
  },
  {
   "cell_type": "code",
   "execution_count": 56,
   "metadata": {},
   "outputs": [
    {
     "data": {
      "text/plain": [
       "0"
      ]
     },
     "execution_count": 56,
     "metadata": {},
     "output_type": "execute_result"
    }
   ],
   "source": [
    "predicted_output[1][1]"
   ]
  },
  {
   "cell_type": "code",
   "execution_count": 57,
   "metadata": {},
   "outputs": [
    {
     "data": {
      "text/plain": [
       "1"
      ]
     },
     "execution_count": 57,
     "metadata": {},
     "output_type": "execute_result"
    }
   ],
   "source": [
    "predicted_output[982][1]"
   ]
  },
  {
   "cell_type": "markdown",
   "metadata": {},
   "source": [
    "### Visualization of the results using plots"
   ]
  },
  {
   "cell_type": "markdown",
   "metadata": {},
   "source": [
    "You can observe the apples and bananas instances are properly spaced apart ... implies we can accurately classify them into 2 classes - Apples as \"0\" and Bananas as \"1\"."
   ]
  },
  {
   "cell_type": "code",
   "execution_count": 63,
   "metadata": {
    "scrolled": true
   },
   "outputs": [
    {
     "data": {
      "image/svg+xml": [
       "<?xml version=\"1.0\" encoding=\"utf-8\"?>\n",
       "<svg xmlns=\"http://www.w3.org/2000/svg\" xmlns:xlink=\"http://www.w3.org/1999/xlink\" width=\"600\" height=\"400\" viewBox=\"0 0 2400 1600\">\n",
       "<defs>\n",
       "  <clipPath id=\"clip2800\">\n",
       "    <rect x=\"0\" y=\"0\" width=\"2400\" height=\"1600\"/>\n",
       "  </clipPath>\n",
       "</defs>\n",
       "<path clip-path=\"url(#clip2800)\" d=\"\n",
       "M0 1600 L2400 1600 L2400 0 L0 0  Z\n",
       "  \" fill=\"#ffffff\" fill-rule=\"evenodd\" fill-opacity=\"1\"/>\n",
       "<defs>\n",
       "  <clipPath id=\"clip2801\">\n",
       "    <rect x=\"480\" y=\"0\" width=\"1681\" height=\"1600\"/>\n",
       "  </clipPath>\n",
       "</defs>\n",
       "<path clip-path=\"url(#clip2800)\" d=\"\n",
       "M242.516 1425.62 L2112.76 1425.62 L2112.76 47.2441 L242.516 47.2441  Z\n",
       "  \" fill=\"#ffffff\" fill-rule=\"evenodd\" fill-opacity=\"1\"/>\n",
       "<defs>\n",
       "  <clipPath id=\"clip2802\">\n",
       "    <rect x=\"242\" y=\"47\" width=\"1871\" height=\"1379\"/>\n",
       "  </clipPath>\n",
       "</defs>\n",
       "<polyline clip-path=\"url(#clip2802)\" style=\"stroke:#000000; stroke-width:2; stroke-opacity:0.1; fill:none\" points=\"\n",
       "  295.448,1425.62 295.448,47.2441 \n",
       "  \"/>\n",
       "<polyline clip-path=\"url(#clip2802)\" style=\"stroke:#000000; stroke-width:2; stroke-opacity:0.1; fill:none\" points=\"\n",
       "  736.542,1425.62 736.542,47.2441 \n",
       "  \"/>\n",
       "<polyline clip-path=\"url(#clip2802)\" style=\"stroke:#000000; stroke-width:2; stroke-opacity:0.1; fill:none\" points=\"\n",
       "  1177.64,1425.62 1177.64,47.2441 \n",
       "  \"/>\n",
       "<polyline clip-path=\"url(#clip2802)\" style=\"stroke:#000000; stroke-width:2; stroke-opacity:0.1; fill:none\" points=\"\n",
       "  1618.73,1425.62 1618.73,47.2441 \n",
       "  \"/>\n",
       "<polyline clip-path=\"url(#clip2802)\" style=\"stroke:#000000; stroke-width:2; stroke-opacity:0.1; fill:none\" points=\"\n",
       "  2059.82,1425.62 2059.82,47.2441 \n",
       "  \"/>\n",
       "<polyline clip-path=\"url(#clip2802)\" style=\"stroke:#000000; stroke-width:2; stroke-opacity:0.1; fill:none\" points=\"\n",
       "  242.516,1386.61 2112.76,1386.61 \n",
       "  \"/>\n",
       "<polyline clip-path=\"url(#clip2802)\" style=\"stroke:#000000; stroke-width:2; stroke-opacity:0.1; fill:none\" points=\"\n",
       "  242.516,1061.52 2112.76,1061.52 \n",
       "  \"/>\n",
       "<polyline clip-path=\"url(#clip2802)\" style=\"stroke:#000000; stroke-width:2; stroke-opacity:0.1; fill:none\" points=\"\n",
       "  242.516,736.431 2112.76,736.431 \n",
       "  \"/>\n",
       "<polyline clip-path=\"url(#clip2802)\" style=\"stroke:#000000; stroke-width:2; stroke-opacity:0.1; fill:none\" points=\"\n",
       "  242.516,411.343 2112.76,411.343 \n",
       "  \"/>\n",
       "<polyline clip-path=\"url(#clip2802)\" style=\"stroke:#000000; stroke-width:2; stroke-opacity:0.1; fill:none\" points=\"\n",
       "  242.516,86.2547 2112.76,86.2547 \n",
       "  \"/>\n",
       "<polyline clip-path=\"url(#clip2800)\" style=\"stroke:#000000; stroke-width:4; stroke-opacity:1; fill:none\" points=\"\n",
       "  242.516,1425.62 2112.76,1425.62 \n",
       "  \"/>\n",
       "<polyline clip-path=\"url(#clip2800)\" style=\"stroke:#000000; stroke-width:4; stroke-opacity:1; fill:none\" points=\"\n",
       "  242.516,1425.62 242.516,47.2441 \n",
       "  \"/>\n",
       "<polyline clip-path=\"url(#clip2800)\" style=\"stroke:#000000; stroke-width:4; stroke-opacity:1; fill:none\" points=\"\n",
       "  295.448,1425.62 295.448,1409.08 \n",
       "  \"/>\n",
       "<polyline clip-path=\"url(#clip2800)\" style=\"stroke:#000000; stroke-width:4; stroke-opacity:1; fill:none\" points=\"\n",
       "  736.542,1425.62 736.542,1409.08 \n",
       "  \"/>\n",
       "<polyline clip-path=\"url(#clip2800)\" style=\"stroke:#000000; stroke-width:4; stroke-opacity:1; fill:none\" points=\"\n",
       "  1177.64,1425.62 1177.64,1409.08 \n",
       "  \"/>\n",
       "<polyline clip-path=\"url(#clip2800)\" style=\"stroke:#000000; stroke-width:4; stroke-opacity:1; fill:none\" points=\"\n",
       "  1618.73,1425.62 1618.73,1409.08 \n",
       "  \"/>\n",
       "<polyline clip-path=\"url(#clip2800)\" style=\"stroke:#000000; stroke-width:4; stroke-opacity:1; fill:none\" points=\"\n",
       "  2059.82,1425.62 2059.82,1409.08 \n",
       "  \"/>\n",
       "<polyline clip-path=\"url(#clip2800)\" style=\"stroke:#000000; stroke-width:4; stroke-opacity:1; fill:none\" points=\"\n",
       "  242.516,1386.61 264.959,1386.61 \n",
       "  \"/>\n",
       "<polyline clip-path=\"url(#clip2800)\" style=\"stroke:#000000; stroke-width:4; stroke-opacity:1; fill:none\" points=\"\n",
       "  242.516,1061.52 264.959,1061.52 \n",
       "  \"/>\n",
       "<polyline clip-path=\"url(#clip2800)\" style=\"stroke:#000000; stroke-width:4; stroke-opacity:1; fill:none\" points=\"\n",
       "  242.516,736.431 264.959,736.431 \n",
       "  \"/>\n",
       "<polyline clip-path=\"url(#clip2800)\" style=\"stroke:#000000; stroke-width:4; stroke-opacity:1; fill:none\" points=\"\n",
       "  242.516,411.343 264.959,411.343 \n",
       "  \"/>\n",
       "<polyline clip-path=\"url(#clip2800)\" style=\"stroke:#000000; stroke-width:4; stroke-opacity:1; fill:none\" points=\"\n",
       "  242.516,86.2547 264.959,86.2547 \n",
       "  \"/>\n",
       "<g clip-path=\"url(#clip2800)\">\n",
       "<text style=\"fill:#000000; fill-opacity:1; font-family:Arial,Helvetica Neue,Helvetica,sans-serif; font-size:48px; text-anchor:middle;\" transform=\"rotate(0, 295.448, 1479.62)\" x=\"295.448\" y=\"1479.62\">0.00</text>\n",
       "</g>\n",
       "<g clip-path=\"url(#clip2800)\">\n",
       "<text style=\"fill:#000000; fill-opacity:1; font-family:Arial,Helvetica Neue,Helvetica,sans-serif; font-size:48px; text-anchor:middle;\" transform=\"rotate(0, 736.542, 1479.62)\" x=\"736.542\" y=\"1479.62\">0.25</text>\n",
       "</g>\n",
       "<g clip-path=\"url(#clip2800)\">\n",
       "<text style=\"fill:#000000; fill-opacity:1; font-family:Arial,Helvetica Neue,Helvetica,sans-serif; font-size:48px; text-anchor:middle;\" transform=\"rotate(0, 1177.64, 1479.62)\" x=\"1177.64\" y=\"1479.62\">0.50</text>\n",
       "</g>\n",
       "<g clip-path=\"url(#clip2800)\">\n",
       "<text style=\"fill:#000000; fill-opacity:1; font-family:Arial,Helvetica Neue,Helvetica,sans-serif; font-size:48px; text-anchor:middle;\" transform=\"rotate(0, 1618.73, 1479.62)\" x=\"1618.73\" y=\"1479.62\">0.75</text>\n",
       "</g>\n",
       "<g clip-path=\"url(#clip2800)\">\n",
       "<text style=\"fill:#000000; fill-opacity:1; font-family:Arial,Helvetica Neue,Helvetica,sans-serif; font-size:48px; text-anchor:middle;\" transform=\"rotate(0, 2059.82, 1479.62)\" x=\"2059.82\" y=\"1479.62\">1.00</text>\n",
       "</g>\n",
       "<g clip-path=\"url(#clip2800)\">\n",
       "<text style=\"fill:#000000; fill-opacity:1; font-family:Arial,Helvetica Neue,Helvetica,sans-serif; font-size:48px; text-anchor:end;\" transform=\"rotate(0, 218.516, 1404.11)\" x=\"218.516\" y=\"1404.11\">0.00</text>\n",
       "</g>\n",
       "<g clip-path=\"url(#clip2800)\">\n",
       "<text style=\"fill:#000000; fill-opacity:1; font-family:Arial,Helvetica Neue,Helvetica,sans-serif; font-size:48px; text-anchor:end;\" transform=\"rotate(0, 218.516, 1079.02)\" x=\"218.516\" y=\"1079.02\">0.25</text>\n",
       "</g>\n",
       "<g clip-path=\"url(#clip2800)\">\n",
       "<text style=\"fill:#000000; fill-opacity:1; font-family:Arial,Helvetica Neue,Helvetica,sans-serif; font-size:48px; text-anchor:end;\" transform=\"rotate(0, 218.516, 753.931)\" x=\"218.516\" y=\"753.931\">0.50</text>\n",
       "</g>\n",
       "<g clip-path=\"url(#clip2800)\">\n",
       "<text style=\"fill:#000000; fill-opacity:1; font-family:Arial,Helvetica Neue,Helvetica,sans-serif; font-size:48px; text-anchor:end;\" transform=\"rotate(0, 218.516, 428.843)\" x=\"218.516\" y=\"428.843\">0.75</text>\n",
       "</g>\n",
       "<g clip-path=\"url(#clip2800)\">\n",
       "<text style=\"fill:#000000; fill-opacity:1; font-family:Arial,Helvetica Neue,Helvetica,sans-serif; font-size:48px; text-anchor:end;\" transform=\"rotate(0, 218.516, 103.755)\" x=\"218.516\" y=\"103.755\">1.00</text>\n",
       "</g>\n",
       "<g clip-path=\"url(#clip2800)\">\n",
       "<text style=\"fill:#000000; fill-opacity:1; font-family:Arial,Helvetica Neue,Helvetica,sans-serif; font-size:66px; text-anchor:middle;\" transform=\"rotate(0, 1177.64, 1559.48)\" x=\"1177.64\" y=\"1559.48\">Mean Red Value</text>\n",
       "</g>\n",
       "<g clip-path=\"url(#clip2800)\">\n",
       "<text style=\"fill:#000000; fill-opacity:1; font-family:Arial,Helvetica Neue,Helvetica,sans-serif; font-size:66px; text-anchor:middle;\" transform=\"rotate(-90, 89.2861, 736.431)\" x=\"89.2861\" y=\"736.431\">Mean Green Value</text>\n",
       "</g>\n",
       "<path clip-path=\"url(#clip2802)\" d=\"\n",
       "M295.448 1386.61 L295.448 1386.61 L471.885 1386.61 L648.323 1386.61 L824.761 1386.61 L1001.2 1386.61 L1177.64 1386.61 L1354.07 1386.61 L1530.51 1386.61 L1706.95 1386.61 \n",
       "  L1883.39 1386.61 L2059.82 1386.61 L2059.82 1386.61 L2059.82 1386.61 L2059.82 1386.61 L2059.82 1256.57 L2059.82 1126.54 L2059.82 996.502 L2059.82 866.467 L2059.82 736.431 \n",
       "  L2059.82 606.396 L2059.82 476.361 L2059.82 346.325 L2059.82 216.29 L2059.82 86.2547 L2059.82 86.2547 L2059.82 86.2547 L2059.82 86.2547 L1883.39 86.2547 L1706.95 86.2547 \n",
       "  L1530.51 86.2547 L1354.07 86.2547 L1177.64 86.2547 L1001.2 86.2547 L824.761 86.2547 L648.323 86.2547 L471.885 86.2547 L295.448 86.2547 L295.448 86.2547 L295.448 86.2547 \n",
       "  L295.448 86.2547 L295.448 216.29 L295.448 346.325 L295.448 476.361 L295.448 606.396 L295.448 736.431 L295.448 866.467 L295.448 996.502 L295.448 1126.54 L295.448 1256.57 \n",
       "  L295.448 1386.61 L295.448 1386.61 L295.448 1386.61  Z\n",
       "  \" fill=\"#000003\" fill-rule=\"evenodd\" fill-opacity=\"1\"/>\n",
       "<path clip-path=\"url(#clip2802)\" d=\"\n",
       "M295.448 1386.61 L295.448 1284.28 L409.88 1256.57 L471.885 1252.22 L648.323 1239.35 L824.761 1222.94 L1001.2 1201.04 L1177.64 1171.04 L1354.07 1129.38 L1365.72 1126.54 \n",
       "  L1530.51 1115.36 L1706.95 1100.74 L1883.39 1081.55 L2059.82 1055.52 L2059.82 1126.54 L2059.82 996.502 L2059.82 866.467 L2059.82 736.431 L2059.82 606.396 L2059.82 476.361 \n",
       "  L2059.82 346.325 L2059.82 216.29 L2059.82 86.2547 L2059.82 86.2547 L2059.82 86.2547 L2059.82 86.2547 L1883.39 86.2547 L1706.95 86.2547 L1530.51 86.2547 L1354.07 86.2547 \n",
       "  L1177.64 86.2547 L1001.2 86.2547 L824.761 86.2547 L648.323 86.2547 L471.885 86.2547 L295.448 86.2547 L295.448 86.2547 L295.448 86.2547 L295.448 86.2547 L295.448 216.29 \n",
       "  L295.448 346.325 L295.448 476.361 L295.448 606.396 L295.448 736.431 L295.448 866.467 L295.448 996.502 L295.448 1126.54 L295.448 1256.57 L295.448 1386.61  Z\n",
       "  \" fill=\"#0c0727\" fill-rule=\"evenodd\" fill-opacity=\"1\"/>\n",
       "<path clip-path=\"url(#clip2802)\" d=\"\n",
       "M295.448 1256.57 L295.448 1233.25 L471.885 1215.3 L648.323 1192.26 L824.761 1161.4 L976.718 1126.54 L1001.2 1124.41 L1177.64 1110.13 L1354.07 1093.72 L1530.51 1073.24 \n",
       "  L1706.95 1046.24 L1883.39 1009.52 L1939.2 996.502 L2059.82 986.59 L2059.82 996.502 L2059.82 866.467 L2059.82 736.431 L2059.82 606.396 L2059.82 476.361 L2059.82 346.325 \n",
       "  L2059.82 216.29 L2059.82 86.2547 L2059.82 86.2547 L2059.82 86.2547 L2059.82 86.2547 L1883.39 86.2547 L1706.95 86.2547 L1530.51 86.2547 L1354.07 86.2547 L1177.64 86.2547 \n",
       "  L1001.2 86.2547 L824.761 86.2547 L648.323 86.2547 L471.885 86.2547 L295.448 86.2547 L295.448 86.2547 L295.448 86.2547 L295.448 86.2547 L295.448 216.29 L295.448 346.325 \n",
       "  L295.448 476.361 L295.448 606.396 L295.448 736.431 L295.448 866.467 L295.448 996.502 L295.448 1126.54 L295.448 1256.57  Z\n",
       "  \" fill=\"#240b4e\" fill-rule=\"evenodd\" fill-opacity=\"1\"/>\n",
       "<path clip-path=\"url(#clip2802)\" d=\"\n",
       "M295.448 1256.57 L295.448 1203.44 L471.885 1178.38 L648.323 1145.17 L732.533 1126.54 L824.761 1117.57 L1001.2 1101.09 L1177.64 1082.72 L1354.07 1060.28 L1530.51 1031.11 \n",
       "  L1689.97 996.502 L1706.95 994.762 L1883.39 978.481 L2059.82 961.199 L2059.82 996.502 L2059.82 866.467 L2059.82 736.431 L2059.82 606.396 L2059.82 476.361 L2059.82 346.325 \n",
       "  L2059.82 216.29 L2059.82 86.2547 L2059.82 86.2547 L2059.82 86.2547 L2059.82 86.2547 L1883.39 86.2547 L1706.95 86.2547 L1530.51 86.2547 L1354.07 86.2547 L1177.64 86.2547 \n",
       "  L1001.2 86.2547 L824.761 86.2547 L648.323 86.2547 L471.885 86.2547 L295.448 86.2547 L295.448 86.2547 L295.448 86.2547 L295.448 86.2547 L295.448 216.29 L295.448 346.325 \n",
       "  L295.448 476.361 L295.448 606.396 L295.448 736.431 L295.448 866.467 L295.448 996.502 L295.448 1126.54 L295.448 1256.57  Z\n",
       "  \" fill=\"#420a67\" fill-rule=\"evenodd\" fill-opacity=\"1\"/>\n",
       "<path clip-path=\"url(#clip2802)\" d=\"\n",
       "M295.448 1256.57 L295.448 1173.63 L471.885 1141.47 L542.629 1126.54 L648.323 1114.94 L824.761 1096.89 L1001.2 1077.77 L1177.64 1055.31 L1354.07 1026.84 L1501.49 996.502 \n",
       "  L1530.51 993.139 L1706.95 974.87 L1883.39 956.488 L2059.82 935.808 L2059.82 996.502 L2059.82 866.467 L2059.82 736.431 L2059.82 606.396 L2059.82 476.361 L2059.82 346.325 \n",
       "  L2059.82 216.29 L2059.82 86.2547 L2059.82 86.2547 L2059.82 86.2547 L2059.82 86.2547 L1883.39 86.2547 L1706.95 86.2547 L1530.51 86.2547 L1354.07 86.2547 L1177.64 86.2547 \n",
       "  L1001.2 86.2547 L824.761 86.2547 L648.323 86.2547 L471.885 86.2547 L295.448 86.2547 L295.448 86.2547 L295.448 86.2547 L295.448 86.2547 L295.448 216.29 L295.448 346.325 \n",
       "  L295.448 476.361 L295.448 606.396 L295.448 736.431 L295.448 866.467 L295.448 996.502 L295.448 1126.54 L295.448 1256.57  Z\n",
       "  \" fill=\"#5d126d\" fill-rule=\"evenodd\" fill-opacity=\"1\"/>\n",
       "<path clip-path=\"url(#clip2802)\" d=\"\n",
       "M295.448 1256.57 L295.448 1143.82 L382.469 1126.54 L471.885 1115.43 L648.323 1095.76 L824.761 1076.2 L1001.2 1054.44 L1177.64 1027.89 L1340.84 996.502 L1354.07 994.765 \n",
       "  L1530.51 974.302 L1706.95 954.977 L1883.39 934.494 L2059.82 910.417 L2059.82 996.502 L2059.82 866.467 L2059.82 736.431 L2059.82 606.396 L2059.82 476.361 L2059.82 346.325 \n",
       "  L2059.82 216.29 L2059.82 86.2547 L2059.82 86.2547 L2059.82 86.2547 L2059.82 86.2547 L1883.39 86.2547 L1706.95 86.2547 L1530.51 86.2547 L1354.07 86.2547 L1177.64 86.2547 \n",
       "  L1001.2 86.2547 L824.761 86.2547 L648.323 86.2547 L471.885 86.2547 L295.448 86.2547 L295.448 86.2547 L295.448 86.2547 L295.448 86.2547 L295.448 216.29 L295.448 346.325 \n",
       "  L295.448 476.361 L295.448 606.396 L295.448 736.431 L295.448 866.467 L295.448 996.502 L295.448 1126.54 L295.448 1256.57  Z\n",
       "  \" fill=\"#781c6d\" fill-rule=\"evenodd\" fill-opacity=\"1\"/>\n",
       "<path clip-path=\"url(#clip2802)\" d=\"\n",
       "M295.448 1126.54 L295.448 1118.54 L471.885 1096.78 L648.323 1076.57 L824.761 1055.52 L1001.2 1031.12 L1177.64 1000.48 L1198.32 996.502 L1354.07 976.064 L1530.51 955.466 \n",
       "  L1706.95 935.085 L1883.39 912.5 L2059.82 885.026 L2059.82 996.502 L2059.82 866.467 L2059.82 736.431 L2059.82 606.396 L2059.82 476.361 L2059.82 346.325 L2059.82 216.29 \n",
       "  L2059.82 86.2547 L2059.82 86.2547 L2059.82 86.2547 L2059.82 86.2547 L1883.39 86.2547 L1706.95 86.2547 L1530.51 86.2547 L1354.07 86.2547 L1177.64 86.2547 L1001.2 86.2547 \n",
       "  L824.761 86.2547 L648.323 86.2547 L471.885 86.2547 L295.448 86.2547 L295.448 86.2547 L295.448 86.2547 L295.448 86.2547 L295.448 216.29 L295.448 346.325 L295.448 476.361 \n",
       "  L295.448 606.396 L295.448 736.431 L295.448 866.467 L295.448 996.502 L295.448 1126.54  Z\n",
       "  \" fill=\"#942666\" fill-rule=\"evenodd\" fill-opacity=\"1\"/>\n",
       "<path clip-path=\"url(#clip2802)\" d=\"\n",
       "M295.448 1126.54 L295.448 1099.53 L471.885 1078.13 L648.323 1057.38 L824.761 1034.84 L1001.2 1007.8 L1065.02 996.502 L1177.64 979.859 L1354.07 957.363 L1530.51 936.629 \n",
       "  L1706.95 915.193 L1883.39 890.506 L2024.97 866.467 L2059.82 861.054 L2059.82 866.467 L2059.82 736.431 L2059.82 606.396 L2059.82 476.361 L2059.82 346.325 L2059.82 216.29 \n",
       "  L2059.82 86.2547 L2059.82 86.2547 L2059.82 86.2547 L2059.82 86.2547 L1883.39 86.2547 L1706.95 86.2547 L1530.51 86.2547 L1354.07 86.2547 L1177.64 86.2547 L1001.2 86.2547 \n",
       "  L824.761 86.2547 L648.323 86.2547 L471.885 86.2547 L295.448 86.2547 L295.448 86.2547 L295.448 86.2547 L295.448 86.2547 L295.448 216.29 L295.448 346.325 L295.448 476.361 \n",
       "  L295.448 606.396 L295.448 736.431 L295.448 866.467 L295.448 996.502 L295.448 1126.54  Z\n",
       "  \" fill=\"#ad305b\" fill-rule=\"evenodd\" fill-opacity=\"1\"/>\n",
       "<path clip-path=\"url(#clip2802)\" d=\"\n",
       "M295.448 1126.54 L295.448 1080.52 L471.885 1059.48 L648.323 1038.2 L824.761 1014.15 L934.749 996.502 L1001.2 985.556 L1177.64 960.39 L1354.07 938.663 L1530.51 917.793 \n",
       "  L1706.95 895.3 L1883.39 868.512 L1895.43 866.467 L2059.82 840.934 L2059.82 866.467 L2059.82 736.431 L2059.82 606.396 L2059.82 476.361 L2059.82 346.325 L2059.82 216.29 \n",
       "  L2059.82 86.2547 L2059.82 86.2547 L2059.82 86.2547 L2059.82 86.2547 L1883.39 86.2547 L1706.95 86.2547 L1530.51 86.2547 L1354.07 86.2547 L1177.64 86.2547 L1001.2 86.2547 \n",
       "  L824.761 86.2547 L648.323 86.2547 L471.885 86.2547 L295.448 86.2547 L295.448 86.2547 L295.448 86.2547 L295.448 86.2547 L295.448 216.29 L295.448 346.325 L295.448 476.361 \n",
       "  L295.448 606.396 L295.448 736.431 L295.448 866.467 L295.448 996.502 L295.448 1126.54  Z\n",
       "  \" fill=\"#c73e4c\" fill-rule=\"evenodd\" fill-opacity=\"1\"/>\n",
       "<path clip-path=\"url(#clip2802)\" d=\"\n",
       "M295.448 1126.54 L295.448 1061.5 L471.885 1040.83 L648.323 1019.01 L805.146 996.502 L824.761 992.951 L1001.2 964.323 L1177.64 940.92 L1354.07 919.962 L1530.51 898.956 \n",
       "  L1706.95 875.408 L1765.41 866.467 L1883.39 846.164 L2059.82 820.814 L2059.82 866.467 L2059.82 736.431 L2059.82 606.396 L2059.82 476.361 L2059.82 346.325 L2059.82 216.29 \n",
       "  L2059.82 86.2547 L2059.82 86.2547 L2059.82 86.2547 L2059.82 86.2547 L1883.39 86.2547 L1706.95 86.2547 L1530.51 86.2547 L1354.07 86.2547 L1177.64 86.2547 L1001.2 86.2547 \n",
       "  L824.761 86.2547 L648.323 86.2547 L471.885 86.2547 L295.448 86.2547 L295.448 86.2547 L295.448 86.2547 L295.448 86.2547 L295.448 216.29 L295.448 346.325 L295.448 476.361 \n",
       "  L295.448 606.396 L295.448 736.431 L295.448 866.467 L295.448 996.502 L295.448 1126.54  Z\n",
       "  \" fill=\"#db503a\" fill-rule=\"evenodd\" fill-opacity=\"1\"/>\n",
       "<path clip-path=\"url(#clip2802)\" d=\"\n",
       "M295.448 1126.54 L295.448 1042.49 L471.885 1022.17 L648.323 999.824 L671.47 996.502 L824.761 968.748 L1001.2 943.09 L1177.64 921.451 L1354.07 901.261 L1530.51 880.12 \n",
       "  L1630.79 866.467 L1706.95 852.158 L1883.39 823.779 L2059.82 800.694 L2059.82 866.467 L2059.82 736.431 L2059.82 606.396 L2059.82 476.361 L2059.82 346.325 L2059.82 216.29 \n",
       "  L2059.82 86.2547 L2059.82 86.2547 L2059.82 86.2547 L2059.82 86.2547 L1883.39 86.2547 L1706.95 86.2547 L1530.51 86.2547 L1354.07 86.2547 L1177.64 86.2547 L1001.2 86.2547 \n",
       "  L824.761 86.2547 L648.323 86.2547 L471.885 86.2547 L295.448 86.2547 L295.448 86.2547 L295.448 86.2547 L295.448 86.2547 L295.448 216.29 L295.448 346.325 L295.448 476.361 \n",
       "  L295.448 606.396 L295.448 736.431 L295.448 866.467 L295.448 996.502 L295.448 1126.54  Z\n",
       "  \" fill=\"#ec6925\" fill-rule=\"evenodd\" fill-opacity=\"1\"/>\n",
       "<path clip-path=\"url(#clip2802)\" d=\"\n",
       "M295.448 1126.54 L295.448 1023.48 L471.885 1003.52 L527.088 996.502 L648.323 972.747 L824.761 944.546 L1001.2 921.856 L1177.64 901.981 L1354.07 882.56 L1487.76 866.467 \n",
       "  L1530.51 857.835 L1706.95 826.166 L1883.39 801.394 L2059.82 780.574 L2059.82 866.467 L2059.82 736.431 L2059.82 606.396 L2059.82 476.361 L2059.82 346.325 L2059.82 216.29 \n",
       "  L2059.82 86.2547 L2059.82 86.2547 L2059.82 86.2547 L2059.82 86.2547 L1883.39 86.2547 L1706.95 86.2547 L1530.51 86.2547 L1354.07 86.2547 L1177.64 86.2547 L1001.2 86.2547 \n",
       "  L824.761 86.2547 L648.323 86.2547 L471.885 86.2547 L295.448 86.2547 L295.448 86.2547 L295.448 86.2547 L295.448 86.2547 L295.448 216.29 L295.448 346.325 L295.448 476.361 \n",
       "  L295.448 606.396 L295.448 736.431 L295.448 866.467 L295.448 996.502 L295.448 1126.54  Z\n",
       "  \" fill=\"#f7850e\" fill-rule=\"evenodd\" fill-opacity=\"1\"/>\n",
       "<path clip-path=\"url(#clip2802)\" d=\"\n",
       "M295.448 1126.54 L295.448 1004.46 L366.334 996.502 L471.885 974.46 L648.323 944.018 L824.761 920.344 L1001.2 900.623 L1177.64 882.512 L1328.54 866.467 L1354.07 861.007 \n",
       "  L1530.51 826.465 L1706.95 800.174 L1883.39 779.009 L2059.82 760.455 L2059.82 866.467 L2059.82 736.431 L2059.82 606.396 L2059.82 476.361 L2059.82 346.325 L2059.82 216.29 \n",
       "  L2059.82 86.2547 L2059.82 86.2547 L2059.82 86.2547 L2059.82 86.2547 L1883.39 86.2547 L1706.95 86.2547 L1530.51 86.2547 L1354.07 86.2547 L1177.64 86.2547 L1001.2 86.2547 \n",
       "  L824.761 86.2547 L648.323 86.2547 L471.885 86.2547 L295.448 86.2547 L295.448 86.2547 L295.448 86.2547 L295.448 86.2547 L295.448 216.29 L295.448 346.325 L295.448 476.361 \n",
       "  L295.448 606.396 L295.448 736.431 L295.448 866.467 L295.448 996.502 L295.448 1126.54  Z\n",
       "  \" fill=\"#fba40a\" fill-rule=\"evenodd\" fill-opacity=\"1\"/>\n",
       "<path clip-path=\"url(#clip2802)\" d=\"\n",
       "M295.448 996.502 L295.448 970.428 L471.885 939.107 L648.323 915.289 L824.761 896.141 L1001.2 879.39 L1138.08 866.467 L1177.64 857.624 L1354.07 821.85 L1530.51 795.095 \n",
       "  L1706.95 774.182 L1883.39 756.624 L2059.82 740.335 L2059.82 866.467 L2059.82 736.431 L2059.82 606.396 L2059.82 476.361 L2059.82 346.325 L2059.82 216.29 L2059.82 86.2547 \n",
       "  L2059.82 86.2547 L2059.82 86.2547 L2059.82 86.2547 L1883.39 86.2547 L1706.95 86.2547 L1530.51 86.2547 L1354.07 86.2547 L1177.64 86.2547 L1001.2 86.2547 L824.761 86.2547 \n",
       "  L648.323 86.2547 L471.885 86.2547 L295.448 86.2547 L295.448 86.2547 L295.448 86.2547 L295.448 86.2547 L295.448 216.29 L295.448 346.325 L295.448 476.361 L295.448 606.396 \n",
       "  L295.448 736.431 L295.448 866.467 L295.448 996.502  Z\n",
       "  \" fill=\"#f9c52d\" fill-rule=\"evenodd\" fill-opacity=\"1\"/>\n",
       "<path clip-path=\"url(#clip2802)\" d=\"\n",
       "M295.448 996.502 L295.448 925.57 L471.885 903.755 L648.323 886.559 L824.761 871.939 L889.366 866.467 L1001.2 840.612 L1177.64 807.345 L1354.07 782.693 L1530.51 763.726 \n",
       "  L1706.95 748.19 L1851.99 736.431 L1883.39 729.084 L2059.82 690.803 L2059.82 736.431 L2059.82 606.396 L2059.82 476.361 L2059.82 346.325 L2059.82 216.29 L2059.82 86.2547 \n",
       "  L2059.82 86.2547 L2059.82 86.2547 L2059.82 86.2547 L1883.39 86.2547 L1706.95 86.2547 L1530.51 86.2547 L1354.07 86.2547 L1177.64 86.2547 L1001.2 86.2547 L824.761 86.2547 \n",
       "  L648.323 86.2547 L471.885 86.2547 L295.448 86.2547 L295.448 86.2547 L295.448 86.2547 L295.448 86.2547 L295.448 216.29 L295.448 346.325 L295.448 476.361 L295.448 606.396 \n",
       "  L295.448 736.431 L295.448 866.467 L295.448 996.502  Z\n",
       "  \" fill=\"#f2e55f\" fill-rule=\"evenodd\" fill-opacity=\"1\"/>\n",
       "<path clip-path=\"url(#clip2802)\" d=\"\n",
       "M295.448 996.502 L295.448 880.712 L471.885 868.403 L499.078 866.467 L648.323 830.433 L824.761 798.077 L1001.2 774.553 L1177.64 757.065 L1354.07 743.536 L1456.89 736.431 \n",
       "  L1530.51 718.541 L1706.95 681.111 L1883.39 654.066 L2059.82 634.192 L2059.82 736.431 L2059.82 606.396 L2059.82 476.361 L2059.82 346.325 L2059.82 216.29 L2059.82 86.2547 \n",
       "  L2059.82 86.2547 L2059.82 86.2547 L2059.82 86.2547 L1883.39 86.2547 L1706.95 86.2547 L1530.51 86.2547 L1354.07 86.2547 L1177.64 86.2547 L1001.2 86.2547 L824.761 86.2547 \n",
       "  L648.323 86.2547 L471.885 86.2547 L295.448 86.2547 L295.448 86.2547 L295.448 86.2547 L295.448 86.2547 L295.448 216.29 L295.448 346.325 L295.448 476.361 L295.448 606.396 \n",
       "  L295.448 736.431 L295.448 866.467 L295.448 996.502  Z\n",
       "  \" fill=\"#fcfea4\" fill-rule=\"evenodd\" fill-opacity=\"1\"/>\n",
       "<polyline clip-path=\"url(#clip2802)\" style=\"stroke:#000000; stroke-width:4; stroke-opacity:1; fill:none\" points=\"\n",
       "  295.448,1386.61 295.448,1386.61 471.885,1386.61 648.323,1386.61 824.761,1386.61 1001.2,1386.61 1177.64,1386.61 1354.07,1386.61 1530.51,1386.61 1706.95,1386.61 \n",
       "  1883.39,1386.61 2059.82,1386.61 2059.82,1256.57 2059.82,1126.54 2059.82,996.502 2059.82,866.467 2059.82,736.431 \n",
       "  2059.82,606.396 2059.82,476.361 2059.82,346.325 2059.82,216.29 2059.82,86.2547 1883.39,86.2547 1706.95,86.2547 \n",
       "  1530.51,86.2547 1354.07,86.2547 1177.64,86.2547 1001.2,86.2547 824.761,86.2547 648.323,86.2547 471.885,86.2547 295.448,86.2547 \n",
       "  295.448,216.29 295.448,346.325 295.448,476.361 295.448,606.396 295.448,736.431 295.448,866.467 295.448,996.502 295.448,1126.54 295.448,1256.57 \n",
       "  295.448,1386.61 \n",
       "  \"/>\n",
       "<polyline clip-path=\"url(#clip2802)\" style=\"stroke:#000000; stroke-width:4; stroke-opacity:1; fill:none\" points=\"\n",
       "  295.448,1386.61 295.448,1284.28 409.88,1256.57 471.885,1252.22 648.323,1239.35 824.761,1222.94 1001.2,1201.04 1177.64,1171.04 1354.07,1129.38 1365.72,1126.54 \n",
       "  1530.51,1115.36 1706.95,1100.74 1883.39,1081.55 2059.82,1055.52 2059.82,1126.54 2059.82,996.502 2059.82,866.467 2059.82,736.431 2059.82,606.396 2059.82,476.361 \n",
       "  2059.82,346.325 2059.82,216.29 2059.82,86.2547 1883.39,86.2547 1706.95,86.2547 1530.51,86.2547 1354.07,86.2547 \n",
       "  1177.64,86.2547 1001.2,86.2547 824.761,86.2547 648.323,86.2547 471.885,86.2547 295.448,86.2547 295.448,216.29 \n",
       "  295.448,346.325 295.448,476.361 295.448,606.396 295.448,736.431 295.448,866.467 295.448,996.502 295.448,1126.54 295.448,1256.57 295.448,1386.61 \n",
       "  \"/>\n",
       "<polyline clip-path=\"url(#clip2802)\" style=\"stroke:#000000; stroke-width:4; stroke-opacity:1; fill:none\" points=\"\n",
       "  295.448,1256.57 295.448,1233.25 471.885,1215.3 648.323,1192.26 824.761,1161.4 976.718,1126.54 1001.2,1124.41 1177.64,1110.13 1354.07,1093.72 1530.51,1073.24 \n",
       "  1706.95,1046.24 1883.39,1009.52 1939.2,996.502 2059.82,986.59 2059.82,996.502 2059.82,866.467 2059.82,736.431 2059.82,606.396 2059.82,476.361 2059.82,346.325 \n",
       "  2059.82,216.29 2059.82,86.2547 1883.39,86.2547 1706.95,86.2547 1530.51,86.2547 1354.07,86.2547 1177.64,86.2547 \n",
       "  1001.2,86.2547 824.761,86.2547 648.323,86.2547 471.885,86.2547 295.448,86.2547 295.448,216.29 295.448,346.325 \n",
       "  295.448,476.361 295.448,606.396 295.448,736.431 295.448,866.467 295.448,996.502 295.448,1126.54 295.448,1256.57 \n",
       "  \"/>\n",
       "<polyline clip-path=\"url(#clip2802)\" style=\"stroke:#000000; stroke-width:4; stroke-opacity:1; fill:none\" points=\"\n",
       "  295.448,1256.57 295.448,1203.44 471.885,1178.38 648.323,1145.17 732.533,1126.54 824.761,1117.57 1001.2,1101.09 1177.64,1082.72 1354.07,1060.28 1530.51,1031.11 \n",
       "  1689.97,996.502 1706.95,994.762 1883.39,978.481 2059.82,961.199 2059.82,996.502 2059.82,866.467 2059.82,736.431 2059.82,606.396 2059.82,476.361 2059.82,346.325 \n",
       "  2059.82,216.29 2059.82,86.2547 1883.39,86.2547 1706.95,86.2547 1530.51,86.2547 1354.07,86.2547 1177.64,86.2547 \n",
       "  1001.2,86.2547 824.761,86.2547 648.323,86.2547 471.885,86.2547 295.448,86.2547 295.448,216.29 295.448,346.325 \n",
       "  295.448,476.361 295.448,606.396 295.448,736.431 295.448,866.467 295.448,996.502 295.448,1126.54 295.448,1256.57 \n",
       "  \"/>\n",
       "<polyline clip-path=\"url(#clip2802)\" style=\"stroke:#000000; stroke-width:4; stroke-opacity:1; fill:none\" points=\"\n",
       "  295.448,1256.57 295.448,1173.63 471.885,1141.47 542.629,1126.54 648.323,1114.94 824.761,1096.89 1001.2,1077.77 1177.64,1055.31 1354.07,1026.84 1501.49,996.502 \n",
       "  1530.51,993.139 1706.95,974.87 1883.39,956.488 2059.82,935.808 2059.82,996.502 2059.82,866.467 2059.82,736.431 2059.82,606.396 2059.82,476.361 2059.82,346.325 \n",
       "  2059.82,216.29 2059.82,86.2547 1883.39,86.2547 1706.95,86.2547 1530.51,86.2547 1354.07,86.2547 1177.64,86.2547 \n",
       "  1001.2,86.2547 824.761,86.2547 648.323,86.2547 471.885,86.2547 295.448,86.2547 295.448,216.29 295.448,346.325 \n",
       "  295.448,476.361 295.448,606.396 295.448,736.431 295.448,866.467 295.448,996.502 295.448,1126.54 295.448,1256.57 \n",
       "  \"/>\n",
       "<polyline clip-path=\"url(#clip2802)\" style=\"stroke:#000000; stroke-width:4; stroke-opacity:1; fill:none\" points=\"\n",
       "  295.448,1256.57 295.448,1143.82 382.469,1126.54 471.885,1115.43 648.323,1095.76 824.761,1076.2 1001.2,1054.44 1177.64,1027.89 1340.84,996.502 1354.07,994.765 \n",
       "  1530.51,974.302 1706.95,954.977 1883.39,934.494 2059.82,910.417 2059.82,996.502 2059.82,866.467 2059.82,736.431 2059.82,606.396 2059.82,476.361 2059.82,346.325 \n",
       "  2059.82,216.29 2059.82,86.2547 1883.39,86.2547 1706.95,86.2547 1530.51,86.2547 1354.07,86.2547 1177.64,86.2547 \n",
       "  1001.2,86.2547 824.761,86.2547 648.323,86.2547 471.885,86.2547 295.448,86.2547 295.448,216.29 295.448,346.325 \n",
       "  295.448,476.361 295.448,606.396 295.448,736.431 295.448,866.467 295.448,996.502 295.448,1126.54 295.448,1256.57 \n",
       "  \"/>\n",
       "<polyline clip-path=\"url(#clip2802)\" style=\"stroke:#000000; stroke-width:4; stroke-opacity:1; fill:none\" points=\"\n",
       "  295.448,1126.54 295.448,1118.54 471.885,1096.78 648.323,1076.57 824.761,1055.52 1001.2,1031.12 1177.64,1000.48 1198.32,996.502 1354.07,976.064 1530.51,955.466 \n",
       "  1706.95,935.085 1883.39,912.5 2059.82,885.026 2059.82,996.502 2059.82,866.467 2059.82,736.431 2059.82,606.396 2059.82,476.361 2059.82,346.325 2059.82,216.29 \n",
       "  2059.82,86.2547 1883.39,86.2547 1706.95,86.2547 1530.51,86.2547 1354.07,86.2547 1177.64,86.2547 1001.2,86.2547 \n",
       "  824.761,86.2547 648.323,86.2547 471.885,86.2547 295.448,86.2547 295.448,216.29 295.448,346.325 295.448,476.361 \n",
       "  295.448,606.396 295.448,736.431 295.448,866.467 295.448,996.502 295.448,1126.54 \n",
       "  \"/>\n",
       "<polyline clip-path=\"url(#clip2802)\" style=\"stroke:#000000; stroke-width:4; stroke-opacity:1; fill:none\" points=\"\n",
       "  295.448,1126.54 295.448,1099.53 471.885,1078.13 648.323,1057.38 824.761,1034.84 1001.2,1007.8 1065.02,996.502 1177.64,979.859 1354.07,957.363 1530.51,936.629 \n",
       "  1706.95,915.193 1883.39,890.506 2024.97,866.467 2059.82,861.054 2059.82,866.467 2059.82,736.431 2059.82,606.396 2059.82,476.361 2059.82,346.325 2059.82,216.29 \n",
       "  2059.82,86.2547 1883.39,86.2547 1706.95,86.2547 1530.51,86.2547 1354.07,86.2547 1177.64,86.2547 1001.2,86.2547 \n",
       "  824.761,86.2547 648.323,86.2547 471.885,86.2547 295.448,86.2547 295.448,216.29 295.448,346.325 295.448,476.361 \n",
       "  295.448,606.396 295.448,736.431 295.448,866.467 295.448,996.502 295.448,1126.54 \n",
       "  \"/>\n",
       "<polyline clip-path=\"url(#clip2802)\" style=\"stroke:#000000; stroke-width:4; stroke-opacity:1; fill:none\" points=\"\n",
       "  295.448,1126.54 295.448,1080.52 471.885,1059.48 648.323,1038.2 824.761,1014.15 934.749,996.502 1001.2,985.556 1177.64,960.39 1354.07,938.663 1530.51,917.793 \n",
       "  1706.95,895.3 1883.39,868.512 1895.43,866.467 2059.82,840.934 2059.82,866.467 2059.82,736.431 2059.82,606.396 2059.82,476.361 2059.82,346.325 2059.82,216.29 \n",
       "  2059.82,86.2547 1883.39,86.2547 1706.95,86.2547 1530.51,86.2547 1354.07,86.2547 1177.64,86.2547 1001.2,86.2547 \n",
       "  824.761,86.2547 648.323,86.2547 471.885,86.2547 295.448,86.2547 295.448,216.29 295.448,346.325 295.448,476.361 \n",
       "  295.448,606.396 295.448,736.431 295.448,866.467 295.448,996.502 295.448,1126.54 \n",
       "  \"/>\n",
       "<polyline clip-path=\"url(#clip2802)\" style=\"stroke:#000000; stroke-width:4; stroke-opacity:1; fill:none\" points=\"\n",
       "  295.448,1126.54 295.448,1061.5 471.885,1040.83 648.323,1019.01 805.146,996.502 824.761,992.951 1001.2,964.323 1177.64,940.92 1354.07,919.962 1530.51,898.956 \n",
       "  1706.95,875.408 1765.41,866.467 1883.39,846.164 2059.82,820.814 2059.82,866.467 2059.82,736.431 2059.82,606.396 2059.82,476.361 2059.82,346.325 2059.82,216.29 \n",
       "  2059.82,86.2547 1883.39,86.2547 1706.95,86.2547 1530.51,86.2547 1354.07,86.2547 1177.64,86.2547 1001.2,86.2547 \n",
       "  824.761,86.2547 648.323,86.2547 471.885,86.2547 295.448,86.2547 295.448,216.29 295.448,346.325 295.448,476.361 \n",
       "  295.448,606.396 295.448,736.431 295.448,866.467 295.448,996.502 295.448,1126.54 \n",
       "  \"/>\n",
       "<polyline clip-path=\"url(#clip2802)\" style=\"stroke:#000000; stroke-width:4; stroke-opacity:1; fill:none\" points=\"\n",
       "  295.448,1126.54 295.448,1042.49 471.885,1022.17 648.323,999.824 671.47,996.502 824.761,968.748 1001.2,943.09 1177.64,921.451 1354.07,901.261 1530.51,880.12 \n",
       "  1630.79,866.467 1706.95,852.158 1883.39,823.779 2059.82,800.694 2059.82,866.467 2059.82,736.431 2059.82,606.396 2059.82,476.361 2059.82,346.325 2059.82,216.29 \n",
       "  2059.82,86.2547 1883.39,86.2547 1706.95,86.2547 1530.51,86.2547 1354.07,86.2547 1177.64,86.2547 1001.2,86.2547 \n",
       "  824.761,86.2547 648.323,86.2547 471.885,86.2547 295.448,86.2547 295.448,216.29 295.448,346.325 295.448,476.361 \n",
       "  295.448,606.396 295.448,736.431 295.448,866.467 295.448,996.502 295.448,1126.54 \n",
       "  \"/>\n",
       "<polyline clip-path=\"url(#clip2802)\" style=\"stroke:#000000; stroke-width:4; stroke-opacity:1; fill:none\" points=\"\n",
       "  295.448,1126.54 295.448,1023.48 471.885,1003.52 527.088,996.502 648.323,972.747 824.761,944.546 1001.2,921.856 1177.64,901.981 1354.07,882.56 1487.76,866.467 \n",
       "  1530.51,857.835 1706.95,826.166 1883.39,801.394 2059.82,780.574 2059.82,866.467 2059.82,736.431 2059.82,606.396 2059.82,476.361 2059.82,346.325 2059.82,216.29 \n",
       "  2059.82,86.2547 1883.39,86.2547 1706.95,86.2547 1530.51,86.2547 1354.07,86.2547 1177.64,86.2547 1001.2,86.2547 \n",
       "  824.761,86.2547 648.323,86.2547 471.885,86.2547 295.448,86.2547 295.448,216.29 295.448,346.325 295.448,476.361 \n",
       "  295.448,606.396 295.448,736.431 295.448,866.467 295.448,996.502 295.448,1126.54 \n",
       "  \"/>\n",
       "<polyline clip-path=\"url(#clip2802)\" style=\"stroke:#000000; stroke-width:4; stroke-opacity:1; fill:none\" points=\"\n",
       "  295.448,1126.54 295.448,1004.46 366.334,996.502 471.885,974.46 648.323,944.018 824.761,920.344 1001.2,900.623 1177.64,882.512 1328.54,866.467 1354.07,861.007 \n",
       "  1530.51,826.465 1706.95,800.174 1883.39,779.009 2059.82,760.455 2059.82,866.467 2059.82,736.431 2059.82,606.396 2059.82,476.361 2059.82,346.325 2059.82,216.29 \n",
       "  2059.82,86.2547 1883.39,86.2547 1706.95,86.2547 1530.51,86.2547 1354.07,86.2547 1177.64,86.2547 1001.2,86.2547 \n",
       "  824.761,86.2547 648.323,86.2547 471.885,86.2547 295.448,86.2547 295.448,216.29 295.448,346.325 295.448,476.361 \n",
       "  295.448,606.396 295.448,736.431 295.448,866.467 295.448,996.502 295.448,1126.54 \n",
       "  \"/>\n",
       "<polyline clip-path=\"url(#clip2802)\" style=\"stroke:#000000; stroke-width:4; stroke-opacity:1; fill:none\" points=\"\n",
       "  295.448,996.502 295.448,970.428 471.885,939.107 648.323,915.289 824.761,896.141 1001.2,879.39 1138.08,866.467 1177.64,857.624 1354.07,821.85 1530.51,795.095 \n",
       "  1706.95,774.182 1883.39,756.624 2059.82,740.335 2059.82,866.467 2059.82,736.431 2059.82,606.396 2059.82,476.361 2059.82,346.325 2059.82,216.29 2059.82,86.2547 \n",
       "  1883.39,86.2547 1706.95,86.2547 1530.51,86.2547 1354.07,86.2547 1177.64,86.2547 1001.2,86.2547 824.761,86.2547 \n",
       "  648.323,86.2547 471.885,86.2547 295.448,86.2547 295.448,216.29 295.448,346.325 295.448,476.361 295.448,606.396 \n",
       "  295.448,736.431 295.448,866.467 295.448,996.502 \n",
       "  \"/>\n",
       "<polyline clip-path=\"url(#clip2802)\" style=\"stroke:#000000; stroke-width:4; stroke-opacity:1; fill:none\" points=\"\n",
       "  295.448,996.502 295.448,925.57 471.885,903.755 648.323,886.559 824.761,871.939 889.366,866.467 1001.2,840.612 1177.64,807.345 1354.07,782.693 1530.51,763.726 \n",
       "  1706.95,748.19 1851.99,736.431 1883.39,729.084 2059.82,690.803 2059.82,736.431 2059.82,606.396 2059.82,476.361 2059.82,346.325 2059.82,216.29 2059.82,86.2547 \n",
       "  1883.39,86.2547 1706.95,86.2547 1530.51,86.2547 1354.07,86.2547 1177.64,86.2547 1001.2,86.2547 824.761,86.2547 \n",
       "  648.323,86.2547 471.885,86.2547 295.448,86.2547 295.448,216.29 295.448,346.325 295.448,476.361 295.448,606.396 \n",
       "  295.448,736.431 295.448,866.467 295.448,996.502 \n",
       "  \"/>\n",
       "<polyline clip-path=\"url(#clip2802)\" style=\"stroke:#000000; stroke-width:4; stroke-opacity:1; fill:none\" points=\"\n",
       "  295.448,996.502 295.448,880.712 471.885,868.403 499.078,866.467 648.323,830.433 824.761,798.077 1001.2,774.553 1177.64,757.065 1354.07,743.536 1456.89,736.431 \n",
       "  1530.51,718.541 1706.95,681.111 1883.39,654.066 2059.82,634.192 2059.82,736.431 2059.82,606.396 2059.82,476.361 2059.82,346.325 2059.82,216.29 2059.82,86.2547 \n",
       "  1883.39,86.2547 1706.95,86.2547 1530.51,86.2547 1354.07,86.2547 1177.64,86.2547 1001.2,86.2547 824.761,86.2547 \n",
       "  648.323,86.2547 471.885,86.2547 295.448,86.2547 295.448,216.29 295.448,346.325 295.448,476.361 295.448,606.396 \n",
       "  295.448,736.431 295.448,866.467 295.448,996.502 \n",
       "  \"/>\n",
       "<circle clip-path=\"url(#clip2802)\" cx=\"1180.22\" cy=\"1088.43\" r=\"14\" fill=\"#e26f46\" fill-rule=\"evenodd\" fill-opacity=\"1\" stroke=\"#000000\" stroke-opacity=\"1\" stroke-width=\"3.2\"/>\n",
       "<circle clip-path=\"url(#clip2802)\" cx=\"1061.59\" cy=\"1219.3\" r=\"14\" fill=\"#e26f46\" fill-rule=\"evenodd\" fill-opacity=\"1\" stroke=\"#000000\" stroke-opacity=\"1\" stroke-width=\"3.2\"/>\n",
       "<circle clip-path=\"url(#clip2802)\" cx=\"1061.4\" cy=\"1219.73\" r=\"14\" fill=\"#e26f46\" fill-rule=\"evenodd\" fill-opacity=\"1\" stroke=\"#000000\" stroke-opacity=\"1\" stroke-width=\"3.2\"/>\n",
       "<circle clip-path=\"url(#clip2802)\" cx=\"1059.28\" cy=\"1220.85\" r=\"14\" fill=\"#e26f46\" fill-rule=\"evenodd\" fill-opacity=\"1\" stroke=\"#000000\" stroke-opacity=\"1\" stroke-width=\"3.2\"/>\n",
       "<circle clip-path=\"url(#clip2802)\" cx=\"1059.94\" cy=\"1221.63\" r=\"14\" fill=\"#e26f46\" fill-rule=\"evenodd\" fill-opacity=\"1\" stroke=\"#000000\" stroke-opacity=\"1\" stroke-width=\"3.2\"/>\n",
       "<circle clip-path=\"url(#clip2802)\" cx=\"1058.43\" cy=\"1221.23\" r=\"14\" fill=\"#e26f46\" fill-rule=\"evenodd\" fill-opacity=\"1\" stroke=\"#000000\" stroke-opacity=\"1\" stroke-width=\"3.2\"/>\n",
       "<circle clip-path=\"url(#clip2802)\" cx=\"1059.29\" cy=\"1221.08\" r=\"14\" fill=\"#e26f46\" fill-rule=\"evenodd\" fill-opacity=\"1\" stroke=\"#000000\" stroke-opacity=\"1\" stroke-width=\"3.2\"/>\n",
       "<circle clip-path=\"url(#clip2802)\" cx=\"1056.19\" cy=\"1222.56\" r=\"14\" fill=\"#e26f46\" fill-rule=\"evenodd\" fill-opacity=\"1\" stroke=\"#000000\" stroke-opacity=\"1\" stroke-width=\"3.2\"/>\n",
       "<circle clip-path=\"url(#clip2802)\" cx=\"1057.42\" cy=\"1222.85\" r=\"14\" fill=\"#e26f46\" fill-rule=\"evenodd\" fill-opacity=\"1\" stroke=\"#000000\" stroke-opacity=\"1\" stroke-width=\"3.2\"/>\n",
       "<circle clip-path=\"url(#clip2802)\" cx=\"1054.73\" cy=\"1222.24\" r=\"14\" fill=\"#e26f46\" fill-rule=\"evenodd\" fill-opacity=\"1\" stroke=\"#000000\" stroke-opacity=\"1\" stroke-width=\"3.2\"/>\n",
       "<circle clip-path=\"url(#clip2802)\" cx=\"1054.54\" cy=\"1223.16\" r=\"14\" fill=\"#e26f46\" fill-rule=\"evenodd\" fill-opacity=\"1\" stroke=\"#000000\" stroke-opacity=\"1\" stroke-width=\"3.2\"/>\n",
       "<circle clip-path=\"url(#clip2802)\" cx=\"1151.23\" cy=\"1116.46\" r=\"14\" fill=\"#e26f46\" fill-rule=\"evenodd\" fill-opacity=\"1\" stroke=\"#000000\" stroke-opacity=\"1\" stroke-width=\"3.2\"/>\n",
       "<circle clip-path=\"url(#clip2802)\" cx=\"1052.36\" cy=\"1223.33\" r=\"14\" fill=\"#e26f46\" fill-rule=\"evenodd\" fill-opacity=\"1\" stroke=\"#000000\" stroke-opacity=\"1\" stroke-width=\"3.2\"/>\n",
       "<circle clip-path=\"url(#clip2802)\" cx=\"1052.84\" cy=\"1223.06\" r=\"14\" fill=\"#e26f46\" fill-rule=\"evenodd\" fill-opacity=\"1\" stroke=\"#000000\" stroke-opacity=\"1\" stroke-width=\"3.2\"/>\n",
       "<circle clip-path=\"url(#clip2802)\" cx=\"1050.69\" cy=\"1222.29\" r=\"14\" fill=\"#e26f46\" fill-rule=\"evenodd\" fill-opacity=\"1\" stroke=\"#000000\" stroke-opacity=\"1\" stroke-width=\"3.2\"/>\n",
       "<circle clip-path=\"url(#clip2802)\" cx=\"1050.73\" cy=\"1222.75\" r=\"14\" fill=\"#e26f46\" fill-rule=\"evenodd\" fill-opacity=\"1\" stroke=\"#000000\" stroke-opacity=\"1\" stroke-width=\"3.2\"/>\n",
       "<circle clip-path=\"url(#clip2802)\" cx=\"1049.18\" cy=\"1221.92\" r=\"14\" fill=\"#e26f46\" fill-rule=\"evenodd\" fill-opacity=\"1\" stroke=\"#000000\" stroke-opacity=\"1\" stroke-width=\"3.2\"/>\n",
       "<circle clip-path=\"url(#clip2802)\" cx=\"1050.32\" cy=\"1220.28\" r=\"14\" fill=\"#e26f46\" fill-rule=\"evenodd\" fill-opacity=\"1\" stroke=\"#000000\" stroke-opacity=\"1\" stroke-width=\"3.2\"/>\n",
       "<circle clip-path=\"url(#clip2802)\" cx=\"1047.45\" cy=\"1220.41\" r=\"14\" fill=\"#e26f46\" fill-rule=\"evenodd\" fill-opacity=\"1\" stroke=\"#000000\" stroke-opacity=\"1\" stroke-width=\"3.2\"/>\n",
       "<circle clip-path=\"url(#clip2802)\" cx=\"1047.6\" cy=\"1219.73\" r=\"14\" fill=\"#e26f46\" fill-rule=\"evenodd\" fill-opacity=\"1\" stroke=\"#000000\" stroke-opacity=\"1\" stroke-width=\"3.2\"/>\n",
       "<circle clip-path=\"url(#clip2802)\" cx=\"1044.71\" cy=\"1220.29\" r=\"14\" fill=\"#e26f46\" fill-rule=\"evenodd\" fill-opacity=\"1\" stroke=\"#000000\" stroke-opacity=\"1\" stroke-width=\"3.2\"/>\n",
       "<circle clip-path=\"url(#clip2802)\" cx=\"1045.88\" cy=\"1219.53\" r=\"14\" fill=\"#e26f46\" fill-rule=\"evenodd\" fill-opacity=\"1\" stroke=\"#000000\" stroke-opacity=\"1\" stroke-width=\"3.2\"/>\n",
       "<circle clip-path=\"url(#clip2802)\" cx=\"1150.91\" cy=\"1118.38\" r=\"14\" fill=\"#e26f46\" fill-rule=\"evenodd\" fill-opacity=\"1\" stroke=\"#000000\" stroke-opacity=\"1\" stroke-width=\"3.2\"/>\n",
       "<circle clip-path=\"url(#clip2802)\" cx=\"1041.92\" cy=\"1218.53\" r=\"14\" fill=\"#e26f46\" fill-rule=\"evenodd\" fill-opacity=\"1\" stroke=\"#000000\" stroke-opacity=\"1\" stroke-width=\"3.2\"/>\n",
       "<circle clip-path=\"url(#clip2802)\" cx=\"1042.04\" cy=\"1218.85\" r=\"14\" fill=\"#e26f46\" fill-rule=\"evenodd\" fill-opacity=\"1\" stroke=\"#000000\" stroke-opacity=\"1\" stroke-width=\"3.2\"/>\n",
       "<circle clip-path=\"url(#clip2802)\" cx=\"1039.31\" cy=\"1218.69\" r=\"14\" fill=\"#e26f46\" fill-rule=\"evenodd\" fill-opacity=\"1\" stroke=\"#000000\" stroke-opacity=\"1\" stroke-width=\"3.2\"/>\n",
       "<circle clip-path=\"url(#clip2802)\" cx=\"1039.32\" cy=\"1218.74\" r=\"14\" fill=\"#e26f46\" fill-rule=\"evenodd\" fill-opacity=\"1\" stroke=\"#000000\" stroke-opacity=\"1\" stroke-width=\"3.2\"/>\n",
       "<circle clip-path=\"url(#clip2802)\" cx=\"1038.63\" cy=\"1217.06\" r=\"14\" fill=\"#e26f46\" fill-rule=\"evenodd\" fill-opacity=\"1\" stroke=\"#000000\" stroke-opacity=\"1\" stroke-width=\"3.2\"/>\n",
       "<circle clip-path=\"url(#clip2802)\" cx=\"1038.18\" cy=\"1217.26\" r=\"14\" fill=\"#e26f46\" fill-rule=\"evenodd\" fill-opacity=\"1\" stroke=\"#000000\" stroke-opacity=\"1\" stroke-width=\"3.2\"/>\n",
       "<circle clip-path=\"url(#clip2802)\" cx=\"1036.78\" cy=\"1216.85\" r=\"14\" fill=\"#e26f46\" fill-rule=\"evenodd\" fill-opacity=\"1\" stroke=\"#000000\" stroke-opacity=\"1\" stroke-width=\"3.2\"/>\n",
       "<circle clip-path=\"url(#clip2802)\" cx=\"1036.33\" cy=\"1217.65\" r=\"14\" fill=\"#e26f46\" fill-rule=\"evenodd\" fill-opacity=\"1\" stroke=\"#000000\" stroke-opacity=\"1\" stroke-width=\"3.2\"/>\n",
       "<circle clip-path=\"url(#clip2802)\" cx=\"1034.54\" cy=\"1216.32\" r=\"14\" fill=\"#e26f46\" fill-rule=\"evenodd\" fill-opacity=\"1\" stroke=\"#000000\" stroke-opacity=\"1\" stroke-width=\"3.2\"/>\n",
       "<circle clip-path=\"url(#clip2802)\" cx=\"1035.44\" cy=\"1216.72\" r=\"14\" fill=\"#e26f46\" fill-rule=\"evenodd\" fill-opacity=\"1\" stroke=\"#000000\" stroke-opacity=\"1\" stroke-width=\"3.2\"/>\n",
       "<circle clip-path=\"url(#clip2802)\" cx=\"1145.81\" cy=\"1122\" r=\"14\" fill=\"#e26f46\" fill-rule=\"evenodd\" fill-opacity=\"1\" stroke=\"#000000\" stroke-opacity=\"1\" stroke-width=\"3.2\"/>\n",
       "<circle clip-path=\"url(#clip2802)\" cx=\"1034.97\" cy=\"1215.73\" r=\"14\" fill=\"#e26f46\" fill-rule=\"evenodd\" fill-opacity=\"1\" stroke=\"#000000\" stroke-opacity=\"1\" stroke-width=\"3.2\"/>\n",
       "<circle clip-path=\"url(#clip2802)\" cx=\"1036.55\" cy=\"1214.45\" r=\"14\" fill=\"#e26f46\" fill-rule=\"evenodd\" fill-opacity=\"1\" stroke=\"#000000\" stroke-opacity=\"1\" stroke-width=\"3.2\"/>\n",
       "<circle clip-path=\"url(#clip2802)\" cx=\"1032.41\" cy=\"1214.94\" r=\"14\" fill=\"#e26f46\" fill-rule=\"evenodd\" fill-opacity=\"1\" stroke=\"#000000\" stroke-opacity=\"1\" stroke-width=\"3.2\"/>\n",
       "<circle clip-path=\"url(#clip2802)\" cx=\"1033.34\" cy=\"1214.61\" r=\"14\" fill=\"#e26f46\" fill-rule=\"evenodd\" fill-opacity=\"1\" stroke=\"#000000\" stroke-opacity=\"1\" stroke-width=\"3.2\"/>\n",
       "<circle clip-path=\"url(#clip2802)\" cx=\"1032.37\" cy=\"1215.38\" r=\"14\" fill=\"#e26f46\" fill-rule=\"evenodd\" fill-opacity=\"1\" stroke=\"#000000\" stroke-opacity=\"1\" stroke-width=\"3.2\"/>\n",
       "<circle clip-path=\"url(#clip2802)\" cx=\"1034.38\" cy=\"1214.89\" r=\"14\" fill=\"#e26f46\" fill-rule=\"evenodd\" fill-opacity=\"1\" stroke=\"#000000\" stroke-opacity=\"1\" stroke-width=\"3.2\"/>\n",
       "<circle clip-path=\"url(#clip2802)\" cx=\"1032.8\" cy=\"1215.05\" r=\"14\" fill=\"#e26f46\" fill-rule=\"evenodd\" fill-opacity=\"1\" stroke=\"#000000\" stroke-opacity=\"1\" stroke-width=\"3.2\"/>\n",
       "<circle clip-path=\"url(#clip2802)\" cx=\"1034.86\" cy=\"1215.76\" r=\"14\" fill=\"#e26f46\" fill-rule=\"evenodd\" fill-opacity=\"1\" stroke=\"#000000\" stroke-opacity=\"1\" stroke-width=\"3.2\"/>\n",
       "<circle clip-path=\"url(#clip2802)\" cx=\"1034.92\" cy=\"1215.01\" r=\"14\" fill=\"#e26f46\" fill-rule=\"evenodd\" fill-opacity=\"1\" stroke=\"#000000\" stroke-opacity=\"1\" stroke-width=\"3.2\"/>\n",
       "<circle clip-path=\"url(#clip2802)\" cx=\"1037.34\" cy=\"1214.92\" r=\"14\" fill=\"#e26f46\" fill-rule=\"evenodd\" fill-opacity=\"1\" stroke=\"#000000\" stroke-opacity=\"1\" stroke-width=\"3.2\"/>\n",
       "<circle clip-path=\"url(#clip2802)\" cx=\"1143.93\" cy=\"1125.22\" r=\"14\" fill=\"#e26f46\" fill-rule=\"evenodd\" fill-opacity=\"1\" stroke=\"#000000\" stroke-opacity=\"1\" stroke-width=\"3.2\"/>\n",
       "<circle clip-path=\"url(#clip2802)\" cx=\"1037.47\" cy=\"1215.56\" r=\"14\" fill=\"#e26f46\" fill-rule=\"evenodd\" fill-opacity=\"1\" stroke=\"#000000\" stroke-opacity=\"1\" stroke-width=\"3.2\"/>\n",
       "<circle clip-path=\"url(#clip2802)\" cx=\"1039.12\" cy=\"1216.19\" r=\"14\" fill=\"#e26f46\" fill-rule=\"evenodd\" fill-opacity=\"1\" stroke=\"#000000\" stroke-opacity=\"1\" stroke-width=\"3.2\"/>\n",
       "<circle clip-path=\"url(#clip2802)\" cx=\"1041.38\" cy=\"1214.46\" r=\"14\" fill=\"#e26f46\" fill-rule=\"evenodd\" fill-opacity=\"1\" stroke=\"#000000\" stroke-opacity=\"1\" stroke-width=\"3.2\"/>\n",
       "<circle clip-path=\"url(#clip2802)\" cx=\"1046.27\" cy=\"1214.19\" r=\"14\" fill=\"#e26f46\" fill-rule=\"evenodd\" fill-opacity=\"1\" stroke=\"#000000\" stroke-opacity=\"1\" stroke-width=\"3.2\"/>\n",
       "<circle clip-path=\"url(#clip2802)\" cx=\"1043.97\" cy=\"1215.3\" r=\"14\" fill=\"#e26f46\" fill-rule=\"evenodd\" fill-opacity=\"1\" stroke=\"#000000\" stroke-opacity=\"1\" stroke-width=\"3.2\"/>\n",
       "<circle clip-path=\"url(#clip2802)\" cx=\"1047.61\" cy=\"1214.93\" r=\"14\" fill=\"#e26f46\" fill-rule=\"evenodd\" fill-opacity=\"1\" stroke=\"#000000\" stroke-opacity=\"1\" stroke-width=\"3.2\"/>\n",
       "<circle clip-path=\"url(#clip2802)\" cx=\"1052.27\" cy=\"1212.92\" r=\"14\" fill=\"#e26f46\" fill-rule=\"evenodd\" fill-opacity=\"1\" stroke=\"#000000\" stroke-opacity=\"1\" stroke-width=\"3.2\"/>\n",
       "<circle clip-path=\"url(#clip2802)\" cx=\"1054.87\" cy=\"1213.34\" r=\"14\" fill=\"#e26f46\" fill-rule=\"evenodd\" fill-opacity=\"1\" stroke=\"#000000\" stroke-opacity=\"1\" stroke-width=\"3.2\"/>\n",
       "<circle clip-path=\"url(#clip2802)\" cx=\"1057.52\" cy=\"1212.59\" r=\"14\" fill=\"#e26f46\" fill-rule=\"evenodd\" fill-opacity=\"1\" stroke=\"#000000\" stroke-opacity=\"1\" stroke-width=\"3.2\"/>\n",
       "<circle clip-path=\"url(#clip2802)\" cx=\"1060\" cy=\"1212.74\" r=\"14\" fill=\"#e26f46\" fill-rule=\"evenodd\" fill-opacity=\"1\" stroke=\"#000000\" stroke-opacity=\"1\" stroke-width=\"3.2\"/>\n",
       "<circle clip-path=\"url(#clip2802)\" cx=\"1139.54\" cy=\"1128.02\" r=\"14\" fill=\"#e26f46\" fill-rule=\"evenodd\" fill-opacity=\"1\" stroke=\"#000000\" stroke-opacity=\"1\" stroke-width=\"3.2\"/>\n",
       "<circle clip-path=\"url(#clip2802)\" cx=\"1062.45\" cy=\"1212.82\" r=\"14\" fill=\"#e26f46\" fill-rule=\"evenodd\" fill-opacity=\"1\" stroke=\"#000000\" stroke-opacity=\"1\" stroke-width=\"3.2\"/>\n",
       "<circle clip-path=\"url(#clip2802)\" cx=\"1066.5\" cy=\"1212.46\" r=\"14\" fill=\"#e26f46\" fill-rule=\"evenodd\" fill-opacity=\"1\" stroke=\"#000000\" stroke-opacity=\"1\" stroke-width=\"3.2\"/>\n",
       "<circle clip-path=\"url(#clip2802)\" cx=\"1068.9\" cy=\"1212.17\" r=\"14\" fill=\"#e26f46\" fill-rule=\"evenodd\" fill-opacity=\"1\" stroke=\"#000000\" stroke-opacity=\"1\" stroke-width=\"3.2\"/>\n",
       "<circle clip-path=\"url(#clip2802)\" cx=\"1072.67\" cy=\"1211.56\" r=\"14\" fill=\"#e26f46\" fill-rule=\"evenodd\" fill-opacity=\"1\" stroke=\"#000000\" stroke-opacity=\"1\" stroke-width=\"3.2\"/>\n",
       "<circle clip-path=\"url(#clip2802)\" cx=\"1075.2\" cy=\"1211.35\" r=\"14\" fill=\"#e26f46\" fill-rule=\"evenodd\" fill-opacity=\"1\" stroke=\"#000000\" stroke-opacity=\"1\" stroke-width=\"3.2\"/>\n",
       "<circle clip-path=\"url(#clip2802)\" cx=\"1081.76\" cy=\"1210.14\" r=\"14\" fill=\"#e26f46\" fill-rule=\"evenodd\" fill-opacity=\"1\" stroke=\"#000000\" stroke-opacity=\"1\" stroke-width=\"3.2\"/>\n",
       "<circle clip-path=\"url(#clip2802)\" cx=\"1082.98\" cy=\"1209.69\" r=\"14\" fill=\"#e26f46\" fill-rule=\"evenodd\" fill-opacity=\"1\" stroke=\"#000000\" stroke-opacity=\"1\" stroke-width=\"3.2\"/>\n",
       "<circle clip-path=\"url(#clip2802)\" cx=\"1087.89\" cy=\"1208.57\" r=\"14\" fill=\"#e26f46\" fill-rule=\"evenodd\" fill-opacity=\"1\" stroke=\"#000000\" stroke-opacity=\"1\" stroke-width=\"3.2\"/>\n",
       "<circle clip-path=\"url(#clip2802)\" cx=\"1090.98\" cy=\"1207.91\" r=\"14\" fill=\"#e26f46\" fill-rule=\"evenodd\" fill-opacity=\"1\" stroke=\"#000000\" stroke-opacity=\"1\" stroke-width=\"3.2\"/>\n",
       "<circle clip-path=\"url(#clip2802)\" cx=\"1096.55\" cy=\"1205.46\" r=\"14\" fill=\"#e26f46\" fill-rule=\"evenodd\" fill-opacity=\"1\" stroke=\"#000000\" stroke-opacity=\"1\" stroke-width=\"3.2\"/>\n",
       "<circle clip-path=\"url(#clip2802)\" cx=\"1137.66\" cy=\"1130.93\" r=\"14\" fill=\"#e26f46\" fill-rule=\"evenodd\" fill-opacity=\"1\" stroke=\"#000000\" stroke-opacity=\"1\" stroke-width=\"3.2\"/>\n",
       "<circle clip-path=\"url(#clip2802)\" cx=\"1100.19\" cy=\"1203.86\" r=\"14\" fill=\"#e26f46\" fill-rule=\"evenodd\" fill-opacity=\"1\" stroke=\"#000000\" stroke-opacity=\"1\" stroke-width=\"3.2\"/>\n",
       "<circle clip-path=\"url(#clip2802)\" cx=\"1105.46\" cy=\"1201.33\" r=\"14\" fill=\"#e26f46\" fill-rule=\"evenodd\" fill-opacity=\"1\" stroke=\"#000000\" stroke-opacity=\"1\" stroke-width=\"3.2\"/>\n",
       "<circle clip-path=\"url(#clip2802)\" cx=\"1108.86\" cy=\"1199.32\" r=\"14\" fill=\"#e26f46\" fill-rule=\"evenodd\" fill-opacity=\"1\" stroke=\"#000000\" stroke-opacity=\"1\" stroke-width=\"3.2\"/>\n",
       "<circle clip-path=\"url(#clip2802)\" cx=\"1113.55\" cy=\"1197.65\" r=\"14\" fill=\"#e26f46\" fill-rule=\"evenodd\" fill-opacity=\"1\" stroke=\"#000000\" stroke-opacity=\"1\" stroke-width=\"3.2\"/>\n",
       "<circle clip-path=\"url(#clip2802)\" cx=\"1117.27\" cy=\"1194.87\" r=\"14\" fill=\"#e26f46\" fill-rule=\"evenodd\" fill-opacity=\"1\" stroke=\"#000000\" stroke-opacity=\"1\" stroke-width=\"3.2\"/>\n",
       "<circle clip-path=\"url(#clip2802)\" cx=\"1123.22\" cy=\"1191.85\" r=\"14\" fill=\"#e26f46\" fill-rule=\"evenodd\" fill-opacity=\"1\" stroke=\"#000000\" stroke-opacity=\"1\" stroke-width=\"3.2\"/>\n",
       "<circle clip-path=\"url(#clip2802)\" cx=\"1126.21\" cy=\"1188.82\" r=\"14\" fill=\"#e26f46\" fill-rule=\"evenodd\" fill-opacity=\"1\" stroke=\"#000000\" stroke-opacity=\"1\" stroke-width=\"3.2\"/>\n",
       "<circle clip-path=\"url(#clip2802)\" cx=\"1133.3\" cy=\"1184.71\" r=\"14\" fill=\"#e26f46\" fill-rule=\"evenodd\" fill-opacity=\"1\" stroke=\"#000000\" stroke-opacity=\"1\" stroke-width=\"3.2\"/>\n",
       "<circle clip-path=\"url(#clip2802)\" cx=\"1134.69\" cy=\"1181.98\" r=\"14\" fill=\"#e26f46\" fill-rule=\"evenodd\" fill-opacity=\"1\" stroke=\"#000000\" stroke-opacity=\"1\" stroke-width=\"3.2\"/>\n",
       "<circle clip-path=\"url(#clip2802)\" cx=\"1139.89\" cy=\"1179.42\" r=\"14\" fill=\"#e26f46\" fill-rule=\"evenodd\" fill-opacity=\"1\" stroke=\"#000000\" stroke-opacity=\"1\" stroke-width=\"3.2\"/>\n",
       "<circle clip-path=\"url(#clip2802)\" cx=\"1133.49\" cy=\"1133.86\" r=\"14\" fill=\"#e26f46\" fill-rule=\"evenodd\" fill-opacity=\"1\" stroke=\"#000000\" stroke-opacity=\"1\" stroke-width=\"3.2\"/>\n",
       "<circle clip-path=\"url(#clip2802)\" cx=\"1144.37\" cy=\"1175.3\" r=\"14\" fill=\"#e26f46\" fill-rule=\"evenodd\" fill-opacity=\"1\" stroke=\"#000000\" stroke-opacity=\"1\" stroke-width=\"3.2\"/>\n",
       "<circle clip-path=\"url(#clip2802)\" cx=\"1149.71\" cy=\"1170.93\" r=\"14\" fill=\"#e26f46\" fill-rule=\"evenodd\" fill-opacity=\"1\" stroke=\"#000000\" stroke-opacity=\"1\" stroke-width=\"3.2\"/>\n",
       "<circle clip-path=\"url(#clip2802)\" cx=\"1151.82\" cy=\"1167.18\" r=\"14\" fill=\"#e26f46\" fill-rule=\"evenodd\" fill-opacity=\"1\" stroke=\"#000000\" stroke-opacity=\"1\" stroke-width=\"3.2\"/>\n",
       "<circle clip-path=\"url(#clip2802)\" cx=\"1157.76\" cy=\"1162.35\" r=\"14\" fill=\"#e26f46\" fill-rule=\"evenodd\" fill-opacity=\"1\" stroke=\"#000000\" stroke-opacity=\"1\" stroke-width=\"3.2\"/>\n",
       "<circle clip-path=\"url(#clip2802)\" cx=\"1160.54\" cy=\"1158.29\" r=\"14\" fill=\"#e26f46\" fill-rule=\"evenodd\" fill-opacity=\"1\" stroke=\"#000000\" stroke-opacity=\"1\" stroke-width=\"3.2\"/>\n",
       "<circle clip-path=\"url(#clip2802)\" cx=\"1165.41\" cy=\"1154.85\" r=\"14\" fill=\"#e26f46\" fill-rule=\"evenodd\" fill-opacity=\"1\" stroke=\"#000000\" stroke-opacity=\"1\" stroke-width=\"3.2\"/>\n",
       "<circle clip-path=\"url(#clip2802)\" cx=\"1168.28\" cy=\"1149.88\" r=\"14\" fill=\"#e26f46\" fill-rule=\"evenodd\" fill-opacity=\"1\" stroke=\"#000000\" stroke-opacity=\"1\" stroke-width=\"3.2\"/>\n",
       "<circle clip-path=\"url(#clip2802)\" cx=\"1172.9\" cy=\"1145.87\" r=\"14\" fill=\"#e26f46\" fill-rule=\"evenodd\" fill-opacity=\"1\" stroke=\"#000000\" stroke-opacity=\"1\" stroke-width=\"3.2\"/>\n",
       "<circle clip-path=\"url(#clip2802)\" cx=\"1175.94\" cy=\"1140.99\" r=\"14\" fill=\"#e26f46\" fill-rule=\"evenodd\" fill-opacity=\"1\" stroke=\"#000000\" stroke-opacity=\"1\" stroke-width=\"3.2\"/>\n",
       "<circle clip-path=\"url(#clip2802)\" cx=\"1183.09\" cy=\"1136.08\" r=\"14\" fill=\"#e26f46\" fill-rule=\"evenodd\" fill-opacity=\"1\" stroke=\"#000000\" stroke-opacity=\"1\" stroke-width=\"3.2\"/>\n",
       "<circle clip-path=\"url(#clip2802)\" cx=\"1131.55\" cy=\"1137.17\" r=\"14\" fill=\"#e26f46\" fill-rule=\"evenodd\" fill-opacity=\"1\" stroke=\"#000000\" stroke-opacity=\"1\" stroke-width=\"3.2\"/>\n",
       "<circle clip-path=\"url(#clip2802)\" cx=\"1182.97\" cy=\"1131.62\" r=\"14\" fill=\"#e26f46\" fill-rule=\"evenodd\" fill-opacity=\"1\" stroke=\"#000000\" stroke-opacity=\"1\" stroke-width=\"3.2\"/>\n",
       "<circle clip-path=\"url(#clip2802)\" cx=\"1188.21\" cy=\"1127.37\" r=\"14\" fill=\"#e26f46\" fill-rule=\"evenodd\" fill-opacity=\"1\" stroke=\"#000000\" stroke-opacity=\"1\" stroke-width=\"3.2\"/>\n",
       "<circle clip-path=\"url(#clip2802)\" cx=\"1191.47\" cy=\"1121.88\" r=\"14\" fill=\"#e26f46\" fill-rule=\"evenodd\" fill-opacity=\"1\" stroke=\"#000000\" stroke-opacity=\"1\" stroke-width=\"3.2\"/>\n",
       "<circle clip-path=\"url(#clip2802)\" cx=\"1196.67\" cy=\"1116.15\" r=\"14\" fill=\"#e26f46\" fill-rule=\"evenodd\" fill-opacity=\"1\" stroke=\"#000000\" stroke-opacity=\"1\" stroke-width=\"3.2\"/>\n",
       "<circle clip-path=\"url(#clip2802)\" cx=\"1198.29\" cy=\"1111.52\" r=\"14\" fill=\"#e26f46\" fill-rule=\"evenodd\" fill-opacity=\"1\" stroke=\"#000000\" stroke-opacity=\"1\" stroke-width=\"3.2\"/>\n",
       "<circle clip-path=\"url(#clip2802)\" cx=\"1202.66\" cy=\"1107.38\" r=\"14\" fill=\"#e26f46\" fill-rule=\"evenodd\" fill-opacity=\"1\" stroke=\"#000000\" stroke-opacity=\"1\" stroke-width=\"3.2\"/>\n",
       "<circle clip-path=\"url(#clip2802)\" cx=\"1204.62\" cy=\"1102.69\" r=\"14\" fill=\"#e26f46\" fill-rule=\"evenodd\" fill-opacity=\"1\" stroke=\"#000000\" stroke-opacity=\"1\" stroke-width=\"3.2\"/>\n",
       "<circle clip-path=\"url(#clip2802)\" cx=\"1208.66\" cy=\"1098.93\" r=\"14\" fill=\"#e26f46\" fill-rule=\"evenodd\" fill-opacity=\"1\" stroke=\"#000000\" stroke-opacity=\"1\" stroke-width=\"3.2\"/>\n",
       "<circle clip-path=\"url(#clip2802)\" cx=\"1211.12\" cy=\"1093.78\" r=\"14\" fill=\"#e26f46\" fill-rule=\"evenodd\" fill-opacity=\"1\" stroke=\"#000000\" stroke-opacity=\"1\" stroke-width=\"3.2\"/>\n",
       "<circle clip-path=\"url(#clip2802)\" cx=\"1215.68\" cy=\"1089.68\" r=\"14\" fill=\"#e26f46\" fill-rule=\"evenodd\" fill-opacity=\"1\" stroke=\"#000000\" stroke-opacity=\"1\" stroke-width=\"3.2\"/>\n",
       "<circle clip-path=\"url(#clip2802)\" cx=\"1128.36\" cy=\"1138.86\" r=\"14\" fill=\"#e26f46\" fill-rule=\"evenodd\" fill-opacity=\"1\" stroke=\"#000000\" stroke-opacity=\"1\" stroke-width=\"3.2\"/>\n",
       "<circle clip-path=\"url(#clip2802)\" cx=\"1217.35\" cy=\"1084.85\" r=\"14\" fill=\"#e26f46\" fill-rule=\"evenodd\" fill-opacity=\"1\" stroke=\"#000000\" stroke-opacity=\"1\" stroke-width=\"3.2\"/>\n",
       "<circle clip-path=\"url(#clip2802)\" cx=\"1224.08\" cy=\"1080.39\" r=\"14\" fill=\"#e26f46\" fill-rule=\"evenodd\" fill-opacity=\"1\" stroke=\"#000000\" stroke-opacity=\"1\" stroke-width=\"3.2\"/>\n",
       "<circle clip-path=\"url(#clip2802)\" cx=\"1224.4\" cy=\"1076.26\" r=\"14\" fill=\"#e26f46\" fill-rule=\"evenodd\" fill-opacity=\"1\" stroke=\"#000000\" stroke-opacity=\"1\" stroke-width=\"3.2\"/>\n",
       "<circle clip-path=\"url(#clip2802)\" cx=\"1228.39\" cy=\"1072.63\" r=\"14\" fill=\"#e26f46\" fill-rule=\"evenodd\" fill-opacity=\"1\" stroke=\"#000000\" stroke-opacity=\"1\" stroke-width=\"3.2\"/>\n",
       "<circle clip-path=\"url(#clip2802)\" cx=\"1229.99\" cy=\"1068.25\" r=\"14\" fill=\"#e26f46\" fill-rule=\"evenodd\" fill-opacity=\"1\" stroke=\"#000000\" stroke-opacity=\"1\" stroke-width=\"3.2\"/>\n",
       "<circle clip-path=\"url(#clip2802)\" cx=\"1235.56\" cy=\"1063.53\" r=\"14\" fill=\"#e26f46\" fill-rule=\"evenodd\" fill-opacity=\"1\" stroke=\"#000000\" stroke-opacity=\"1\" stroke-width=\"3.2\"/>\n",
       "<circle clip-path=\"url(#clip2802)\" cx=\"1236.19\" cy=\"1060.12\" r=\"14\" fill=\"#e26f46\" fill-rule=\"evenodd\" fill-opacity=\"1\" stroke=\"#000000\" stroke-opacity=\"1\" stroke-width=\"3.2\"/>\n",
       "<circle clip-path=\"url(#clip2802)\" cx=\"1240.74\" cy=\"1056.03\" r=\"14\" fill=\"#e26f46\" fill-rule=\"evenodd\" fill-opacity=\"1\" stroke=\"#000000\" stroke-opacity=\"1\" stroke-width=\"3.2\"/>\n",
       "<circle clip-path=\"url(#clip2802)\" cx=\"1242.51\" cy=\"1051.92\" r=\"14\" fill=\"#e26f46\" fill-rule=\"evenodd\" fill-opacity=\"1\" stroke=\"#000000\" stroke-opacity=\"1\" stroke-width=\"3.2\"/>\n",
       "<circle clip-path=\"url(#clip2802)\" cx=\"1246.73\" cy=\"1049.21\" r=\"14\" fill=\"#e26f46\" fill-rule=\"evenodd\" fill-opacity=\"1\" stroke=\"#000000\" stroke-opacity=\"1\" stroke-width=\"3.2\"/>\n",
       "<circle clip-path=\"url(#clip2802)\" cx=\"1126.3\" cy=\"1142.44\" r=\"14\" fill=\"#e26f46\" fill-rule=\"evenodd\" fill-opacity=\"1\" stroke=\"#000000\" stroke-opacity=\"1\" stroke-width=\"3.2\"/>\n",
       "<circle clip-path=\"url(#clip2802)\" cx=\"1178.88\" cy=\"1090.86\" r=\"14\" fill=\"#e26f46\" fill-rule=\"evenodd\" fill-opacity=\"1\" stroke=\"#000000\" stroke-opacity=\"1\" stroke-width=\"3.2\"/>\n",
       "<circle clip-path=\"url(#clip2802)\" cx=\"1248.27\" cy=\"1046.18\" r=\"14\" fill=\"#e26f46\" fill-rule=\"evenodd\" fill-opacity=\"1\" stroke=\"#000000\" stroke-opacity=\"1\" stroke-width=\"3.2\"/>\n",
       "<circle clip-path=\"url(#clip2802)\" cx=\"1252.65\" cy=\"1042.36\" r=\"14\" fill=\"#e26f46\" fill-rule=\"evenodd\" fill-opacity=\"1\" stroke=\"#000000\" stroke-opacity=\"1\" stroke-width=\"3.2\"/>\n",
       "<circle clip-path=\"url(#clip2802)\" cx=\"1254.18\" cy=\"1038.79\" r=\"14\" fill=\"#e26f46\" fill-rule=\"evenodd\" fill-opacity=\"1\" stroke=\"#000000\" stroke-opacity=\"1\" stroke-width=\"3.2\"/>\n",
       "<circle clip-path=\"url(#clip2802)\" cx=\"1259.9\" cy=\"1035.59\" r=\"14\" fill=\"#e26f46\" fill-rule=\"evenodd\" fill-opacity=\"1\" stroke=\"#000000\" stroke-opacity=\"1\" stroke-width=\"3.2\"/>\n",
       "<circle clip-path=\"url(#clip2802)\" cx=\"1259.66\" cy=\"1032.61\" r=\"14\" fill=\"#e26f46\" fill-rule=\"evenodd\" fill-opacity=\"1\" stroke=\"#000000\" stroke-opacity=\"1\" stroke-width=\"3.2\"/>\n",
       "<circle clip-path=\"url(#clip2802)\" cx=\"1264.18\" cy=\"1029.83\" r=\"14\" fill=\"#e26f46\" fill-rule=\"evenodd\" fill-opacity=\"1\" stroke=\"#000000\" stroke-opacity=\"1\" stroke-width=\"3.2\"/>\n",
       "<circle clip-path=\"url(#clip2802)\" cx=\"1265.06\" cy=\"1027.11\" r=\"14\" fill=\"#e26f46\" fill-rule=\"evenodd\" fill-opacity=\"1\" stroke=\"#000000\" stroke-opacity=\"1\" stroke-width=\"3.2\"/>\n",
       "<circle clip-path=\"url(#clip2802)\" cx=\"1268.91\" cy=\"1024.03\" r=\"14\" fill=\"#e26f46\" fill-rule=\"evenodd\" fill-opacity=\"1\" stroke=\"#000000\" stroke-opacity=\"1\" stroke-width=\"3.2\"/>\n",
       "<circle clip-path=\"url(#clip2802)\" cx=\"1270.11\" cy=\"1021.95\" r=\"14\" fill=\"#e26f46\" fill-rule=\"evenodd\" fill-opacity=\"1\" stroke=\"#000000\" stroke-opacity=\"1\" stroke-width=\"3.2\"/>\n",
       "<circle clip-path=\"url(#clip2802)\" cx=\"1273.52\" cy=\"1019.61\" r=\"14\" fill=\"#e26f46\" fill-rule=\"evenodd\" fill-opacity=\"1\" stroke=\"#000000\" stroke-opacity=\"1\" stroke-width=\"3.2\"/>\n",
       "<circle clip-path=\"url(#clip2802)\" cx=\"1122.58\" cy=\"1145.66\" r=\"14\" fill=\"#e26f46\" fill-rule=\"evenodd\" fill-opacity=\"1\" stroke=\"#000000\" stroke-opacity=\"1\" stroke-width=\"3.2\"/>\n",
       "<circle clip-path=\"url(#clip2802)\" cx=\"1274.34\" cy=\"1017.54\" r=\"14\" fill=\"#e26f46\" fill-rule=\"evenodd\" fill-opacity=\"1\" stroke=\"#000000\" stroke-opacity=\"1\" stroke-width=\"3.2\"/>\n",
       "<circle clip-path=\"url(#clip2802)\" cx=\"1276.52\" cy=\"1016.67\" r=\"14\" fill=\"#e26f46\" fill-rule=\"evenodd\" fill-opacity=\"1\" stroke=\"#000000\" stroke-opacity=\"1\" stroke-width=\"3.2\"/>\n",
       "<circle clip-path=\"url(#clip2802)\" cx=\"1277.13\" cy=\"1015.13\" r=\"14\" fill=\"#e26f46\" fill-rule=\"evenodd\" fill-opacity=\"1\" stroke=\"#000000\" stroke-opacity=\"1\" stroke-width=\"3.2\"/>\n",
       "<circle clip-path=\"url(#clip2802)\" cx=\"1281.44\" cy=\"1012.01\" r=\"14\" fill=\"#e26f46\" fill-rule=\"evenodd\" fill-opacity=\"1\" stroke=\"#000000\" stroke-opacity=\"1\" stroke-width=\"3.2\"/>\n",
       "<circle clip-path=\"url(#clip2802)\" cx=\"1281.96\" cy=\"1009.45\" r=\"14\" fill=\"#e26f46\" fill-rule=\"evenodd\" fill-opacity=\"1\" stroke=\"#000000\" stroke-opacity=\"1\" stroke-width=\"3.2\"/>\n",
       "<circle clip-path=\"url(#clip2802)\" cx=\"1286.38\" cy=\"1006.32\" r=\"14\" fill=\"#e26f46\" fill-rule=\"evenodd\" fill-opacity=\"1\" stroke=\"#000000\" stroke-opacity=\"1\" stroke-width=\"3.2\"/>\n",
       "<circle clip-path=\"url(#clip2802)\" cx=\"1285.36\" cy=\"1004.88\" r=\"14\" fill=\"#e26f46\" fill-rule=\"evenodd\" fill-opacity=\"1\" stroke=\"#000000\" stroke-opacity=\"1\" stroke-width=\"3.2\"/>\n",
       "<circle clip-path=\"url(#clip2802)\" cx=\"1289.53\" cy=\"1001.51\" r=\"14\" fill=\"#e26f46\" fill-rule=\"evenodd\" fill-opacity=\"1\" stroke=\"#000000\" stroke-opacity=\"1\" stroke-width=\"3.2\"/>\n",
       "<circle clip-path=\"url(#clip2802)\" cx=\"1289.15\" cy=\"1000.39\" r=\"14\" fill=\"#e26f46\" fill-rule=\"evenodd\" fill-opacity=\"1\" stroke=\"#000000\" stroke-opacity=\"1\" stroke-width=\"3.2\"/>\n",
       "<circle clip-path=\"url(#clip2802)\" cx=\"1292.46\" cy=\"998.443\" r=\"14\" fill=\"#e26f46\" fill-rule=\"evenodd\" fill-opacity=\"1\" stroke=\"#000000\" stroke-opacity=\"1\" stroke-width=\"3.2\"/>\n",
       "<circle clip-path=\"url(#clip2802)\" cx=\"1121.01\" cy=\"1148.89\" r=\"14\" fill=\"#e26f46\" fill-rule=\"evenodd\" fill-opacity=\"1\" stroke=\"#000000\" stroke-opacity=\"1\" stroke-width=\"3.2\"/>\n",
       "<circle clip-path=\"url(#clip2802)\" cx=\"1293.63\" cy=\"995.387\" r=\"14\" fill=\"#e26f46\" fill-rule=\"evenodd\" fill-opacity=\"1\" stroke=\"#000000\" stroke-opacity=\"1\" stroke-width=\"3.2\"/>\n",
       "<circle clip-path=\"url(#clip2802)\" cx=\"1295.73\" cy=\"993.863\" r=\"14\" fill=\"#e26f46\" fill-rule=\"evenodd\" fill-opacity=\"1\" stroke=\"#000000\" stroke-opacity=\"1\" stroke-width=\"3.2\"/>\n",
       "<circle clip-path=\"url(#clip2802)\" cx=\"1295.82\" cy=\"991.397\" r=\"14\" fill=\"#e26f46\" fill-rule=\"evenodd\" fill-opacity=\"1\" stroke=\"#000000\" stroke-opacity=\"1\" stroke-width=\"3.2\"/>\n",
       "<circle clip-path=\"url(#clip2802)\" cx=\"1298.19\" cy=\"989.65\" r=\"14\" fill=\"#e26f46\" fill-rule=\"evenodd\" fill-opacity=\"1\" stroke=\"#000000\" stroke-opacity=\"1\" stroke-width=\"3.2\"/>\n",
       "<circle clip-path=\"url(#clip2802)\" cx=\"1298.18\" cy=\"986.02\" r=\"14\" fill=\"#e26f46\" fill-rule=\"evenodd\" fill-opacity=\"1\" stroke=\"#000000\" stroke-opacity=\"1\" stroke-width=\"3.2\"/>\n",
       "<circle clip-path=\"url(#clip2802)\" cx=\"1299.48\" cy=\"985.652\" r=\"14\" fill=\"#e26f46\" fill-rule=\"evenodd\" fill-opacity=\"1\" stroke=\"#000000\" stroke-opacity=\"1\" stroke-width=\"3.2\"/>\n",
       "<circle clip-path=\"url(#clip2802)\" cx=\"1298.21\" cy=\"983.705\" r=\"14\" fill=\"#e26f46\" fill-rule=\"evenodd\" fill-opacity=\"1\" stroke=\"#000000\" stroke-opacity=\"1\" stroke-width=\"3.2\"/>\n",
       "<circle clip-path=\"url(#clip2802)\" cx=\"1301.04\" cy=\"981.989\" r=\"14\" fill=\"#e26f46\" fill-rule=\"evenodd\" fill-opacity=\"1\" stroke=\"#000000\" stroke-opacity=\"1\" stroke-width=\"3.2\"/>\n",
       "<circle clip-path=\"url(#clip2802)\" cx=\"1297.47\" cy=\"981.093\" r=\"14\" fill=\"#e26f46\" fill-rule=\"evenodd\" fill-opacity=\"1\" stroke=\"#000000\" stroke-opacity=\"1\" stroke-width=\"3.2\"/>\n",
       "<circle clip-path=\"url(#clip2802)\" cx=\"1298.79\" cy=\"980.575\" r=\"14\" fill=\"#e26f46\" fill-rule=\"evenodd\" fill-opacity=\"1\" stroke=\"#000000\" stroke-opacity=\"1\" stroke-width=\"3.2\"/>\n",
       "<circle clip-path=\"url(#clip2802)\" cx=\"1116.38\" cy=\"1152.22\" r=\"14\" fill=\"#e26f46\" fill-rule=\"evenodd\" fill-opacity=\"1\" stroke=\"#000000\" stroke-opacity=\"1\" stroke-width=\"3.2\"/>\n",
       "<circle clip-path=\"url(#clip2802)\" cx=\"1297.17\" cy=\"979.466\" r=\"14\" fill=\"#e26f46\" fill-rule=\"evenodd\" fill-opacity=\"1\" stroke=\"#000000\" stroke-opacity=\"1\" stroke-width=\"3.2\"/>\n",
       "<circle clip-path=\"url(#clip2802)\" cx=\"1298.45\" cy=\"979.079\" r=\"14\" fill=\"#e26f46\" fill-rule=\"evenodd\" fill-opacity=\"1\" stroke=\"#000000\" stroke-opacity=\"1\" stroke-width=\"3.2\"/>\n",
       "<circle clip-path=\"url(#clip2802)\" cx=\"1297.34\" cy=\"977.803\" r=\"14\" fill=\"#e26f46\" fill-rule=\"evenodd\" fill-opacity=\"1\" stroke=\"#000000\" stroke-opacity=\"1\" stroke-width=\"3.2\"/>\n",
       "<circle clip-path=\"url(#clip2802)\" cx=\"1297.45\" cy=\"979.794\" r=\"14\" fill=\"#e26f46\" fill-rule=\"evenodd\" fill-opacity=\"1\" stroke=\"#000000\" stroke-opacity=\"1\" stroke-width=\"3.2\"/>\n",
       "<circle clip-path=\"url(#clip2802)\" cx=\"1295.79\" cy=\"979.38\" r=\"14\" fill=\"#e26f46\" fill-rule=\"evenodd\" fill-opacity=\"1\" stroke=\"#000000\" stroke-opacity=\"1\" stroke-width=\"3.2\"/>\n",
       "<circle clip-path=\"url(#clip2802)\" cx=\"1296.14\" cy=\"978.859\" r=\"14\" fill=\"#e26f46\" fill-rule=\"evenodd\" fill-opacity=\"1\" stroke=\"#000000\" stroke-opacity=\"1\" stroke-width=\"3.2\"/>\n",
       "<circle clip-path=\"url(#clip2802)\" cx=\"1296.66\" cy=\"976.83\" r=\"14\" fill=\"#e26f46\" fill-rule=\"evenodd\" fill-opacity=\"1\" stroke=\"#000000\" stroke-opacity=\"1\" stroke-width=\"3.2\"/>\n",
       "<circle clip-path=\"url(#clip2802)\" cx=\"1295.74\" cy=\"978.057\" r=\"14\" fill=\"#e26f46\" fill-rule=\"evenodd\" fill-opacity=\"1\" stroke=\"#000000\" stroke-opacity=\"1\" stroke-width=\"3.2\"/>\n",
       "<circle clip-path=\"url(#clip2802)\" cx=\"1294.61\" cy=\"977.936\" r=\"14\" fill=\"#e26f46\" fill-rule=\"evenodd\" fill-opacity=\"1\" stroke=\"#000000\" stroke-opacity=\"1\" stroke-width=\"3.2\"/>\n",
       "<circle clip-path=\"url(#clip2802)\" cx=\"1295.66\" cy=\"978.393\" r=\"14\" fill=\"#e26f46\" fill-rule=\"evenodd\" fill-opacity=\"1\" stroke=\"#000000\" stroke-opacity=\"1\" stroke-width=\"3.2\"/>\n",
       "<circle clip-path=\"url(#clip2802)\" cx=\"1115.19\" cy=\"1155.41\" r=\"14\" fill=\"#e26f46\" fill-rule=\"evenodd\" fill-opacity=\"1\" stroke=\"#000000\" stroke-opacity=\"1\" stroke-width=\"3.2\"/>\n",
       "<circle clip-path=\"url(#clip2802)\" cx=\"1291.38\" cy=\"980.248\" r=\"14\" fill=\"#e26f46\" fill-rule=\"evenodd\" fill-opacity=\"1\" stroke=\"#000000\" stroke-opacity=\"1\" stroke-width=\"3.2\"/>\n",
       "<circle clip-path=\"url(#clip2802)\" cx=\"1292.73\" cy=\"980.662\" r=\"14\" fill=\"#e26f46\" fill-rule=\"evenodd\" fill-opacity=\"1\" stroke=\"#000000\" stroke-opacity=\"1\" stroke-width=\"3.2\"/>\n",
       "<circle clip-path=\"url(#clip2802)\" cx=\"1290.43\" cy=\"981.993\" r=\"14\" fill=\"#e26f46\" fill-rule=\"evenodd\" fill-opacity=\"1\" stroke=\"#000000\" stroke-opacity=\"1\" stroke-width=\"3.2\"/>\n",
       "<circle clip-path=\"url(#clip2802)\" cx=\"1291.47\" cy=\"983.022\" r=\"14\" fill=\"#e26f46\" fill-rule=\"evenodd\" fill-opacity=\"1\" stroke=\"#000000\" stroke-opacity=\"1\" stroke-width=\"3.2\"/>\n",
       "<circle clip-path=\"url(#clip2802)\" cx=\"1289.19\" cy=\"984.34\" r=\"14\" fill=\"#e26f46\" fill-rule=\"evenodd\" fill-opacity=\"1\" stroke=\"#000000\" stroke-opacity=\"1\" stroke-width=\"3.2\"/>\n",
       "<circle clip-path=\"url(#clip2802)\" cx=\"1289.85\" cy=\"985.661\" r=\"14\" fill=\"#e26f46\" fill-rule=\"evenodd\" fill-opacity=\"1\" stroke=\"#000000\" stroke-opacity=\"1\" stroke-width=\"3.2\"/>\n",
       "<circle clip-path=\"url(#clip2802)\" cx=\"1288.25\" cy=\"986.152\" r=\"14\" fill=\"#e26f46\" fill-rule=\"evenodd\" fill-opacity=\"1\" stroke=\"#000000\" stroke-opacity=\"1\" stroke-width=\"3.2\"/>\n",
       "<circle clip-path=\"url(#clip2802)\" cx=\"1289.31\" cy=\"986.404\" r=\"14\" fill=\"#e26f46\" fill-rule=\"evenodd\" fill-opacity=\"1\" stroke=\"#000000\" stroke-opacity=\"1\" stroke-width=\"3.2\"/>\n",
       "<circle clip-path=\"url(#clip2802)\" cx=\"1287.26\" cy=\"987.329\" r=\"14\" fill=\"#e26f46\" fill-rule=\"evenodd\" fill-opacity=\"1\" stroke=\"#000000\" stroke-opacity=\"1\" stroke-width=\"3.2\"/>\n",
       "<circle clip-path=\"url(#clip2802)\" cx=\"1289.21\" cy=\"988.209\" r=\"14\" fill=\"#e26f46\" fill-rule=\"evenodd\" fill-opacity=\"1\" stroke=\"#000000\" stroke-opacity=\"1\" stroke-width=\"3.2\"/>\n",
       "<circle clip-path=\"url(#clip2802)\" cx=\"1110.23\" cy=\"1158.71\" r=\"14\" fill=\"#e26f46\" fill-rule=\"evenodd\" fill-opacity=\"1\" stroke=\"#000000\" stroke-opacity=\"1\" stroke-width=\"3.2\"/>\n",
       "<circle clip-path=\"url(#clip2802)\" cx=\"1287.45\" cy=\"988.771\" r=\"14\" fill=\"#e26f46\" fill-rule=\"evenodd\" fill-opacity=\"1\" stroke=\"#000000\" stroke-opacity=\"1\" stroke-width=\"3.2\"/>\n",
       "<circle clip-path=\"url(#clip2802)\" cx=\"1290.25\" cy=\"988.987\" r=\"14\" fill=\"#e26f46\" fill-rule=\"evenodd\" fill-opacity=\"1\" stroke=\"#000000\" stroke-opacity=\"1\" stroke-width=\"3.2\"/>\n",
       "<circle clip-path=\"url(#clip2802)\" cx=\"1287.17\" cy=\"990.59\" r=\"14\" fill=\"#e26f46\" fill-rule=\"evenodd\" fill-opacity=\"1\" stroke=\"#000000\" stroke-opacity=\"1\" stroke-width=\"3.2\"/>\n",
       "<circle clip-path=\"url(#clip2802)\" cx=\"1287.15\" cy=\"992.141\" r=\"14\" fill=\"#e26f46\" fill-rule=\"evenodd\" fill-opacity=\"1\" stroke=\"#000000\" stroke-opacity=\"1\" stroke-width=\"3.2\"/>\n",
       "<circle clip-path=\"url(#clip2802)\" cx=\"1285.17\" cy=\"993.8\" r=\"14\" fill=\"#e26f46\" fill-rule=\"evenodd\" fill-opacity=\"1\" stroke=\"#000000\" stroke-opacity=\"1\" stroke-width=\"3.2\"/>\n",
       "<circle clip-path=\"url(#clip2802)\" cx=\"1280.58\" cy=\"999.011\" r=\"14\" fill=\"#e26f46\" fill-rule=\"evenodd\" fill-opacity=\"1\" stroke=\"#000000\" stroke-opacity=\"1\" stroke-width=\"3.2\"/>\n",
       "<circle clip-path=\"url(#clip2802)\" cx=\"1280.58\" cy=\"1001.42\" r=\"14\" fill=\"#e26f46\" fill-rule=\"evenodd\" fill-opacity=\"1\" stroke=\"#000000\" stroke-opacity=\"1\" stroke-width=\"3.2\"/>\n",
       "<circle clip-path=\"url(#clip2802)\" cx=\"1278.74\" cy=\"1003.66\" r=\"14\" fill=\"#e26f46\" fill-rule=\"evenodd\" fill-opacity=\"1\" stroke=\"#000000\" stroke-opacity=\"1\" stroke-width=\"3.2\"/>\n",
       "<circle clip-path=\"url(#clip2802)\" cx=\"1279.68\" cy=\"1005.5\" r=\"14\" fill=\"#e26f46\" fill-rule=\"evenodd\" fill-opacity=\"1\" stroke=\"#000000\" stroke-opacity=\"1\" stroke-width=\"3.2\"/>\n",
       "<circle clip-path=\"url(#clip2802)\" cx=\"1276.29\" cy=\"1006.89\" r=\"14\" fill=\"#e26f46\" fill-rule=\"evenodd\" fill-opacity=\"1\" stroke=\"#000000\" stroke-opacity=\"1\" stroke-width=\"3.2\"/>\n",
       "<circle clip-path=\"url(#clip2802)\" cx=\"1108.11\" cy=\"1162.46\" r=\"14\" fill=\"#e26f46\" fill-rule=\"evenodd\" fill-opacity=\"1\" stroke=\"#000000\" stroke-opacity=\"1\" stroke-width=\"3.2\"/>\n",
       "<circle clip-path=\"url(#clip2802)\" cx=\"1276.91\" cy=\"1009.38\" r=\"14\" fill=\"#e26f46\" fill-rule=\"evenodd\" fill-opacity=\"1\" stroke=\"#000000\" stroke-opacity=\"1\" stroke-width=\"3.2\"/>\n",
       "<circle clip-path=\"url(#clip2802)\" cx=\"1273.97\" cy=\"1011.02\" r=\"14\" fill=\"#e26f46\" fill-rule=\"evenodd\" fill-opacity=\"1\" stroke=\"#000000\" stroke-opacity=\"1\" stroke-width=\"3.2\"/>\n",
       "<circle clip-path=\"url(#clip2802)\" cx=\"1275.74\" cy=\"1012.89\" r=\"14\" fill=\"#e26f46\" fill-rule=\"evenodd\" fill-opacity=\"1\" stroke=\"#000000\" stroke-opacity=\"1\" stroke-width=\"3.2\"/>\n",
       "<circle clip-path=\"url(#clip2802)\" cx=\"1271.82\" cy=\"1015.12\" r=\"14\" fill=\"#e26f46\" fill-rule=\"evenodd\" fill-opacity=\"1\" stroke=\"#000000\" stroke-opacity=\"1\" stroke-width=\"3.2\"/>\n",
       "<circle clip-path=\"url(#clip2802)\" cx=\"1272.37\" cy=\"1016.91\" r=\"14\" fill=\"#e26f46\" fill-rule=\"evenodd\" fill-opacity=\"1\" stroke=\"#000000\" stroke-opacity=\"1\" stroke-width=\"3.2\"/>\n",
       "<circle clip-path=\"url(#clip2802)\" cx=\"1270.18\" cy=\"1016.88\" r=\"14\" fill=\"#e26f46\" fill-rule=\"evenodd\" fill-opacity=\"1\" stroke=\"#000000\" stroke-opacity=\"1\" stroke-width=\"3.2\"/>\n",
       "<circle clip-path=\"url(#clip2802)\" cx=\"1271.03\" cy=\"1019.11\" r=\"14\" fill=\"#e26f46\" fill-rule=\"evenodd\" fill-opacity=\"1\" stroke=\"#000000\" stroke-opacity=\"1\" stroke-width=\"3.2\"/>\n",
       "<circle clip-path=\"url(#clip2802)\" cx=\"1268.32\" cy=\"1020.92\" r=\"14\" fill=\"#e26f46\" fill-rule=\"evenodd\" fill-opacity=\"1\" stroke=\"#000000\" stroke-opacity=\"1\" stroke-width=\"3.2\"/>\n",
       "<circle clip-path=\"url(#clip2802)\" cx=\"1268.73\" cy=\"1022.05\" r=\"14\" fill=\"#e26f46\" fill-rule=\"evenodd\" fill-opacity=\"1\" stroke=\"#000000\" stroke-opacity=\"1\" stroke-width=\"3.2\"/>\n",
       "<circle clip-path=\"url(#clip2802)\" cx=\"1267.3\" cy=\"1022\" r=\"14\" fill=\"#e26f46\" fill-rule=\"evenodd\" fill-opacity=\"1\" stroke=\"#000000\" stroke-opacity=\"1\" stroke-width=\"3.2\"/>\n",
       "<circle clip-path=\"url(#clip2802)\" cx=\"1103.39\" cy=\"1165.16\" r=\"14\" fill=\"#e26f46\" fill-rule=\"evenodd\" fill-opacity=\"1\" stroke=\"#000000\" stroke-opacity=\"1\" stroke-width=\"3.2\"/>\n",
       "<circle clip-path=\"url(#clip2802)\" cx=\"1267.21\" cy=\"1023.35\" r=\"14\" fill=\"#e26f46\" fill-rule=\"evenodd\" fill-opacity=\"1\" stroke=\"#000000\" stroke-opacity=\"1\" stroke-width=\"3.2\"/>\n",
       "<circle clip-path=\"url(#clip2802)\" cx=\"1265.15\" cy=\"1024.27\" r=\"14\" fill=\"#e26f46\" fill-rule=\"evenodd\" fill-opacity=\"1\" stroke=\"#000000\" stroke-opacity=\"1\" stroke-width=\"3.2\"/>\n",
       "<circle clip-path=\"url(#clip2802)\" cx=\"1266.89\" cy=\"1022.77\" r=\"14\" fill=\"#e26f46\" fill-rule=\"evenodd\" fill-opacity=\"1\" stroke=\"#000000\" stroke-opacity=\"1\" stroke-width=\"3.2\"/>\n",
       "<circle clip-path=\"url(#clip2802)\" cx=\"1265.22\" cy=\"1023.26\" r=\"14\" fill=\"#e26f46\" fill-rule=\"evenodd\" fill-opacity=\"1\" stroke=\"#000000\" stroke-opacity=\"1\" stroke-width=\"3.2\"/>\n",
       "<circle clip-path=\"url(#clip2802)\" cx=\"1267.74\" cy=\"1022.97\" r=\"14\" fill=\"#e26f46\" fill-rule=\"evenodd\" fill-opacity=\"1\" stroke=\"#000000\" stroke-opacity=\"1\" stroke-width=\"3.2\"/>\n",
       "<circle clip-path=\"url(#clip2802)\" cx=\"1263.79\" cy=\"1023.71\" r=\"14\" fill=\"#e26f46\" fill-rule=\"evenodd\" fill-opacity=\"1\" stroke=\"#000000\" stroke-opacity=\"1\" stroke-width=\"3.2\"/>\n",
       "<circle clip-path=\"url(#clip2802)\" cx=\"1264.14\" cy=\"1023.97\" r=\"14\" fill=\"#e26f46\" fill-rule=\"evenodd\" fill-opacity=\"1\" stroke=\"#000000\" stroke-opacity=\"1\" stroke-width=\"3.2\"/>\n",
       "<circle clip-path=\"url(#clip2802)\" cx=\"1262.61\" cy=\"1024.41\" r=\"14\" fill=\"#e26f46\" fill-rule=\"evenodd\" fill-opacity=\"1\" stroke=\"#000000\" stroke-opacity=\"1\" stroke-width=\"3.2\"/>\n",
       "<circle clip-path=\"url(#clip2802)\" cx=\"1262.65\" cy=\"1025.43\" r=\"14\" fill=\"#e26f46\" fill-rule=\"evenodd\" fill-opacity=\"1\" stroke=\"#000000\" stroke-opacity=\"1\" stroke-width=\"3.2\"/>\n",
       "<circle clip-path=\"url(#clip2802)\" cx=\"1260.85\" cy=\"1025.26\" r=\"14\" fill=\"#e26f46\" fill-rule=\"evenodd\" fill-opacity=\"1\" stroke=\"#000000\" stroke-opacity=\"1\" stroke-width=\"3.2\"/>\n",
       "<circle clip-path=\"url(#clip2802)\" cx=\"1101.83\" cy=\"1168.78\" r=\"14\" fill=\"#e26f46\" fill-rule=\"evenodd\" fill-opacity=\"1\" stroke=\"#000000\" stroke-opacity=\"1\" stroke-width=\"3.2\"/>\n",
       "<circle clip-path=\"url(#clip2802)\" cx=\"1261.94\" cy=\"1026.3\" r=\"14\" fill=\"#e26f46\" fill-rule=\"evenodd\" fill-opacity=\"1\" stroke=\"#000000\" stroke-opacity=\"1\" stroke-width=\"3.2\"/>\n",
       "<circle clip-path=\"url(#clip2802)\" cx=\"1259.69\" cy=\"1025.88\" r=\"14\" fill=\"#e26f46\" fill-rule=\"evenodd\" fill-opacity=\"1\" stroke=\"#000000\" stroke-opacity=\"1\" stroke-width=\"3.2\"/>\n",
       "<circle clip-path=\"url(#clip2802)\" cx=\"1260.68\" cy=\"1026.33\" r=\"14\" fill=\"#e26f46\" fill-rule=\"evenodd\" fill-opacity=\"1\" stroke=\"#000000\" stroke-opacity=\"1\" stroke-width=\"3.2\"/>\n",
       "<circle clip-path=\"url(#clip2802)\" cx=\"1258.28\" cy=\"1026.06\" r=\"14\" fill=\"#e26f46\" fill-rule=\"evenodd\" fill-opacity=\"1\" stroke=\"#000000\" stroke-opacity=\"1\" stroke-width=\"3.2\"/>\n",
       "<circle clip-path=\"url(#clip2802)\" cx=\"1258.1\" cy=\"1027.15\" r=\"14\" fill=\"#e26f46\" fill-rule=\"evenodd\" fill-opacity=\"1\" stroke=\"#000000\" stroke-opacity=\"1\" stroke-width=\"3.2\"/>\n",
       "<circle clip-path=\"url(#clip2802)\" cx=\"1254.94\" cy=\"1028.88\" r=\"14\" fill=\"#e26f46\" fill-rule=\"evenodd\" fill-opacity=\"1\" stroke=\"#000000\" stroke-opacity=\"1\" stroke-width=\"3.2\"/>\n",
       "<circle clip-path=\"url(#clip2802)\" cx=\"1256.46\" cy=\"1028.64\" r=\"14\" fill=\"#e26f46\" fill-rule=\"evenodd\" fill-opacity=\"1\" stroke=\"#000000\" stroke-opacity=\"1\" stroke-width=\"3.2\"/>\n",
       "<circle clip-path=\"url(#clip2802)\" cx=\"1252.91\" cy=\"1029.39\" r=\"14\" fill=\"#e26f46\" fill-rule=\"evenodd\" fill-opacity=\"1\" stroke=\"#000000\" stroke-opacity=\"1\" stroke-width=\"3.2\"/>\n",
       "<circle clip-path=\"url(#clip2802)\" cx=\"1253.64\" cy=\"1029.82\" r=\"14\" fill=\"#e26f46\" fill-rule=\"evenodd\" fill-opacity=\"1\" stroke=\"#000000\" stroke-opacity=\"1\" stroke-width=\"3.2\"/>\n",
       "<circle clip-path=\"url(#clip2802)\" cx=\"1249.16\" cy=\"1031.21\" r=\"14\" fill=\"#e26f46\" fill-rule=\"evenodd\" fill-opacity=\"1\" stroke=\"#000000\" stroke-opacity=\"1\" stroke-width=\"3.2\"/>\n",
       "<circle clip-path=\"url(#clip2802)\" cx=\"1096.55\" cy=\"1172.72\" r=\"14\" fill=\"#e26f46\" fill-rule=\"evenodd\" fill-opacity=\"1\" stroke=\"#000000\" stroke-opacity=\"1\" stroke-width=\"3.2\"/>\n",
       "<circle clip-path=\"url(#clip2802)\" cx=\"1250.61\" cy=\"1031.13\" r=\"14\" fill=\"#e26f46\" fill-rule=\"evenodd\" fill-opacity=\"1\" stroke=\"#000000\" stroke-opacity=\"1\" stroke-width=\"3.2\"/>\n",
       "<circle clip-path=\"url(#clip2802)\" cx=\"1247.16\" cy=\"1031.73\" r=\"14\" fill=\"#e26f46\" fill-rule=\"evenodd\" fill-opacity=\"1\" stroke=\"#000000\" stroke-opacity=\"1\" stroke-width=\"3.2\"/>\n",
       "<circle clip-path=\"url(#clip2802)\" cx=\"1246.77\" cy=\"1032.51\" r=\"14\" fill=\"#e26f46\" fill-rule=\"evenodd\" fill-opacity=\"1\" stroke=\"#000000\" stroke-opacity=\"1\" stroke-width=\"3.2\"/>\n",
       "<circle clip-path=\"url(#clip2802)\" cx=\"1243.77\" cy=\"1033.26\" r=\"14\" fill=\"#e26f46\" fill-rule=\"evenodd\" fill-opacity=\"1\" stroke=\"#000000\" stroke-opacity=\"1\" stroke-width=\"3.2\"/>\n",
       "<circle clip-path=\"url(#clip2802)\" cx=\"1243.19\" cy=\"1034.29\" r=\"14\" fill=\"#e26f46\" fill-rule=\"evenodd\" fill-opacity=\"1\" stroke=\"#000000\" stroke-opacity=\"1\" stroke-width=\"3.2\"/>\n",
       "<circle clip-path=\"url(#clip2802)\" cx=\"1240.45\" cy=\"1035.29\" r=\"14\" fill=\"#e26f46\" fill-rule=\"evenodd\" fill-opacity=\"1\" stroke=\"#000000\" stroke-opacity=\"1\" stroke-width=\"3.2\"/>\n",
       "<circle clip-path=\"url(#clip2802)\" cx=\"1240.21\" cy=\"1036.44\" r=\"14\" fill=\"#e26f46\" fill-rule=\"evenodd\" fill-opacity=\"1\" stroke=\"#000000\" stroke-opacity=\"1\" stroke-width=\"3.2\"/>\n",
       "<circle clip-path=\"url(#clip2802)\" cx=\"1236.66\" cy=\"1038.58\" r=\"14\" fill=\"#e26f46\" fill-rule=\"evenodd\" fill-opacity=\"1\" stroke=\"#000000\" stroke-opacity=\"1\" stroke-width=\"3.2\"/>\n",
       "<circle clip-path=\"url(#clip2802)\" cx=\"1238.14\" cy=\"1037.45\" r=\"14\" fill=\"#e26f46\" fill-rule=\"evenodd\" fill-opacity=\"1\" stroke=\"#000000\" stroke-opacity=\"1\" stroke-width=\"3.2\"/>\n",
       "<circle clip-path=\"url(#clip2802)\" cx=\"1233.59\" cy=\"1038.42\" r=\"14\" fill=\"#e26f46\" fill-rule=\"evenodd\" fill-opacity=\"1\" stroke=\"#000000\" stroke-opacity=\"1\" stroke-width=\"3.2\"/>\n",
       "<circle clip-path=\"url(#clip2802)\" cx=\"1094.69\" cy=\"1176.65\" r=\"14\" fill=\"#e26f46\" fill-rule=\"evenodd\" fill-opacity=\"1\" stroke=\"#000000\" stroke-opacity=\"1\" stroke-width=\"3.2\"/>\n",
       "<circle clip-path=\"url(#clip2802)\" cx=\"1175.03\" cy=\"1093.52\" r=\"14\" fill=\"#e26f46\" fill-rule=\"evenodd\" fill-opacity=\"1\" stroke=\"#000000\" stroke-opacity=\"1\" stroke-width=\"3.2\"/>\n",
       "<circle clip-path=\"url(#clip2802)\" cx=\"1233.46\" cy=\"1039.5\" r=\"14\" fill=\"#e26f46\" fill-rule=\"evenodd\" fill-opacity=\"1\" stroke=\"#000000\" stroke-opacity=\"1\" stroke-width=\"3.2\"/>\n",
       "<circle clip-path=\"url(#clip2802)\" cx=\"1229.72\" cy=\"1041.69\" r=\"14\" fill=\"#e26f46\" fill-rule=\"evenodd\" fill-opacity=\"1\" stroke=\"#000000\" stroke-opacity=\"1\" stroke-width=\"3.2\"/>\n",
       "<circle clip-path=\"url(#clip2802)\" cx=\"1221.75\" cy=\"1048.04\" r=\"14\" fill=\"#e26f46\" fill-rule=\"evenodd\" fill-opacity=\"1\" stroke=\"#000000\" stroke-opacity=\"1\" stroke-width=\"3.2\"/>\n",
       "<circle clip-path=\"url(#clip2802)\" cx=\"1222.38\" cy=\"1047.37\" r=\"14\" fill=\"#e26f46\" fill-rule=\"evenodd\" fill-opacity=\"1\" stroke=\"#000000\" stroke-opacity=\"1\" stroke-width=\"3.2\"/>\n",
       "<circle clip-path=\"url(#clip2802)\" cx=\"1218.86\" cy=\"1049.67\" r=\"14\" fill=\"#e26f46\" fill-rule=\"evenodd\" fill-opacity=\"1\" stroke=\"#000000\" stroke-opacity=\"1\" stroke-width=\"3.2\"/>\n",
       "<circle clip-path=\"url(#clip2802)\" cx=\"1217.45\" cy=\"1052.35\" r=\"14\" fill=\"#e26f46\" fill-rule=\"evenodd\" fill-opacity=\"1\" stroke=\"#000000\" stroke-opacity=\"1\" stroke-width=\"3.2\"/>\n",
       "<circle clip-path=\"url(#clip2802)\" cx=\"1213.57\" cy=\"1055.15\" r=\"14\" fill=\"#e26f46\" fill-rule=\"evenodd\" fill-opacity=\"1\" stroke=\"#000000\" stroke-opacity=\"1\" stroke-width=\"3.2\"/>\n",
       "<circle clip-path=\"url(#clip2802)\" cx=\"1211.81\" cy=\"1057.78\" r=\"14\" fill=\"#e26f46\" fill-rule=\"evenodd\" fill-opacity=\"1\" stroke=\"#000000\" stroke-opacity=\"1\" stroke-width=\"3.2\"/>\n",
       "<circle clip-path=\"url(#clip2802)\" cx=\"1207.1\" cy=\"1060.85\" r=\"14\" fill=\"#e26f46\" fill-rule=\"evenodd\" fill-opacity=\"1\" stroke=\"#000000\" stroke-opacity=\"1\" stroke-width=\"3.2\"/>\n",
       "<circle clip-path=\"url(#clip2802)\" cx=\"1206.63\" cy=\"1063.5\" r=\"14\" fill=\"#e26f46\" fill-rule=\"evenodd\" fill-opacity=\"1\" stroke=\"#000000\" stroke-opacity=\"1\" stroke-width=\"3.2\"/>\n",
       "<circle clip-path=\"url(#clip2802)\" cx=\"1090.74\" cy=\"1180.81\" r=\"14\" fill=\"#e26f46\" fill-rule=\"evenodd\" fill-opacity=\"1\" stroke=\"#000000\" stroke-opacity=\"1\" stroke-width=\"3.2\"/>\n",
       "<circle clip-path=\"url(#clip2802)\" cx=\"1201.26\" cy=\"1066.97\" r=\"14\" fill=\"#e26f46\" fill-rule=\"evenodd\" fill-opacity=\"1\" stroke=\"#000000\" stroke-opacity=\"1\" stroke-width=\"3.2\"/>\n",
       "<circle clip-path=\"url(#clip2802)\" cx=\"1199.84\" cy=\"1069.08\" r=\"14\" fill=\"#e26f46\" fill-rule=\"evenodd\" fill-opacity=\"1\" stroke=\"#000000\" stroke-opacity=\"1\" stroke-width=\"3.2\"/>\n",
       "<circle clip-path=\"url(#clip2802)\" cx=\"1195.32\" cy=\"1072.29\" r=\"14\" fill=\"#e26f46\" fill-rule=\"evenodd\" fill-opacity=\"1\" stroke=\"#000000\" stroke-opacity=\"1\" stroke-width=\"3.2\"/>\n",
       "<circle clip-path=\"url(#clip2802)\" cx=\"1193.65\" cy=\"1076.14\" r=\"14\" fill=\"#e26f46\" fill-rule=\"evenodd\" fill-opacity=\"1\" stroke=\"#000000\" stroke-opacity=\"1\" stroke-width=\"3.2\"/>\n",
       "<circle clip-path=\"url(#clip2802)\" cx=\"1190.21\" cy=\"1078.71\" r=\"14\" fill=\"#e26f46\" fill-rule=\"evenodd\" fill-opacity=\"1\" stroke=\"#000000\" stroke-opacity=\"1\" stroke-width=\"3.2\"/>\n",
       "<circle clip-path=\"url(#clip2802)\" cx=\"1188.89\" cy=\"1082.19\" r=\"14\" fill=\"#e26f46\" fill-rule=\"evenodd\" fill-opacity=\"1\" stroke=\"#000000\" stroke-opacity=\"1\" stroke-width=\"3.2\"/>\n",
       "<circle clip-path=\"url(#clip2802)\" cx=\"1185.21\" cy=\"1084.66\" r=\"14\" fill=\"#e26f46\" fill-rule=\"evenodd\" fill-opacity=\"1\" stroke=\"#000000\" stroke-opacity=\"1\" stroke-width=\"3.2\"/>\n",
       "<circle clip-path=\"url(#clip2802)\" cx=\"1184.28\" cy=\"1087.75\" r=\"14\" fill=\"#e26f46\" fill-rule=\"evenodd\" fill-opacity=\"1\" stroke=\"#000000\" stroke-opacity=\"1\" stroke-width=\"3.2\"/>\n",
       "<circle clip-path=\"url(#clip2802)\" cx=\"1179.13\" cy=\"1091.14\" r=\"14\" fill=\"#e26f46\" fill-rule=\"evenodd\" fill-opacity=\"1\" stroke=\"#000000\" stroke-opacity=\"1\" stroke-width=\"3.2\"/>\n",
       "<circle clip-path=\"url(#clip2802)\" cx=\"1177.79\" cy=\"1093.42\" r=\"14\" fill=\"#e26f46\" fill-rule=\"evenodd\" fill-opacity=\"1\" stroke=\"#000000\" stroke-opacity=\"1\" stroke-width=\"3.2\"/>\n",
       "<circle clip-path=\"url(#clip2802)\" cx=\"1089.05\" cy=\"1183.89\" r=\"14\" fill=\"#e26f46\" fill-rule=\"evenodd\" fill-opacity=\"1\" stroke=\"#000000\" stroke-opacity=\"1\" stroke-width=\"3.2\"/>\n",
       "<circle clip-path=\"url(#clip2802)\" cx=\"1173.16\" cy=\"1096.31\" r=\"14\" fill=\"#e26f46\" fill-rule=\"evenodd\" fill-opacity=\"1\" stroke=\"#000000\" stroke-opacity=\"1\" stroke-width=\"3.2\"/>\n",
       "<circle clip-path=\"url(#clip2802)\" cx=\"1111.1\" cy=\"1200.9\" r=\"14\" fill=\"#e26f46\" fill-rule=\"evenodd\" fill-opacity=\"1\" stroke=\"#000000\" stroke-opacity=\"1\" stroke-width=\"3.2\"/>\n",
       "<circle clip-path=\"url(#clip2802)\" cx=\"1167.74\" cy=\"1025.68\" r=\"14\" fill=\"#e26f46\" fill-rule=\"evenodd\" fill-opacity=\"1\" stroke=\"#000000\" stroke-opacity=\"1\" stroke-width=\"3.2\"/>\n",
       "<circle clip-path=\"url(#clip2802)\" cx=\"1167.66\" cy=\"1027.88\" r=\"14\" fill=\"#e26f46\" fill-rule=\"evenodd\" fill-opacity=\"1\" stroke=\"#000000\" stroke-opacity=\"1\" stroke-width=\"3.2\"/>\n",
       "<circle clip-path=\"url(#clip2802)\" cx=\"1165.61\" cy=\"1029.66\" r=\"14\" fill=\"#e26f46\" fill-rule=\"evenodd\" fill-opacity=\"1\" stroke=\"#000000\" stroke-opacity=\"1\" stroke-width=\"3.2\"/>\n",
       "<circle clip-path=\"url(#clip2802)\" cx=\"1166.68\" cy=\"1031.4\" r=\"14\" fill=\"#e26f46\" fill-rule=\"evenodd\" fill-opacity=\"1\" stroke=\"#000000\" stroke-opacity=\"1\" stroke-width=\"3.2\"/>\n",
       "<circle clip-path=\"url(#clip2802)\" cx=\"1164.86\" cy=\"1033.41\" r=\"14\" fill=\"#e26f46\" fill-rule=\"evenodd\" fill-opacity=\"1\" stroke=\"#000000\" stroke-opacity=\"1\" stroke-width=\"3.2\"/>\n",
       "<circle clip-path=\"url(#clip2802)\" cx=\"1165.5\" cy=\"1035.33\" r=\"14\" fill=\"#e26f46\" fill-rule=\"evenodd\" fill-opacity=\"1\" stroke=\"#000000\" stroke-opacity=\"1\" stroke-width=\"3.2\"/>\n",
       "<circle clip-path=\"url(#clip2802)\" cx=\"1164.8\" cy=\"1036.81\" r=\"14\" fill=\"#e26f46\" fill-rule=\"evenodd\" fill-opacity=\"1\" stroke=\"#000000\" stroke-opacity=\"1\" stroke-width=\"3.2\"/>\n",
       "<circle clip-path=\"url(#clip2802)\" cx=\"1167.72\" cy=\"1038.08\" r=\"14\" fill=\"#e26f46\" fill-rule=\"evenodd\" fill-opacity=\"1\" stroke=\"#000000\" stroke-opacity=\"1\" stroke-width=\"3.2\"/>\n",
       "<circle clip-path=\"url(#clip2802)\" cx=\"1164.79\" cy=\"1040.1\" r=\"14\" fill=\"#e26f46\" fill-rule=\"evenodd\" fill-opacity=\"1\" stroke=\"#000000\" stroke-opacity=\"1\" stroke-width=\"3.2\"/>\n",
       "<circle clip-path=\"url(#clip2802)\" cx=\"1167.06\" cy=\"1041.66\" r=\"14\" fill=\"#e26f46\" fill-rule=\"evenodd\" fill-opacity=\"1\" stroke=\"#000000\" stroke-opacity=\"1\" stroke-width=\"3.2\"/>\n",
       "<circle clip-path=\"url(#clip2802)\" cx=\"1142.42\" cy=\"1183.27\" r=\"14\" fill=\"#e26f46\" fill-rule=\"evenodd\" fill-opacity=\"1\" stroke=\"#000000\" stroke-opacity=\"1\" stroke-width=\"3.2\"/>\n",
       "<circle clip-path=\"url(#clip2802)\" cx=\"1167.42\" cy=\"1042.61\" r=\"14\" fill=\"#e26f46\" fill-rule=\"evenodd\" fill-opacity=\"1\" stroke=\"#000000\" stroke-opacity=\"1\" stroke-width=\"3.2\"/>\n",
       "<circle clip-path=\"url(#clip2802)\" cx=\"1169.04\" cy=\"1043.85\" r=\"14\" fill=\"#e26f46\" fill-rule=\"evenodd\" fill-opacity=\"1\" stroke=\"#000000\" stroke-opacity=\"1\" stroke-width=\"3.2\"/>\n",
       "<circle clip-path=\"url(#clip2802)\" cx=\"1168.66\" cy=\"1045.6\" r=\"14\" fill=\"#e26f46\" fill-rule=\"evenodd\" fill-opacity=\"1\" stroke=\"#000000\" stroke-opacity=\"1\" stroke-width=\"3.2\"/>\n",
       "<circle clip-path=\"url(#clip2802)\" cx=\"1170.78\" cy=\"1048.01\" r=\"14\" fill=\"#e26f46\" fill-rule=\"evenodd\" fill-opacity=\"1\" stroke=\"#000000\" stroke-opacity=\"1\" stroke-width=\"3.2\"/>\n",
       "<circle clip-path=\"url(#clip2802)\" cx=\"1171.69\" cy=\"1048.41\" r=\"14\" fill=\"#e26f46\" fill-rule=\"evenodd\" fill-opacity=\"1\" stroke=\"#000000\" stroke-opacity=\"1\" stroke-width=\"3.2\"/>\n",
       "<circle clip-path=\"url(#clip2802)\" cx=\"1175.41\" cy=\"1050.79\" r=\"14\" fill=\"#e26f46\" fill-rule=\"evenodd\" fill-opacity=\"1\" stroke=\"#000000\" stroke-opacity=\"1\" stroke-width=\"3.2\"/>\n",
       "<circle clip-path=\"url(#clip2802)\" cx=\"1178.63\" cy=\"1051.62\" r=\"14\" fill=\"#e26f46\" fill-rule=\"evenodd\" fill-opacity=\"1\" stroke=\"#000000\" stroke-opacity=\"1\" stroke-width=\"3.2\"/>\n",
       "<circle clip-path=\"url(#clip2802)\" cx=\"1179.16\" cy=\"1052.78\" r=\"14\" fill=\"#e26f46\" fill-rule=\"evenodd\" fill-opacity=\"1\" stroke=\"#000000\" stroke-opacity=\"1\" stroke-width=\"3.2\"/>\n",
       "<circle clip-path=\"url(#clip2802)\" cx=\"1184.51\" cy=\"1053.42\" r=\"14\" fill=\"#e26f46\" fill-rule=\"evenodd\" fill-opacity=\"1\" stroke=\"#000000\" stroke-opacity=\"1\" stroke-width=\"3.2\"/>\n",
       "<circle clip-path=\"url(#clip2802)\" cx=\"1183.45\" cy=\"1054.28\" r=\"14\" fill=\"#e26f46\" fill-rule=\"evenodd\" fill-opacity=\"1\" stroke=\"#000000\" stroke-opacity=\"1\" stroke-width=\"3.2\"/>\n",
       "<circle clip-path=\"url(#clip2802)\" cx=\"1147.48\" cy=\"1182.81\" r=\"14\" fill=\"#e26f46\" fill-rule=\"evenodd\" fill-opacity=\"1\" stroke=\"#000000\" stroke-opacity=\"1\" stroke-width=\"3.2\"/>\n",
       "<circle clip-path=\"url(#clip2802)\" cx=\"1186.94\" cy=\"1054.95\" r=\"14\" fill=\"#e26f46\" fill-rule=\"evenodd\" fill-opacity=\"1\" stroke=\"#000000\" stroke-opacity=\"1\" stroke-width=\"3.2\"/>\n",
       "<circle clip-path=\"url(#clip2802)\" cx=\"1188.18\" cy=\"1054.79\" r=\"14\" fill=\"#e26f46\" fill-rule=\"evenodd\" fill-opacity=\"1\" stroke=\"#000000\" stroke-opacity=\"1\" stroke-width=\"3.2\"/>\n",
       "<circle clip-path=\"url(#clip2802)\" cx=\"1191.1\" cy=\"1056.17\" r=\"14\" fill=\"#e26f46\" fill-rule=\"evenodd\" fill-opacity=\"1\" stroke=\"#000000\" stroke-opacity=\"1\" stroke-width=\"3.2\"/>\n",
       "<circle clip-path=\"url(#clip2802)\" cx=\"1191.62\" cy=\"1057.18\" r=\"14\" fill=\"#e26f46\" fill-rule=\"evenodd\" fill-opacity=\"1\" stroke=\"#000000\" stroke-opacity=\"1\" stroke-width=\"3.2\"/>\n",
       "<circle clip-path=\"url(#clip2802)\" cx=\"1195.5\" cy=\"1057.5\" r=\"14\" fill=\"#e26f46\" fill-rule=\"evenodd\" fill-opacity=\"1\" stroke=\"#000000\" stroke-opacity=\"1\" stroke-width=\"3.2\"/>\n",
       "<circle clip-path=\"url(#clip2802)\" cx=\"1197.26\" cy=\"1056.84\" r=\"14\" fill=\"#e26f46\" fill-rule=\"evenodd\" fill-opacity=\"1\" stroke=\"#000000\" stroke-opacity=\"1\" stroke-width=\"3.2\"/>\n",
       "<circle clip-path=\"url(#clip2802)\" cx=\"1199.56\" cy=\"1058.04\" r=\"14\" fill=\"#e26f46\" fill-rule=\"evenodd\" fill-opacity=\"1\" stroke=\"#000000\" stroke-opacity=\"1\" stroke-width=\"3.2\"/>\n",
       "<circle clip-path=\"url(#clip2802)\" cx=\"1200.51\" cy=\"1058.37\" r=\"14\" fill=\"#e26f46\" fill-rule=\"evenodd\" fill-opacity=\"1\" stroke=\"#000000\" stroke-opacity=\"1\" stroke-width=\"3.2\"/>\n",
       "<circle clip-path=\"url(#clip2802)\" cx=\"1203.88\" cy=\"1058.53\" r=\"14\" fill=\"#e26f46\" fill-rule=\"evenodd\" fill-opacity=\"1\" stroke=\"#000000\" stroke-opacity=\"1\" stroke-width=\"3.2\"/>\n",
       "<circle clip-path=\"url(#clip2802)\" cx=\"1205.18\" cy=\"1058.27\" r=\"14\" fill=\"#e26f46\" fill-rule=\"evenodd\" fill-opacity=\"1\" stroke=\"#000000\" stroke-opacity=\"1\" stroke-width=\"3.2\"/>\n",
       "<circle clip-path=\"url(#clip2802)\" cx=\"1147.04\" cy=\"1181.29\" r=\"14\" fill=\"#e26f46\" fill-rule=\"evenodd\" fill-opacity=\"1\" stroke=\"#000000\" stroke-opacity=\"1\" stroke-width=\"3.2\"/>\n",
       "<circle clip-path=\"url(#clip2802)\" cx=\"1209.13\" cy=\"1058.23\" r=\"14\" fill=\"#e26f46\" fill-rule=\"evenodd\" fill-opacity=\"1\" stroke=\"#000000\" stroke-opacity=\"1\" stroke-width=\"3.2\"/>\n",
       "<circle clip-path=\"url(#clip2802)\" cx=\"1208\" cy=\"1058.68\" r=\"14\" fill=\"#e26f46\" fill-rule=\"evenodd\" fill-opacity=\"1\" stroke=\"#000000\" stroke-opacity=\"1\" stroke-width=\"3.2\"/>\n",
       "<circle clip-path=\"url(#clip2802)\" cx=\"1214.64\" cy=\"1058.7\" r=\"14\" fill=\"#e26f46\" fill-rule=\"evenodd\" fill-opacity=\"1\" stroke=\"#000000\" stroke-opacity=\"1\" stroke-width=\"3.2\"/>\n",
       "<circle clip-path=\"url(#clip2802)\" cx=\"1217.49\" cy=\"1058.83\" r=\"14\" fill=\"#e26f46\" fill-rule=\"evenodd\" fill-opacity=\"1\" stroke=\"#000000\" stroke-opacity=\"1\" stroke-width=\"3.2\"/>\n",
       "<circle clip-path=\"url(#clip2802)\" cx=\"1217.66\" cy=\"1058.07\" r=\"14\" fill=\"#e26f46\" fill-rule=\"evenodd\" fill-opacity=\"1\" stroke=\"#000000\" stroke-opacity=\"1\" stroke-width=\"3.2\"/>\n",
       "<circle clip-path=\"url(#clip2802)\" cx=\"1218.89\" cy=\"1059.31\" r=\"14\" fill=\"#e26f46\" fill-rule=\"evenodd\" fill-opacity=\"1\" stroke=\"#000000\" stroke-opacity=\"1\" stroke-width=\"3.2\"/>\n",
       "<circle clip-path=\"url(#clip2802)\" cx=\"1219.97\" cy=\"1057.91\" r=\"14\" fill=\"#e26f46\" fill-rule=\"evenodd\" fill-opacity=\"1\" stroke=\"#000000\" stroke-opacity=\"1\" stroke-width=\"3.2\"/>\n",
       "<circle clip-path=\"url(#clip2802)\" cx=\"1222.1\" cy=\"1058.27\" r=\"14\" fill=\"#e26f46\" fill-rule=\"evenodd\" fill-opacity=\"1\" stroke=\"#000000\" stroke-opacity=\"1\" stroke-width=\"3.2\"/>\n",
       "<circle clip-path=\"url(#clip2802)\" cx=\"1221.45\" cy=\"1057.89\" r=\"14\" fill=\"#e26f46\" fill-rule=\"evenodd\" fill-opacity=\"1\" stroke=\"#000000\" stroke-opacity=\"1\" stroke-width=\"3.2\"/>\n",
       "<circle clip-path=\"url(#clip2802)\" cx=\"1224.75\" cy=\"1057.08\" r=\"14\" fill=\"#e26f46\" fill-rule=\"evenodd\" fill-opacity=\"1\" stroke=\"#000000\" stroke-opacity=\"1\" stroke-width=\"3.2\"/>\n",
       "<circle clip-path=\"url(#clip2802)\" cx=\"1153.03\" cy=\"1177.5\" r=\"14\" fill=\"#e26f46\" fill-rule=\"evenodd\" fill-opacity=\"1\" stroke=\"#000000\" stroke-opacity=\"1\" stroke-width=\"3.2\"/>\n",
       "<circle clip-path=\"url(#clip2802)\" cx=\"1222.87\" cy=\"1057.59\" r=\"14\" fill=\"#e26f46\" fill-rule=\"evenodd\" fill-opacity=\"1\" stroke=\"#000000\" stroke-opacity=\"1\" stroke-width=\"3.2\"/>\n",
       "<circle clip-path=\"url(#clip2802)\" cx=\"1224.24\" cy=\"1058.31\" r=\"14\" fill=\"#e26f46\" fill-rule=\"evenodd\" fill-opacity=\"1\" stroke=\"#000000\" stroke-opacity=\"1\" stroke-width=\"3.2\"/>\n",
       "<circle clip-path=\"url(#clip2802)\" cx=\"1223.41\" cy=\"1057.21\" r=\"14\" fill=\"#e26f46\" fill-rule=\"evenodd\" fill-opacity=\"1\" stroke=\"#000000\" stroke-opacity=\"1\" stroke-width=\"3.2\"/>\n",
       "<circle clip-path=\"url(#clip2802)\" cx=\"1225.19\" cy=\"1057.32\" r=\"14\" fill=\"#e26f46\" fill-rule=\"evenodd\" fill-opacity=\"1\" stroke=\"#000000\" stroke-opacity=\"1\" stroke-width=\"3.2\"/>\n",
       "<circle clip-path=\"url(#clip2802)\" cx=\"1223.66\" cy=\"1057.32\" r=\"14\" fill=\"#e26f46\" fill-rule=\"evenodd\" fill-opacity=\"1\" stroke=\"#000000\" stroke-opacity=\"1\" stroke-width=\"3.2\"/>\n",
       "<circle clip-path=\"url(#clip2802)\" cx=\"1224.78\" cy=\"1057.79\" r=\"14\" fill=\"#e26f46\" fill-rule=\"evenodd\" fill-opacity=\"1\" stroke=\"#000000\" stroke-opacity=\"1\" stroke-width=\"3.2\"/>\n",
       "<circle clip-path=\"url(#clip2802)\" cx=\"1223.71\" cy=\"1057.73\" r=\"14\" fill=\"#e26f46\" fill-rule=\"evenodd\" fill-opacity=\"1\" stroke=\"#000000\" stroke-opacity=\"1\" stroke-width=\"3.2\"/>\n",
       "<circle clip-path=\"url(#clip2802)\" cx=\"1224.76\" cy=\"1057.47\" r=\"14\" fill=\"#e26f46\" fill-rule=\"evenodd\" fill-opacity=\"1\" stroke=\"#000000\" stroke-opacity=\"1\" stroke-width=\"3.2\"/>\n",
       "<circle clip-path=\"url(#clip2802)\" cx=\"1222.16\" cy=\"1058.96\" r=\"14\" fill=\"#e26f46\" fill-rule=\"evenodd\" fill-opacity=\"1\" stroke=\"#000000\" stroke-opacity=\"1\" stroke-width=\"3.2\"/>\n",
       "<circle clip-path=\"url(#clip2802)\" cx=\"1222.46\" cy=\"1059.44\" r=\"14\" fill=\"#e26f46\" fill-rule=\"evenodd\" fill-opacity=\"1\" stroke=\"#000000\" stroke-opacity=\"1\" stroke-width=\"3.2\"/>\n",
       "<circle clip-path=\"url(#clip2802)\" cx=\"1154.55\" cy=\"1175.99\" r=\"14\" fill=\"#e26f46\" fill-rule=\"evenodd\" fill-opacity=\"1\" stroke=\"#000000\" stroke-opacity=\"1\" stroke-width=\"3.2\"/>\n",
       "<circle clip-path=\"url(#clip2802)\" cx=\"1219.09\" cy=\"1059.85\" r=\"14\" fill=\"#e26f46\" fill-rule=\"evenodd\" fill-opacity=\"1\" stroke=\"#000000\" stroke-opacity=\"1\" stroke-width=\"3.2\"/>\n",
       "<circle clip-path=\"url(#clip2802)\" cx=\"1220.93\" cy=\"1059.03\" r=\"14\" fill=\"#e26f46\" fill-rule=\"evenodd\" fill-opacity=\"1\" stroke=\"#000000\" stroke-opacity=\"1\" stroke-width=\"3.2\"/>\n",
       "<circle clip-path=\"url(#clip2802)\" cx=\"1215.93\" cy=\"1061.23\" r=\"14\" fill=\"#e26f46\" fill-rule=\"evenodd\" fill-opacity=\"1\" stroke=\"#000000\" stroke-opacity=\"1\" stroke-width=\"3.2\"/>\n",
       "<circle clip-path=\"url(#clip2802)\" cx=\"1215.98\" cy=\"1062.71\" r=\"14\" fill=\"#e26f46\" fill-rule=\"evenodd\" fill-opacity=\"1\" stroke=\"#000000\" stroke-opacity=\"1\" stroke-width=\"3.2\"/>\n",
       "<circle clip-path=\"url(#clip2802)\" cx=\"1212.98\" cy=\"1063.57\" r=\"14\" fill=\"#e26f46\" fill-rule=\"evenodd\" fill-opacity=\"1\" stroke=\"#000000\" stroke-opacity=\"1\" stroke-width=\"3.2\"/>\n",
       "<circle clip-path=\"url(#clip2802)\" cx=\"1212.14\" cy=\"1065.44\" r=\"14\" fill=\"#e26f46\" fill-rule=\"evenodd\" fill-opacity=\"1\" stroke=\"#000000\" stroke-opacity=\"1\" stroke-width=\"3.2\"/>\n",
       "<circle clip-path=\"url(#clip2802)\" cx=\"1207.64\" cy=\"1067.44\" r=\"14\" fill=\"#e26f46\" fill-rule=\"evenodd\" fill-opacity=\"1\" stroke=\"#000000\" stroke-opacity=\"1\" stroke-width=\"3.2\"/>\n",
       "<circle clip-path=\"url(#clip2802)\" cx=\"1205.22\" cy=\"1070.52\" r=\"14\" fill=\"#e26f46\" fill-rule=\"evenodd\" fill-opacity=\"1\" stroke=\"#000000\" stroke-opacity=\"1\" stroke-width=\"3.2\"/>\n",
       "<circle clip-path=\"url(#clip2802)\" cx=\"1200.84\" cy=\"1072.45\" r=\"14\" fill=\"#e26f46\" fill-rule=\"evenodd\" fill-opacity=\"1\" stroke=\"#000000\" stroke-opacity=\"1\" stroke-width=\"3.2\"/>\n",
       "<circle clip-path=\"url(#clip2802)\" cx=\"1198.97\" cy=\"1075.18\" r=\"14\" fill=\"#e26f46\" fill-rule=\"evenodd\" fill-opacity=\"1\" stroke=\"#000000\" stroke-opacity=\"1\" stroke-width=\"3.2\"/>\n",
       "<circle clip-path=\"url(#clip2802)\" cx=\"1158.53\" cy=\"1173.94\" r=\"14\" fill=\"#e26f46\" fill-rule=\"evenodd\" fill-opacity=\"1\" stroke=\"#000000\" stroke-opacity=\"1\" stroke-width=\"3.2\"/>\n",
       "<circle clip-path=\"url(#clip2802)\" cx=\"1193.62\" cy=\"1077.76\" r=\"14\" fill=\"#e26f46\" fill-rule=\"evenodd\" fill-opacity=\"1\" stroke=\"#000000\" stroke-opacity=\"1\" stroke-width=\"3.2\"/>\n",
       "<circle clip-path=\"url(#clip2802)\" cx=\"1191.32\" cy=\"1080.53\" r=\"14\" fill=\"#e26f46\" fill-rule=\"evenodd\" fill-opacity=\"1\" stroke=\"#000000\" stroke-opacity=\"1\" stroke-width=\"3.2\"/>\n",
       "<circle clip-path=\"url(#clip2802)\" cx=\"1186.12\" cy=\"1083.95\" r=\"14\" fill=\"#e26f46\" fill-rule=\"evenodd\" fill-opacity=\"1\" stroke=\"#000000\" stroke-opacity=\"1\" stroke-width=\"3.2\"/>\n",
       "<circle clip-path=\"url(#clip2802)\" cx=\"1183.43\" cy=\"1087.83\" r=\"14\" fill=\"#e26f46\" fill-rule=\"evenodd\" fill-opacity=\"1\" stroke=\"#000000\" stroke-opacity=\"1\" stroke-width=\"3.2\"/>\n",
       "<circle clip-path=\"url(#clip2802)\" cx=\"1177.37\" cy=\"1091.2\" r=\"14\" fill=\"#e26f46\" fill-rule=\"evenodd\" fill-opacity=\"1\" stroke=\"#000000\" stroke-opacity=\"1\" stroke-width=\"3.2\"/>\n",
       "<circle clip-path=\"url(#clip2802)\" cx=\"1173.68\" cy=\"1095.28\" r=\"14\" fill=\"#e26f46\" fill-rule=\"evenodd\" fill-opacity=\"1\" stroke=\"#000000\" stroke-opacity=\"1\" stroke-width=\"3.2\"/>\n",
       "<circle clip-path=\"url(#clip2802)\" cx=\"1168\" cy=\"1098.87\" r=\"14\" fill=\"#e26f46\" fill-rule=\"evenodd\" fill-opacity=\"1\" stroke=\"#000000\" stroke-opacity=\"1\" stroke-width=\"3.2\"/>\n",
       "<circle clip-path=\"url(#clip2802)\" cx=\"1163.48\" cy=\"1103.35\" r=\"14\" fill=\"#e26f46\" fill-rule=\"evenodd\" fill-opacity=\"1\" stroke=\"#000000\" stroke-opacity=\"1\" stroke-width=\"3.2\"/>\n",
       "<circle clip-path=\"url(#clip2802)\" cx=\"1157.68\" cy=\"1106.82\" r=\"14\" fill=\"#e26f46\" fill-rule=\"evenodd\" fill-opacity=\"1\" stroke=\"#000000\" stroke-opacity=\"1\" stroke-width=\"3.2\"/>\n",
       "<circle clip-path=\"url(#clip2802)\" cx=\"1154.27\" cy=\"1111.49\" r=\"14\" fill=\"#e26f46\" fill-rule=\"evenodd\" fill-opacity=\"1\" stroke=\"#000000\" stroke-opacity=\"1\" stroke-width=\"3.2\"/>\n",
       "<circle clip-path=\"url(#clip2802)\" cx=\"1160.53\" cy=\"1172.34\" r=\"14\" fill=\"#e26f46\" fill-rule=\"evenodd\" fill-opacity=\"1\" stroke=\"#000000\" stroke-opacity=\"1\" stroke-width=\"3.2\"/>\n",
       "<circle clip-path=\"url(#clip2802)\" cx=\"1148.08\" cy=\"1115.5\" r=\"14\" fill=\"#e26f46\" fill-rule=\"evenodd\" fill-opacity=\"1\" stroke=\"#000000\" stroke-opacity=\"1\" stroke-width=\"3.2\"/>\n",
       "<circle clip-path=\"url(#clip2802)\" cx=\"1143.22\" cy=\"1120.85\" r=\"14\" fill=\"#e26f46\" fill-rule=\"evenodd\" fill-opacity=\"1\" stroke=\"#000000\" stroke-opacity=\"1\" stroke-width=\"3.2\"/>\n",
       "<circle clip-path=\"url(#clip2802)\" cx=\"1137.55\" cy=\"1124.35\" r=\"14\" fill=\"#e26f46\" fill-rule=\"evenodd\" fill-opacity=\"1\" stroke=\"#000000\" stroke-opacity=\"1\" stroke-width=\"3.2\"/>\n",
       "<circle clip-path=\"url(#clip2802)\" cx=\"1133.57\" cy=\"1128.8\" r=\"14\" fill=\"#e26f46\" fill-rule=\"evenodd\" fill-opacity=\"1\" stroke=\"#000000\" stroke-opacity=\"1\" stroke-width=\"3.2\"/>\n",
       "<circle clip-path=\"url(#clip2802)\" cx=\"1127.65\" cy=\"1132.54\" r=\"14\" fill=\"#e26f46\" fill-rule=\"evenodd\" fill-opacity=\"1\" stroke=\"#000000\" stroke-opacity=\"1\" stroke-width=\"3.2\"/>\n",
       "<circle clip-path=\"url(#clip2802)\" cx=\"1125.45\" cy=\"1136.71\" r=\"14\" fill=\"#e26f46\" fill-rule=\"evenodd\" fill-opacity=\"1\" stroke=\"#000000\" stroke-opacity=\"1\" stroke-width=\"3.2\"/>\n",
       "<circle clip-path=\"url(#clip2802)\" cx=\"1117.03\" cy=\"1140.79\" r=\"14\" fill=\"#e26f46\" fill-rule=\"evenodd\" fill-opacity=\"1\" stroke=\"#000000\" stroke-opacity=\"1\" stroke-width=\"3.2\"/>\n",
       "<circle clip-path=\"url(#clip2802)\" cx=\"1113.54\" cy=\"1144.36\" r=\"14\" fill=\"#e26f46\" fill-rule=\"evenodd\" fill-opacity=\"1\" stroke=\"#000000\" stroke-opacity=\"1\" stroke-width=\"3.2\"/>\n",
       "<circle clip-path=\"url(#clip2802)\" cx=\"1108.08\" cy=\"1147.78\" r=\"14\" fill=\"#e26f46\" fill-rule=\"evenodd\" fill-opacity=\"1\" stroke=\"#000000\" stroke-opacity=\"1\" stroke-width=\"3.2\"/>\n",
       "<circle clip-path=\"url(#clip2802)\" cx=\"1104.5\" cy=\"1152.49\" r=\"14\" fill=\"#e26f46\" fill-rule=\"evenodd\" fill-opacity=\"1\" stroke=\"#000000\" stroke-opacity=\"1\" stroke-width=\"3.2\"/>\n",
       "<circle clip-path=\"url(#clip2802)\" cx=\"1165.08\" cy=\"1170.55\" r=\"14\" fill=\"#e26f46\" fill-rule=\"evenodd\" fill-opacity=\"1\" stroke=\"#000000\" stroke-opacity=\"1\" stroke-width=\"3.2\"/>\n",
       "<circle clip-path=\"url(#clip2802)\" cx=\"1097.84\" cy=\"1155.73\" r=\"14\" fill=\"#e26f46\" fill-rule=\"evenodd\" fill-opacity=\"1\" stroke=\"#000000\" stroke-opacity=\"1\" stroke-width=\"3.2\"/>\n",
       "<circle clip-path=\"url(#clip2802)\" cx=\"1093.31\" cy=\"1160.61\" r=\"14\" fill=\"#e26f46\" fill-rule=\"evenodd\" fill-opacity=\"1\" stroke=\"#000000\" stroke-opacity=\"1\" stroke-width=\"3.2\"/>\n",
       "<circle clip-path=\"url(#clip2802)\" cx=\"1087.19\" cy=\"1163.59\" r=\"14\" fill=\"#e26f46\" fill-rule=\"evenodd\" fill-opacity=\"1\" stroke=\"#000000\" stroke-opacity=\"1\" stroke-width=\"3.2\"/>\n",
       "<circle clip-path=\"url(#clip2802)\" cx=\"1084.43\" cy=\"1166.49\" r=\"14\" fill=\"#e26f46\" fill-rule=\"evenodd\" fill-opacity=\"1\" stroke=\"#000000\" stroke-opacity=\"1\" stroke-width=\"3.2\"/>\n",
       "<circle clip-path=\"url(#clip2802)\" cx=\"1078.03\" cy=\"1170.51\" r=\"14\" fill=\"#e26f46\" fill-rule=\"evenodd\" fill-opacity=\"1\" stroke=\"#000000\" stroke-opacity=\"1\" stroke-width=\"3.2\"/>\n",
       "<circle clip-path=\"url(#clip2802)\" cx=\"1075.51\" cy=\"1173.83\" r=\"14\" fill=\"#e26f46\" fill-rule=\"evenodd\" fill-opacity=\"1\" stroke=\"#000000\" stroke-opacity=\"1\" stroke-width=\"3.2\"/>\n",
       "<circle clip-path=\"url(#clip2802)\" cx=\"1068.55\" cy=\"1177.08\" r=\"14\" fill=\"#e26f46\" fill-rule=\"evenodd\" fill-opacity=\"1\" stroke=\"#000000\" stroke-opacity=\"1\" stroke-width=\"3.2\"/>\n",
       "<circle clip-path=\"url(#clip2802)\" cx=\"1066.88\" cy=\"1179.39\" r=\"14\" fill=\"#e26f46\" fill-rule=\"evenodd\" fill-opacity=\"1\" stroke=\"#000000\" stroke-opacity=\"1\" stroke-width=\"3.2\"/>\n",
       "<circle clip-path=\"url(#clip2802)\" cx=\"1059.76\" cy=\"1183.86\" r=\"14\" fill=\"#e26f46\" fill-rule=\"evenodd\" fill-opacity=\"1\" stroke=\"#000000\" stroke-opacity=\"1\" stroke-width=\"3.2\"/>\n",
       "<circle clip-path=\"url(#clip2802)\" cx=\"1057.38\" cy=\"1186.52\" r=\"14\" fill=\"#e26f46\" fill-rule=\"evenodd\" fill-opacity=\"1\" stroke=\"#000000\" stroke-opacity=\"1\" stroke-width=\"3.2\"/>\n",
       "<circle clip-path=\"url(#clip2802)\" cx=\"1167.81\" cy=\"1167.74\" r=\"14\" fill=\"#e26f46\" fill-rule=\"evenodd\" fill-opacity=\"1\" stroke=\"#000000\" stroke-opacity=\"1\" stroke-width=\"3.2\"/>\n",
       "<circle clip-path=\"url(#clip2802)\" cx=\"1050.95\" cy=\"1190.4\" r=\"14\" fill=\"#e26f46\" fill-rule=\"evenodd\" fill-opacity=\"1\" stroke=\"#000000\" stroke-opacity=\"1\" stroke-width=\"3.2\"/>\n",
       "<circle clip-path=\"url(#clip2802)\" cx=\"1048.74\" cy=\"1193.8\" r=\"14\" fill=\"#e26f46\" fill-rule=\"evenodd\" fill-opacity=\"1\" stroke=\"#000000\" stroke-opacity=\"1\" stroke-width=\"3.2\"/>\n",
       "<circle clip-path=\"url(#clip2802)\" cx=\"1043.62\" cy=\"1196.78\" r=\"14\" fill=\"#e26f46\" fill-rule=\"evenodd\" fill-opacity=\"1\" stroke=\"#000000\" stroke-opacity=\"1\" stroke-width=\"3.2\"/>\n",
       "<circle clip-path=\"url(#clip2802)\" cx=\"1039.49\" cy=\"1200.36\" r=\"14\" fill=\"#e26f46\" fill-rule=\"evenodd\" fill-opacity=\"1\" stroke=\"#000000\" stroke-opacity=\"1\" stroke-width=\"3.2\"/>\n",
       "<circle clip-path=\"url(#clip2802)\" cx=\"1035.82\" cy=\"1202.78\" r=\"14\" fill=\"#e26f46\" fill-rule=\"evenodd\" fill-opacity=\"1\" stroke=\"#000000\" stroke-opacity=\"1\" stroke-width=\"3.2\"/>\n",
       "<circle clip-path=\"url(#clip2802)\" cx=\"1033.94\" cy=\"1205.84\" r=\"14\" fill=\"#e26f46\" fill-rule=\"evenodd\" fill-opacity=\"1\" stroke=\"#000000\" stroke-opacity=\"1\" stroke-width=\"3.2\"/>\n",
       "<circle clip-path=\"url(#clip2802)\" cx=\"1029.19\" cy=\"1208.8\" r=\"14\" fill=\"#e26f46\" fill-rule=\"evenodd\" fill-opacity=\"1\" stroke=\"#000000\" stroke-opacity=\"1\" stroke-width=\"3.2\"/>\n",
       "<circle clip-path=\"url(#clip2802)\" cx=\"1027.83\" cy=\"1212.44\" r=\"14\" fill=\"#e26f46\" fill-rule=\"evenodd\" fill-opacity=\"1\" stroke=\"#000000\" stroke-opacity=\"1\" stroke-width=\"3.2\"/>\n",
       "<circle clip-path=\"url(#clip2802)\" cx=\"1022.77\" cy=\"1215.23\" r=\"14\" fill=\"#e26f46\" fill-rule=\"evenodd\" fill-opacity=\"1\" stroke=\"#000000\" stroke-opacity=\"1\" stroke-width=\"3.2\"/>\n",
       "<circle clip-path=\"url(#clip2802)\" cx=\"1022.48\" cy=\"1218.39\" r=\"14\" fill=\"#e26f46\" fill-rule=\"evenodd\" fill-opacity=\"1\" stroke=\"#000000\" stroke-opacity=\"1\" stroke-width=\"3.2\"/>\n",
       "<circle clip-path=\"url(#clip2802)\" cx=\"1172.8\" cy=\"1166.22\" r=\"14\" fill=\"#e26f46\" fill-rule=\"evenodd\" fill-opacity=\"1\" stroke=\"#000000\" stroke-opacity=\"1\" stroke-width=\"3.2\"/>\n",
       "<circle clip-path=\"url(#clip2802)\" cx=\"1115.53\" cy=\"1199.7\" r=\"14\" fill=\"#e26f46\" fill-rule=\"evenodd\" fill-opacity=\"1\" stroke=\"#000000\" stroke-opacity=\"1\" stroke-width=\"3.2\"/>\n",
       "<circle clip-path=\"url(#clip2802)\" cx=\"1017.38\" cy=\"1221.54\" r=\"14\" fill=\"#e26f46\" fill-rule=\"evenodd\" fill-opacity=\"1\" stroke=\"#000000\" stroke-opacity=\"1\" stroke-width=\"3.2\"/>\n",
       "<circle clip-path=\"url(#clip2802)\" cx=\"1015.65\" cy=\"1224.96\" r=\"14\" fill=\"#e26f46\" fill-rule=\"evenodd\" fill-opacity=\"1\" stroke=\"#000000\" stroke-opacity=\"1\" stroke-width=\"3.2\"/>\n",
       "<circle clip-path=\"url(#clip2802)\" cx=\"1012.75\" cy=\"1227.71\" r=\"14\" fill=\"#e26f46\" fill-rule=\"evenodd\" fill-opacity=\"1\" stroke=\"#000000\" stroke-opacity=\"1\" stroke-width=\"3.2\"/>\n",
       "<circle clip-path=\"url(#clip2802)\" cx=\"1011.94\" cy=\"1230.85\" r=\"14\" fill=\"#e26f46\" fill-rule=\"evenodd\" fill-opacity=\"1\" stroke=\"#000000\" stroke-opacity=\"1\" stroke-width=\"3.2\"/>\n",
       "<circle clip-path=\"url(#clip2802)\" cx=\"1008.62\" cy=\"1233\" r=\"14\" fill=\"#e26f46\" fill-rule=\"evenodd\" fill-opacity=\"1\" stroke=\"#000000\" stroke-opacity=\"1\" stroke-width=\"3.2\"/>\n",
       "<circle clip-path=\"url(#clip2802)\" cx=\"1008.33\" cy=\"1235.24\" r=\"14\" fill=\"#e26f46\" fill-rule=\"evenodd\" fill-opacity=\"1\" stroke=\"#000000\" stroke-opacity=\"1\" stroke-width=\"3.2\"/>\n",
       "<circle clip-path=\"url(#clip2802)\" cx=\"1005.19\" cy=\"1237.93\" r=\"14\" fill=\"#e26f46\" fill-rule=\"evenodd\" fill-opacity=\"1\" stroke=\"#000000\" stroke-opacity=\"1\" stroke-width=\"3.2\"/>\n",
       "<circle clip-path=\"url(#clip2802)\" cx=\"1005.6\" cy=\"1239.02\" r=\"14\" fill=\"#e26f46\" fill-rule=\"evenodd\" fill-opacity=\"1\" stroke=\"#000000\" stroke-opacity=\"1\" stroke-width=\"3.2\"/>\n",
       "<circle clip-path=\"url(#clip2802)\" cx=\"1004.86\" cy=\"1240.72\" r=\"14\" fill=\"#e26f46\" fill-rule=\"evenodd\" fill-opacity=\"1\" stroke=\"#000000\" stroke-opacity=\"1\" stroke-width=\"3.2\"/>\n",
       "<circle clip-path=\"url(#clip2802)\" cx=\"1006.08\" cy=\"1241.96\" r=\"14\" fill=\"#e26f46\" fill-rule=\"evenodd\" fill-opacity=\"1\" stroke=\"#000000\" stroke-opacity=\"1\" stroke-width=\"3.2\"/>\n",
       "<circle clip-path=\"url(#clip2802)\" cx=\"1173.13\" cy=\"1165.99\" r=\"14\" fill=\"#e26f46\" fill-rule=\"evenodd\" fill-opacity=\"1\" stroke=\"#000000\" stroke-opacity=\"1\" stroke-width=\"3.2\"/>\n",
       "<circle clip-path=\"url(#clip2802)\" cx=\"1004.57\" cy=\"1243.11\" r=\"14\" fill=\"#e26f46\" fill-rule=\"evenodd\" fill-opacity=\"1\" stroke=\"#000000\" stroke-opacity=\"1\" stroke-width=\"3.2\"/>\n",
       "<circle clip-path=\"url(#clip2802)\" cx=\"1008.42\" cy=\"1243.56\" r=\"14\" fill=\"#e26f46\" fill-rule=\"evenodd\" fill-opacity=\"1\" stroke=\"#000000\" stroke-opacity=\"1\" stroke-width=\"3.2\"/>\n",
       "<circle clip-path=\"url(#clip2802)\" cx=\"1006.45\" cy=\"1243.95\" r=\"14\" fill=\"#e26f46\" fill-rule=\"evenodd\" fill-opacity=\"1\" stroke=\"#000000\" stroke-opacity=\"1\" stroke-width=\"3.2\"/>\n",
       "<circle clip-path=\"url(#clip2802)\" cx=\"1007.85\" cy=\"1246.11\" r=\"14\" fill=\"#e26f46\" fill-rule=\"evenodd\" fill-opacity=\"1\" stroke=\"#000000\" stroke-opacity=\"1\" stroke-width=\"3.2\"/>\n",
       "<circle clip-path=\"url(#clip2802)\" cx=\"1007.87\" cy=\"1247.03\" r=\"14\" fill=\"#e26f46\" fill-rule=\"evenodd\" fill-opacity=\"1\" stroke=\"#000000\" stroke-opacity=\"1\" stroke-width=\"3.2\"/>\n",
       "<circle clip-path=\"url(#clip2802)\" cx=\"1011.39\" cy=\"1247.34\" r=\"14\" fill=\"#e26f46\" fill-rule=\"evenodd\" fill-opacity=\"1\" stroke=\"#000000\" stroke-opacity=\"1\" stroke-width=\"3.2\"/>\n",
       "<circle clip-path=\"url(#clip2802)\" cx=\"1011.57\" cy=\"1247.28\" r=\"14\" fill=\"#e26f46\" fill-rule=\"evenodd\" fill-opacity=\"1\" stroke=\"#000000\" stroke-opacity=\"1\" stroke-width=\"3.2\"/>\n",
       "<circle clip-path=\"url(#clip2802)\" cx=\"1015.01\" cy=\"1247.56\" r=\"14\" fill=\"#e26f46\" fill-rule=\"evenodd\" fill-opacity=\"1\" stroke=\"#000000\" stroke-opacity=\"1\" stroke-width=\"3.2\"/>\n",
       "<circle clip-path=\"url(#clip2802)\" cx=\"1016.03\" cy=\"1247.4\" r=\"14\" fill=\"#e26f46\" fill-rule=\"evenodd\" fill-opacity=\"1\" stroke=\"#000000\" stroke-opacity=\"1\" stroke-width=\"3.2\"/>\n",
       "<circle clip-path=\"url(#clip2802)\" cx=\"1019.32\" cy=\"1247.01\" r=\"14\" fill=\"#e26f46\" fill-rule=\"evenodd\" fill-opacity=\"1\" stroke=\"#000000\" stroke-opacity=\"1\" stroke-width=\"3.2\"/>\n",
       "<circle clip-path=\"url(#clip2802)\" cx=\"1179.09\" cy=\"1161.56\" r=\"14\" fill=\"#e26f46\" fill-rule=\"evenodd\" fill-opacity=\"1\" stroke=\"#000000\" stroke-opacity=\"1\" stroke-width=\"3.2\"/>\n",
       "<circle clip-path=\"url(#clip2802)\" cx=\"1019.88\" cy=\"1246.89\" r=\"14\" fill=\"#e26f46\" fill-rule=\"evenodd\" fill-opacity=\"1\" stroke=\"#000000\" stroke-opacity=\"1\" stroke-width=\"3.2\"/>\n",
       "<circle clip-path=\"url(#clip2802)\" cx=\"1023.88\" cy=\"1246.51\" r=\"14\" fill=\"#e26f46\" fill-rule=\"evenodd\" fill-opacity=\"1\" stroke=\"#000000\" stroke-opacity=\"1\" stroke-width=\"3.2\"/>\n",
       "<circle clip-path=\"url(#clip2802)\" cx=\"1025.02\" cy=\"1246.36\" r=\"14\" fill=\"#e26f46\" fill-rule=\"evenodd\" fill-opacity=\"1\" stroke=\"#000000\" stroke-opacity=\"1\" stroke-width=\"3.2\"/>\n",
       "<circle clip-path=\"url(#clip2802)\" cx=\"1030.27\" cy=\"1245.73\" r=\"14\" fill=\"#e26f46\" fill-rule=\"evenodd\" fill-opacity=\"1\" stroke=\"#000000\" stroke-opacity=\"1\" stroke-width=\"3.2\"/>\n",
       "<circle clip-path=\"url(#clip2802)\" cx=\"1029.1\" cy=\"1245.89\" r=\"14\" fill=\"#e26f46\" fill-rule=\"evenodd\" fill-opacity=\"1\" stroke=\"#000000\" stroke-opacity=\"1\" stroke-width=\"3.2\"/>\n",
       "<circle clip-path=\"url(#clip2802)\" cx=\"1032.79\" cy=\"1245.79\" r=\"14\" fill=\"#e26f46\" fill-rule=\"evenodd\" fill-opacity=\"1\" stroke=\"#000000\" stroke-opacity=\"1\" stroke-width=\"3.2\"/>\n",
       "<circle clip-path=\"url(#clip2802)\" cx=\"1033.88\" cy=\"1244.9\" r=\"14\" fill=\"#e26f46\" fill-rule=\"evenodd\" fill-opacity=\"1\" stroke=\"#000000\" stroke-opacity=\"1\" stroke-width=\"3.2\"/>\n",
       "<circle clip-path=\"url(#clip2802)\" cx=\"1037.24\" cy=\"1244.32\" r=\"14\" fill=\"#e26f46\" fill-rule=\"evenodd\" fill-opacity=\"1\" stroke=\"#000000\" stroke-opacity=\"1\" stroke-width=\"3.2\"/>\n",
       "<circle clip-path=\"url(#clip2802)\" cx=\"1038.3\" cy=\"1243.55\" r=\"14\" fill=\"#e26f46\" fill-rule=\"evenodd\" fill-opacity=\"1\" stroke=\"#000000\" stroke-opacity=\"1\" stroke-width=\"3.2\"/>\n",
       "<circle clip-path=\"url(#clip2802)\" cx=\"1042.27\" cy=\"1241.82\" r=\"14\" fill=\"#e26f46\" fill-rule=\"evenodd\" fill-opacity=\"1\" stroke=\"#000000\" stroke-opacity=\"1\" stroke-width=\"3.2\"/>\n",
       "<circle clip-path=\"url(#clip2802)\" cx=\"1181.46\" cy=\"1158.12\" r=\"14\" fill=\"#e26f46\" fill-rule=\"evenodd\" fill-opacity=\"1\" stroke=\"#000000\" stroke-opacity=\"1\" stroke-width=\"3.2\"/>\n",
       "<circle clip-path=\"url(#clip2802)\" cx=\"1042.95\" cy=\"1240.59\" r=\"14\" fill=\"#e26f46\" fill-rule=\"evenodd\" fill-opacity=\"1\" stroke=\"#000000\" stroke-opacity=\"1\" stroke-width=\"3.2\"/>\n",
       "<circle clip-path=\"url(#clip2802)\" cx=\"1045.77\" cy=\"1239.65\" r=\"14\" fill=\"#e26f46\" fill-rule=\"evenodd\" fill-opacity=\"1\" stroke=\"#000000\" stroke-opacity=\"1\" stroke-width=\"3.2\"/>\n",
       "<circle clip-path=\"url(#clip2802)\" cx=\"1046.49\" cy=\"1237.48\" r=\"14\" fill=\"#e26f46\" fill-rule=\"evenodd\" fill-opacity=\"1\" stroke=\"#000000\" stroke-opacity=\"1\" stroke-width=\"3.2\"/>\n",
       "<circle clip-path=\"url(#clip2802)\" cx=\"1048.57\" cy=\"1237.11\" r=\"14\" fill=\"#e26f46\" fill-rule=\"evenodd\" fill-opacity=\"1\" stroke=\"#000000\" stroke-opacity=\"1\" stroke-width=\"3.2\"/>\n",
       "<circle clip-path=\"url(#clip2802)\" cx=\"1048.8\" cy=\"1235.81\" r=\"14\" fill=\"#e26f46\" fill-rule=\"evenodd\" fill-opacity=\"1\" stroke=\"#000000\" stroke-opacity=\"1\" stroke-width=\"3.2\"/>\n",
       "<circle clip-path=\"url(#clip2802)\" cx=\"1051.87\" cy=\"1234.82\" r=\"14\" fill=\"#e26f46\" fill-rule=\"evenodd\" fill-opacity=\"1\" stroke=\"#000000\" stroke-opacity=\"1\" stroke-width=\"3.2\"/>\n",
       "<circle clip-path=\"url(#clip2802)\" cx=\"1049.17\" cy=\"1235.52\" r=\"14\" fill=\"#e26f46\" fill-rule=\"evenodd\" fill-opacity=\"1\" stroke=\"#000000\" stroke-opacity=\"1\" stroke-width=\"3.2\"/>\n",
       "<circle clip-path=\"url(#clip2802)\" cx=\"1050.57\" cy=\"1234.49\" r=\"14\" fill=\"#e26f46\" fill-rule=\"evenodd\" fill-opacity=\"1\" stroke=\"#000000\" stroke-opacity=\"1\" stroke-width=\"3.2\"/>\n",
       "<circle clip-path=\"url(#clip2802)\" cx=\"1049.37\" cy=\"1233.65\" r=\"14\" fill=\"#e26f46\" fill-rule=\"evenodd\" fill-opacity=\"1\" stroke=\"#000000\" stroke-opacity=\"1\" stroke-width=\"3.2\"/>\n",
       "<circle clip-path=\"url(#clip2802)\" cx=\"1050.97\" cy=\"1232.74\" r=\"14\" fill=\"#e26f46\" fill-rule=\"evenodd\" fill-opacity=\"1\" stroke=\"#000000\" stroke-opacity=\"1\" stroke-width=\"3.2\"/>\n",
       "<circle clip-path=\"url(#clip2802)\" cx=\"1188.42\" cy=\"1154.46\" r=\"14\" fill=\"#e26f46\" fill-rule=\"evenodd\" fill-opacity=\"1\" stroke=\"#000000\" stroke-opacity=\"1\" stroke-width=\"3.2\"/>\n",
       "<circle clip-path=\"url(#clip2802)\" cx=\"1050.22\" cy=\"1231.75\" r=\"14\" fill=\"#e26f46\" fill-rule=\"evenodd\" fill-opacity=\"1\" stroke=\"#000000\" stroke-opacity=\"1\" stroke-width=\"3.2\"/>\n",
       "<circle clip-path=\"url(#clip2802)\" cx=\"1050.03\" cy=\"1231.82\" r=\"14\" fill=\"#e26f46\" fill-rule=\"evenodd\" fill-opacity=\"1\" stroke=\"#000000\" stroke-opacity=\"1\" stroke-width=\"3.2\"/>\n",
       "<circle clip-path=\"url(#clip2802)\" cx=\"1048.79\" cy=\"1230.96\" r=\"14\" fill=\"#e26f46\" fill-rule=\"evenodd\" fill-opacity=\"1\" stroke=\"#000000\" stroke-opacity=\"1\" stroke-width=\"3.2\"/>\n",
       "<circle clip-path=\"url(#clip2802)\" cx=\"1049.41\" cy=\"1231.22\" r=\"14\" fill=\"#e26f46\" fill-rule=\"evenodd\" fill-opacity=\"1\" stroke=\"#000000\" stroke-opacity=\"1\" stroke-width=\"3.2\"/>\n",
       "<circle clip-path=\"url(#clip2802)\" cx=\"1048.12\" cy=\"1229.89\" r=\"14\" fill=\"#e26f46\" fill-rule=\"evenodd\" fill-opacity=\"1\" stroke=\"#000000\" stroke-opacity=\"1\" stroke-width=\"3.2\"/>\n",
       "<circle clip-path=\"url(#clip2802)\" cx=\"1049.49\" cy=\"1228.92\" r=\"14\" fill=\"#e26f46\" fill-rule=\"evenodd\" fill-opacity=\"1\" stroke=\"#000000\" stroke-opacity=\"1\" stroke-width=\"3.2\"/>\n",
       "<circle clip-path=\"url(#clip2802)\" cx=\"1046.37\" cy=\"1229.33\" r=\"14\" fill=\"#e26f46\" fill-rule=\"evenodd\" fill-opacity=\"1\" stroke=\"#000000\" stroke-opacity=\"1\" stroke-width=\"3.2\"/>\n",
       "<circle clip-path=\"url(#clip2802)\" cx=\"1047.81\" cy=\"1228.85\" r=\"14\" fill=\"#e26f46\" fill-rule=\"evenodd\" fill-opacity=\"1\" stroke=\"#000000\" stroke-opacity=\"1\" stroke-width=\"3.2\"/>\n",
       "<circle clip-path=\"url(#clip2802)\" cx=\"1043.07\" cy=\"1229.15\" r=\"14\" fill=\"#e26f46\" fill-rule=\"evenodd\" fill-opacity=\"1\" stroke=\"#000000\" stroke-opacity=\"1\" stroke-width=\"3.2\"/>\n",
       "<circle clip-path=\"url(#clip2802)\" cx=\"1043.57\" cy=\"1229.37\" r=\"14\" fill=\"#e26f46\" fill-rule=\"evenodd\" fill-opacity=\"1\" stroke=\"#000000\" stroke-opacity=\"1\" stroke-width=\"3.2\"/>\n",
       "<circle clip-path=\"url(#clip2802)\" cx=\"1190.22\" cy=\"1150.82\" r=\"14\" fill=\"#e26f46\" fill-rule=\"evenodd\" fill-opacity=\"1\" stroke=\"#000000\" stroke-opacity=\"1\" stroke-width=\"3.2\"/>\n",
       "<circle clip-path=\"url(#clip2802)\" cx=\"1042.32\" cy=\"1228.87\" r=\"14\" fill=\"#e26f46\" fill-rule=\"evenodd\" fill-opacity=\"1\" stroke=\"#000000\" stroke-opacity=\"1\" stroke-width=\"3.2\"/>\n",
       "<circle clip-path=\"url(#clip2802)\" cx=\"1043.51\" cy=\"1228.07\" r=\"14\" fill=\"#e26f46\" fill-rule=\"evenodd\" fill-opacity=\"1\" stroke=\"#000000\" stroke-opacity=\"1\" stroke-width=\"3.2\"/>\n",
       "<circle clip-path=\"url(#clip2802)\" cx=\"1040.62\" cy=\"1228.6\" r=\"14\" fill=\"#e26f46\" fill-rule=\"evenodd\" fill-opacity=\"1\" stroke=\"#000000\" stroke-opacity=\"1\" stroke-width=\"3.2\"/>\n",
       "<circle clip-path=\"url(#clip2802)\" cx=\"1041.06\" cy=\"1228.59\" r=\"14\" fill=\"#e26f46\" fill-rule=\"evenodd\" fill-opacity=\"1\" stroke=\"#000000\" stroke-opacity=\"1\" stroke-width=\"3.2\"/>\n",
       "<circle clip-path=\"url(#clip2802)\" cx=\"1038.27\" cy=\"1228.78\" r=\"14\" fill=\"#e26f46\" fill-rule=\"evenodd\" fill-opacity=\"1\" stroke=\"#000000\" stroke-opacity=\"1\" stroke-width=\"3.2\"/>\n",
       "<circle clip-path=\"url(#clip2802)\" cx=\"1038.46\" cy=\"1229.01\" r=\"14\" fill=\"#e26f46\" fill-rule=\"evenodd\" fill-opacity=\"1\" stroke=\"#000000\" stroke-opacity=\"1\" stroke-width=\"3.2\"/>\n",
       "<circle clip-path=\"url(#clip2802)\" cx=\"1036.23\" cy=\"1229.61\" r=\"14\" fill=\"#e26f46\" fill-rule=\"evenodd\" fill-opacity=\"1\" stroke=\"#000000\" stroke-opacity=\"1\" stroke-width=\"3.2\"/>\n",
       "<circle clip-path=\"url(#clip2802)\" cx=\"1035.9\" cy=\"1230.42\" r=\"14\" fill=\"#e26f46\" fill-rule=\"evenodd\" fill-opacity=\"1\" stroke=\"#000000\" stroke-opacity=\"1\" stroke-width=\"3.2\"/>\n",
       "<circle clip-path=\"url(#clip2802)\" cx=\"1035.38\" cy=\"1229.52\" r=\"14\" fill=\"#e26f46\" fill-rule=\"evenodd\" fill-opacity=\"1\" stroke=\"#000000\" stroke-opacity=\"1\" stroke-width=\"3.2\"/>\n",
       "<circle clip-path=\"url(#clip2802)\" cx=\"1037.69\" cy=\"1228.97\" r=\"14\" fill=\"#e26f46\" fill-rule=\"evenodd\" fill-opacity=\"1\" stroke=\"#000000\" stroke-opacity=\"1\" stroke-width=\"3.2\"/>\n",
       "<circle clip-path=\"url(#clip2802)\" cx=\"1193.27\" cy=\"1150.79\" r=\"14\" fill=\"#e26f46\" fill-rule=\"evenodd\" fill-opacity=\"1\" stroke=\"#000000\" stroke-opacity=\"1\" stroke-width=\"3.2\"/>\n",
       "<circle clip-path=\"url(#clip2802)\" cx=\"1033.51\" cy=\"1229.95\" r=\"14\" fill=\"#e26f46\" fill-rule=\"evenodd\" fill-opacity=\"1\" stroke=\"#000000\" stroke-opacity=\"1\" stroke-width=\"3.2\"/>\n",
       "<circle clip-path=\"url(#clip2802)\" cx=\"1034.37\" cy=\"1230.1\" r=\"14\" fill=\"#e26f46\" fill-rule=\"evenodd\" fill-opacity=\"1\" stroke=\"#000000\" stroke-opacity=\"1\" stroke-width=\"3.2\"/>\n",
       "<circle clip-path=\"url(#clip2802)\" cx=\"1033.08\" cy=\"1229.82\" r=\"14\" fill=\"#e26f46\" fill-rule=\"evenodd\" fill-opacity=\"1\" stroke=\"#000000\" stroke-opacity=\"1\" stroke-width=\"3.2\"/>\n",
       "<circle clip-path=\"url(#clip2802)\" cx=\"1033.74\" cy=\"1230.14\" r=\"14\" fill=\"#e26f46\" fill-rule=\"evenodd\" fill-opacity=\"1\" stroke=\"#000000\" stroke-opacity=\"1\" stroke-width=\"3.2\"/>\n",
       "<circle clip-path=\"url(#clip2802)\" cx=\"1031.64\" cy=\"1230.18\" r=\"14\" fill=\"#e26f46\" fill-rule=\"evenodd\" fill-opacity=\"1\" stroke=\"#000000\" stroke-opacity=\"1\" stroke-width=\"3.2\"/>\n",
       "<circle clip-path=\"url(#clip2802)\" cx=\"1032.86\" cy=\"1230.23\" r=\"14\" fill=\"#e26f46\" fill-rule=\"evenodd\" fill-opacity=\"1\" stroke=\"#000000\" stroke-opacity=\"1\" stroke-width=\"3.2\"/>\n",
       "<circle clip-path=\"url(#clip2802)\" cx=\"1032.23\" cy=\"1229.64\" r=\"14\" fill=\"#e26f46\" fill-rule=\"evenodd\" fill-opacity=\"1\" stroke=\"#000000\" stroke-opacity=\"1\" stroke-width=\"3.2\"/>\n",
       "<circle clip-path=\"url(#clip2802)\" cx=\"1033.77\" cy=\"1228.84\" r=\"14\" fill=\"#e26f46\" fill-rule=\"evenodd\" fill-opacity=\"1\" stroke=\"#000000\" stroke-opacity=\"1\" stroke-width=\"3.2\"/>\n",
       "<circle clip-path=\"url(#clip2802)\" cx=\"1033.2\" cy=\"1228.27\" r=\"14\" fill=\"#e26f46\" fill-rule=\"evenodd\" fill-opacity=\"1\" stroke=\"#000000\" stroke-opacity=\"1\" stroke-width=\"3.2\"/>\n",
       "<circle clip-path=\"url(#clip2802)\" cx=\"1035.38\" cy=\"1228.08\" r=\"14\" fill=\"#e26f46\" fill-rule=\"evenodd\" fill-opacity=\"1\" stroke=\"#000000\" stroke-opacity=\"1\" stroke-width=\"3.2\"/>\n",
       "<circle clip-path=\"url(#clip2802)\" cx=\"1195.81\" cy=\"1147.1\" r=\"14\" fill=\"#e26f46\" fill-rule=\"evenodd\" fill-opacity=\"1\" stroke=\"#000000\" stroke-opacity=\"1\" stroke-width=\"3.2\"/>\n",
       "<circle clip-path=\"url(#clip2802)\" cx=\"1033.47\" cy=\"1227.86\" r=\"14\" fill=\"#e26f46\" fill-rule=\"evenodd\" fill-opacity=\"1\" stroke=\"#000000\" stroke-opacity=\"1\" stroke-width=\"3.2\"/>\n",
       "<circle clip-path=\"url(#clip2802)\" cx=\"1037.04\" cy=\"1227.83\" r=\"14\" fill=\"#e26f46\" fill-rule=\"evenodd\" fill-opacity=\"1\" stroke=\"#000000\" stroke-opacity=\"1\" stroke-width=\"3.2\"/>\n",
       "<circle clip-path=\"url(#clip2802)\" cx=\"1034.23\" cy=\"1228.24\" r=\"14\" fill=\"#e26f46\" fill-rule=\"evenodd\" fill-opacity=\"1\" stroke=\"#000000\" stroke-opacity=\"1\" stroke-width=\"3.2\"/>\n",
       "<circle clip-path=\"url(#clip2802)\" cx=\"1036.64\" cy=\"1228.3\" r=\"14\" fill=\"#e26f46\" fill-rule=\"evenodd\" fill-opacity=\"1\" stroke=\"#000000\" stroke-opacity=\"1\" stroke-width=\"3.2\"/>\n",
       "<circle clip-path=\"url(#clip2802)\" cx=\"1036.71\" cy=\"1229.01\" r=\"14\" fill=\"#e26f46\" fill-rule=\"evenodd\" fill-opacity=\"1\" stroke=\"#000000\" stroke-opacity=\"1\" stroke-width=\"3.2\"/>\n",
       "<circle clip-path=\"url(#clip2802)\" cx=\"1038.69\" cy=\"1229.19\" r=\"14\" fill=\"#e26f46\" fill-rule=\"evenodd\" fill-opacity=\"1\" stroke=\"#000000\" stroke-opacity=\"1\" stroke-width=\"3.2\"/>\n",
       "<circle clip-path=\"url(#clip2802)\" cx=\"1038.38\" cy=\"1229\" r=\"14\" fill=\"#e26f46\" fill-rule=\"evenodd\" fill-opacity=\"1\" stroke=\"#000000\" stroke-opacity=\"1\" stroke-width=\"3.2\"/>\n",
       "<circle clip-path=\"url(#clip2802)\" cx=\"1041.18\" cy=\"1229.02\" r=\"14\" fill=\"#e26f46\" fill-rule=\"evenodd\" fill-opacity=\"1\" stroke=\"#000000\" stroke-opacity=\"1\" stroke-width=\"3.2\"/>\n",
       "<circle clip-path=\"url(#clip2802)\" cx=\"1041.77\" cy=\"1229.67\" r=\"14\" fill=\"#e26f46\" fill-rule=\"evenodd\" fill-opacity=\"1\" stroke=\"#000000\" stroke-opacity=\"1\" stroke-width=\"3.2\"/>\n",
       "<circle clip-path=\"url(#clip2802)\" cx=\"1044.38\" cy=\"1229.9\" r=\"14\" fill=\"#e26f46\" fill-rule=\"evenodd\" fill-opacity=\"1\" stroke=\"#000000\" stroke-opacity=\"1\" stroke-width=\"3.2\"/>\n",
       "<circle clip-path=\"url(#clip2802)\" cx=\"1201.13\" cy=\"1143.32\" r=\"14\" fill=\"#e26f46\" fill-rule=\"evenodd\" fill-opacity=\"1\" stroke=\"#000000\" stroke-opacity=\"1\" stroke-width=\"3.2\"/>\n",
       "<circle clip-path=\"url(#clip2802)\" cx=\"1045.01\" cy=\"1229.48\" r=\"14\" fill=\"#e26f46\" fill-rule=\"evenodd\" fill-opacity=\"1\" stroke=\"#000000\" stroke-opacity=\"1\" stroke-width=\"3.2\"/>\n",
       "<circle clip-path=\"url(#clip2802)\" cx=\"1047.09\" cy=\"1229.76\" r=\"14\" fill=\"#e26f46\" fill-rule=\"evenodd\" fill-opacity=\"1\" stroke=\"#000000\" stroke-opacity=\"1\" stroke-width=\"3.2\"/>\n",
       "<circle clip-path=\"url(#clip2802)\" cx=\"1048.72\" cy=\"1230.06\" r=\"14\" fill=\"#e26f46\" fill-rule=\"evenodd\" fill-opacity=\"1\" stroke=\"#000000\" stroke-opacity=\"1\" stroke-width=\"3.2\"/>\n",
       "<circle clip-path=\"url(#clip2802)\" cx=\"1050.81\" cy=\"1231.63\" r=\"14\" fill=\"#e26f46\" fill-rule=\"evenodd\" fill-opacity=\"1\" stroke=\"#000000\" stroke-opacity=\"1\" stroke-width=\"3.2\"/>\n",
       "<circle clip-path=\"url(#clip2802)\" cx=\"1048.9\" cy=\"1232.14\" r=\"14\" fill=\"#e26f46\" fill-rule=\"evenodd\" fill-opacity=\"1\" stroke=\"#000000\" stroke-opacity=\"1\" stroke-width=\"3.2\"/>\n",
       "<circle clip-path=\"url(#clip2802)\" cx=\"1051.15\" cy=\"1232.63\" r=\"14\" fill=\"#e26f46\" fill-rule=\"evenodd\" fill-opacity=\"1\" stroke=\"#000000\" stroke-opacity=\"1\" stroke-width=\"3.2\"/>\n",
       "<circle clip-path=\"url(#clip2802)\" cx=\"1052.69\" cy=\"1232.68\" r=\"14\" fill=\"#e26f46\" fill-rule=\"evenodd\" fill-opacity=\"1\" stroke=\"#000000\" stroke-opacity=\"1\" stroke-width=\"3.2\"/>\n",
       "<circle clip-path=\"url(#clip2802)\" cx=\"1055\" cy=\"1232.96\" r=\"14\" fill=\"#e26f46\" fill-rule=\"evenodd\" fill-opacity=\"1\" stroke=\"#000000\" stroke-opacity=\"1\" stroke-width=\"3.2\"/>\n",
       "<circle clip-path=\"url(#clip2802)\" cx=\"1055.88\" cy=\"1232.19\" r=\"14\" fill=\"#e26f46\" fill-rule=\"evenodd\" fill-opacity=\"1\" stroke=\"#000000\" stroke-opacity=\"1\" stroke-width=\"3.2\"/>\n",
       "<circle clip-path=\"url(#clip2802)\" cx=\"1058.8\" cy=\"1231.55\" r=\"14\" fill=\"#e26f46\" fill-rule=\"evenodd\" fill-opacity=\"1\" stroke=\"#000000\" stroke-opacity=\"1\" stroke-width=\"3.2\"/>\n",
       "<circle clip-path=\"url(#clip2802)\" cx=\"1203.28\" cy=\"1138.94\" r=\"14\" fill=\"#e26f46\" fill-rule=\"evenodd\" fill-opacity=\"1\" stroke=\"#000000\" stroke-opacity=\"1\" stroke-width=\"3.2\"/>\n",
       "<circle clip-path=\"url(#clip2802)\" cx=\"1058.58\" cy=\"1231.16\" r=\"14\" fill=\"#e26f46\" fill-rule=\"evenodd\" fill-opacity=\"1\" stroke=\"#000000\" stroke-opacity=\"1\" stroke-width=\"3.2\"/>\n",
       "<circle clip-path=\"url(#clip2802)\" cx=\"1062.4\" cy=\"1230.01\" r=\"14\" fill=\"#e26f46\" fill-rule=\"evenodd\" fill-opacity=\"1\" stroke=\"#000000\" stroke-opacity=\"1\" stroke-width=\"3.2\"/>\n",
       "<circle clip-path=\"url(#clip2802)\" cx=\"1063.09\" cy=\"1229.55\" r=\"14\" fill=\"#e26f46\" fill-rule=\"evenodd\" fill-opacity=\"1\" stroke=\"#000000\" stroke-opacity=\"1\" stroke-width=\"3.2\"/>\n",
       "<circle clip-path=\"url(#clip2802)\" cx=\"1066.4\" cy=\"1228.08\" r=\"14\" fill=\"#e26f46\" fill-rule=\"evenodd\" fill-opacity=\"1\" stroke=\"#000000\" stroke-opacity=\"1\" stroke-width=\"3.2\"/>\n",
       "<circle clip-path=\"url(#clip2802)\" cx=\"1067.1\" cy=\"1227.75\" r=\"14\" fill=\"#e26f46\" fill-rule=\"evenodd\" fill-opacity=\"1\" stroke=\"#000000\" stroke-opacity=\"1\" stroke-width=\"3.2\"/>\n",
       "<circle clip-path=\"url(#clip2802)\" cx=\"1071.98\" cy=\"1225.75\" r=\"14\" fill=\"#e26f46\" fill-rule=\"evenodd\" fill-opacity=\"1\" stroke=\"#000000\" stroke-opacity=\"1\" stroke-width=\"3.2\"/>\n",
       "<circle clip-path=\"url(#clip2802)\" cx=\"1070.67\" cy=\"1225.18\" r=\"14\" fill=\"#e26f46\" fill-rule=\"evenodd\" fill-opacity=\"1\" stroke=\"#000000\" stroke-opacity=\"1\" stroke-width=\"3.2\"/>\n",
       "<circle clip-path=\"url(#clip2802)\" cx=\"1073.86\" cy=\"1224.52\" r=\"14\" fill=\"#e26f46\" fill-rule=\"evenodd\" fill-opacity=\"1\" stroke=\"#000000\" stroke-opacity=\"1\" stroke-width=\"3.2\"/>\n",
       "<circle clip-path=\"url(#clip2802)\" cx=\"1074.57\" cy=\"1223.05\" r=\"14\" fill=\"#e26f46\" fill-rule=\"evenodd\" fill-opacity=\"1\" stroke=\"#000000\" stroke-opacity=\"1\" stroke-width=\"3.2\"/>\n",
       "<circle clip-path=\"url(#clip2802)\" cx=\"1078.18\" cy=\"1221.76\" r=\"14\" fill=\"#e26f46\" fill-rule=\"evenodd\" fill-opacity=\"1\" stroke=\"#000000\" stroke-opacity=\"1\" stroke-width=\"3.2\"/>\n",
       "<circle clip-path=\"url(#clip2802)\" cx=\"1210.26\" cy=\"1132.78\" r=\"14\" fill=\"#e26f46\" fill-rule=\"evenodd\" fill-opacity=\"1\" stroke=\"#000000\" stroke-opacity=\"1\" stroke-width=\"3.2\"/>\n",
       "<circle clip-path=\"url(#clip2802)\" cx=\"1116.73\" cy=\"1197.8\" r=\"14\" fill=\"#e26f46\" fill-rule=\"evenodd\" fill-opacity=\"1\" stroke=\"#000000\" stroke-opacity=\"1\" stroke-width=\"3.2\"/>\n",
       "<circle clip-path=\"url(#clip2802)\" cx=\"1079.87\" cy=\"1220.4\" r=\"14\" fill=\"#e26f46\" fill-rule=\"evenodd\" fill-opacity=\"1\" stroke=\"#000000\" stroke-opacity=\"1\" stroke-width=\"3.2\"/>\n",
       "<circle clip-path=\"url(#clip2802)\" cx=\"1082.1\" cy=\"1219.28\" r=\"14\" fill=\"#e26f46\" fill-rule=\"evenodd\" fill-opacity=\"1\" stroke=\"#000000\" stroke-opacity=\"1\" stroke-width=\"3.2\"/>\n",
       "<circle clip-path=\"url(#clip2802)\" cx=\"1083.38\" cy=\"1217.7\" r=\"14\" fill=\"#e26f46\" fill-rule=\"evenodd\" fill-opacity=\"1\" stroke=\"#000000\" stroke-opacity=\"1\" stroke-width=\"3.2\"/>\n",
       "<circle clip-path=\"url(#clip2802)\" cx=\"1086.54\" cy=\"1216.51\" r=\"14\" fill=\"#e26f46\" fill-rule=\"evenodd\" fill-opacity=\"1\" stroke=\"#000000\" stroke-opacity=\"1\" stroke-width=\"3.2\"/>\n",
       "<circle clip-path=\"url(#clip2802)\" cx=\"1087.61\" cy=\"1215.2\" r=\"14\" fill=\"#e26f46\" fill-rule=\"evenodd\" fill-opacity=\"1\" stroke=\"#000000\" stroke-opacity=\"1\" stroke-width=\"3.2\"/>\n",
       "<circle clip-path=\"url(#clip2802)\" cx=\"1090.47\" cy=\"1214.1\" r=\"14\" fill=\"#e26f46\" fill-rule=\"evenodd\" fill-opacity=\"1\" stroke=\"#000000\" stroke-opacity=\"1\" stroke-width=\"3.2\"/>\n",
       "<circle clip-path=\"url(#clip2802)\" cx=\"1091.69\" cy=\"1212.5\" r=\"14\" fill=\"#e26f46\" fill-rule=\"evenodd\" fill-opacity=\"1\" stroke=\"#000000\" stroke-opacity=\"1\" stroke-width=\"3.2\"/>\n",
       "<circle clip-path=\"url(#clip2802)\" cx=\"1096.26\" cy=\"1210.01\" r=\"14\" fill=\"#e26f46\" fill-rule=\"evenodd\" fill-opacity=\"1\" stroke=\"#000000\" stroke-opacity=\"1\" stroke-width=\"3.2\"/>\n",
       "<circle clip-path=\"url(#clip2802)\" cx=\"1095.99\" cy=\"1210.04\" r=\"14\" fill=\"#e26f46\" fill-rule=\"evenodd\" fill-opacity=\"1\" stroke=\"#000000\" stroke-opacity=\"1\" stroke-width=\"3.2\"/>\n",
       "<circle clip-path=\"url(#clip2802)\" cx=\"1099.83\" cy=\"1208.36\" r=\"14\" fill=\"#e26f46\" fill-rule=\"evenodd\" fill-opacity=\"1\" stroke=\"#000000\" stroke-opacity=\"1\" stroke-width=\"3.2\"/>\n",
       "<circle clip-path=\"url(#clip2802)\" cx=\"1211.33\" cy=\"1131.71\" r=\"14\" fill=\"#e26f46\" fill-rule=\"evenodd\" fill-opacity=\"1\" stroke=\"#000000\" stroke-opacity=\"1\" stroke-width=\"3.2\"/>\n",
       "<circle clip-path=\"url(#clip2802)\" cx=\"1101.31\" cy=\"1206.26\" r=\"14\" fill=\"#e26f46\" fill-rule=\"evenodd\" fill-opacity=\"1\" stroke=\"#000000\" stroke-opacity=\"1\" stroke-width=\"3.2\"/>\n",
       "<circle clip-path=\"url(#clip2802)\" cx=\"1105.38\" cy=\"1205.14\" r=\"14\" fill=\"#e26f46\" fill-rule=\"evenodd\" fill-opacity=\"1\" stroke=\"#000000\" stroke-opacity=\"1\" stroke-width=\"3.2\"/>\n",
       "<circle clip-path=\"url(#clip2802)\" cx=\"1107.34\" cy=\"1203.03\" r=\"14\" fill=\"#e26f46\" fill-rule=\"evenodd\" fill-opacity=\"1\" stroke=\"#000000\" stroke-opacity=\"1\" stroke-width=\"3.2\"/>\n",
       "<circle clip-path=\"url(#clip2802)\" cx=\"1110.53\" cy=\"1201.74\" r=\"14\" fill=\"#e26f46\" fill-rule=\"evenodd\" fill-opacity=\"1\" stroke=\"#000000\" stroke-opacity=\"1\" stroke-width=\"3.2\"/>\n",
       "<circle clip-path=\"url(#clip2802)\" cx=\"1112.25\" cy=\"1199.27\" r=\"14\" fill=\"#e26f46\" fill-rule=\"evenodd\" fill-opacity=\"1\" stroke=\"#000000\" stroke-opacity=\"1\" stroke-width=\"3.2\"/>\n",
       "<circle clip-path=\"url(#clip2802)\" cx=\"1114.69\" cy=\"1199.61\" r=\"14\" fill=\"#e26f46\" fill-rule=\"evenodd\" fill-opacity=\"1\" stroke=\"#000000\" stroke-opacity=\"1\" stroke-width=\"3.2\"/>\n",
       "<circle clip-path=\"url(#clip2802)\" cx=\"1116.07\" cy=\"1197.84\" r=\"14\" fill=\"#e26f46\" fill-rule=\"evenodd\" fill-opacity=\"1\" stroke=\"#000000\" stroke-opacity=\"1\" stroke-width=\"3.2\"/>\n",
       "<circle clip-path=\"url(#clip2802)\" cx=\"1120.27\" cy=\"1195.86\" r=\"14\" fill=\"#e26f46\" fill-rule=\"evenodd\" fill-opacity=\"1\" stroke=\"#000000\" stroke-opacity=\"1\" stroke-width=\"3.2\"/>\n",
       "<circle clip-path=\"url(#clip2802)\" cx=\"1121.8\" cy=\"1194.2\" r=\"14\" fill=\"#e26f46\" fill-rule=\"evenodd\" fill-opacity=\"1\" stroke=\"#000000\" stroke-opacity=\"1\" stroke-width=\"3.2\"/>\n",
       "<circle clip-path=\"url(#clip2802)\" cx=\"1126.87\" cy=\"1191.37\" r=\"14\" fill=\"#e26f46\" fill-rule=\"evenodd\" fill-opacity=\"1\" stroke=\"#000000\" stroke-opacity=\"1\" stroke-width=\"3.2\"/>\n",
       "<circle clip-path=\"url(#clip2802)\" cx=\"1216.72\" cy=\"1127.77\" r=\"14\" fill=\"#e26f46\" fill-rule=\"evenodd\" fill-opacity=\"1\" stroke=\"#000000\" stroke-opacity=\"1\" stroke-width=\"3.2\"/>\n",
       "<circle clip-path=\"url(#clip2802)\" cx=\"1127.56\" cy=\"1190.68\" r=\"14\" fill=\"#e26f46\" fill-rule=\"evenodd\" fill-opacity=\"1\" stroke=\"#000000\" stroke-opacity=\"1\" stroke-width=\"3.2\"/>\n",
       "<circle clip-path=\"url(#clip2802)\" cx=\"1324.97\" cy=\"735.57\" r=\"14\" fill=\"#3da44d\" fill-rule=\"evenodd\" fill-opacity=\"1\" stroke=\"#000000\" stroke-opacity=\"1\" stroke-width=\"3.2\"/>\n",
       "<circle clip-path=\"url(#clip2802)\" cx=\"1371.13\" cy=\"717.097\" r=\"14\" fill=\"#3da44d\" fill-rule=\"evenodd\" fill-opacity=\"1\" stroke=\"#000000\" stroke-opacity=\"1\" stroke-width=\"3.2\"/>\n",
       "<circle clip-path=\"url(#clip2802)\" cx=\"1371.74\" cy=\"715.939\" r=\"14\" fill=\"#3da44d\" fill-rule=\"evenodd\" fill-opacity=\"1\" stroke=\"#000000\" stroke-opacity=\"1\" stroke-width=\"3.2\"/>\n",
       "<circle clip-path=\"url(#clip2802)\" cx=\"1297.67\" cy=\"745.613\" r=\"14\" fill=\"#3da44d\" fill-rule=\"evenodd\" fill-opacity=\"1\" stroke=\"#000000\" stroke-opacity=\"1\" stroke-width=\"3.2\"/>\n",
       "<circle clip-path=\"url(#clip2802)\" cx=\"1371.31\" cy=\"717.121\" r=\"14\" fill=\"#3da44d\" fill-rule=\"evenodd\" fill-opacity=\"1\" stroke=\"#000000\" stroke-opacity=\"1\" stroke-width=\"3.2\"/>\n",
       "<circle clip-path=\"url(#clip2802)\" cx=\"1368.35\" cy=\"717.435\" r=\"14\" fill=\"#3da44d\" fill-rule=\"evenodd\" fill-opacity=\"1\" stroke=\"#000000\" stroke-opacity=\"1\" stroke-width=\"3.2\"/>\n",
       "<circle clip-path=\"url(#clip2802)\" cx=\"1369.38\" cy=\"716.293\" r=\"14\" fill=\"#3da44d\" fill-rule=\"evenodd\" fill-opacity=\"1\" stroke=\"#000000\" stroke-opacity=\"1\" stroke-width=\"3.2\"/>\n",
       "<circle clip-path=\"url(#clip2802)\" cx=\"1370.44\" cy=\"714.994\" r=\"14\" fill=\"#3da44d\" fill-rule=\"evenodd\" fill-opacity=\"1\" stroke=\"#000000\" stroke-opacity=\"1\" stroke-width=\"3.2\"/>\n",
       "<circle clip-path=\"url(#clip2802)\" cx=\"1299.55\" cy=\"743.582\" r=\"14\" fill=\"#3da44d\" fill-rule=\"evenodd\" fill-opacity=\"1\" stroke=\"#000000\" stroke-opacity=\"1\" stroke-width=\"3.2\"/>\n",
       "<circle clip-path=\"url(#clip2802)\" cx=\"1372.22\" cy=\"715.388\" r=\"14\" fill=\"#3da44d\" fill-rule=\"evenodd\" fill-opacity=\"1\" stroke=\"#000000\" stroke-opacity=\"1\" stroke-width=\"3.2\"/>\n",
       "<circle clip-path=\"url(#clip2802)\" cx=\"1367.01\" cy=\"716.479\" r=\"14\" fill=\"#3da44d\" fill-rule=\"evenodd\" fill-opacity=\"1\" stroke=\"#000000\" stroke-opacity=\"1\" stroke-width=\"3.2\"/>\n",
       "<circle clip-path=\"url(#clip2802)\" cx=\"1368.84\" cy=\"717.382\" r=\"14\" fill=\"#3da44d\" fill-rule=\"evenodd\" fill-opacity=\"1\" stroke=\"#000000\" stroke-opacity=\"1\" stroke-width=\"3.2\"/>\n",
       "<circle clip-path=\"url(#clip2802)\" cx=\"1365.24\" cy=\"718.515\" r=\"14\" fill=\"#3da44d\" fill-rule=\"evenodd\" fill-opacity=\"1\" stroke=\"#000000\" stroke-opacity=\"1\" stroke-width=\"3.2\"/>\n",
       "<circle clip-path=\"url(#clip2802)\" cx=\"1368.83\" cy=\"715.253\" r=\"14\" fill=\"#3da44d\" fill-rule=\"evenodd\" fill-opacity=\"1\" stroke=\"#000000\" stroke-opacity=\"1\" stroke-width=\"3.2\"/>\n",
       "<circle clip-path=\"url(#clip2802)\" cx=\"1364.32\" cy=\"718.571\" r=\"14\" fill=\"#3da44d\" fill-rule=\"evenodd\" fill-opacity=\"1\" stroke=\"#000000\" stroke-opacity=\"1\" stroke-width=\"3.2\"/>\n",
       "<circle clip-path=\"url(#clip2802)\" cx=\"1364.19\" cy=\"719.684\" r=\"14\" fill=\"#3da44d\" fill-rule=\"evenodd\" fill-opacity=\"1\" stroke=\"#000000\" stroke-opacity=\"1\" stroke-width=\"3.2\"/>\n",
       "<circle clip-path=\"url(#clip2802)\" cx=\"1362.78\" cy=\"718.662\" r=\"14\" fill=\"#3da44d\" fill-rule=\"evenodd\" fill-opacity=\"1\" stroke=\"#000000\" stroke-opacity=\"1\" stroke-width=\"3.2\"/>\n",
       "<circle clip-path=\"url(#clip2802)\" cx=\"1360.25\" cy=\"721.628\" r=\"14\" fill=\"#3da44d\" fill-rule=\"evenodd\" fill-opacity=\"1\" stroke=\"#000000\" stroke-opacity=\"1\" stroke-width=\"3.2\"/>\n",
       "<circle clip-path=\"url(#clip2802)\" cx=\"1355.3\" cy=\"723.382\" r=\"14\" fill=\"#3da44d\" fill-rule=\"evenodd\" fill-opacity=\"1\" stroke=\"#000000\" stroke-opacity=\"1\" stroke-width=\"3.2\"/>\n",
       "<circle clip-path=\"url(#clip2802)\" cx=\"1359.35\" cy=\"721.913\" r=\"14\" fill=\"#3da44d\" fill-rule=\"evenodd\" fill-opacity=\"1\" stroke=\"#000000\" stroke-opacity=\"1\" stroke-width=\"3.2\"/>\n",
       "<circle clip-path=\"url(#clip2802)\" cx=\"1354.41\" cy=\"724.386\" r=\"14\" fill=\"#3da44d\" fill-rule=\"evenodd\" fill-opacity=\"1\" stroke=\"#000000\" stroke-opacity=\"1\" stroke-width=\"3.2\"/>\n",
       "<circle clip-path=\"url(#clip2802)\" cx=\"1353.2\" cy=\"726.38\" r=\"14\" fill=\"#3da44d\" fill-rule=\"evenodd\" fill-opacity=\"1\" stroke=\"#000000\" stroke-opacity=\"1\" stroke-width=\"3.2\"/>\n",
       "<circle clip-path=\"url(#clip2802)\" cx=\"1349.85\" cy=\"727.328\" r=\"14\" fill=\"#3da44d\" fill-rule=\"evenodd\" fill-opacity=\"1\" stroke=\"#000000\" stroke-opacity=\"1\" stroke-width=\"3.2\"/>\n",
       "<circle clip-path=\"url(#clip2802)\" cx=\"1348.72\" cy=\"728.39\" r=\"14\" fill=\"#3da44d\" fill-rule=\"evenodd\" fill-opacity=\"1\" stroke=\"#000000\" stroke-opacity=\"1\" stroke-width=\"3.2\"/>\n",
       "<circle clip-path=\"url(#clip2802)\" cx=\"1348.88\" cy=\"727.66\" r=\"14\" fill=\"#3da44d\" fill-rule=\"evenodd\" fill-opacity=\"1\" stroke=\"#000000\" stroke-opacity=\"1\" stroke-width=\"3.2\"/>\n",
       "<circle clip-path=\"url(#clip2802)\" cx=\"1348.91\" cy=\"728.135\" r=\"14\" fill=\"#3da44d\" fill-rule=\"evenodd\" fill-opacity=\"1\" stroke=\"#000000\" stroke-opacity=\"1\" stroke-width=\"3.2\"/>\n",
       "<circle clip-path=\"url(#clip2802)\" cx=\"1341.6\" cy=\"730.982\" r=\"14\" fill=\"#3da44d\" fill-rule=\"evenodd\" fill-opacity=\"1\" stroke=\"#000000\" stroke-opacity=\"1\" stroke-width=\"3.2\"/>\n",
       "<circle clip-path=\"url(#clip2802)\" cx=\"1335.42\" cy=\"735.884\" r=\"14\" fill=\"#3da44d\" fill-rule=\"evenodd\" fill-opacity=\"1\" stroke=\"#000000\" stroke-opacity=\"1\" stroke-width=\"3.2\"/>\n",
       "<circle clip-path=\"url(#clip2802)\" cx=\"1329.69\" cy=\"738.499\" r=\"14\" fill=\"#3da44d\" fill-rule=\"evenodd\" fill-opacity=\"1\" stroke=\"#000000\" stroke-opacity=\"1\" stroke-width=\"3.2\"/>\n",
       "<circle clip-path=\"url(#clip2802)\" cx=\"1323.4\" cy=\"741.903\" r=\"14\" fill=\"#3da44d\" fill-rule=\"evenodd\" fill-opacity=\"1\" stroke=\"#000000\" stroke-opacity=\"1\" stroke-width=\"3.2\"/>\n",
       "<circle clip-path=\"url(#clip2802)\" cx=\"1322.92\" cy=\"740.623\" r=\"14\" fill=\"#3da44d\" fill-rule=\"evenodd\" fill-opacity=\"1\" stroke=\"#000000\" stroke-opacity=\"1\" stroke-width=\"3.2\"/>\n",
       "<circle clip-path=\"url(#clip2802)\" cx=\"1320.56\" cy=\"744.13\" r=\"14\" fill=\"#3da44d\" fill-rule=\"evenodd\" fill-opacity=\"1\" stroke=\"#000000\" stroke-opacity=\"1\" stroke-width=\"3.2\"/>\n",
       "<circle clip-path=\"url(#clip2802)\" cx=\"1318.02\" cy=\"744.197\" r=\"14\" fill=\"#3da44d\" fill-rule=\"evenodd\" fill-opacity=\"1\" stroke=\"#000000\" stroke-opacity=\"1\" stroke-width=\"3.2\"/>\n",
       "<circle clip-path=\"url(#clip2802)\" cx=\"1316.25\" cy=\"745.866\" r=\"14\" fill=\"#3da44d\" fill-rule=\"evenodd\" fill-opacity=\"1\" stroke=\"#000000\" stroke-opacity=\"1\" stroke-width=\"3.2\"/>\n",
       "<circle clip-path=\"url(#clip2802)\" cx=\"1311.53\" cy=\"749.525\" r=\"14\" fill=\"#3da44d\" fill-rule=\"evenodd\" fill-opacity=\"1\" stroke=\"#000000\" stroke-opacity=\"1\" stroke-width=\"3.2\"/>\n",
       "<circle clip-path=\"url(#clip2802)\" cx=\"1309.94\" cy=\"749.367\" r=\"14\" fill=\"#3da44d\" fill-rule=\"evenodd\" fill-opacity=\"1\" stroke=\"#000000\" stroke-opacity=\"1\" stroke-width=\"3.2\"/>\n",
       "<circle clip-path=\"url(#clip2802)\" cx=\"1299.2\" cy=\"755.551\" r=\"14\" fill=\"#3da44d\" fill-rule=\"evenodd\" fill-opacity=\"1\" stroke=\"#000000\" stroke-opacity=\"1\" stroke-width=\"3.2\"/>\n",
       "<circle clip-path=\"url(#clip2802)\" cx=\"1295.73\" cy=\"759.3\" r=\"14\" fill=\"#3da44d\" fill-rule=\"evenodd\" fill-opacity=\"1\" stroke=\"#000000\" stroke-opacity=\"1\" stroke-width=\"3.2\"/>\n",
       "<circle clip-path=\"url(#clip2802)\" cx=\"1291.43\" cy=\"759.743\" r=\"14\" fill=\"#3da44d\" fill-rule=\"evenodd\" fill-opacity=\"1\" stroke=\"#000000\" stroke-opacity=\"1\" stroke-width=\"3.2\"/>\n",
       "<circle clip-path=\"url(#clip2802)\" cx=\"1286.45\" cy=\"763.408\" r=\"14\" fill=\"#3da44d\" fill-rule=\"evenodd\" fill-opacity=\"1\" stroke=\"#000000\" stroke-opacity=\"1\" stroke-width=\"3.2\"/>\n",
       "<circle clip-path=\"url(#clip2802)\" cx=\"1283.01\" cy=\"764.682\" r=\"14\" fill=\"#3da44d\" fill-rule=\"evenodd\" fill-opacity=\"1\" stroke=\"#000000\" stroke-opacity=\"1\" stroke-width=\"3.2\"/>\n",
       "<circle clip-path=\"url(#clip2802)\" cx=\"1278.76\" cy=\"767.734\" r=\"14\" fill=\"#3da44d\" fill-rule=\"evenodd\" fill-opacity=\"1\" stroke=\"#000000\" stroke-opacity=\"1\" stroke-width=\"3.2\"/>\n",
       "<circle clip-path=\"url(#clip2802)\" cx=\"1271.78\" cy=\"772.886\" r=\"14\" fill=\"#3da44d\" fill-rule=\"evenodd\" fill-opacity=\"1\" stroke=\"#000000\" stroke-opacity=\"1\" stroke-width=\"3.2\"/>\n",
       "<circle clip-path=\"url(#clip2802)\" cx=\"1270.06\" cy=\"775.729\" r=\"14\" fill=\"#3da44d\" fill-rule=\"evenodd\" fill-opacity=\"1\" stroke=\"#000000\" stroke-opacity=\"1\" stroke-width=\"3.2\"/>\n",
       "<circle clip-path=\"url(#clip2802)\" cx=\"1263.12\" cy=\"778.506\" r=\"14\" fill=\"#3da44d\" fill-rule=\"evenodd\" fill-opacity=\"1\" stroke=\"#000000\" stroke-opacity=\"1\" stroke-width=\"3.2\"/>\n",
       "<circle clip-path=\"url(#clip2802)\" cx=\"1255.57\" cy=\"784.281\" r=\"14\" fill=\"#3da44d\" fill-rule=\"evenodd\" fill-opacity=\"1\" stroke=\"#000000\" stroke-opacity=\"1\" stroke-width=\"3.2\"/>\n",
       "<circle clip-path=\"url(#clip2802)\" cx=\"1252.99\" cy=\"785.488\" r=\"14\" fill=\"#3da44d\" fill-rule=\"evenodd\" fill-opacity=\"1\" stroke=\"#000000\" stroke-opacity=\"1\" stroke-width=\"3.2\"/>\n",
       "<circle clip-path=\"url(#clip2802)\" cx=\"1132.36\" cy=\"864.189\" r=\"14\" fill=\"#3da44d\" fill-rule=\"evenodd\" fill-opacity=\"1\" stroke=\"#000000\" stroke-opacity=\"1\" stroke-width=\"3.2\"/>\n",
       "<circle clip-path=\"url(#clip2802)\" cx=\"1127.59\" cy=\"867.933\" r=\"14\" fill=\"#3da44d\" fill-rule=\"evenodd\" fill-opacity=\"1\" stroke=\"#000000\" stroke-opacity=\"1\" stroke-width=\"3.2\"/>\n",
       "<circle clip-path=\"url(#clip2802)\" cx=\"1121.69\" cy=\"873.186\" r=\"14\" fill=\"#3da44d\" fill-rule=\"evenodd\" fill-opacity=\"1\" stroke=\"#000000\" stroke-opacity=\"1\" stroke-width=\"3.2\"/>\n",
       "<circle clip-path=\"url(#clip2802)\" cx=\"1117.22\" cy=\"875.93\" r=\"14\" fill=\"#3da44d\" fill-rule=\"evenodd\" fill-opacity=\"1\" stroke=\"#000000\" stroke-opacity=\"1\" stroke-width=\"3.2\"/>\n",
       "<circle clip-path=\"url(#clip2802)\" cx=\"1115.14\" cy=\"878.087\" r=\"14\" fill=\"#3da44d\" fill-rule=\"evenodd\" fill-opacity=\"1\" stroke=\"#000000\" stroke-opacity=\"1\" stroke-width=\"3.2\"/>\n",
       "<circle clip-path=\"url(#clip2802)\" cx=\"1111.73\" cy=\"881.716\" r=\"14\" fill=\"#3da44d\" fill-rule=\"evenodd\" fill-opacity=\"1\" stroke=\"#000000\" stroke-opacity=\"1\" stroke-width=\"3.2\"/>\n",
       "<circle clip-path=\"url(#clip2802)\" cx=\"1112.83\" cy=\"884.229\" r=\"14\" fill=\"#3da44d\" fill-rule=\"evenodd\" fill-opacity=\"1\" stroke=\"#000000\" stroke-opacity=\"1\" stroke-width=\"3.2\"/>\n",
       "<circle clip-path=\"url(#clip2802)\" cx=\"1109.28\" cy=\"884.723\" r=\"14\" fill=\"#3da44d\" fill-rule=\"evenodd\" fill-opacity=\"1\" stroke=\"#000000\" stroke-opacity=\"1\" stroke-width=\"3.2\"/>\n",
       "<circle clip-path=\"url(#clip2802)\" cx=\"1111.25\" cy=\"887.108\" r=\"14\" fill=\"#3da44d\" fill-rule=\"evenodd\" fill-opacity=\"1\" stroke=\"#000000\" stroke-opacity=\"1\" stroke-width=\"3.2\"/>\n",
       "<circle clip-path=\"url(#clip2802)\" cx=\"1109.91\" cy=\"888.963\" r=\"14\" fill=\"#3da44d\" fill-rule=\"evenodd\" fill-opacity=\"1\" stroke=\"#000000\" stroke-opacity=\"1\" stroke-width=\"3.2\"/>\n",
       "<circle clip-path=\"url(#clip2802)\" cx=\"1108.84\" cy=\"891.319\" r=\"14\" fill=\"#3da44d\" fill-rule=\"evenodd\" fill-opacity=\"1\" stroke=\"#000000\" stroke-opacity=\"1\" stroke-width=\"3.2\"/>\n",
       "<circle clip-path=\"url(#clip2802)\" cx=\"1109.11\" cy=\"894.079\" r=\"14\" fill=\"#3da44d\" fill-rule=\"evenodd\" fill-opacity=\"1\" stroke=\"#000000\" stroke-opacity=\"1\" stroke-width=\"3.2\"/>\n",
       "<circle clip-path=\"url(#clip2802)\" cx=\"1110.13\" cy=\"896.852\" r=\"14\" fill=\"#3da44d\" fill-rule=\"evenodd\" fill-opacity=\"1\" stroke=\"#000000\" stroke-opacity=\"1\" stroke-width=\"3.2\"/>\n",
       "<circle clip-path=\"url(#clip2802)\" cx=\"1112.26\" cy=\"899.503\" r=\"14\" fill=\"#3da44d\" fill-rule=\"evenodd\" fill-opacity=\"1\" stroke=\"#000000\" stroke-opacity=\"1\" stroke-width=\"3.2\"/>\n",
       "<circle clip-path=\"url(#clip2802)\" cx=\"1124.65\" cy=\"893.536\" r=\"14\" fill=\"#3da44d\" fill-rule=\"evenodd\" fill-opacity=\"1\" stroke=\"#000000\" stroke-opacity=\"1\" stroke-width=\"3.2\"/>\n",
       "<circle clip-path=\"url(#clip2802)\" cx=\"1122.33\" cy=\"896.289\" r=\"14\" fill=\"#3da44d\" fill-rule=\"evenodd\" fill-opacity=\"1\" stroke=\"#000000\" stroke-opacity=\"1\" stroke-width=\"3.2\"/>\n",
       "<circle clip-path=\"url(#clip2802)\" cx=\"1131.59\" cy=\"894.398\" r=\"14\" fill=\"#3da44d\" fill-rule=\"evenodd\" fill-opacity=\"1\" stroke=\"#000000\" stroke-opacity=\"1\" stroke-width=\"3.2\"/>\n",
       "<circle clip-path=\"url(#clip2802)\" cx=\"1139.26\" cy=\"890.274\" r=\"14\" fill=\"#3da44d\" fill-rule=\"evenodd\" fill-opacity=\"1\" stroke=\"#000000\" stroke-opacity=\"1\" stroke-width=\"3.2\"/>\n",
       "<circle clip-path=\"url(#clip2802)\" cx=\"1144.47\" cy=\"889.995\" r=\"14\" fill=\"#3da44d\" fill-rule=\"evenodd\" fill-opacity=\"1\" stroke=\"#000000\" stroke-opacity=\"1\" stroke-width=\"3.2\"/>\n",
       "<circle clip-path=\"url(#clip2802)\" cx=\"1150.84\" cy=\"886.584\" r=\"14\" fill=\"#3da44d\" fill-rule=\"evenodd\" fill-opacity=\"1\" stroke=\"#000000\" stroke-opacity=\"1\" stroke-width=\"3.2\"/>\n",
       "<circle clip-path=\"url(#clip2802)\" cx=\"1157.62\" cy=\"884.943\" r=\"14\" fill=\"#3da44d\" fill-rule=\"evenodd\" fill-opacity=\"1\" stroke=\"#000000\" stroke-opacity=\"1\" stroke-width=\"3.2\"/>\n",
       "<circle clip-path=\"url(#clip2802)\" cx=\"1162\" cy=\"881.909\" r=\"14\" fill=\"#3da44d\" fill-rule=\"evenodd\" fill-opacity=\"1\" stroke=\"#000000\" stroke-opacity=\"1\" stroke-width=\"3.2\"/>\n",
       "<circle clip-path=\"url(#clip2802)\" cx=\"1174.1\" cy=\"876.402\" r=\"14\" fill=\"#3da44d\" fill-rule=\"evenodd\" fill-opacity=\"1\" stroke=\"#000000\" stroke-opacity=\"1\" stroke-width=\"3.2\"/>\n",
       "<circle clip-path=\"url(#clip2802)\" cx=\"1178.7\" cy=\"876.021\" r=\"14\" fill=\"#3da44d\" fill-rule=\"evenodd\" fill-opacity=\"1\" stroke=\"#000000\" stroke-opacity=\"1\" stroke-width=\"3.2\"/>\n",
       "<circle clip-path=\"url(#clip2802)\" cx=\"1193.05\" cy=\"867.438\" r=\"14\" fill=\"#3da44d\" fill-rule=\"evenodd\" fill-opacity=\"1\" stroke=\"#000000\" stroke-opacity=\"1\" stroke-width=\"3.2\"/>\n",
       "<circle clip-path=\"url(#clip2802)\" cx=\"1197.71\" cy=\"863.167\" r=\"14\" fill=\"#3da44d\" fill-rule=\"evenodd\" fill-opacity=\"1\" stroke=\"#000000\" stroke-opacity=\"1\" stroke-width=\"3.2\"/>\n",
       "<circle clip-path=\"url(#clip2802)\" cx=\"1202.99\" cy=\"862.233\" r=\"14\" fill=\"#3da44d\" fill-rule=\"evenodd\" fill-opacity=\"1\" stroke=\"#000000\" stroke-opacity=\"1\" stroke-width=\"3.2\"/>\n",
       "<circle clip-path=\"url(#clip2802)\" cx=\"1216.61\" cy=\"850.649\" r=\"14\" fill=\"#3da44d\" fill-rule=\"evenodd\" fill-opacity=\"1\" stroke=\"#000000\" stroke-opacity=\"1\" stroke-width=\"3.2\"/>\n",
       "<circle clip-path=\"url(#clip2802)\" cx=\"1222.91\" cy=\"847.314\" r=\"14\" fill=\"#3da44d\" fill-rule=\"evenodd\" fill-opacity=\"1\" stroke=\"#000000\" stroke-opacity=\"1\" stroke-width=\"3.2\"/>\n",
       "<circle clip-path=\"url(#clip2802)\" cx=\"1225.83\" cy=\"844.891\" r=\"14\" fill=\"#3da44d\" fill-rule=\"evenodd\" fill-opacity=\"1\" stroke=\"#000000\" stroke-opacity=\"1\" stroke-width=\"3.2\"/>\n",
       "<circle clip-path=\"url(#clip2802)\" cx=\"1321.78\" cy=\"736.386\" r=\"14\" fill=\"#3da44d\" fill-rule=\"evenodd\" fill-opacity=\"1\" stroke=\"#000000\" stroke-opacity=\"1\" stroke-width=\"3.2\"/>\n",
       "<circle clip-path=\"url(#clip2802)\" cx=\"1236.24\" cy=\"838.701\" r=\"14\" fill=\"#3da44d\" fill-rule=\"evenodd\" fill-opacity=\"1\" stroke=\"#000000\" stroke-opacity=\"1\" stroke-width=\"3.2\"/>\n",
       "<circle clip-path=\"url(#clip2802)\" cx=\"1236.4\" cy=\"838.456\" r=\"14\" fill=\"#3da44d\" fill-rule=\"evenodd\" fill-opacity=\"1\" stroke=\"#000000\" stroke-opacity=\"1\" stroke-width=\"3.2\"/>\n",
       "<circle clip-path=\"url(#clip2802)\" cx=\"1244.9\" cy=\"833.306\" r=\"14\" fill=\"#3da44d\" fill-rule=\"evenodd\" fill-opacity=\"1\" stroke=\"#000000\" stroke-opacity=\"1\" stroke-width=\"3.2\"/>\n",
       "<circle clip-path=\"url(#clip2802)\" cx=\"1249.44\" cy=\"827.124\" r=\"14\" fill=\"#3da44d\" fill-rule=\"evenodd\" fill-opacity=\"1\" stroke=\"#000000\" stroke-opacity=\"1\" stroke-width=\"3.2\"/>\n",
       "<circle clip-path=\"url(#clip2802)\" cx=\"1256.16\" cy=\"823.225\" r=\"14\" fill=\"#3da44d\" fill-rule=\"evenodd\" fill-opacity=\"1\" stroke=\"#000000\" stroke-opacity=\"1\" stroke-width=\"3.2\"/>\n",
       "<circle clip-path=\"url(#clip2802)\" cx=\"1262.27\" cy=\"818.305\" r=\"14\" fill=\"#3da44d\" fill-rule=\"evenodd\" fill-opacity=\"1\" stroke=\"#000000\" stroke-opacity=\"1\" stroke-width=\"3.2\"/>\n",
       "<circle clip-path=\"url(#clip2802)\" cx=\"1269.94\" cy=\"810.866\" r=\"14\" fill=\"#3da44d\" fill-rule=\"evenodd\" fill-opacity=\"1\" stroke=\"#000000\" stroke-opacity=\"1\" stroke-width=\"3.2\"/>\n",
       "<circle clip-path=\"url(#clip2802)\" cx=\"1273.74\" cy=\"806.405\" r=\"14\" fill=\"#3da44d\" fill-rule=\"evenodd\" fill-opacity=\"1\" stroke=\"#000000\" stroke-opacity=\"1\" stroke-width=\"3.2\"/>\n",
       "<circle clip-path=\"url(#clip2802)\" cx=\"1276.97\" cy=\"803.036\" r=\"14\" fill=\"#3da44d\" fill-rule=\"evenodd\" fill-opacity=\"1\" stroke=\"#000000\" stroke-opacity=\"1\" stroke-width=\"3.2\"/>\n",
       "<circle clip-path=\"url(#clip2802)\" cx=\"1282\" cy=\"798.641\" r=\"14\" fill=\"#3da44d\" fill-rule=\"evenodd\" fill-opacity=\"1\" stroke=\"#000000\" stroke-opacity=\"1\" stroke-width=\"3.2\"/>\n",
       "<circle clip-path=\"url(#clip2802)\" cx=\"1287.97\" cy=\"794.436\" r=\"14\" fill=\"#3da44d\" fill-rule=\"evenodd\" fill-opacity=\"1\" stroke=\"#000000\" stroke-opacity=\"1\" stroke-width=\"3.2\"/>\n",
       "<circle clip-path=\"url(#clip2802)\" cx=\"1296.32\" cy=\"785.922\" r=\"14\" fill=\"#3da44d\" fill-rule=\"evenodd\" fill-opacity=\"1\" stroke=\"#000000\" stroke-opacity=\"1\" stroke-width=\"3.2\"/>\n",
       "<circle clip-path=\"url(#clip2802)\" cx=\"1299.87\" cy=\"784.132\" r=\"14\" fill=\"#3da44d\" fill-rule=\"evenodd\" fill-opacity=\"1\" stroke=\"#000000\" stroke-opacity=\"1\" stroke-width=\"3.2\"/>\n",
       "<circle clip-path=\"url(#clip2802)\" cx=\"1302.72\" cy=\"781.075\" r=\"14\" fill=\"#3da44d\" fill-rule=\"evenodd\" fill-opacity=\"1\" stroke=\"#000000\" stroke-opacity=\"1\" stroke-width=\"3.2\"/>\n",
       "<circle clip-path=\"url(#clip2802)\" cx=\"1310.3\" cy=\"775.268\" r=\"14\" fill=\"#3da44d\" fill-rule=\"evenodd\" fill-opacity=\"1\" stroke=\"#000000\" stroke-opacity=\"1\" stroke-width=\"3.2\"/>\n",
       "<circle clip-path=\"url(#clip2802)\" cx=\"1311.43\" cy=\"772.417\" r=\"14\" fill=\"#3da44d\" fill-rule=\"evenodd\" fill-opacity=\"1\" stroke=\"#000000\" stroke-opacity=\"1\" stroke-width=\"3.2\"/>\n",
       "<circle clip-path=\"url(#clip2802)\" cx=\"1321.7\" cy=\"764.118\" r=\"14\" fill=\"#3da44d\" fill-rule=\"evenodd\" fill-opacity=\"1\" stroke=\"#000000\" stroke-opacity=\"1\" stroke-width=\"3.2\"/>\n",
       "<circle clip-path=\"url(#clip2802)\" cx=\"1324.46\" cy=\"761.438\" r=\"14\" fill=\"#3da44d\" fill-rule=\"evenodd\" fill-opacity=\"1\" stroke=\"#000000\" stroke-opacity=\"1\" stroke-width=\"3.2\"/>\n",
       "<circle clip-path=\"url(#clip2802)\" cx=\"1323.42\" cy=\"761.274\" r=\"14\" fill=\"#3da44d\" fill-rule=\"evenodd\" fill-opacity=\"1\" stroke=\"#000000\" stroke-opacity=\"1\" stroke-width=\"3.2\"/>\n",
       "<circle clip-path=\"url(#clip2802)\" cx=\"1323.33\" cy=\"759.531\" r=\"14\" fill=\"#3da44d\" fill-rule=\"evenodd\" fill-opacity=\"1\" stroke=\"#000000\" stroke-opacity=\"1\" stroke-width=\"3.2\"/>\n",
       "<circle clip-path=\"url(#clip2802)\" cx=\"1330.39\" cy=\"753.432\" r=\"14\" fill=\"#3da44d\" fill-rule=\"evenodd\" fill-opacity=\"1\" stroke=\"#000000\" stroke-opacity=\"1\" stroke-width=\"3.2\"/>\n",
       "<circle clip-path=\"url(#clip2802)\" cx=\"1339.47\" cy=\"745.106\" r=\"14\" fill=\"#3da44d\" fill-rule=\"evenodd\" fill-opacity=\"1\" stroke=\"#000000\" stroke-opacity=\"1\" stroke-width=\"3.2\"/>\n",
       "<circle clip-path=\"url(#clip2802)\" cx=\"1344.58\" cy=\"740.65\" r=\"14\" fill=\"#3da44d\" fill-rule=\"evenodd\" fill-opacity=\"1\" stroke=\"#000000\" stroke-opacity=\"1\" stroke-width=\"3.2\"/>\n",
       "<circle clip-path=\"url(#clip2802)\" cx=\"1346.77\" cy=\"737.835\" r=\"14\" fill=\"#3da44d\" fill-rule=\"evenodd\" fill-opacity=\"1\" stroke=\"#000000\" stroke-opacity=\"1\" stroke-width=\"3.2\"/>\n",
       "<circle clip-path=\"url(#clip2802)\" cx=\"1351.88\" cy=\"733.853\" r=\"14\" fill=\"#3da44d\" fill-rule=\"evenodd\" fill-opacity=\"1\" stroke=\"#000000\" stroke-opacity=\"1\" stroke-width=\"3.2\"/>\n",
       "<circle clip-path=\"url(#clip2802)\" cx=\"1349.38\" cy=\"734.899\" r=\"14\" fill=\"#3da44d\" fill-rule=\"evenodd\" fill-opacity=\"1\" stroke=\"#000000\" stroke-opacity=\"1\" stroke-width=\"3.2\"/>\n",
       "<circle clip-path=\"url(#clip2802)\" cx=\"1353.72\" cy=\"732.026\" r=\"14\" fill=\"#3da44d\" fill-rule=\"evenodd\" fill-opacity=\"1\" stroke=\"#000000\" stroke-opacity=\"1\" stroke-width=\"3.2\"/>\n",
       "<circle clip-path=\"url(#clip2802)\" cx=\"1354.73\" cy=\"729.19\" r=\"14\" fill=\"#3da44d\" fill-rule=\"evenodd\" fill-opacity=\"1\" stroke=\"#000000\" stroke-opacity=\"1\" stroke-width=\"3.2\"/>\n",
       "<circle clip-path=\"url(#clip2802)\" cx=\"1358.52\" cy=\"728.249\" r=\"14\" fill=\"#3da44d\" fill-rule=\"evenodd\" fill-opacity=\"1\" stroke=\"#000000\" stroke-opacity=\"1\" stroke-width=\"3.2\"/>\n",
       "<circle clip-path=\"url(#clip2802)\" cx=\"1363\" cy=\"721.347\" r=\"14\" fill=\"#3da44d\" fill-rule=\"evenodd\" fill-opacity=\"1\" stroke=\"#000000\" stroke-opacity=\"1\" stroke-width=\"3.2\"/>\n",
       "<circle clip-path=\"url(#clip2802)\" cx=\"1365.52\" cy=\"720.5\" r=\"14\" fill=\"#3da44d\" fill-rule=\"evenodd\" fill-opacity=\"1\" stroke=\"#000000\" stroke-opacity=\"1\" stroke-width=\"3.2\"/>\n",
       "<circle clip-path=\"url(#clip2802)\" cx=\"1364.54\" cy=\"719.252\" r=\"14\" fill=\"#3da44d\" fill-rule=\"evenodd\" fill-opacity=\"1\" stroke=\"#000000\" stroke-opacity=\"1\" stroke-width=\"3.2\"/>\n",
       "<circle clip-path=\"url(#clip2802)\" cx=\"1369.68\" cy=\"716.557\" r=\"14\" fill=\"#3da44d\" fill-rule=\"evenodd\" fill-opacity=\"1\" stroke=\"#000000\" stroke-opacity=\"1\" stroke-width=\"3.2\"/>\n",
       "<circle clip-path=\"url(#clip2802)\" cx=\"1372.8\" cy=\"712.955\" r=\"14\" fill=\"#3da44d\" fill-rule=\"evenodd\" fill-opacity=\"1\" stroke=\"#000000\" stroke-opacity=\"1\" stroke-width=\"3.2\"/>\n",
       "<circle clip-path=\"url(#clip2802)\" cx=\"1373.18\" cy=\"711.293\" r=\"14\" fill=\"#3da44d\" fill-rule=\"evenodd\" fill-opacity=\"1\" stroke=\"#000000\" stroke-opacity=\"1\" stroke-width=\"3.2\"/>\n",
       "<circle clip-path=\"url(#clip2802)\" cx=\"1371.65\" cy=\"710.814\" r=\"14\" fill=\"#3da44d\" fill-rule=\"evenodd\" fill-opacity=\"1\" stroke=\"#000000\" stroke-opacity=\"1\" stroke-width=\"3.2\"/>\n",
       "<circle clip-path=\"url(#clip2802)\" cx=\"1379.49\" cy=\"706.507\" r=\"14\" fill=\"#3da44d\" fill-rule=\"evenodd\" fill-opacity=\"1\" stroke=\"#000000\" stroke-opacity=\"1\" stroke-width=\"3.2\"/>\n",
       "<circle clip-path=\"url(#clip2802)\" cx=\"1377.83\" cy=\"705.991\" r=\"14\" fill=\"#3da44d\" fill-rule=\"evenodd\" fill-opacity=\"1\" stroke=\"#000000\" stroke-opacity=\"1\" stroke-width=\"3.2\"/>\n",
       "<circle clip-path=\"url(#clip2802)\" cx=\"1380.54\" cy=\"705.778\" r=\"14\" fill=\"#3da44d\" fill-rule=\"evenodd\" fill-opacity=\"1\" stroke=\"#000000\" stroke-opacity=\"1\" stroke-width=\"3.2\"/>\n",
       "<circle clip-path=\"url(#clip2802)\" cx=\"1380.75\" cy=\"703.407\" r=\"14\" fill=\"#3da44d\" fill-rule=\"evenodd\" fill-opacity=\"1\" stroke=\"#000000\" stroke-opacity=\"1\" stroke-width=\"3.2\"/>\n",
       "<circle clip-path=\"url(#clip2802)\" cx=\"1384.49\" cy=\"701.419\" r=\"14\" fill=\"#3da44d\" fill-rule=\"evenodd\" fill-opacity=\"1\" stroke=\"#000000\" stroke-opacity=\"1\" stroke-width=\"3.2\"/>\n",
       "<circle clip-path=\"url(#clip2802)\" cx=\"1381.44\" cy=\"701.562\" r=\"14\" fill=\"#3da44d\" fill-rule=\"evenodd\" fill-opacity=\"1\" stroke=\"#000000\" stroke-opacity=\"1\" stroke-width=\"3.2\"/>\n",
       "<circle clip-path=\"url(#clip2802)\" cx=\"1385.22\" cy=\"700.253\" r=\"14\" fill=\"#3da44d\" fill-rule=\"evenodd\" fill-opacity=\"1\" stroke=\"#000000\" stroke-opacity=\"1\" stroke-width=\"3.2\"/>\n",
       "<circle clip-path=\"url(#clip2802)\" cx=\"1383.15\" cy=\"699.131\" r=\"14\" fill=\"#3da44d\" fill-rule=\"evenodd\" fill-opacity=\"1\" stroke=\"#000000\" stroke-opacity=\"1\" stroke-width=\"3.2\"/>\n",
       "<circle clip-path=\"url(#clip2802)\" cx=\"1387.42\" cy=\"697.457\" r=\"14\" fill=\"#3da44d\" fill-rule=\"evenodd\" fill-opacity=\"1\" stroke=\"#000000\" stroke-opacity=\"1\" stroke-width=\"3.2\"/>\n",
       "<circle clip-path=\"url(#clip2802)\" cx=\"1383.68\" cy=\"699.648\" r=\"14\" fill=\"#3da44d\" fill-rule=\"evenodd\" fill-opacity=\"1\" stroke=\"#000000\" stroke-opacity=\"1\" stroke-width=\"3.2\"/>\n",
       "<circle clip-path=\"url(#clip2802)\" cx=\"1384.88\" cy=\"699.113\" r=\"14\" fill=\"#3da44d\" fill-rule=\"evenodd\" fill-opacity=\"1\" stroke=\"#000000\" stroke-opacity=\"1\" stroke-width=\"3.2\"/>\n",
       "<circle clip-path=\"url(#clip2802)\" cx=\"1385.36\" cy=\"698.121\" r=\"14\" fill=\"#3da44d\" fill-rule=\"evenodd\" fill-opacity=\"1\" stroke=\"#000000\" stroke-opacity=\"1\" stroke-width=\"3.2\"/>\n",
       "<circle clip-path=\"url(#clip2802)\" cx=\"1386.93\" cy=\"696.418\" r=\"14\" fill=\"#3da44d\" fill-rule=\"evenodd\" fill-opacity=\"1\" stroke=\"#000000\" stroke-opacity=\"1\" stroke-width=\"3.2\"/>\n",
       "<circle clip-path=\"url(#clip2802)\" cx=\"1385.12\" cy=\"697.621\" r=\"14\" fill=\"#3da44d\" fill-rule=\"evenodd\" fill-opacity=\"1\" stroke=\"#000000\" stroke-opacity=\"1\" stroke-width=\"3.2\"/>\n",
       "<circle clip-path=\"url(#clip2802)\" cx=\"1389.87\" cy=\"695.715\" r=\"14\" fill=\"#3da44d\" fill-rule=\"evenodd\" fill-opacity=\"1\" stroke=\"#000000\" stroke-opacity=\"1\" stroke-width=\"3.2\"/>\n",
       "<circle clip-path=\"url(#clip2802)\" cx=\"1382.21\" cy=\"699.788\" r=\"14\" fill=\"#3da44d\" fill-rule=\"evenodd\" fill-opacity=\"1\" stroke=\"#000000\" stroke-opacity=\"1\" stroke-width=\"3.2\"/>\n",
       "<circle clip-path=\"url(#clip2802)\" cx=\"1382.83\" cy=\"699.802\" r=\"14\" fill=\"#3da44d\" fill-rule=\"evenodd\" fill-opacity=\"1\" stroke=\"#000000\" stroke-opacity=\"1\" stroke-width=\"3.2\"/>\n",
       "<circle clip-path=\"url(#clip2802)\" cx=\"1384.56\" cy=\"698.432\" r=\"14\" fill=\"#3da44d\" fill-rule=\"evenodd\" fill-opacity=\"1\" stroke=\"#000000\" stroke-opacity=\"1\" stroke-width=\"3.2\"/>\n",
       "<circle clip-path=\"url(#clip2802)\" cx=\"1384.3\" cy=\"699.925\" r=\"14\" fill=\"#3da44d\" fill-rule=\"evenodd\" fill-opacity=\"1\" stroke=\"#000000\" stroke-opacity=\"1\" stroke-width=\"3.2\"/>\n",
       "<circle clip-path=\"url(#clip2802)\" cx=\"1381.55\" cy=\"700.75\" r=\"14\" fill=\"#3da44d\" fill-rule=\"evenodd\" fill-opacity=\"1\" stroke=\"#000000\" stroke-opacity=\"1\" stroke-width=\"3.2\"/>\n",
       "<circle clip-path=\"url(#clip2802)\" cx=\"1383.46\" cy=\"700.11\" r=\"14\" fill=\"#3da44d\" fill-rule=\"evenodd\" fill-opacity=\"1\" stroke=\"#000000\" stroke-opacity=\"1\" stroke-width=\"3.2\"/>\n",
       "<circle clip-path=\"url(#clip2802)\" cx=\"1382.69\" cy=\"701.059\" r=\"14\" fill=\"#3da44d\" fill-rule=\"evenodd\" fill-opacity=\"1\" stroke=\"#000000\" stroke-opacity=\"1\" stroke-width=\"3.2\"/>\n",
       "<circle clip-path=\"url(#clip2802)\" cx=\"1374.97\" cy=\"705.481\" r=\"14\" fill=\"#3da44d\" fill-rule=\"evenodd\" fill-opacity=\"1\" stroke=\"#000000\" stroke-opacity=\"1\" stroke-width=\"3.2\"/>\n",
       "<circle clip-path=\"url(#clip2802)\" cx=\"1373.01\" cy=\"706.278\" r=\"14\" fill=\"#3da44d\" fill-rule=\"evenodd\" fill-opacity=\"1\" stroke=\"#000000\" stroke-opacity=\"1\" stroke-width=\"3.2\"/>\n",
       "<circle clip-path=\"url(#clip2802)\" cx=\"1371.82\" cy=\"708.721\" r=\"14\" fill=\"#3da44d\" fill-rule=\"evenodd\" fill-opacity=\"1\" stroke=\"#000000\" stroke-opacity=\"1\" stroke-width=\"3.2\"/>\n",
       "<circle clip-path=\"url(#clip2802)\" cx=\"1369.26\" cy=\"709.451\" r=\"14\" fill=\"#3da44d\" fill-rule=\"evenodd\" fill-opacity=\"1\" stroke=\"#000000\" stroke-opacity=\"1\" stroke-width=\"3.2\"/>\n",
       "<circle clip-path=\"url(#clip2802)\" cx=\"1371.57\" cy=\"710.247\" r=\"14\" fill=\"#3da44d\" fill-rule=\"evenodd\" fill-opacity=\"1\" stroke=\"#000000\" stroke-opacity=\"1\" stroke-width=\"3.2\"/>\n",
       "<circle clip-path=\"url(#clip2802)\" cx=\"1369.58\" cy=\"709.851\" r=\"14\" fill=\"#3da44d\" fill-rule=\"evenodd\" fill-opacity=\"1\" stroke=\"#000000\" stroke-opacity=\"1\" stroke-width=\"3.2\"/>\n",
       "<circle clip-path=\"url(#clip2802)\" cx=\"1370.19\" cy=\"710.133\" r=\"14\" fill=\"#3da44d\" fill-rule=\"evenodd\" fill-opacity=\"1\" stroke=\"#000000\" stroke-opacity=\"1\" stroke-width=\"3.2\"/>\n",
       "<circle clip-path=\"url(#clip2802)\" cx=\"1362.3\" cy=\"713.832\" r=\"14\" fill=\"#3da44d\" fill-rule=\"evenodd\" fill-opacity=\"1\" stroke=\"#000000\" stroke-opacity=\"1\" stroke-width=\"3.2\"/>\n",
       "<circle clip-path=\"url(#clip2802)\" cx=\"1364.07\" cy=\"713.292\" r=\"14\" fill=\"#3da44d\" fill-rule=\"evenodd\" fill-opacity=\"1\" stroke=\"#000000\" stroke-opacity=\"1\" stroke-width=\"3.2\"/>\n",
       "<circle clip-path=\"url(#clip2802)\" cx=\"1360.62\" cy=\"714.836\" r=\"14\" fill=\"#3da44d\" fill-rule=\"evenodd\" fill-opacity=\"1\" stroke=\"#000000\" stroke-opacity=\"1\" stroke-width=\"3.2\"/>\n",
       "<circle clip-path=\"url(#clip2802)\" cx=\"1357.49\" cy=\"718.452\" r=\"14\" fill=\"#3da44d\" fill-rule=\"evenodd\" fill-opacity=\"1\" stroke=\"#000000\" stroke-opacity=\"1\" stroke-width=\"3.2\"/>\n",
       "<circle clip-path=\"url(#clip2802)\" cx=\"1356.33\" cy=\"716.532\" r=\"14\" fill=\"#3da44d\" fill-rule=\"evenodd\" fill-opacity=\"1\" stroke=\"#000000\" stroke-opacity=\"1\" stroke-width=\"3.2\"/>\n",
       "<circle clip-path=\"url(#clip2802)\" cx=\"1353.1\" cy=\"720.346\" r=\"14\" fill=\"#3da44d\" fill-rule=\"evenodd\" fill-opacity=\"1\" stroke=\"#000000\" stroke-opacity=\"1\" stroke-width=\"3.2\"/>\n",
       "<circle clip-path=\"url(#clip2802)\" cx=\"1350.85\" cy=\"720.964\" r=\"14\" fill=\"#3da44d\" fill-rule=\"evenodd\" fill-opacity=\"1\" stroke=\"#000000\" stroke-opacity=\"1\" stroke-width=\"3.2\"/>\n",
       "<circle clip-path=\"url(#clip2802)\" cx=\"1349.98\" cy=\"721.026\" r=\"14\" fill=\"#3da44d\" fill-rule=\"evenodd\" fill-opacity=\"1\" stroke=\"#000000\" stroke-opacity=\"1\" stroke-width=\"3.2\"/>\n",
       "<circle clip-path=\"url(#clip2802)\" cx=\"1346.13\" cy=\"721.772\" r=\"14\" fill=\"#3da44d\" fill-rule=\"evenodd\" fill-opacity=\"1\" stroke=\"#000000\" stroke-opacity=\"1\" stroke-width=\"3.2\"/>\n",
       "<circle clip-path=\"url(#clip2802)\" cx=\"1343.7\" cy=\"725.451\" r=\"14\" fill=\"#3da44d\" fill-rule=\"evenodd\" fill-opacity=\"1\" stroke=\"#000000\" stroke-opacity=\"1\" stroke-width=\"3.2\"/>\n",
       "<circle clip-path=\"url(#clip2802)\" cx=\"1339.15\" cy=\"726.296\" r=\"14\" fill=\"#3da44d\" fill-rule=\"evenodd\" fill-opacity=\"1\" stroke=\"#000000\" stroke-opacity=\"1\" stroke-width=\"3.2\"/>\n",
       "<circle clip-path=\"url(#clip2802)\" cx=\"1335.92\" cy=\"729.168\" r=\"14\" fill=\"#3da44d\" fill-rule=\"evenodd\" fill-opacity=\"1\" stroke=\"#000000\" stroke-opacity=\"1\" stroke-width=\"3.2\"/>\n",
       "<circle clip-path=\"url(#clip2802)\" cx=\"1335.32\" cy=\"726.441\" r=\"14\" fill=\"#3da44d\" fill-rule=\"evenodd\" fill-opacity=\"1\" stroke=\"#000000\" stroke-opacity=\"1\" stroke-width=\"3.2\"/>\n",
       "<circle clip-path=\"url(#clip2802)\" cx=\"1331.49\" cy=\"733.822\" r=\"14\" fill=\"#3da44d\" fill-rule=\"evenodd\" fill-opacity=\"1\" stroke=\"#000000\" stroke-opacity=\"1\" stroke-width=\"3.2\"/>\n",
       "<circle clip-path=\"url(#clip2802)\" cx=\"1325.65\" cy=\"734.709\" r=\"14\" fill=\"#3da44d\" fill-rule=\"evenodd\" fill-opacity=\"1\" stroke=\"#000000\" stroke-opacity=\"1\" stroke-width=\"3.2\"/>\n",
       "<circle clip-path=\"url(#clip2802)\" cx=\"1327.59\" cy=\"733.888\" r=\"14\" fill=\"#3da44d\" fill-rule=\"evenodd\" fill-opacity=\"1\" stroke=\"#000000\" stroke-opacity=\"1\" stroke-width=\"3.2\"/>\n",
       "<circle clip-path=\"url(#clip2802)\" cx=\"1324.85\" cy=\"735.003\" r=\"14\" fill=\"#3da44d\" fill-rule=\"evenodd\" fill-opacity=\"1\" stroke=\"#000000\" stroke-opacity=\"1\" stroke-width=\"3.2\"/>\n",
       "<circle clip-path=\"url(#clip2802)\" cx=\"1322.82\" cy=\"735.922\" r=\"14\" fill=\"#3da44d\" fill-rule=\"evenodd\" fill-opacity=\"1\" stroke=\"#000000\" stroke-opacity=\"1\" stroke-width=\"3.2\"/>\n",
       "<circle clip-path=\"url(#clip2802)\" cx=\"1319.2\" cy=\"738.404\" r=\"14\" fill=\"#3da44d\" fill-rule=\"evenodd\" fill-opacity=\"1\" stroke=\"#000000\" stroke-opacity=\"1\" stroke-width=\"3.2\"/>\n",
       "<circle clip-path=\"url(#clip2802)\" cx=\"1316.95\" cy=\"737.432\" r=\"14\" fill=\"#3da44d\" fill-rule=\"evenodd\" fill-opacity=\"1\" stroke=\"#000000\" stroke-opacity=\"1\" stroke-width=\"3.2\"/>\n",
       "<circle clip-path=\"url(#clip2802)\" cx=\"1316.55\" cy=\"737.313\" r=\"14\" fill=\"#3da44d\" fill-rule=\"evenodd\" fill-opacity=\"1\" stroke=\"#000000\" stroke-opacity=\"1\" stroke-width=\"3.2\"/>\n",
       "<circle clip-path=\"url(#clip2802)\" cx=\"1316.08\" cy=\"738.189\" r=\"14\" fill=\"#3da44d\" fill-rule=\"evenodd\" fill-opacity=\"1\" stroke=\"#000000\" stroke-opacity=\"1\" stroke-width=\"3.2\"/>\n",
       "<circle clip-path=\"url(#clip2802)\" cx=\"1312.21\" cy=\"740.467\" r=\"14\" fill=\"#3da44d\" fill-rule=\"evenodd\" fill-opacity=\"1\" stroke=\"#000000\" stroke-opacity=\"1\" stroke-width=\"3.2\"/>\n",
       "<circle clip-path=\"url(#clip2802)\" cx=\"1310.61\" cy=\"741.957\" r=\"14\" fill=\"#3da44d\" fill-rule=\"evenodd\" fill-opacity=\"1\" stroke=\"#000000\" stroke-opacity=\"1\" stroke-width=\"3.2\"/>\n",
       "<circle clip-path=\"url(#clip2802)\" cx=\"1311.18\" cy=\"739.28\" r=\"14\" fill=\"#3da44d\" fill-rule=\"evenodd\" fill-opacity=\"1\" stroke=\"#000000\" stroke-opacity=\"1\" stroke-width=\"3.2\"/>\n",
       "<circle clip-path=\"url(#clip2802)\" cx=\"1308.02\" cy=\"741.709\" r=\"14\" fill=\"#3da44d\" fill-rule=\"evenodd\" fill-opacity=\"1\" stroke=\"#000000\" stroke-opacity=\"1\" stroke-width=\"3.2\"/>\n",
       "<circle clip-path=\"url(#clip2802)\" cx=\"1303.82\" cy=\"743.086\" r=\"14\" fill=\"#3da44d\" fill-rule=\"evenodd\" fill-opacity=\"1\" stroke=\"#000000\" stroke-opacity=\"1\" stroke-width=\"3.2\"/>\n",
       "<circle clip-path=\"url(#clip2802)\" cx=\"1305.48\" cy=\"742.759\" r=\"14\" fill=\"#3da44d\" fill-rule=\"evenodd\" fill-opacity=\"1\" stroke=\"#000000\" stroke-opacity=\"1\" stroke-width=\"3.2\"/>\n",
       "<circle clip-path=\"url(#clip2802)\" cx=\"1300.08\" cy=\"745.134\" r=\"14\" fill=\"#3da44d\" fill-rule=\"evenodd\" fill-opacity=\"1\" stroke=\"#000000\" stroke-opacity=\"1\" stroke-width=\"3.2\"/>\n",
       "<circle clip-path=\"url(#clip2802)\" cx=\"1321.21\" cy=\"737.223\" r=\"14\" fill=\"#3da44d\" fill-rule=\"evenodd\" fill-opacity=\"1\" stroke=\"#000000\" stroke-opacity=\"1\" stroke-width=\"3.2\"/>\n",
       "<circle clip-path=\"url(#clip2802)\" cx=\"1167.93\" cy=\"842.226\" r=\"14\" fill=\"#3da44d\" fill-rule=\"evenodd\" fill-opacity=\"1\" stroke=\"#000000\" stroke-opacity=\"1\" stroke-width=\"3.2\"/>\n",
       "<circle clip-path=\"url(#clip2802)\" cx=\"1169.63\" cy=\"843.577\" r=\"14\" fill=\"#3da44d\" fill-rule=\"evenodd\" fill-opacity=\"1\" stroke=\"#000000\" stroke-opacity=\"1\" stroke-width=\"3.2\"/>\n",
       "<circle clip-path=\"url(#clip2802)\" cx=\"1166.56\" cy=\"846.285\" r=\"14\" fill=\"#3da44d\" fill-rule=\"evenodd\" fill-opacity=\"1\" stroke=\"#000000\" stroke-opacity=\"1\" stroke-width=\"3.2\"/>\n",
       "<circle clip-path=\"url(#clip2802)\" cx=\"1171.27\" cy=\"845.202\" r=\"14\" fill=\"#3da44d\" fill-rule=\"evenodd\" fill-opacity=\"1\" stroke=\"#000000\" stroke-opacity=\"1\" stroke-width=\"3.2\"/>\n",
       "<circle clip-path=\"url(#clip2802)\" cx=\"1173.51\" cy=\"844.935\" r=\"14\" fill=\"#3da44d\" fill-rule=\"evenodd\" fill-opacity=\"1\" stroke=\"#000000\" stroke-opacity=\"1\" stroke-width=\"3.2\"/>\n",
       "<circle clip-path=\"url(#clip2802)\" cx=\"1165.98\" cy=\"841.142\" r=\"14\" fill=\"#3da44d\" fill-rule=\"evenodd\" fill-opacity=\"1\" stroke=\"#000000\" stroke-opacity=\"1\" stroke-width=\"3.2\"/>\n",
       "<circle clip-path=\"url(#clip2802)\" cx=\"1166.44\" cy=\"842.566\" r=\"14\" fill=\"#3da44d\" fill-rule=\"evenodd\" fill-opacity=\"1\" stroke=\"#000000\" stroke-opacity=\"1\" stroke-width=\"3.2\"/>\n",
       "<circle clip-path=\"url(#clip2802)\" cx=\"1168.01\" cy=\"845.175\" r=\"14\" fill=\"#3da44d\" fill-rule=\"evenodd\" fill-opacity=\"1\" stroke=\"#000000\" stroke-opacity=\"1\" stroke-width=\"3.2\"/>\n",
       "<circle clip-path=\"url(#clip2802)\" cx=\"1165.17\" cy=\"846.772\" r=\"14\" fill=\"#3da44d\" fill-rule=\"evenodd\" fill-opacity=\"1\" stroke=\"#000000\" stroke-opacity=\"1\" stroke-width=\"3.2\"/>\n",
       "<circle clip-path=\"url(#clip2802)\" cx=\"1317.95\" cy=\"738.911\" r=\"14\" fill=\"#3da44d\" fill-rule=\"evenodd\" fill-opacity=\"1\" stroke=\"#000000\" stroke-opacity=\"1\" stroke-width=\"3.2\"/>\n",
       "<circle clip-path=\"url(#clip2802)\" cx=\"1169.1\" cy=\"845.822\" r=\"14\" fill=\"#3da44d\" fill-rule=\"evenodd\" fill-opacity=\"1\" stroke=\"#000000\" stroke-opacity=\"1\" stroke-width=\"3.2\"/>\n",
       "<circle clip-path=\"url(#clip2802)\" cx=\"1168.11\" cy=\"846.905\" r=\"14\" fill=\"#3da44d\" fill-rule=\"evenodd\" fill-opacity=\"1\" stroke=\"#000000\" stroke-opacity=\"1\" stroke-width=\"3.2\"/>\n",
       "<circle clip-path=\"url(#clip2802)\" cx=\"1171.53\" cy=\"847.947\" r=\"14\" fill=\"#3da44d\" fill-rule=\"evenodd\" fill-opacity=\"1\" stroke=\"#000000\" stroke-opacity=\"1\" stroke-width=\"3.2\"/>\n",
       "<circle clip-path=\"url(#clip2802)\" cx=\"1173.74\" cy=\"847.341\" r=\"14\" fill=\"#3da44d\" fill-rule=\"evenodd\" fill-opacity=\"1\" stroke=\"#000000\" stroke-opacity=\"1\" stroke-width=\"3.2\"/>\n",
       "<circle clip-path=\"url(#clip2802)\" cx=\"1176.24\" cy=\"848.883\" r=\"14\" fill=\"#3da44d\" fill-rule=\"evenodd\" fill-opacity=\"1\" stroke=\"#000000\" stroke-opacity=\"1\" stroke-width=\"3.2\"/>\n",
       "<circle clip-path=\"url(#clip2802)\" cx=\"1178.43\" cy=\"847.462\" r=\"14\" fill=\"#3da44d\" fill-rule=\"evenodd\" fill-opacity=\"1\" stroke=\"#000000\" stroke-opacity=\"1\" stroke-width=\"3.2\"/>\n",
       "<circle clip-path=\"url(#clip2802)\" cx=\"1181.82\" cy=\"846.96\" r=\"14\" fill=\"#3da44d\" fill-rule=\"evenodd\" fill-opacity=\"1\" stroke=\"#000000\" stroke-opacity=\"1\" stroke-width=\"3.2\"/>\n",
       "<circle clip-path=\"url(#clip2802)\" cx=\"1186.21\" cy=\"844.325\" r=\"14\" fill=\"#3da44d\" fill-rule=\"evenodd\" fill-opacity=\"1\" stroke=\"#000000\" stroke-opacity=\"1\" stroke-width=\"3.2\"/>\n",
       "<circle clip-path=\"url(#clip2802)\" cx=\"1192.03\" cy=\"842.381\" r=\"14\" fill=\"#3da44d\" fill-rule=\"evenodd\" fill-opacity=\"1\" stroke=\"#000000\" stroke-opacity=\"1\" stroke-width=\"3.2\"/>\n",
       "<circle clip-path=\"url(#clip2802)\" cx=\"1194.99\" cy=\"840.889\" r=\"14\" fill=\"#3da44d\" fill-rule=\"evenodd\" fill-opacity=\"1\" stroke=\"#000000\" stroke-opacity=\"1\" stroke-width=\"3.2\"/>\n",
       "<circle clip-path=\"url(#clip2802)\" cx=\"1317.33\" cy=\"737.525\" r=\"14\" fill=\"#3da44d\" fill-rule=\"evenodd\" fill-opacity=\"1\" stroke=\"#000000\" stroke-opacity=\"1\" stroke-width=\"3.2\"/>\n",
       "<circle clip-path=\"url(#clip2802)\" cx=\"1203.13\" cy=\"835.626\" r=\"14\" fill=\"#3da44d\" fill-rule=\"evenodd\" fill-opacity=\"1\" stroke=\"#000000\" stroke-opacity=\"1\" stroke-width=\"3.2\"/>\n",
       "<circle clip-path=\"url(#clip2802)\" cx=\"1204.66\" cy=\"834.71\" r=\"14\" fill=\"#3da44d\" fill-rule=\"evenodd\" fill-opacity=\"1\" stroke=\"#000000\" stroke-opacity=\"1\" stroke-width=\"3.2\"/>\n",
       "<circle clip-path=\"url(#clip2802)\" cx=\"1208.18\" cy=\"836.495\" r=\"14\" fill=\"#3da44d\" fill-rule=\"evenodd\" fill-opacity=\"1\" stroke=\"#000000\" stroke-opacity=\"1\" stroke-width=\"3.2\"/>\n",
       "<circle clip-path=\"url(#clip2802)\" cx=\"1211.58\" cy=\"832.014\" r=\"14\" fill=\"#3da44d\" fill-rule=\"evenodd\" fill-opacity=\"1\" stroke=\"#000000\" stroke-opacity=\"1\" stroke-width=\"3.2\"/>\n",
       "<circle clip-path=\"url(#clip2802)\" cx=\"1217.64\" cy=\"830.878\" r=\"14\" fill=\"#3da44d\" fill-rule=\"evenodd\" fill-opacity=\"1\" stroke=\"#000000\" stroke-opacity=\"1\" stroke-width=\"3.2\"/>\n",
       "<circle clip-path=\"url(#clip2802)\" cx=\"1223.27\" cy=\"826.169\" r=\"14\" fill=\"#3da44d\" fill-rule=\"evenodd\" fill-opacity=\"1\" stroke=\"#000000\" stroke-opacity=\"1\" stroke-width=\"3.2\"/>\n",
       "<circle clip-path=\"url(#clip2802)\" cx=\"1226.9\" cy=\"823.512\" r=\"14\" fill=\"#3da44d\" fill-rule=\"evenodd\" fill-opacity=\"1\" stroke=\"#000000\" stroke-opacity=\"1\" stroke-width=\"3.2\"/>\n",
       "<circle clip-path=\"url(#clip2802)\" cx=\"1234.41\" cy=\"818.384\" r=\"14\" fill=\"#3da44d\" fill-rule=\"evenodd\" fill-opacity=\"1\" stroke=\"#000000\" stroke-opacity=\"1\" stroke-width=\"3.2\"/>\n",
       "<circle clip-path=\"url(#clip2802)\" cx=\"1236.47\" cy=\"818.072\" r=\"14\" fill=\"#3da44d\" fill-rule=\"evenodd\" fill-opacity=\"1\" stroke=\"#000000\" stroke-opacity=\"1\" stroke-width=\"3.2\"/>\n",
       "<circle clip-path=\"url(#clip2802)\" cx=\"1237.51\" cy=\"817.101\" r=\"14\" fill=\"#3da44d\" fill-rule=\"evenodd\" fill-opacity=\"1\" stroke=\"#000000\" stroke-opacity=\"1\" stroke-width=\"3.2\"/>\n",
       "<circle clip-path=\"url(#clip2802)\" cx=\"1313.09\" cy=\"739.515\" r=\"14\" fill=\"#3da44d\" fill-rule=\"evenodd\" fill-opacity=\"1\" stroke=\"#000000\" stroke-opacity=\"1\" stroke-width=\"3.2\"/>\n",
       "<circle clip-path=\"url(#clip2802)\" cx=\"1247.14\" cy=\"812.226\" r=\"14\" fill=\"#3da44d\" fill-rule=\"evenodd\" fill-opacity=\"1\" stroke=\"#000000\" stroke-opacity=\"1\" stroke-width=\"3.2\"/>\n",
       "<circle clip-path=\"url(#clip2802)\" cx=\"1249.68\" cy=\"809.029\" r=\"14\" fill=\"#3da44d\" fill-rule=\"evenodd\" fill-opacity=\"1\" stroke=\"#000000\" stroke-opacity=\"1\" stroke-width=\"3.2\"/>\n",
       "<circle clip-path=\"url(#clip2802)\" cx=\"1251.75\" cy=\"808.209\" r=\"14\" fill=\"#3da44d\" fill-rule=\"evenodd\" fill-opacity=\"1\" stroke=\"#000000\" stroke-opacity=\"1\" stroke-width=\"3.2\"/>\n",
       "<circle clip-path=\"url(#clip2802)\" cx=\"1254.8\" cy=\"806.489\" r=\"14\" fill=\"#3da44d\" fill-rule=\"evenodd\" fill-opacity=\"1\" stroke=\"#000000\" stroke-opacity=\"1\" stroke-width=\"3.2\"/>\n",
       "<circle clip-path=\"url(#clip2802)\" cx=\"1261.57\" cy=\"803.84\" r=\"14\" fill=\"#3da44d\" fill-rule=\"evenodd\" fill-opacity=\"1\" stroke=\"#000000\" stroke-opacity=\"1\" stroke-width=\"3.2\"/>\n",
       "<circle clip-path=\"url(#clip2802)\" cx=\"1262.76\" cy=\"800.384\" r=\"14\" fill=\"#3da44d\" fill-rule=\"evenodd\" fill-opacity=\"1\" stroke=\"#000000\" stroke-opacity=\"1\" stroke-width=\"3.2\"/>\n",
       "<circle clip-path=\"url(#clip2802)\" cx=\"1266.75\" cy=\"799.021\" r=\"14\" fill=\"#3da44d\" fill-rule=\"evenodd\" fill-opacity=\"1\" stroke=\"#000000\" stroke-opacity=\"1\" stroke-width=\"3.2\"/>\n",
       "<circle clip-path=\"url(#clip2802)\" cx=\"1273.28\" cy=\"793.347\" r=\"14\" fill=\"#3da44d\" fill-rule=\"evenodd\" fill-opacity=\"1\" stroke=\"#000000\" stroke-opacity=\"1\" stroke-width=\"3.2\"/>\n",
       "<circle clip-path=\"url(#clip2802)\" cx=\"1281.6\" cy=\"787.503\" r=\"14\" fill=\"#3da44d\" fill-rule=\"evenodd\" fill-opacity=\"1\" stroke=\"#000000\" stroke-opacity=\"1\" stroke-width=\"3.2\"/>\n",
       "<circle clip-path=\"url(#clip2802)\" cx=\"1282.7\" cy=\"785.085\" r=\"14\" fill=\"#3da44d\" fill-rule=\"evenodd\" fill-opacity=\"1\" stroke=\"#000000\" stroke-opacity=\"1\" stroke-width=\"3.2\"/>\n",
       "<circle clip-path=\"url(#clip2802)\" cx=\"1309.52\" cy=\"741.987\" r=\"14\" fill=\"#3da44d\" fill-rule=\"evenodd\" fill-opacity=\"1\" stroke=\"#000000\" stroke-opacity=\"1\" stroke-width=\"3.2\"/>\n",
       "<circle clip-path=\"url(#clip2802)\" cx=\"1289.69\" cy=\"782.145\" r=\"14\" fill=\"#3da44d\" fill-rule=\"evenodd\" fill-opacity=\"1\" stroke=\"#000000\" stroke-opacity=\"1\" stroke-width=\"3.2\"/>\n",
       "<circle clip-path=\"url(#clip2802)\" cx=\"1291.35\" cy=\"779\" r=\"14\" fill=\"#3da44d\" fill-rule=\"evenodd\" fill-opacity=\"1\" stroke=\"#000000\" stroke-opacity=\"1\" stroke-width=\"3.2\"/>\n",
       "<circle clip-path=\"url(#clip2802)\" cx=\"1297.7\" cy=\"774.418\" r=\"14\" fill=\"#3da44d\" fill-rule=\"evenodd\" fill-opacity=\"1\" stroke=\"#000000\" stroke-opacity=\"1\" stroke-width=\"3.2\"/>\n",
       "<circle clip-path=\"url(#clip2802)\" cx=\"1298.88\" cy=\"774.769\" r=\"14\" fill=\"#3da44d\" fill-rule=\"evenodd\" fill-opacity=\"1\" stroke=\"#000000\" stroke-opacity=\"1\" stroke-width=\"3.2\"/>\n",
       "<circle clip-path=\"url(#clip2802)\" cx=\"1302.54\" cy=\"771.309\" r=\"14\" fill=\"#3da44d\" fill-rule=\"evenodd\" fill-opacity=\"1\" stroke=\"#000000\" stroke-opacity=\"1\" stroke-width=\"3.2\"/>\n",
       "<circle clip-path=\"url(#clip2802)\" cx=\"1305.25\" cy=\"767.788\" r=\"14\" fill=\"#3da44d\" fill-rule=\"evenodd\" fill-opacity=\"1\" stroke=\"#000000\" stroke-opacity=\"1\" stroke-width=\"3.2\"/>\n",
       "<circle clip-path=\"url(#clip2802)\" cx=\"1306.11\" cy=\"768.472\" r=\"14\" fill=\"#3da44d\" fill-rule=\"evenodd\" fill-opacity=\"1\" stroke=\"#000000\" stroke-opacity=\"1\" stroke-width=\"3.2\"/>\n",
       "<circle clip-path=\"url(#clip2802)\" cx=\"1311.8\" cy=\"764.495\" r=\"14\" fill=\"#3da44d\" fill-rule=\"evenodd\" fill-opacity=\"1\" stroke=\"#000000\" stroke-opacity=\"1\" stroke-width=\"3.2\"/>\n",
       "<circle clip-path=\"url(#clip2802)\" cx=\"1315.62\" cy=\"760.735\" r=\"14\" fill=\"#3da44d\" fill-rule=\"evenodd\" fill-opacity=\"1\" stroke=\"#000000\" stroke-opacity=\"1\" stroke-width=\"3.2\"/>\n",
       "<circle clip-path=\"url(#clip2802)\" cx=\"1317.9\" cy=\"758.831\" r=\"14\" fill=\"#3da44d\" fill-rule=\"evenodd\" fill-opacity=\"1\" stroke=\"#000000\" stroke-opacity=\"1\" stroke-width=\"3.2\"/>\n",
       "<circle clip-path=\"url(#clip2802)\" cx=\"1306.84\" cy=\"741.181\" r=\"14\" fill=\"#3da44d\" fill-rule=\"evenodd\" fill-opacity=\"1\" stroke=\"#000000\" stroke-opacity=\"1\" stroke-width=\"3.2\"/>\n",
       "<circle clip-path=\"url(#clip2802)\" cx=\"1319.65\" cy=\"759.823\" r=\"14\" fill=\"#3da44d\" fill-rule=\"evenodd\" fill-opacity=\"1\" stroke=\"#000000\" stroke-opacity=\"1\" stroke-width=\"3.2\"/>\n",
       "<circle clip-path=\"url(#clip2802)\" cx=\"1321.6\" cy=\"757.364\" r=\"14\" fill=\"#3da44d\" fill-rule=\"evenodd\" fill-opacity=\"1\" stroke=\"#000000\" stroke-opacity=\"1\" stroke-width=\"3.2\"/>\n",
       "<circle clip-path=\"url(#clip2802)\" cx=\"1326.45\" cy=\"752.54\" r=\"14\" fill=\"#3da44d\" fill-rule=\"evenodd\" fill-opacity=\"1\" stroke=\"#000000\" stroke-opacity=\"1\" stroke-width=\"3.2\"/>\n",
       "<circle clip-path=\"url(#clip2802)\" cx=\"1328.86\" cy=\"750.729\" r=\"14\" fill=\"#3da44d\" fill-rule=\"evenodd\" fill-opacity=\"1\" stroke=\"#000000\" stroke-opacity=\"1\" stroke-width=\"3.2\"/>\n",
       "<circle clip-path=\"url(#clip2802)\" cx=\"1333.34\" cy=\"746.388\" r=\"14\" fill=\"#3da44d\" fill-rule=\"evenodd\" fill-opacity=\"1\" stroke=\"#000000\" stroke-opacity=\"1\" stroke-width=\"3.2\"/>\n",
       "<circle clip-path=\"url(#clip2802)\" cx=\"1336.33\" cy=\"743.558\" r=\"14\" fill=\"#3da44d\" fill-rule=\"evenodd\" fill-opacity=\"1\" stroke=\"#000000\" stroke-opacity=\"1\" stroke-width=\"3.2\"/>\n",
       "<circle clip-path=\"url(#clip2802)\" cx=\"1351.8\" cy=\"732.407\" r=\"14\" fill=\"#3da44d\" fill-rule=\"evenodd\" fill-opacity=\"1\" stroke=\"#000000\" stroke-opacity=\"1\" stroke-width=\"3.2\"/>\n",
       "<circle clip-path=\"url(#clip2802)\" cx=\"1350.96\" cy=\"731.716\" r=\"14\" fill=\"#3da44d\" fill-rule=\"evenodd\" fill-opacity=\"1\" stroke=\"#000000\" stroke-opacity=\"1\" stroke-width=\"3.2\"/>\n",
       "<circle clip-path=\"url(#clip2802)\" cx=\"1302.59\" cy=\"742.194\" r=\"14\" fill=\"#3da44d\" fill-rule=\"evenodd\" fill-opacity=\"1\" stroke=\"#000000\" stroke-opacity=\"1\" stroke-width=\"3.2\"/>\n",
       "<circle clip-path=\"url(#clip2802)\" cx=\"1353.22\" cy=\"730.115\" r=\"14\" fill=\"#3da44d\" fill-rule=\"evenodd\" fill-opacity=\"1\" stroke=\"#000000\" stroke-opacity=\"1\" stroke-width=\"3.2\"/>\n",
       "<circle clip-path=\"url(#clip2802)\" cx=\"1356.86\" cy=\"727.485\" r=\"14\" fill=\"#3da44d\" fill-rule=\"evenodd\" fill-opacity=\"1\" stroke=\"#000000\" stroke-opacity=\"1\" stroke-width=\"3.2\"/>\n",
       "<circle clip-path=\"url(#clip2802)\" cx=\"1358.98\" cy=\"726.431\" r=\"14\" fill=\"#3da44d\" fill-rule=\"evenodd\" fill-opacity=\"1\" stroke=\"#000000\" stroke-opacity=\"1\" stroke-width=\"3.2\"/>\n",
       "<circle clip-path=\"url(#clip2802)\" cx=\"1359.23\" cy=\"725.516\" r=\"14\" fill=\"#3da44d\" fill-rule=\"evenodd\" fill-opacity=\"1\" stroke=\"#000000\" stroke-opacity=\"1\" stroke-width=\"3.2\"/>\n",
       "<circle clip-path=\"url(#clip2802)\" cx=\"1362.79\" cy=\"723.583\" r=\"14\" fill=\"#3da44d\" fill-rule=\"evenodd\" fill-opacity=\"1\" stroke=\"#000000\" stroke-opacity=\"1\" stroke-width=\"3.2\"/>\n",
       "<circle clip-path=\"url(#clip2802)\" cx=\"1362.78\" cy=\"722.981\" r=\"14\" fill=\"#3da44d\" fill-rule=\"evenodd\" fill-opacity=\"1\" stroke=\"#000000\" stroke-opacity=\"1\" stroke-width=\"3.2\"/>\n",
       "<circle clip-path=\"url(#clip2802)\" cx=\"1363.38\" cy=\"722.52\" r=\"14\" fill=\"#3da44d\" fill-rule=\"evenodd\" fill-opacity=\"1\" stroke=\"#000000\" stroke-opacity=\"1\" stroke-width=\"3.2\"/>\n",
       "<circle clip-path=\"url(#clip2802)\" cx=\"1363.44\" cy=\"722.101\" r=\"14\" fill=\"#3da44d\" fill-rule=\"evenodd\" fill-opacity=\"1\" stroke=\"#000000\" stroke-opacity=\"1\" stroke-width=\"3.2\"/>\n",
       "<circle clip-path=\"url(#clip2802)\" cx=\"1302.52\" cy=\"742.301\" r=\"14\" fill=\"#3da44d\" fill-rule=\"evenodd\" fill-opacity=\"1\" stroke=\"#000000\" stroke-opacity=\"1\" stroke-width=\"3.2\"/>\n",
       "<circle clip-path=\"url(#clip2802)\" cx=\"1199.11\" cy=\"830.087\" r=\"14\" fill=\"#3da44d\" fill-rule=\"evenodd\" fill-opacity=\"1\" stroke=\"#000000\" stroke-opacity=\"1\" stroke-width=\"3.2\"/>\n",
       "<circle clip-path=\"url(#clip2802)\" cx=\"1182.59\" cy=\"831.42\" r=\"14\" fill=\"#3da44d\" fill-rule=\"evenodd\" fill-opacity=\"1\" stroke=\"#000000\" stroke-opacity=\"1\" stroke-width=\"3.2\"/>\n",
       "<circle clip-path=\"url(#clip2802)\" cx=\"1177.26\" cy=\"835.05\" r=\"14\" fill=\"#3da44d\" fill-rule=\"evenodd\" fill-opacity=\"1\" stroke=\"#000000\" stroke-opacity=\"1\" stroke-width=\"3.2\"/>\n",
       "<circle clip-path=\"url(#clip2802)\" cx=\"1168.7\" cy=\"844.811\" r=\"14\" fill=\"#3da44d\" fill-rule=\"evenodd\" fill-opacity=\"1\" stroke=\"#000000\" stroke-opacity=\"1\" stroke-width=\"3.2\"/>\n",
       "<circle clip-path=\"url(#clip2802)\" cx=\"1156.23\" cy=\"851.706\" r=\"14\" fill=\"#3da44d\" fill-rule=\"evenodd\" fill-opacity=\"1\" stroke=\"#000000\" stroke-opacity=\"1\" stroke-width=\"3.2\"/>\n",
       "<circle clip-path=\"url(#clip2802)\" cx=\"1150.39\" cy=\"856.065\" r=\"14\" fill=\"#3da44d\" fill-rule=\"evenodd\" fill-opacity=\"1\" stroke=\"#000000\" stroke-opacity=\"1\" stroke-width=\"3.2\"/>\n",
       "<circle clip-path=\"url(#clip2802)\" cx=\"1138.81\" cy=\"865.413\" r=\"14\" fill=\"#3da44d\" fill-rule=\"evenodd\" fill-opacity=\"1\" stroke=\"#000000\" stroke-opacity=\"1\" stroke-width=\"3.2\"/>\n",
       "<circle clip-path=\"url(#clip2802)\" cx=\"1139.78\" cy=\"866.26\" r=\"14\" fill=\"#3da44d\" fill-rule=\"evenodd\" fill-opacity=\"1\" stroke=\"#000000\" stroke-opacity=\"1\" stroke-width=\"3.2\"/>\n",
       "<circle clip-path=\"url(#clip2802)\" cx=\"1133.85\" cy=\"871.456\" r=\"14\" fill=\"#3da44d\" fill-rule=\"evenodd\" fill-opacity=\"1\" stroke=\"#000000\" stroke-opacity=\"1\" stroke-width=\"3.2\"/>\n",
       "<circle clip-path=\"url(#clip2802)\" cx=\"1131.07\" cy=\"873.138\" r=\"14\" fill=\"#3da44d\" fill-rule=\"evenodd\" fill-opacity=\"1\" stroke=\"#000000\" stroke-opacity=\"1\" stroke-width=\"3.2\"/>\n",
       "<circle clip-path=\"url(#clip2802)\" cx=\"1127.24\" cy=\"876.516\" r=\"14\" fill=\"#3da44d\" fill-rule=\"evenodd\" fill-opacity=\"1\" stroke=\"#000000\" stroke-opacity=\"1\" stroke-width=\"3.2\"/>\n",
       "<circle clip-path=\"url(#clip2802)\" cx=\"1230.99\" cy=\"814.742\" r=\"14\" fill=\"#3da44d\" fill-rule=\"evenodd\" fill-opacity=\"1\" stroke=\"#000000\" stroke-opacity=\"1\" stroke-width=\"3.2\"/>\n",
       "<circle clip-path=\"url(#clip2802)\" cx=\"1131.49\" cy=\"880.356\" r=\"14\" fill=\"#3da44d\" fill-rule=\"evenodd\" fill-opacity=\"1\" stroke=\"#000000\" stroke-opacity=\"1\" stroke-width=\"3.2\"/>\n",
       "<circle clip-path=\"url(#clip2802)\" cx=\"1130.08\" cy=\"881.342\" r=\"14\" fill=\"#3da44d\" fill-rule=\"evenodd\" fill-opacity=\"1\" stroke=\"#000000\" stroke-opacity=\"1\" stroke-width=\"3.2\"/>\n",
       "<circle clip-path=\"url(#clip2802)\" cx=\"1130.78\" cy=\"884.291\" r=\"14\" fill=\"#3da44d\" fill-rule=\"evenodd\" fill-opacity=\"1\" stroke=\"#000000\" stroke-opacity=\"1\" stroke-width=\"3.2\"/>\n",
       "<circle clip-path=\"url(#clip2802)\" cx=\"1131.15\" cy=\"884.4\" r=\"14\" fill=\"#3da44d\" fill-rule=\"evenodd\" fill-opacity=\"1\" stroke=\"#000000\" stroke-opacity=\"1\" stroke-width=\"3.2\"/>\n",
       "<circle clip-path=\"url(#clip2802)\" cx=\"1144.25\" cy=\"876.726\" r=\"14\" fill=\"#3da44d\" fill-rule=\"evenodd\" fill-opacity=\"1\" stroke=\"#000000\" stroke-opacity=\"1\" stroke-width=\"3.2\"/>\n",
       "<circle clip-path=\"url(#clip2802)\" cx=\"1144.7\" cy=\"875.772\" r=\"14\" fill=\"#3da44d\" fill-rule=\"evenodd\" fill-opacity=\"1\" stroke=\"#000000\" stroke-opacity=\"1\" stroke-width=\"3.2\"/>\n",
       "<circle clip-path=\"url(#clip2802)\" cx=\"1150.85\" cy=\"875.232\" r=\"14\" fill=\"#3da44d\" fill-rule=\"evenodd\" fill-opacity=\"1\" stroke=\"#000000\" stroke-opacity=\"1\" stroke-width=\"3.2\"/>\n",
       "<circle clip-path=\"url(#clip2802)\" cx=\"1147.98\" cy=\"876.456\" r=\"14\" fill=\"#3da44d\" fill-rule=\"evenodd\" fill-opacity=\"1\" stroke=\"#000000\" stroke-opacity=\"1\" stroke-width=\"3.2\"/>\n",
       "<circle clip-path=\"url(#clip2802)\" cx=\"1156.99\" cy=\"869.921\" r=\"14\" fill=\"#3da44d\" fill-rule=\"evenodd\" fill-opacity=\"1\" stroke=\"#000000\" stroke-opacity=\"1\" stroke-width=\"3.2\"/>\n",
       "<circle clip-path=\"url(#clip2802)\" cx=\"1159.78\" cy=\"869.77\" r=\"14\" fill=\"#3da44d\" fill-rule=\"evenodd\" fill-opacity=\"1\" stroke=\"#000000\" stroke-opacity=\"1\" stroke-width=\"3.2\"/>\n",
       "<circle clip-path=\"url(#clip2802)\" cx=\"1235.78\" cy=\"810.187\" r=\"14\" fill=\"#3da44d\" fill-rule=\"evenodd\" fill-opacity=\"1\" stroke=\"#000000\" stroke-opacity=\"1\" stroke-width=\"3.2\"/>\n",
       "<circle clip-path=\"url(#clip2802)\" cx=\"1163.01\" cy=\"867.699\" r=\"14\" fill=\"#3da44d\" fill-rule=\"evenodd\" fill-opacity=\"1\" stroke=\"#000000\" stroke-opacity=\"1\" stroke-width=\"3.2\"/>\n",
       "<circle clip-path=\"url(#clip2802)\" cx=\"1169.65\" cy=\"862.243\" r=\"14\" fill=\"#3da44d\" fill-rule=\"evenodd\" fill-opacity=\"1\" stroke=\"#000000\" stroke-opacity=\"1\" stroke-width=\"3.2\"/>\n",
       "<circle clip-path=\"url(#clip2802)\" cx=\"1173.54\" cy=\"861.259\" r=\"14\" fill=\"#3da44d\" fill-rule=\"evenodd\" fill-opacity=\"1\" stroke=\"#000000\" stroke-opacity=\"1\" stroke-width=\"3.2\"/>\n",
       "<circle clip-path=\"url(#clip2802)\" cx=\"1175.04\" cy=\"860.947\" r=\"14\" fill=\"#3da44d\" fill-rule=\"evenodd\" fill-opacity=\"1\" stroke=\"#000000\" stroke-opacity=\"1\" stroke-width=\"3.2\"/>\n",
       "<circle clip-path=\"url(#clip2802)\" cx=\"1183.04\" cy=\"857.239\" r=\"14\" fill=\"#3da44d\" fill-rule=\"evenodd\" fill-opacity=\"1\" stroke=\"#000000\" stroke-opacity=\"1\" stroke-width=\"3.2\"/>\n",
       "<circle clip-path=\"url(#clip2802)\" cx=\"1183.96\" cy=\"856.295\" r=\"14\" fill=\"#3da44d\" fill-rule=\"evenodd\" fill-opacity=\"1\" stroke=\"#000000\" stroke-opacity=\"1\" stroke-width=\"3.2\"/>\n",
       "<circle clip-path=\"url(#clip2802)\" cx=\"1189.94\" cy=\"854.584\" r=\"14\" fill=\"#3da44d\" fill-rule=\"evenodd\" fill-opacity=\"1\" stroke=\"#000000\" stroke-opacity=\"1\" stroke-width=\"3.2\"/>\n",
       "<circle clip-path=\"url(#clip2802)\" cx=\"1194.19\" cy=\"852.085\" r=\"14\" fill=\"#3da44d\" fill-rule=\"evenodd\" fill-opacity=\"1\" stroke=\"#000000\" stroke-opacity=\"1\" stroke-width=\"3.2\"/>\n",
       "<circle clip-path=\"url(#clip2802)\" cx=\"1202.68\" cy=\"843.919\" r=\"14\" fill=\"#3da44d\" fill-rule=\"evenodd\" fill-opacity=\"1\" stroke=\"#000000\" stroke-opacity=\"1\" stroke-width=\"3.2\"/>\n",
       "<circle clip-path=\"url(#clip2802)\" cx=\"1204.24\" cy=\"842.967\" r=\"14\" fill=\"#3da44d\" fill-rule=\"evenodd\" fill-opacity=\"1\" stroke=\"#000000\" stroke-opacity=\"1\" stroke-width=\"3.2\"/>\n",
       "<circle clip-path=\"url(#clip2802)\" cx=\"1216.69\" cy=\"835.304\" r=\"14\" fill=\"#3da44d\" fill-rule=\"evenodd\" fill-opacity=\"1\" stroke=\"#000000\" stroke-opacity=\"1\" stroke-width=\"3.2\"/>\n",
       "<circle clip-path=\"url(#clip2802)\" cx=\"1219.97\" cy=\"832.227\" r=\"14\" fill=\"#3da44d\" fill-rule=\"evenodd\" fill-opacity=\"1\" stroke=\"#000000\" stroke-opacity=\"1\" stroke-width=\"3.2\"/>\n",
       "<circle clip-path=\"url(#clip2802)\" cx=\"1212.29\" cy=\"841.309\" r=\"14\" fill=\"#3da44d\" fill-rule=\"evenodd\" fill-opacity=\"1\" stroke=\"#000000\" stroke-opacity=\"1\" stroke-width=\"3.2\"/>\n",
       "<circle clip-path=\"url(#clip2802)\" cx=\"1226.14\" cy=\"830.152\" r=\"14\" fill=\"#3da44d\" fill-rule=\"evenodd\" fill-opacity=\"1\" stroke=\"#000000\" stroke-opacity=\"1\" stroke-width=\"3.2\"/>\n",
       "<circle clip-path=\"url(#clip2802)\" cx=\"1226.41\" cy=\"829.673\" r=\"14\" fill=\"#3da44d\" fill-rule=\"evenodd\" fill-opacity=\"1\" stroke=\"#000000\" stroke-opacity=\"1\" stroke-width=\"3.2\"/>\n",
       "<circle clip-path=\"url(#clip2802)\" cx=\"1229\" cy=\"828.351\" r=\"14\" fill=\"#3da44d\" fill-rule=\"evenodd\" fill-opacity=\"1\" stroke=\"#000000\" stroke-opacity=\"1\" stroke-width=\"3.2\"/>\n",
       "<circle clip-path=\"url(#clip2802)\" cx=\"1230.16\" cy=\"827.953\" r=\"14\" fill=\"#3da44d\" fill-rule=\"evenodd\" fill-opacity=\"1\" stroke=\"#000000\" stroke-opacity=\"1\" stroke-width=\"3.2\"/>\n",
       "<circle clip-path=\"url(#clip2802)\" cx=\"1232.49\" cy=\"826.908\" r=\"14\" fill=\"#3da44d\" fill-rule=\"evenodd\" fill-opacity=\"1\" stroke=\"#000000\" stroke-opacity=\"1\" stroke-width=\"3.2\"/>\n",
       "<circle clip-path=\"url(#clip2802)\" cx=\"1243.53\" cy=\"817.694\" r=\"14\" fill=\"#3da44d\" fill-rule=\"evenodd\" fill-opacity=\"1\" stroke=\"#000000\" stroke-opacity=\"1\" stroke-width=\"3.2\"/>\n",
       "<circle clip-path=\"url(#clip2802)\" cx=\"1243.2\" cy=\"817.107\" r=\"14\" fill=\"#3da44d\" fill-rule=\"evenodd\" fill-opacity=\"1\" stroke=\"#000000\" stroke-opacity=\"1\" stroke-width=\"3.2\"/>\n",
       "<circle clip-path=\"url(#clip2802)\" cx=\"1242.86\" cy=\"806.128\" r=\"14\" fill=\"#3da44d\" fill-rule=\"evenodd\" fill-opacity=\"1\" stroke=\"#000000\" stroke-opacity=\"1\" stroke-width=\"3.2\"/>\n",
       "<circle clip-path=\"url(#clip2802)\" cx=\"1248.7\" cy=\"812.505\" r=\"14\" fill=\"#3da44d\" fill-rule=\"evenodd\" fill-opacity=\"1\" stroke=\"#000000\" stroke-opacity=\"1\" stroke-width=\"3.2\"/>\n",
       "<circle clip-path=\"url(#clip2802)\" cx=\"1252.23\" cy=\"809.877\" r=\"14\" fill=\"#3da44d\" fill-rule=\"evenodd\" fill-opacity=\"1\" stroke=\"#000000\" stroke-opacity=\"1\" stroke-width=\"3.2\"/>\n",
       "<circle clip-path=\"url(#clip2802)\" cx=\"1256.14\" cy=\"805.25\" r=\"14\" fill=\"#3da44d\" fill-rule=\"evenodd\" fill-opacity=\"1\" stroke=\"#000000\" stroke-opacity=\"1\" stroke-width=\"3.2\"/>\n",
       "<circle clip-path=\"url(#clip2802)\" cx=\"1260.33\" cy=\"802.353\" r=\"14\" fill=\"#3da44d\" fill-rule=\"evenodd\" fill-opacity=\"1\" stroke=\"#000000\" stroke-opacity=\"1\" stroke-width=\"3.2\"/>\n",
       "<circle clip-path=\"url(#clip2802)\" cx=\"1265.26\" cy=\"800.459\" r=\"14\" fill=\"#3da44d\" fill-rule=\"evenodd\" fill-opacity=\"1\" stroke=\"#000000\" stroke-opacity=\"1\" stroke-width=\"3.2\"/>\n",
       "<circle clip-path=\"url(#clip2802)\" cx=\"1269.08\" cy=\"794.313\" r=\"14\" fill=\"#3da44d\" fill-rule=\"evenodd\" fill-opacity=\"1\" stroke=\"#000000\" stroke-opacity=\"1\" stroke-width=\"3.2\"/>\n",
       "<circle clip-path=\"url(#clip2802)\" cx=\"1272.13\" cy=\"794.041\" r=\"14\" fill=\"#3da44d\" fill-rule=\"evenodd\" fill-opacity=\"1\" stroke=\"#000000\" stroke-opacity=\"1\" stroke-width=\"3.2\"/>\n",
       "<circle clip-path=\"url(#clip2802)\" cx=\"1271.55\" cy=\"793.968\" r=\"14\" fill=\"#3da44d\" fill-rule=\"evenodd\" fill-opacity=\"1\" stroke=\"#000000\" stroke-opacity=\"1\" stroke-width=\"3.2\"/>\n",
       "<circle clip-path=\"url(#clip2802)\" cx=\"1275.34\" cy=\"791.362\" r=\"14\" fill=\"#3da44d\" fill-rule=\"evenodd\" fill-opacity=\"1\" stroke=\"#000000\" stroke-opacity=\"1\" stroke-width=\"3.2\"/>\n",
       "<circle clip-path=\"url(#clip2802)\" cx=\"1274.65\" cy=\"790.471\" r=\"14\" fill=\"#3da44d\" fill-rule=\"evenodd\" fill-opacity=\"1\" stroke=\"#000000\" stroke-opacity=\"1\" stroke-width=\"3.2\"/>\n",
       "<circle clip-path=\"url(#clip2802)\" cx=\"1279.75\" cy=\"787.368\" r=\"14\" fill=\"#3da44d\" fill-rule=\"evenodd\" fill-opacity=\"1\" stroke=\"#000000\" stroke-opacity=\"1\" stroke-width=\"3.2\"/>\n",
       "<circle clip-path=\"url(#clip2802)\" cx=\"1279.67\" cy=\"786.856\" r=\"14\" fill=\"#3da44d\" fill-rule=\"evenodd\" fill-opacity=\"1\" stroke=\"#000000\" stroke-opacity=\"1\" stroke-width=\"3.2\"/>\n",
       "<circle clip-path=\"url(#clip2802)\" cx=\"1282.98\" cy=\"784.193\" r=\"14\" fill=\"#3da44d\" fill-rule=\"evenodd\" fill-opacity=\"1\" stroke=\"#000000\" stroke-opacity=\"1\" stroke-width=\"3.2\"/>\n",
       "<circle clip-path=\"url(#clip2802)\" cx=\"1286.42\" cy=\"779.986\" r=\"14\" fill=\"#3da44d\" fill-rule=\"evenodd\" fill-opacity=\"1\" stroke=\"#000000\" stroke-opacity=\"1\" stroke-width=\"3.2\"/>\n",
       "<circle clip-path=\"url(#clip2802)\" cx=\"1290.06\" cy=\"779.429\" r=\"14\" fill=\"#3da44d\" fill-rule=\"evenodd\" fill-opacity=\"1\" stroke=\"#000000\" stroke-opacity=\"1\" stroke-width=\"3.2\"/>\n",
       "<circle clip-path=\"url(#clip2802)\" cx=\"1291.34\" cy=\"778.335\" r=\"14\" fill=\"#3da44d\" fill-rule=\"evenodd\" fill-opacity=\"1\" stroke=\"#000000\" stroke-opacity=\"1\" stroke-width=\"3.2\"/>\n",
       "<circle clip-path=\"url(#clip2802)\" cx=\"1294.38\" cy=\"775.873\" r=\"14\" fill=\"#3da44d\" fill-rule=\"evenodd\" fill-opacity=\"1\" stroke=\"#000000\" stroke-opacity=\"1\" stroke-width=\"3.2\"/>\n",
       "<circle clip-path=\"url(#clip2802)\" cx=\"1293.8\" cy=\"774.722\" r=\"14\" fill=\"#3da44d\" fill-rule=\"evenodd\" fill-opacity=\"1\" stroke=\"#000000\" stroke-opacity=\"1\" stroke-width=\"3.2\"/>\n",
       "<circle clip-path=\"url(#clip2802)\" cx=\"1300.61\" cy=\"770.912\" r=\"14\" fill=\"#3da44d\" fill-rule=\"evenodd\" fill-opacity=\"1\" stroke=\"#000000\" stroke-opacity=\"1\" stroke-width=\"3.2\"/>\n",
       "<circle clip-path=\"url(#clip2802)\" cx=\"1301.09\" cy=\"770.564\" r=\"14\" fill=\"#3da44d\" fill-rule=\"evenodd\" fill-opacity=\"1\" stroke=\"#000000\" stroke-opacity=\"1\" stroke-width=\"3.2\"/>\n",
       "<circle clip-path=\"url(#clip2802)\" cx=\"1301.93\" cy=\"770.259\" r=\"14\" fill=\"#3da44d\" fill-rule=\"evenodd\" fill-opacity=\"1\" stroke=\"#000000\" stroke-opacity=\"1\" stroke-width=\"3.2\"/>\n",
       "<circle clip-path=\"url(#clip2802)\" cx=\"1300.72\" cy=\"769.593\" r=\"14\" fill=\"#3da44d\" fill-rule=\"evenodd\" fill-opacity=\"1\" stroke=\"#000000\" stroke-opacity=\"1\" stroke-width=\"3.2\"/>\n",
       "<circle clip-path=\"url(#clip2802)\" cx=\"1305.14\" cy=\"767.675\" r=\"14\" fill=\"#3da44d\" fill-rule=\"evenodd\" fill-opacity=\"1\" stroke=\"#000000\" stroke-opacity=\"1\" stroke-width=\"3.2\"/>\n",
       "<circle clip-path=\"url(#clip2802)\" cx=\"1307.04\" cy=\"764.238\" r=\"14\" fill=\"#3da44d\" fill-rule=\"evenodd\" fill-opacity=\"1\" stroke=\"#000000\" stroke-opacity=\"1\" stroke-width=\"3.2\"/>\n",
       "<circle clip-path=\"url(#clip2802)\" cx=\"1311.87\" cy=\"761.208\" r=\"14\" fill=\"#3da44d\" fill-rule=\"evenodd\" fill-opacity=\"1\" stroke=\"#000000\" stroke-opacity=\"1\" stroke-width=\"3.2\"/>\n",
       "<circle clip-path=\"url(#clip2802)\" cx=\"1311.49\" cy=\"761.813\" r=\"14\" fill=\"#3da44d\" fill-rule=\"evenodd\" fill-opacity=\"1\" stroke=\"#000000\" stroke-opacity=\"1\" stroke-width=\"3.2\"/>\n",
       "<circle clip-path=\"url(#clip2802)\" cx=\"1313.69\" cy=\"759.643\" r=\"14\" fill=\"#3da44d\" fill-rule=\"evenodd\" fill-opacity=\"1\" stroke=\"#000000\" stroke-opacity=\"1\" stroke-width=\"3.2\"/>\n",
       "<circle clip-path=\"url(#clip2802)\" cx=\"1316.4\" cy=\"758.38\" r=\"14\" fill=\"#3da44d\" fill-rule=\"evenodd\" fill-opacity=\"1\" stroke=\"#000000\" stroke-opacity=\"1\" stroke-width=\"3.2\"/>\n",
       "<circle clip-path=\"url(#clip2802)\" cx=\"1320.57\" cy=\"755.083\" r=\"14\" fill=\"#3da44d\" fill-rule=\"evenodd\" fill-opacity=\"1\" stroke=\"#000000\" stroke-opacity=\"1\" stroke-width=\"3.2\"/>\n",
       "<circle clip-path=\"url(#clip2802)\" cx=\"1321.05\" cy=\"752.948\" r=\"14\" fill=\"#3da44d\" fill-rule=\"evenodd\" fill-opacity=\"1\" stroke=\"#000000\" stroke-opacity=\"1\" stroke-width=\"3.2\"/>\n",
       "<circle clip-path=\"url(#clip2802)\" cx=\"1328.52\" cy=\"748.4\" r=\"14\" fill=\"#3da44d\" fill-rule=\"evenodd\" fill-opacity=\"1\" stroke=\"#000000\" stroke-opacity=\"1\" stroke-width=\"3.2\"/>\n",
       "<circle clip-path=\"url(#clip2802)\" cx=\"1327.28\" cy=\"748.947\" r=\"14\" fill=\"#3da44d\" fill-rule=\"evenodd\" fill-opacity=\"1\" stroke=\"#000000\" stroke-opacity=\"1\" stroke-width=\"3.2\"/>\n",
       "<circle clip-path=\"url(#clip2802)\" cx=\"1334.8\" cy=\"745.22\" r=\"14\" fill=\"#3da44d\" fill-rule=\"evenodd\" fill-opacity=\"1\" stroke=\"#000000\" stroke-opacity=\"1\" stroke-width=\"3.2\"/>\n",
       "<circle clip-path=\"url(#clip2802)\" cx=\"1334.48\" cy=\"742.789\" r=\"14\" fill=\"#3da44d\" fill-rule=\"evenodd\" fill-opacity=\"1\" stroke=\"#000000\" stroke-opacity=\"1\" stroke-width=\"3.2\"/>\n",
       "<circle clip-path=\"url(#clip2802)\" cx=\"1337.58\" cy=\"741.506\" r=\"14\" fill=\"#3da44d\" fill-rule=\"evenodd\" fill-opacity=\"1\" stroke=\"#000000\" stroke-opacity=\"1\" stroke-width=\"3.2\"/>\n",
       "<circle clip-path=\"url(#clip2802)\" cx=\"1337.74\" cy=\"740.232\" r=\"14\" fill=\"#3da44d\" fill-rule=\"evenodd\" fill-opacity=\"1\" stroke=\"#000000\" stroke-opacity=\"1\" stroke-width=\"3.2\"/>\n",
       "<circle clip-path=\"url(#clip2802)\" cx=\"1339.43\" cy=\"738.641\" r=\"14\" fill=\"#3da44d\" fill-rule=\"evenodd\" fill-opacity=\"1\" stroke=\"#000000\" stroke-opacity=\"1\" stroke-width=\"3.2\"/>\n",
       "<circle clip-path=\"url(#clip2802)\" cx=\"1341.22\" cy=\"737.965\" r=\"14\" fill=\"#3da44d\" fill-rule=\"evenodd\" fill-opacity=\"1\" stroke=\"#000000\" stroke-opacity=\"1\" stroke-width=\"3.2\"/>\n",
       "<circle clip-path=\"url(#clip2802)\" cx=\"1344.24\" cy=\"736.396\" r=\"14\" fill=\"#3da44d\" fill-rule=\"evenodd\" fill-opacity=\"1\" stroke=\"#000000\" stroke-opacity=\"1\" stroke-width=\"3.2\"/>\n",
       "<circle clip-path=\"url(#clip2802)\" cx=\"1343.39\" cy=\"736.005\" r=\"14\" fill=\"#3da44d\" fill-rule=\"evenodd\" fill-opacity=\"1\" stroke=\"#000000\" stroke-opacity=\"1\" stroke-width=\"3.2\"/>\n",
       "<circle clip-path=\"url(#clip2802)\" cx=\"1260.4\" cy=\"794.784\" r=\"14\" fill=\"#3da44d\" fill-rule=\"evenodd\" fill-opacity=\"1\" stroke=\"#000000\" stroke-opacity=\"1\" stroke-width=\"3.2\"/>\n",
       "<circle clip-path=\"url(#clip2802)\" cx=\"1347.61\" cy=\"733.875\" r=\"14\" fill=\"#3da44d\" fill-rule=\"evenodd\" fill-opacity=\"1\" stroke=\"#000000\" stroke-opacity=\"1\" stroke-width=\"3.2\"/>\n",
       "<circle clip-path=\"url(#clip2802)\" cx=\"1347.84\" cy=\"729.665\" r=\"14\" fill=\"#3da44d\" fill-rule=\"evenodd\" fill-opacity=\"1\" stroke=\"#000000\" stroke-opacity=\"1\" stroke-width=\"3.2\"/>\n",
       "<circle clip-path=\"url(#clip2802)\" cx=\"1348.73\" cy=\"730.747\" r=\"14\" fill=\"#3da44d\" fill-rule=\"evenodd\" fill-opacity=\"1\" stroke=\"#000000\" stroke-opacity=\"1\" stroke-width=\"3.2\"/>\n",
       "<circle clip-path=\"url(#clip2802)\" cx=\"1351.62\" cy=\"726.837\" r=\"14\" fill=\"#3da44d\" fill-rule=\"evenodd\" fill-opacity=\"1\" stroke=\"#000000\" stroke-opacity=\"1\" stroke-width=\"3.2\"/>\n",
       "<circle clip-path=\"url(#clip2802)\" cx=\"1353.2\" cy=\"726.216\" r=\"14\" fill=\"#3da44d\" fill-rule=\"evenodd\" fill-opacity=\"1\" stroke=\"#000000\" stroke-opacity=\"1\" stroke-width=\"3.2\"/>\n",
       "<circle clip-path=\"url(#clip2802)\" cx=\"1351.02\" cy=\"727.684\" r=\"14\" fill=\"#3da44d\" fill-rule=\"evenodd\" fill-opacity=\"1\" stroke=\"#000000\" stroke-opacity=\"1\" stroke-width=\"3.2\"/>\n",
       "<circle clip-path=\"url(#clip2802)\" cx=\"1351.67\" cy=\"725.955\" r=\"14\" fill=\"#3da44d\" fill-rule=\"evenodd\" fill-opacity=\"1\" stroke=\"#000000\" stroke-opacity=\"1\" stroke-width=\"3.2\"/>\n",
       "<circle clip-path=\"url(#clip2802)\" cx=\"1349.33\" cy=\"727.012\" r=\"14\" fill=\"#3da44d\" fill-rule=\"evenodd\" fill-opacity=\"1\" stroke=\"#000000\" stroke-opacity=\"1\" stroke-width=\"3.2\"/>\n",
       "<circle clip-path=\"url(#clip2802)\" cx=\"1354.8\" cy=\"723.637\" r=\"14\" fill=\"#3da44d\" fill-rule=\"evenodd\" fill-opacity=\"1\" stroke=\"#000000\" stroke-opacity=\"1\" stroke-width=\"3.2\"/>\n",
       "<circle clip-path=\"url(#clip2802)\" cx=\"1354.62\" cy=\"721.833\" r=\"14\" fill=\"#3da44d\" fill-rule=\"evenodd\" fill-opacity=\"1\" stroke=\"#000000\" stroke-opacity=\"1\" stroke-width=\"3.2\"/>\n",
       "<circle clip-path=\"url(#clip2802)\" cx=\"1352.65\" cy=\"723.472\" r=\"14\" fill=\"#3da44d\" fill-rule=\"evenodd\" fill-opacity=\"1\" stroke=\"#000000\" stroke-opacity=\"1\" stroke-width=\"3.2\"/>\n",
       "<circle clip-path=\"url(#clip2802)\" cx=\"1357.78\" cy=\"718.013\" r=\"14\" fill=\"#3da44d\" fill-rule=\"evenodd\" fill-opacity=\"1\" stroke=\"#000000\" stroke-opacity=\"1\" stroke-width=\"3.2\"/>\n",
       "<circle clip-path=\"url(#clip2802)\" cx=\"1354.59\" cy=\"721.132\" r=\"14\" fill=\"#3da44d\" fill-rule=\"evenodd\" fill-opacity=\"1\" stroke=\"#000000\" stroke-opacity=\"1\" stroke-width=\"3.2\"/>\n",
       "<circle clip-path=\"url(#clip2802)\" cx=\"1352.49\" cy=\"721.703\" r=\"14\" fill=\"#3da44d\" fill-rule=\"evenodd\" fill-opacity=\"1\" stroke=\"#000000\" stroke-opacity=\"1\" stroke-width=\"3.2\"/>\n",
       "<circle clip-path=\"url(#clip2802)\" cx=\"1357.34\" cy=\"719.218\" r=\"14\" fill=\"#3da44d\" fill-rule=\"evenodd\" fill-opacity=\"1\" stroke=\"#000000\" stroke-opacity=\"1\" stroke-width=\"3.2\"/>\n",
       "<circle clip-path=\"url(#clip2802)\" cx=\"1356.31\" cy=\"719.014\" r=\"14\" fill=\"#3da44d\" fill-rule=\"evenodd\" fill-opacity=\"1\" stroke=\"#000000\" stroke-opacity=\"1\" stroke-width=\"3.2\"/>\n",
       "<circle clip-path=\"url(#clip2802)\" cx=\"1357.65\" cy=\"719.654\" r=\"14\" fill=\"#3da44d\" fill-rule=\"evenodd\" fill-opacity=\"1\" stroke=\"#000000\" stroke-opacity=\"1\" stroke-width=\"3.2\"/>\n",
       "<circle clip-path=\"url(#clip2802)\" cx=\"1355.38\" cy=\"718.014\" r=\"14\" fill=\"#3da44d\" fill-rule=\"evenodd\" fill-opacity=\"1\" stroke=\"#000000\" stroke-opacity=\"1\" stroke-width=\"3.2\"/>\n",
       "<circle clip-path=\"url(#clip2802)\" cx=\"1357.98\" cy=\"716.363\" r=\"14\" fill=\"#3da44d\" fill-rule=\"evenodd\" fill-opacity=\"1\" stroke=\"#000000\" stroke-opacity=\"1\" stroke-width=\"3.2\"/>\n",
       "<circle clip-path=\"url(#clip2802)\" cx=\"1357.94\" cy=\"714.681\" r=\"14\" fill=\"#3da44d\" fill-rule=\"evenodd\" fill-opacity=\"1\" stroke=\"#000000\" stroke-opacity=\"1\" stroke-width=\"3.2\"/>\n",
       "<circle clip-path=\"url(#clip2802)\" cx=\"1202.63\" cy=\"828.431\" r=\"14\" fill=\"#3da44d\" fill-rule=\"evenodd\" fill-opacity=\"1\" stroke=\"#000000\" stroke-opacity=\"1\" stroke-width=\"3.2\"/>\n",
       "<circle clip-path=\"url(#clip2802)\" cx=\"1361.33\" cy=\"712.834\" r=\"14\" fill=\"#3da44d\" fill-rule=\"evenodd\" fill-opacity=\"1\" stroke=\"#000000\" stroke-opacity=\"1\" stroke-width=\"3.2\"/>\n",
       "<circle clip-path=\"url(#clip2802)\" cx=\"1359.33\" cy=\"715.46\" r=\"14\" fill=\"#3da44d\" fill-rule=\"evenodd\" fill-opacity=\"1\" stroke=\"#000000\" stroke-opacity=\"1\" stroke-width=\"3.2\"/>\n",
       "<circle clip-path=\"url(#clip2802)\" cx=\"1361.57\" cy=\"713.003\" r=\"14\" fill=\"#3da44d\" fill-rule=\"evenodd\" fill-opacity=\"1\" stroke=\"#000000\" stroke-opacity=\"1\" stroke-width=\"3.2\"/>\n",
       "<circle clip-path=\"url(#clip2802)\" cx=\"1363.57\" cy=\"709.985\" r=\"14\" fill=\"#3da44d\" fill-rule=\"evenodd\" fill-opacity=\"1\" stroke=\"#000000\" stroke-opacity=\"1\" stroke-width=\"3.2\"/>\n",
       "<circle clip-path=\"url(#clip2802)\" cx=\"1364.93\" cy=\"710.281\" r=\"14\" fill=\"#3da44d\" fill-rule=\"evenodd\" fill-opacity=\"1\" stroke=\"#000000\" stroke-opacity=\"1\" stroke-width=\"3.2\"/>\n",
       "<circle clip-path=\"url(#clip2802)\" cx=\"1358.37\" cy=\"712.229\" r=\"14\" fill=\"#3da44d\" fill-rule=\"evenodd\" fill-opacity=\"1\" stroke=\"#000000\" stroke-opacity=\"1\" stroke-width=\"3.2\"/>\n",
       "<circle clip-path=\"url(#clip2802)\" cx=\"1366.08\" cy=\"708.794\" r=\"14\" fill=\"#3da44d\" fill-rule=\"evenodd\" fill-opacity=\"1\" stroke=\"#000000\" stroke-opacity=\"1\" stroke-width=\"3.2\"/>\n",
       "<circle clip-path=\"url(#clip2802)\" cx=\"1361.94\" cy=\"709.824\" r=\"14\" fill=\"#3da44d\" fill-rule=\"evenodd\" fill-opacity=\"1\" stroke=\"#000000\" stroke-opacity=\"1\" stroke-width=\"3.2\"/>\n",
       "<circle clip-path=\"url(#clip2802)\" cx=\"1360.25\" cy=\"710.369\" r=\"14\" fill=\"#3da44d\" fill-rule=\"evenodd\" fill-opacity=\"1\" stroke=\"#000000\" stroke-opacity=\"1\" stroke-width=\"3.2\"/>\n",
       "<circle clip-path=\"url(#clip2802)\" cx=\"1280.8\" cy=\"782.854\" r=\"14\" fill=\"#3da44d\" fill-rule=\"evenodd\" fill-opacity=\"1\" stroke=\"#000000\" stroke-opacity=\"1\" stroke-width=\"3.2\"/>\n",
       "<circle clip-path=\"url(#clip2802)\" cx=\"1362.25\" cy=\"709.125\" r=\"14\" fill=\"#3da44d\" fill-rule=\"evenodd\" fill-opacity=\"1\" stroke=\"#000000\" stroke-opacity=\"1\" stroke-width=\"3.2\"/>\n",
       "<circle clip-path=\"url(#clip2802)\" cx=\"1359.91\" cy=\"711.003\" r=\"14\" fill=\"#3da44d\" fill-rule=\"evenodd\" fill-opacity=\"1\" stroke=\"#000000\" stroke-opacity=\"1\" stroke-width=\"3.2\"/>\n",
       "<circle clip-path=\"url(#clip2802)\" cx=\"1359.87\" cy=\"708.785\" r=\"14\" fill=\"#3da44d\" fill-rule=\"evenodd\" fill-opacity=\"1\" stroke=\"#000000\" stroke-opacity=\"1\" stroke-width=\"3.2\"/>\n",
       "<circle clip-path=\"url(#clip2802)\" cx=\"1357.63\" cy=\"711.069\" r=\"14\" fill=\"#3da44d\" fill-rule=\"evenodd\" fill-opacity=\"1\" stroke=\"#000000\" stroke-opacity=\"1\" stroke-width=\"3.2\"/>\n",
       "<circle clip-path=\"url(#clip2802)\" cx=\"1356.28\" cy=\"709.3\" r=\"14\" fill=\"#3da44d\" fill-rule=\"evenodd\" fill-opacity=\"1\" stroke=\"#000000\" stroke-opacity=\"1\" stroke-width=\"3.2\"/>\n",
       "<circle clip-path=\"url(#clip2802)\" cx=\"1356.89\" cy=\"709.093\" r=\"14\" fill=\"#3da44d\" fill-rule=\"evenodd\" fill-opacity=\"1\" stroke=\"#000000\" stroke-opacity=\"1\" stroke-width=\"3.2\"/>\n",
       "<circle clip-path=\"url(#clip2802)\" cx=\"1353.54\" cy=\"711.319\" r=\"14\" fill=\"#3da44d\" fill-rule=\"evenodd\" fill-opacity=\"1\" stroke=\"#000000\" stroke-opacity=\"1\" stroke-width=\"3.2\"/>\n",
       "<circle clip-path=\"url(#clip2802)\" cx=\"1283.93\" cy=\"780.382\" r=\"14\" fill=\"#3da44d\" fill-rule=\"evenodd\" fill-opacity=\"1\" stroke=\"#000000\" stroke-opacity=\"1\" stroke-width=\"3.2\"/>\n",
       "<circle clip-path=\"url(#clip2802)\" cx=\"1355.01\" cy=\"710.787\" r=\"14\" fill=\"#3da44d\" fill-rule=\"evenodd\" fill-opacity=\"1\" stroke=\"#000000\" stroke-opacity=\"1\" stroke-width=\"3.2\"/>\n",
       "<circle clip-path=\"url(#clip2802)\" cx=\"1353.15\" cy=\"710.173\" r=\"14\" fill=\"#3da44d\" fill-rule=\"evenodd\" fill-opacity=\"1\" stroke=\"#000000\" stroke-opacity=\"1\" stroke-width=\"3.2\"/>\n",
       "<circle clip-path=\"url(#clip2802)\" cx=\"1351.43\" cy=\"711.033\" r=\"14\" fill=\"#3da44d\" fill-rule=\"evenodd\" fill-opacity=\"1\" stroke=\"#000000\" stroke-opacity=\"1\" stroke-width=\"3.2\"/>\n",
       "<circle clip-path=\"url(#clip2802)\" cx=\"1349.69\" cy=\"712.701\" r=\"14\" fill=\"#3da44d\" fill-rule=\"evenodd\" fill-opacity=\"1\" stroke=\"#000000\" stroke-opacity=\"1\" stroke-width=\"3.2\"/>\n",
       "<circle clip-path=\"url(#clip2802)\" cx=\"1349.01\" cy=\"710.902\" r=\"14\" fill=\"#3da44d\" fill-rule=\"evenodd\" fill-opacity=\"1\" stroke=\"#000000\" stroke-opacity=\"1\" stroke-width=\"3.2\"/>\n",
       "<circle clip-path=\"url(#clip2802)\" cx=\"1289.64\" cy=\"777.505\" r=\"14\" fill=\"#3da44d\" fill-rule=\"evenodd\" fill-opacity=\"1\" stroke=\"#000000\" stroke-opacity=\"1\" stroke-width=\"3.2\"/>\n",
       "<circle clip-path=\"url(#clip2802)\" cx=\"1316.91\" cy=\"723.585\" r=\"14\" fill=\"#3da44d\" fill-rule=\"evenodd\" fill-opacity=\"1\" stroke=\"#000000\" stroke-opacity=\"1\" stroke-width=\"3.2\"/>\n",
       "<circle clip-path=\"url(#clip2802)\" cx=\"1314.12\" cy=\"725.655\" r=\"14\" fill=\"#3da44d\" fill-rule=\"evenodd\" fill-opacity=\"1\" stroke=\"#000000\" stroke-opacity=\"1\" stroke-width=\"3.2\"/>\n",
       "<circle clip-path=\"url(#clip2802)\" cx=\"1312.68\" cy=\"725.084\" r=\"14\" fill=\"#3da44d\" fill-rule=\"evenodd\" fill-opacity=\"1\" stroke=\"#000000\" stroke-opacity=\"1\" stroke-width=\"3.2\"/>\n",
       "<circle clip-path=\"url(#clip2802)\" cx=\"1311.04\" cy=\"727.043\" r=\"14\" fill=\"#3da44d\" fill-rule=\"evenodd\" fill-opacity=\"1\" stroke=\"#000000\" stroke-opacity=\"1\" stroke-width=\"3.2\"/>\n",
       "<circle clip-path=\"url(#clip2802)\" cx=\"1308.66\" cy=\"726.886\" r=\"14\" fill=\"#3da44d\" fill-rule=\"evenodd\" fill-opacity=\"1\" stroke=\"#000000\" stroke-opacity=\"1\" stroke-width=\"3.2\"/>\n",
       "<circle clip-path=\"url(#clip2802)\" cx=\"1308.76\" cy=\"726.376\" r=\"14\" fill=\"#3da44d\" fill-rule=\"evenodd\" fill-opacity=\"1\" stroke=\"#000000\" stroke-opacity=\"1\" stroke-width=\"3.2\"/>\n",
       "<circle clip-path=\"url(#clip2802)\" cx=\"1308.27\" cy=\"726.877\" r=\"14\" fill=\"#3da44d\" fill-rule=\"evenodd\" fill-opacity=\"1\" stroke=\"#000000\" stroke-opacity=\"1\" stroke-width=\"3.2\"/>\n",
       "<circle clip-path=\"url(#clip2802)\" cx=\"1307.36\" cy=\"728.147\" r=\"14\" fill=\"#3da44d\" fill-rule=\"evenodd\" fill-opacity=\"1\" stroke=\"#000000\" stroke-opacity=\"1\" stroke-width=\"3.2\"/>\n",
       "<circle clip-path=\"url(#clip2802)\" cx=\"1302.71\" cy=\"728.658\" r=\"14\" fill=\"#3da44d\" fill-rule=\"evenodd\" fill-opacity=\"1\" stroke=\"#000000\" stroke-opacity=\"1\" stroke-width=\"3.2\"/>\n",
       "<circle clip-path=\"url(#clip2802)\" cx=\"1302.2\" cy=\"729.531\" r=\"14\" fill=\"#3da44d\" fill-rule=\"evenodd\" fill-opacity=\"1\" stroke=\"#000000\" stroke-opacity=\"1\" stroke-width=\"3.2\"/>\n",
       "<circle clip-path=\"url(#clip2802)\" cx=\"1299.62\" cy=\"729.014\" r=\"14\" fill=\"#3da44d\" fill-rule=\"evenodd\" fill-opacity=\"1\" stroke=\"#000000\" stroke-opacity=\"1\" stroke-width=\"3.2\"/>\n",
       "<circle clip-path=\"url(#clip2802)\" cx=\"1301.05\" cy=\"729.925\" r=\"14\" fill=\"#3da44d\" fill-rule=\"evenodd\" fill-opacity=\"1\" stroke=\"#000000\" stroke-opacity=\"1\" stroke-width=\"3.2\"/>\n",
       "<circle clip-path=\"url(#clip2802)\" cx=\"1297.34\" cy=\"731.108\" r=\"14\" fill=\"#3da44d\" fill-rule=\"evenodd\" fill-opacity=\"1\" stroke=\"#000000\" stroke-opacity=\"1\" stroke-width=\"3.2\"/>\n",
       "<circle clip-path=\"url(#clip2802)\" cx=\"1293.89\" cy=\"731.839\" r=\"14\" fill=\"#3da44d\" fill-rule=\"evenodd\" fill-opacity=\"1\" stroke=\"#000000\" stroke-opacity=\"1\" stroke-width=\"3.2\"/>\n",
       "<circle clip-path=\"url(#clip2802)\" cx=\"1285.29\" cy=\"736.094\" r=\"14\" fill=\"#3da44d\" fill-rule=\"evenodd\" fill-opacity=\"1\" stroke=\"#000000\" stroke-opacity=\"1\" stroke-width=\"3.2\"/>\n",
       "<circle clip-path=\"url(#clip2802)\" cx=\"1290.84\" cy=\"732.922\" r=\"14\" fill=\"#3da44d\" fill-rule=\"evenodd\" fill-opacity=\"1\" stroke=\"#000000\" stroke-opacity=\"1\" stroke-width=\"3.2\"/>\n",
       "<circle clip-path=\"url(#clip2802)\" cx=\"1288.91\" cy=\"733.849\" r=\"14\" fill=\"#3da44d\" fill-rule=\"evenodd\" fill-opacity=\"1\" stroke=\"#000000\" stroke-opacity=\"1\" stroke-width=\"3.2\"/>\n",
       "<circle clip-path=\"url(#clip2802)\" cx=\"1287.01\" cy=\"736.664\" r=\"14\" fill=\"#3da44d\" fill-rule=\"evenodd\" fill-opacity=\"1\" stroke=\"#000000\" stroke-opacity=\"1\" stroke-width=\"3.2\"/>\n",
       "<circle clip-path=\"url(#clip2802)\" cx=\"1284.08\" cy=\"736.114\" r=\"14\" fill=\"#3da44d\" fill-rule=\"evenodd\" fill-opacity=\"1\" stroke=\"#000000\" stroke-opacity=\"1\" stroke-width=\"3.2\"/>\n",
       "<circle clip-path=\"url(#clip2802)\" cx=\"1273.52\" cy=\"747\" r=\"14\" fill=\"#3da44d\" fill-rule=\"evenodd\" fill-opacity=\"1\" stroke=\"#000000\" stroke-opacity=\"1\" stroke-width=\"3.2\"/>\n",
       "<circle clip-path=\"url(#clip2802)\" cx=\"1266.25\" cy=\"749.867\" r=\"14\" fill=\"#3da44d\" fill-rule=\"evenodd\" fill-opacity=\"1\" stroke=\"#000000\" stroke-opacity=\"1\" stroke-width=\"3.2\"/>\n",
       "<circle clip-path=\"url(#clip2802)\" cx=\"1266.98\" cy=\"748.758\" r=\"14\" fill=\"#3da44d\" fill-rule=\"evenodd\" fill-opacity=\"1\" stroke=\"#000000\" stroke-opacity=\"1\" stroke-width=\"3.2\"/>\n",
       "<circle clip-path=\"url(#clip2802)\" cx=\"1258.06\" cy=\"756.838\" r=\"14\" fill=\"#3da44d\" fill-rule=\"evenodd\" fill-opacity=\"1\" stroke=\"#000000\" stroke-opacity=\"1\" stroke-width=\"3.2\"/>\n",
       "<circle clip-path=\"url(#clip2802)\" cx=\"1306.57\" cy=\"764.683\" r=\"14\" fill=\"#3da44d\" fill-rule=\"evenodd\" fill-opacity=\"1\" stroke=\"#000000\" stroke-opacity=\"1\" stroke-width=\"3.2\"/>\n",
       "<circle clip-path=\"url(#clip2802)\" cx=\"1263.04\" cy=\"755.305\" r=\"14\" fill=\"#3da44d\" fill-rule=\"evenodd\" fill-opacity=\"1\" stroke=\"#000000\" stroke-opacity=\"1\" stroke-width=\"3.2\"/>\n",
       "<circle clip-path=\"url(#clip2802)\" cx=\"1257.99\" cy=\"759.204\" r=\"14\" fill=\"#3da44d\" fill-rule=\"evenodd\" fill-opacity=\"1\" stroke=\"#000000\" stroke-opacity=\"1\" stroke-width=\"3.2\"/>\n",
       "<circle clip-path=\"url(#clip2802)\" cx=\"1250.06\" cy=\"764.953\" r=\"14\" fill=\"#3da44d\" fill-rule=\"evenodd\" fill-opacity=\"1\" stroke=\"#000000\" stroke-opacity=\"1\" stroke-width=\"3.2\"/>\n",
       "<circle clip-path=\"url(#clip2802)\" cx=\"1243.81\" cy=\"769.068\" r=\"14\" fill=\"#3da44d\" fill-rule=\"evenodd\" fill-opacity=\"1\" stroke=\"#000000\" stroke-opacity=\"1\" stroke-width=\"3.2\"/>\n",
       "<circle clip-path=\"url(#clip2802)\" cx=\"1245.5\" cy=\"770.464\" r=\"14\" fill=\"#3da44d\" fill-rule=\"evenodd\" fill-opacity=\"1\" stroke=\"#000000\" stroke-opacity=\"1\" stroke-width=\"3.2\"/>\n",
       "<circle clip-path=\"url(#clip2802)\" cx=\"1240.78\" cy=\"775.077\" r=\"14\" fill=\"#3da44d\" fill-rule=\"evenodd\" fill-opacity=\"1\" stroke=\"#000000\" stroke-opacity=\"1\" stroke-width=\"3.2\"/>\n",
       "<circle clip-path=\"url(#clip2802)\" cx=\"1240.46\" cy=\"776.194\" r=\"14\" fill=\"#3da44d\" fill-rule=\"evenodd\" fill-opacity=\"1\" stroke=\"#000000\" stroke-opacity=\"1\" stroke-width=\"3.2\"/>\n",
       "<circle clip-path=\"url(#clip2802)\" cx=\"1238.63\" cy=\"777.25\" r=\"14\" fill=\"#3da44d\" fill-rule=\"evenodd\" fill-opacity=\"1\" stroke=\"#000000\" stroke-opacity=\"1\" stroke-width=\"3.2\"/>\n",
       "<circle clip-path=\"url(#clip2802)\" cx=\"1233.9\" cy=\"781.125\" r=\"14\" fill=\"#3da44d\" fill-rule=\"evenodd\" fill-opacity=\"1\" stroke=\"#000000\" stroke-opacity=\"1\" stroke-width=\"3.2\"/>\n",
       "<circle clip-path=\"url(#clip2802)\" cx=\"1230.28\" cy=\"786.196\" r=\"14\" fill=\"#3da44d\" fill-rule=\"evenodd\" fill-opacity=\"1\" stroke=\"#000000\" stroke-opacity=\"1\" stroke-width=\"3.2\"/>\n",
       "<circle clip-path=\"url(#clip2802)\" cx=\"1311.04\" cy=\"761.312\" r=\"14\" fill=\"#3da44d\" fill-rule=\"evenodd\" fill-opacity=\"1\" stroke=\"#000000\" stroke-opacity=\"1\" stroke-width=\"3.2\"/>\n",
       "<circle clip-path=\"url(#clip2802)\" cx=\"1223.77\" cy=\"792.142\" r=\"14\" fill=\"#3da44d\" fill-rule=\"evenodd\" fill-opacity=\"1\" stroke=\"#000000\" stroke-opacity=\"1\" stroke-width=\"3.2\"/>\n",
       "<circle clip-path=\"url(#clip2802)\" cx=\"1223.05\" cy=\"794.401\" r=\"14\" fill=\"#3da44d\" fill-rule=\"evenodd\" fill-opacity=\"1\" stroke=\"#000000\" stroke-opacity=\"1\" stroke-width=\"3.2\"/>\n",
       "<circle clip-path=\"url(#clip2802)\" cx=\"1218.14\" cy=\"800.931\" r=\"14\" fill=\"#3da44d\" fill-rule=\"evenodd\" fill-opacity=\"1\" stroke=\"#000000\" stroke-opacity=\"1\" stroke-width=\"3.2\"/>\n",
       "<circle clip-path=\"url(#clip2802)\" cx=\"1215.02\" cy=\"802.278\" r=\"14\" fill=\"#3da44d\" fill-rule=\"evenodd\" fill-opacity=\"1\" stroke=\"#000000\" stroke-opacity=\"1\" stroke-width=\"3.2\"/>\n",
       "<circle clip-path=\"url(#clip2802)\" cx=\"1204.8\" cy=\"810.978\" r=\"14\" fill=\"#3da44d\" fill-rule=\"evenodd\" fill-opacity=\"1\" stroke=\"#000000\" stroke-opacity=\"1\" stroke-width=\"3.2\"/>\n",
       "<circle clip-path=\"url(#clip2802)\" cx=\"1206.94\" cy=\"808.316\" r=\"14\" fill=\"#3da44d\" fill-rule=\"evenodd\" fill-opacity=\"1\" stroke=\"#000000\" stroke-opacity=\"1\" stroke-width=\"3.2\"/>\n",
       "<circle clip-path=\"url(#clip2802)\" cx=\"1197.2\" cy=\"818.25\" r=\"14\" fill=\"#3da44d\" fill-rule=\"evenodd\" fill-opacity=\"1\" stroke=\"#000000\" stroke-opacity=\"1\" stroke-width=\"3.2\"/>\n",
       "<circle clip-path=\"url(#clip2802)\" cx=\"1203.32\" cy=\"813.286\" r=\"14\" fill=\"#3da44d\" fill-rule=\"evenodd\" fill-opacity=\"1\" stroke=\"#000000\" stroke-opacity=\"1\" stroke-width=\"3.2\"/>\n",
       "<circle clip-path=\"url(#clip2802)\" cx=\"1195.99\" cy=\"821.635\" r=\"14\" fill=\"#3da44d\" fill-rule=\"evenodd\" fill-opacity=\"1\" stroke=\"#000000\" stroke-opacity=\"1\" stroke-width=\"3.2\"/>\n",
       "<circle clip-path=\"url(#clip2802)\" cx=\"1192.28\" cy=\"822.553\" r=\"14\" fill=\"#3da44d\" fill-rule=\"evenodd\" fill-opacity=\"1\" stroke=\"#000000\" stroke-opacity=\"1\" stroke-width=\"3.2\"/>\n",
       "<circle clip-path=\"url(#clip2802)\" cx=\"1199.73\" cy=\"820.04\" r=\"14\" fill=\"#3da44d\" fill-rule=\"evenodd\" fill-opacity=\"1\" stroke=\"#000000\" stroke-opacity=\"1\" stroke-width=\"3.2\"/>\n",
       "<circle clip-path=\"url(#clip2802)\" cx=\"1188.24\" cy=\"828.133\" r=\"14\" fill=\"#3da44d\" fill-rule=\"evenodd\" fill-opacity=\"1\" stroke=\"#000000\" stroke-opacity=\"1\" stroke-width=\"3.2\"/>\n",
       "<circle clip-path=\"url(#clip2802)\" cx=\"1194.91\" cy=\"825.132\" r=\"14\" fill=\"#3da44d\" fill-rule=\"evenodd\" fill-opacity=\"1\" stroke=\"#000000\" stroke-opacity=\"1\" stroke-width=\"3.2\"/>\n",
       "<circle clip-path=\"url(#clip2802)\" cx=\"1191.04\" cy=\"826.462\" r=\"14\" fill=\"#3da44d\" fill-rule=\"evenodd\" fill-opacity=\"1\" stroke=\"#000000\" stroke-opacity=\"1\" stroke-width=\"3.2\"/>\n",
       "<circle clip-path=\"url(#clip2802)\" cx=\"1191.42\" cy=\"829.339\" r=\"14\" fill=\"#3da44d\" fill-rule=\"evenodd\" fill-opacity=\"1\" stroke=\"#000000\" stroke-opacity=\"1\" stroke-width=\"3.2\"/>\n",
       "<circle clip-path=\"url(#clip2802)\" cx=\"1188.1\" cy=\"830.958\" r=\"14\" fill=\"#3da44d\" fill-rule=\"evenodd\" fill-opacity=\"1\" stroke=\"#000000\" stroke-opacity=\"1\" stroke-width=\"3.2\"/>\n",
       "<circle clip-path=\"url(#clip2802)\" cx=\"1190.08\" cy=\"833.271\" r=\"14\" fill=\"#3da44d\" fill-rule=\"evenodd\" fill-opacity=\"1\" stroke=\"#000000\" stroke-opacity=\"1\" stroke-width=\"3.2\"/>\n",
       "<circle clip-path=\"url(#clip2802)\" cx=\"1190.04\" cy=\"832.832\" r=\"14\" fill=\"#3da44d\" fill-rule=\"evenodd\" fill-opacity=\"1\" stroke=\"#000000\" stroke-opacity=\"1\" stroke-width=\"3.2\"/>\n",
       "<circle clip-path=\"url(#clip2802)\" cx=\"1193.18\" cy=\"831.966\" r=\"14\" fill=\"#3da44d\" fill-rule=\"evenodd\" fill-opacity=\"1\" stroke=\"#000000\" stroke-opacity=\"1\" stroke-width=\"3.2\"/>\n",
       "<circle clip-path=\"url(#clip2802)\" cx=\"1198.8\" cy=\"828.296\" r=\"14\" fill=\"#3da44d\" fill-rule=\"evenodd\" fill-opacity=\"1\" stroke=\"#000000\" stroke-opacity=\"1\" stroke-width=\"3.2\"/>\n",
       "<circle clip-path=\"url(#clip2802)\" cx=\"1202.04\" cy=\"830.06\" r=\"14\" fill=\"#3da44d\" fill-rule=\"evenodd\" fill-opacity=\"1\" stroke=\"#000000\" stroke-opacity=\"1\" stroke-width=\"3.2\"/>\n",
       "<circle clip-path=\"url(#clip2802)\" cx=\"1201.18\" cy=\"828.495\" r=\"14\" fill=\"#3da44d\" fill-rule=\"evenodd\" fill-opacity=\"1\" stroke=\"#000000\" stroke-opacity=\"1\" stroke-width=\"3.2\"/>\n",
       "<circle clip-path=\"url(#clip2802)\" cx=\"1198.34\" cy=\"829.738\" r=\"14\" fill=\"#3da44d\" fill-rule=\"evenodd\" fill-opacity=\"1\" stroke=\"#000000\" stroke-opacity=\"1\" stroke-width=\"3.2\"/>\n",
       "<circle clip-path=\"url(#clip2802)\" cx=\"1203.24\" cy=\"827.9\" r=\"14\" fill=\"#3da44d\" fill-rule=\"evenodd\" fill-opacity=\"1\" stroke=\"#000000\" stroke-opacity=\"1\" stroke-width=\"3.2\"/>\n",
       "<circle clip-path=\"url(#clip2802)\" cx=\"1201.78\" cy=\"829.154\" r=\"14\" fill=\"#3da44d\" fill-rule=\"evenodd\" fill-opacity=\"1\" stroke=\"#000000\" stroke-opacity=\"1\" stroke-width=\"3.2\"/>\n",
       "<circle clip-path=\"url(#clip2802)\" cx=\"1204.01\" cy=\"828.329\" r=\"14\" fill=\"#3da44d\" fill-rule=\"evenodd\" fill-opacity=\"1\" stroke=\"#000000\" stroke-opacity=\"1\" stroke-width=\"3.2\"/>\n",
       "<circle clip-path=\"url(#clip2802)\" cx=\"1206.69\" cy=\"826.431\" r=\"14\" fill=\"#3da44d\" fill-rule=\"evenodd\" fill-opacity=\"1\" stroke=\"#000000\" stroke-opacity=\"1\" stroke-width=\"3.2\"/>\n",
       "<circle clip-path=\"url(#clip2802)\" cx=\"1216.15\" cy=\"821.345\" r=\"14\" fill=\"#3da44d\" fill-rule=\"evenodd\" fill-opacity=\"1\" stroke=\"#000000\" stroke-opacity=\"1\" stroke-width=\"3.2\"/>\n",
       "<circle clip-path=\"url(#clip2802)\" cx=\"1217.06\" cy=\"820.98\" r=\"14\" fill=\"#3da44d\" fill-rule=\"evenodd\" fill-opacity=\"1\" stroke=\"#000000\" stroke-opacity=\"1\" stroke-width=\"3.2\"/>\n",
       "<circle clip-path=\"url(#clip2802)\" cx=\"1225.52\" cy=\"814.857\" r=\"14\" fill=\"#3da44d\" fill-rule=\"evenodd\" fill-opacity=\"1\" stroke=\"#000000\" stroke-opacity=\"1\" stroke-width=\"3.2\"/>\n",
       "<circle clip-path=\"url(#clip2802)\" cx=\"1227.19\" cy=\"812.9\" r=\"14\" fill=\"#3da44d\" fill-rule=\"evenodd\" fill-opacity=\"1\" stroke=\"#000000\" stroke-opacity=\"1\" stroke-width=\"3.2\"/>\n",
       "<circle clip-path=\"url(#clip2802)\" cx=\"1230.6\" cy=\"813.553\" r=\"14\" fill=\"#3da44d\" fill-rule=\"evenodd\" fill-opacity=\"1\" stroke=\"#000000\" stroke-opacity=\"1\" stroke-width=\"3.2\"/>\n",
       "<circle clip-path=\"url(#clip2802)\" cx=\"1230.18\" cy=\"814.31\" r=\"14\" fill=\"#3da44d\" fill-rule=\"evenodd\" fill-opacity=\"1\" stroke=\"#000000\" stroke-opacity=\"1\" stroke-width=\"3.2\"/>\n",
       "<circle clip-path=\"url(#clip2802)\" cx=\"1232.29\" cy=\"814.052\" r=\"14\" fill=\"#3da44d\" fill-rule=\"evenodd\" fill-opacity=\"1\" stroke=\"#000000\" stroke-opacity=\"1\" stroke-width=\"3.2\"/>\n",
       "<circle clip-path=\"url(#clip2802)\" cx=\"1239.02\" cy=\"809.022\" r=\"14\" fill=\"#3da44d\" fill-rule=\"evenodd\" fill-opacity=\"1\" stroke=\"#000000\" stroke-opacity=\"1\" stroke-width=\"3.2\"/>\n",
       "<circle clip-path=\"url(#clip2802)\" cx=\"1243.94\" cy=\"807.55\" r=\"14\" fill=\"#3da44d\" fill-rule=\"evenodd\" fill-opacity=\"1\" stroke=\"#000000\" stroke-opacity=\"1\" stroke-width=\"3.2\"/>\n",
       "<circle clip-path=\"url(#clip2802)\" cx=\"1244.59\" cy=\"806.478\" r=\"14\" fill=\"#3da44d\" fill-rule=\"evenodd\" fill-opacity=\"1\" stroke=\"#000000\" stroke-opacity=\"1\" stroke-width=\"3.2\"/>\n",
       "<circle clip-path=\"url(#clip2802)\" cx=\"1264.1\" cy=\"793.953\" r=\"14\" fill=\"#3da44d\" fill-rule=\"evenodd\" fill-opacity=\"1\" stroke=\"#000000\" stroke-opacity=\"1\" stroke-width=\"3.2\"/>\n",
       "<circle clip-path=\"url(#clip2802)\" cx=\"1282.96\" cy=\"782.225\" r=\"14\" fill=\"#3da44d\" fill-rule=\"evenodd\" fill-opacity=\"1\" stroke=\"#000000\" stroke-opacity=\"1\" stroke-width=\"3.2\"/>\n",
       "<circle clip-path=\"url(#clip2802)\" cx=\"1284.22\" cy=\"780.716\" r=\"14\" fill=\"#3da44d\" fill-rule=\"evenodd\" fill-opacity=\"1\" stroke=\"#000000\" stroke-opacity=\"1\" stroke-width=\"3.2\"/>\n",
       "<circle clip-path=\"url(#clip2802)\" cx=\"1288.98\" cy=\"777.173\" r=\"14\" fill=\"#3da44d\" fill-rule=\"evenodd\" fill-opacity=\"1\" stroke=\"#000000\" stroke-opacity=\"1\" stroke-width=\"3.2\"/>\n",
       "<circle clip-path=\"url(#clip2802)\" cx=\"1205.6\" cy=\"827.374\" r=\"14\" fill=\"#3da44d\" fill-rule=\"evenodd\" fill-opacity=\"1\" stroke=\"#000000\" stroke-opacity=\"1\" stroke-width=\"3.2\"/>\n",
       "<circle clip-path=\"url(#clip2802)\" cx=\"1213.97\" cy=\"821.486\" r=\"14\" fill=\"#3da44d\" fill-rule=\"evenodd\" fill-opacity=\"1\" stroke=\"#000000\" stroke-opacity=\"1\" stroke-width=\"3.2\"/>\n",
       "<circle clip-path=\"url(#clip2802)\" cx=\"1340.58\" cy=\"733.615\" r=\"14\" fill=\"#3da44d\" fill-rule=\"evenodd\" fill-opacity=\"1\" stroke=\"#000000\" stroke-opacity=\"1\" stroke-width=\"3.2\"/>\n",
       "<circle clip-path=\"url(#clip2802)\" cx=\"1346.68\" cy=\"726.401\" r=\"14\" fill=\"#3da44d\" fill-rule=\"evenodd\" fill-opacity=\"1\" stroke=\"#000000\" stroke-opacity=\"1\" stroke-width=\"3.2\"/>\n",
       "<circle clip-path=\"url(#clip2802)\" cx=\"1349.31\" cy=\"722.822\" r=\"14\" fill=\"#3da44d\" fill-rule=\"evenodd\" fill-opacity=\"1\" stroke=\"#000000\" stroke-opacity=\"1\" stroke-width=\"3.2\"/>\n",
       "<circle clip-path=\"url(#clip2802)\" cx=\"1215.52\" cy=\"819.698\" r=\"14\" fill=\"#3da44d\" fill-rule=\"evenodd\" fill-opacity=\"1\" stroke=\"#000000\" stroke-opacity=\"1\" stroke-width=\"3.2\"/>\n",
       "<circle clip-path=\"url(#clip2802)\" cx=\"1337.19\" cy=\"729.294\" r=\"14\" fill=\"#3da44d\" fill-rule=\"evenodd\" fill-opacity=\"1\" stroke=\"#000000\" stroke-opacity=\"1\" stroke-width=\"3.2\"/>\n",
       "<circle clip-path=\"url(#clip2802)\" cx=\"1323.97\" cy=\"737.101\" r=\"14\" fill=\"#3da44d\" fill-rule=\"evenodd\" fill-opacity=\"1\" stroke=\"#000000\" stroke-opacity=\"1\" stroke-width=\"3.2\"/>\n",
       "<circle clip-path=\"url(#clip2802)\" cx=\"1320.2\" cy=\"738.938\" r=\"14\" fill=\"#3da44d\" fill-rule=\"evenodd\" fill-opacity=\"1\" stroke=\"#000000\" stroke-opacity=\"1\" stroke-width=\"3.2\"/>\n",
       "<circle clip-path=\"url(#clip2802)\" cx=\"1223.09\" cy=\"816.046\" r=\"14\" fill=\"#3da44d\" fill-rule=\"evenodd\" fill-opacity=\"1\" stroke=\"#000000\" stroke-opacity=\"1\" stroke-width=\"3.2\"/>\n",
       "<circle clip-path=\"url(#clip2802)\" cx=\"1288.55\" cy=\"756.393\" r=\"14\" fill=\"#3da44d\" fill-rule=\"evenodd\" fill-opacity=\"1\" stroke=\"#000000\" stroke-opacity=\"1\" stroke-width=\"3.2\"/>\n",
       "<circle clip-path=\"url(#clip2802)\" cx=\"1288.38\" cy=\"755.656\" r=\"14\" fill=\"#3da44d\" fill-rule=\"evenodd\" fill-opacity=\"1\" stroke=\"#000000\" stroke-opacity=\"1\" stroke-width=\"3.2\"/>\n",
       "<circle clip-path=\"url(#clip2802)\" cx=\"1286.23\" cy=\"755.975\" r=\"14\" fill=\"#3da44d\" fill-rule=\"evenodd\" fill-opacity=\"1\" stroke=\"#000000\" stroke-opacity=\"1\" stroke-width=\"3.2\"/>\n",
       "<circle clip-path=\"url(#clip2802)\" cx=\"1283.53\" cy=\"756.675\" r=\"14\" fill=\"#3da44d\" fill-rule=\"evenodd\" fill-opacity=\"1\" stroke=\"#000000\" stroke-opacity=\"1\" stroke-width=\"3.2\"/>\n",
       "<circle clip-path=\"url(#clip2802)\" cx=\"1280.66\" cy=\"760.096\" r=\"14\" fill=\"#3da44d\" fill-rule=\"evenodd\" fill-opacity=\"1\" stroke=\"#000000\" stroke-opacity=\"1\" stroke-width=\"3.2\"/>\n",
       "<circle clip-path=\"url(#clip2802)\" cx=\"1274.28\" cy=\"762.281\" r=\"14\" fill=\"#3da44d\" fill-rule=\"evenodd\" fill-opacity=\"1\" stroke=\"#000000\" stroke-opacity=\"1\" stroke-width=\"3.2\"/>\n",
       "<circle clip-path=\"url(#clip2802)\" cx=\"1224.86\" cy=\"814.129\" r=\"14\" fill=\"#3da44d\" fill-rule=\"evenodd\" fill-opacity=\"1\" stroke=\"#000000\" stroke-opacity=\"1\" stroke-width=\"3.2\"/>\n",
       "<circle clip-path=\"url(#clip2802)\" cx=\"1261.55\" cy=\"771.018\" r=\"14\" fill=\"#3da44d\" fill-rule=\"evenodd\" fill-opacity=\"1\" stroke=\"#000000\" stroke-opacity=\"1\" stroke-width=\"3.2\"/>\n",
       "<circle clip-path=\"url(#clip2802)\" cx=\"1256.56\" cy=\"775.153\" r=\"14\" fill=\"#3da44d\" fill-rule=\"evenodd\" fill-opacity=\"1\" stroke=\"#000000\" stroke-opacity=\"1\" stroke-width=\"3.2\"/>\n",
       "<circle clip-path=\"url(#clip2802)\" cx=\"1254.19\" cy=\"777.583\" r=\"14\" fill=\"#3da44d\" fill-rule=\"evenodd\" fill-opacity=\"1\" stroke=\"#000000\" stroke-opacity=\"1\" stroke-width=\"3.2\"/>\n",
       "<circle clip-path=\"url(#clip2802)\" cx=\"1252.47\" cy=\"776.373\" r=\"14\" fill=\"#3da44d\" fill-rule=\"evenodd\" fill-opacity=\"1\" stroke=\"#000000\" stroke-opacity=\"1\" stroke-width=\"3.2\"/>\n",
       "<circle clip-path=\"url(#clip2802)\" cx=\"1251.79\" cy=\"778.221\" r=\"14\" fill=\"#3da44d\" fill-rule=\"evenodd\" fill-opacity=\"1\" stroke=\"#000000\" stroke-opacity=\"1\" stroke-width=\"3.2\"/>\n",
       "<circle clip-path=\"url(#clip2802)\" cx=\"1237.74\" cy=\"787.629\" r=\"14\" fill=\"#3da44d\" fill-rule=\"evenodd\" fill-opacity=\"1\" stroke=\"#000000\" stroke-opacity=\"1\" stroke-width=\"3.2\"/>\n",
       "<circle clip-path=\"url(#clip2802)\" cx=\"1238.19\" cy=\"787.347\" r=\"14\" fill=\"#3da44d\" fill-rule=\"evenodd\" fill-opacity=\"1\" stroke=\"#000000\" stroke-opacity=\"1\" stroke-width=\"3.2\"/>\n",
       "<circle clip-path=\"url(#clip2802)\" cx=\"1238.86\" cy=\"785.795\" r=\"14\" fill=\"#3da44d\" fill-rule=\"evenodd\" fill-opacity=\"1\" stroke=\"#000000\" stroke-opacity=\"1\" stroke-width=\"3.2\"/>\n",
       "<circle clip-path=\"url(#clip2802)\" cx=\"1233.14\" cy=\"790.435\" r=\"14\" fill=\"#3da44d\" fill-rule=\"evenodd\" fill-opacity=\"1\" stroke=\"#000000\" stroke-opacity=\"1\" stroke-width=\"3.2\"/>\n",
       "<circle clip-path=\"url(#clip2802)\" cx=\"1230.07\" cy=\"791.084\" r=\"14\" fill=\"#3da44d\" fill-rule=\"evenodd\" fill-opacity=\"1\" stroke=\"#000000\" stroke-opacity=\"1\" stroke-width=\"3.2\"/>\n",
       "<circle clip-path=\"url(#clip2802)\" cx=\"1229.03\" cy=\"814.049\" r=\"14\" fill=\"#3da44d\" fill-rule=\"evenodd\" fill-opacity=\"1\" stroke=\"#000000\" stroke-opacity=\"1\" stroke-width=\"3.2\"/>\n",
       "<circle clip-path=\"url(#clip2802)\" cx=\"1228.33\" cy=\"792.935\" r=\"14\" fill=\"#3da44d\" fill-rule=\"evenodd\" fill-opacity=\"1\" stroke=\"#000000\" stroke-opacity=\"1\" stroke-width=\"3.2\"/>\n",
       "<circle clip-path=\"url(#clip2802)\" cx=\"1220.03\" cy=\"798.355\" r=\"14\" fill=\"#3da44d\" fill-rule=\"evenodd\" fill-opacity=\"1\" stroke=\"#000000\" stroke-opacity=\"1\" stroke-width=\"3.2\"/>\n",
       "<circle clip-path=\"url(#clip2802)\" cx=\"1219.81\" cy=\"798.106\" r=\"14\" fill=\"#3da44d\" fill-rule=\"evenodd\" fill-opacity=\"1\" stroke=\"#000000\" stroke-opacity=\"1\" stroke-width=\"3.2\"/>\n",
       "<circle clip-path=\"url(#clip2802)\" cx=\"1219.67\" cy=\"799.628\" r=\"14\" fill=\"#3da44d\" fill-rule=\"evenodd\" fill-opacity=\"1\" stroke=\"#000000\" stroke-opacity=\"1\" stroke-width=\"3.2\"/>\n",
       "<circle clip-path=\"url(#clip2802)\" cx=\"1217.32\" cy=\"801.484\" r=\"14\" fill=\"#3da44d\" fill-rule=\"evenodd\" fill-opacity=\"1\" stroke=\"#000000\" stroke-opacity=\"1\" stroke-width=\"3.2\"/>\n",
       "<circle clip-path=\"url(#clip2802)\" cx=\"1208.64\" cy=\"808.743\" r=\"14\" fill=\"#3da44d\" fill-rule=\"evenodd\" fill-opacity=\"1\" stroke=\"#000000\" stroke-opacity=\"1\" stroke-width=\"3.2\"/>\n",
       "<circle clip-path=\"url(#clip2802)\" cx=\"1205.79\" cy=\"811.966\" r=\"14\" fill=\"#3da44d\" fill-rule=\"evenodd\" fill-opacity=\"1\" stroke=\"#000000\" stroke-opacity=\"1\" stroke-width=\"3.2\"/>\n",
       "<circle clip-path=\"url(#clip2802)\" cx=\"1208.66\" cy=\"808.176\" r=\"14\" fill=\"#3da44d\" fill-rule=\"evenodd\" fill-opacity=\"1\" stroke=\"#000000\" stroke-opacity=\"1\" stroke-width=\"3.2\"/>\n",
       "<circle clip-path=\"url(#clip2802)\" cx=\"1195.91\" cy=\"819.625\" r=\"14\" fill=\"#3da44d\" fill-rule=\"evenodd\" fill-opacity=\"1\" stroke=\"#000000\" stroke-opacity=\"1\" stroke-width=\"3.2\"/>\n",
       "<circle clip-path=\"url(#clip2802)\" cx=\"1193.29\" cy=\"821.825\" r=\"14\" fill=\"#3da44d\" fill-rule=\"evenodd\" fill-opacity=\"1\" stroke=\"#000000\" stroke-opacity=\"1\" stroke-width=\"3.2\"/>\n",
       "<circle clip-path=\"url(#clip2802)\" cx=\"1227.4\" cy=\"814.272\" r=\"14\" fill=\"#3da44d\" fill-rule=\"evenodd\" fill-opacity=\"1\" stroke=\"#000000\" stroke-opacity=\"1\" stroke-width=\"3.2\"/>\n",
       "<defs>\n",
       "  <clipPath id=\"clip2803\">\n",
       "    <rect x=\"2160\" y=\"47\" width=\"73\" height=\"1379\"/>\n",
       "  </clipPath>\n",
       "</defs>\n",
       "<path clip-path=\"url(#clip2803)\" d=\"\n",
       "M2160.76 1425.62 L2232.76 1425.62 L2232.76 1339.47 L2160.76 1339.47  Z\n",
       "  \" fill=\"#000003\" fill-rule=\"evenodd\" fill-opacity=\"1\"/>\n",
       "<path clip-path=\"url(#clip2803)\" d=\"\n",
       "M2160.76 1339.47 L2232.76 1339.47 L2232.76 1253.32 L2160.76 1253.32  Z\n",
       "  \" fill=\"#0c0727\" fill-rule=\"evenodd\" fill-opacity=\"1\"/>\n",
       "<path clip-path=\"url(#clip2803)\" d=\"\n",
       "M2160.76 1253.32 L2232.76 1253.32 L2232.76 1167.17 L2160.76 1167.17  Z\n",
       "  \" fill=\"#240b4e\" fill-rule=\"evenodd\" fill-opacity=\"1\"/>\n",
       "<path clip-path=\"url(#clip2803)\" d=\"\n",
       "M2160.76 1167.17 L2232.76 1167.17 L2232.76 1081.02 L2160.76 1081.02  Z\n",
       "  \" fill=\"#420a67\" fill-rule=\"evenodd\" fill-opacity=\"1\"/>\n",
       "<path clip-path=\"url(#clip2803)\" d=\"\n",
       "M2160.76 1081.02 L2232.76 1081.02 L2232.76 994.877 L2160.76 994.877  Z\n",
       "  \" fill=\"#5d126d\" fill-rule=\"evenodd\" fill-opacity=\"1\"/>\n",
       "<path clip-path=\"url(#clip2803)\" d=\"\n",
       "M2160.76 994.877 L2232.76 994.877 L2232.76 908.728 L2160.76 908.728  Z\n",
       "  \" fill=\"#781c6d\" fill-rule=\"evenodd\" fill-opacity=\"1\"/>\n",
       "<path clip-path=\"url(#clip2803)\" d=\"\n",
       "M2160.76 908.728 L2232.76 908.728 L2232.76 822.58 L2160.76 822.58  Z\n",
       "  \" fill=\"#942666\" fill-rule=\"evenodd\" fill-opacity=\"1\"/>\n",
       "<path clip-path=\"url(#clip2803)\" d=\"\n",
       "M2160.76 822.58 L2232.76 822.58 L2232.76 736.431 L2160.76 736.431  Z\n",
       "  \" fill=\"#ad305b\" fill-rule=\"evenodd\" fill-opacity=\"1\"/>\n",
       "<path clip-path=\"url(#clip2803)\" d=\"\n",
       "M2160.76 736.431 L2232.76 736.431 L2232.76 650.283 L2160.76 650.283  Z\n",
       "  \" fill=\"#c73e4c\" fill-rule=\"evenodd\" fill-opacity=\"1\"/>\n",
       "<path clip-path=\"url(#clip2803)\" d=\"\n",
       "M2160.76 650.283 L2232.76 650.283 L2232.76 564.135 L2160.76 564.135  Z\n",
       "  \" fill=\"#db503a\" fill-rule=\"evenodd\" fill-opacity=\"1\"/>\n",
       "<path clip-path=\"url(#clip2803)\" d=\"\n",
       "M2160.76 564.135 L2232.76 564.135 L2232.76 477.986 L2160.76 477.986  Z\n",
       "  \" fill=\"#ec6925\" fill-rule=\"evenodd\" fill-opacity=\"1\"/>\n",
       "<path clip-path=\"url(#clip2803)\" d=\"\n",
       "M2160.76 477.986 L2232.76 477.986 L2232.76 391.838 L2160.76 391.838  Z\n",
       "  \" fill=\"#f7850e\" fill-rule=\"evenodd\" fill-opacity=\"1\"/>\n",
       "<path clip-path=\"url(#clip2803)\" d=\"\n",
       "M2160.76 391.838 L2232.76 391.838 L2232.76 305.689 L2160.76 305.689  Z\n",
       "  \" fill=\"#fba40a\" fill-rule=\"evenodd\" fill-opacity=\"1\"/>\n",
       "<path clip-path=\"url(#clip2803)\" d=\"\n",
       "M2160.76 305.689 L2232.76 305.689 L2232.76 219.541 L2160.76 219.541  Z\n",
       "  \" fill=\"#f9c52d\" fill-rule=\"evenodd\" fill-opacity=\"1\"/>\n",
       "<path clip-path=\"url(#clip2803)\" d=\"\n",
       "M2160.76 219.541 L2232.76 219.541 L2232.76 133.393 L2160.76 133.393  Z\n",
       "  \" fill=\"#f2e55f\" fill-rule=\"evenodd\" fill-opacity=\"1\"/>\n",
       "<path clip-path=\"url(#clip2803)\" d=\"\n",
       "M2160.76 133.393 L2232.76 133.393 L2232.76 47.2441 L2160.76 47.2441  Z\n",
       "  \" fill=\"#fcfea4\" fill-rule=\"evenodd\" fill-opacity=\"1\"/>\n",
       "<g clip-path=\"url(#clip2800)\">\n",
       "<text style=\"fill:#000000; fill-opacity:1; font-family:Arial,Helvetica Neue,Helvetica,sans-serif; font-size:48px; text-anchor:start;\" transform=\"rotate(0, 2268.76, 1301.95)\" x=\"2268.76\" y=\"1301.95\">0.1</text>\n",
       "</g>\n",
       "<g clip-path=\"url(#clip2800)\">\n",
       "<text style=\"fill:#000000; fill-opacity:1; font-family:Arial,Helvetica Neue,Helvetica,sans-serif; font-size:48px; text-anchor:start;\" transform=\"rotate(0, 2268.76, 1164.05)\" x=\"2268.76\" y=\"1164.05\">0.2</text>\n",
       "</g>\n",
       "<g clip-path=\"url(#clip2800)\">\n",
       "<text style=\"fill:#000000; fill-opacity:1; font-family:Arial,Helvetica Neue,Helvetica,sans-serif; font-size:48px; text-anchor:start;\" transform=\"rotate(0, 2268.76, 1026.16)\" x=\"2268.76\" y=\"1026.16\">0.3</text>\n",
       "</g>\n",
       "<g clip-path=\"url(#clip2800)\">\n",
       "<text style=\"fill:#000000; fill-opacity:1; font-family:Arial,Helvetica Neue,Helvetica,sans-serif; font-size:48px; text-anchor:start;\" transform=\"rotate(0, 2268.76, 888.262)\" x=\"2268.76\" y=\"888.262\">0.4</text>\n",
       "</g>\n",
       "<g clip-path=\"url(#clip2800)\">\n",
       "<text style=\"fill:#000000; fill-opacity:1; font-family:Arial,Helvetica Neue,Helvetica,sans-serif; font-size:48px; text-anchor:start;\" transform=\"rotate(0, 2268.76, 750.368)\" x=\"2268.76\" y=\"750.368\">0.5</text>\n",
       "</g>\n",
       "<g clip-path=\"url(#clip2800)\">\n",
       "<text style=\"fill:#000000; fill-opacity:1; font-family:Arial,Helvetica Neue,Helvetica,sans-serif; font-size:48px; text-anchor:start;\" transform=\"rotate(0, 2268.76, 612.473)\" x=\"2268.76\" y=\"612.473\">0.6</text>\n",
       "</g>\n",
       "<g clip-path=\"url(#clip2800)\">\n",
       "<text style=\"fill:#000000; fill-opacity:1; font-family:Arial,Helvetica Neue,Helvetica,sans-serif; font-size:48px; text-anchor:start;\" transform=\"rotate(0, 2268.76, 474.578)\" x=\"2268.76\" y=\"474.578\">0.7</text>\n",
       "</g>\n",
       "<g clip-path=\"url(#clip2800)\">\n",
       "<text style=\"fill:#000000; fill-opacity:1; font-family:Arial,Helvetica Neue,Helvetica,sans-serif; font-size:48px; text-anchor:start;\" transform=\"rotate(0, 2268.76, 336.684)\" x=\"2268.76\" y=\"336.684\">0.8</text>\n",
       "</g>\n",
       "<g clip-path=\"url(#clip2800)\">\n",
       "<text style=\"fill:#000000; fill-opacity:1; font-family:Arial,Helvetica Neue,Helvetica,sans-serif; font-size:48px; text-anchor:start;\" transform=\"rotate(0, 2268.76, 198.789)\" x=\"2268.76\" y=\"198.789\">0.9</text>\n",
       "</g>\n",
       "<polyline clip-path=\"url(#clip2800)\" style=\"stroke:#000000; stroke-width:4; stroke-opacity:1; fill:none\" points=\"\n",
       "  2232.76,1425.62 2232.76,1288.3 2256.76,1288.3 2232.76,1288.3 2232.76,1150.4 2256.76,1150.4 2232.76,1150.4 2232.76,1012.51 2256.76,1012.51 2232.76,1012.51 \n",
       "  2232.76,874.611 2256.76,874.611 2232.76,874.611 2232.76,736.716 2256.76,736.716 2232.76,736.716 2232.76,598.822 2256.76,598.822 2232.76,598.822 2232.76,460.927 \n",
       "  2256.76,460.927 2232.76,460.927 2232.76,323.033 2256.76,323.033 2232.76,323.033 2232.76,185.138 2256.76,185.138 2232.76,185.138 2232.76,47.2441 \n",
       "  \"/>\n",
       "<path clip-path=\"url(#clip2800)\" d=\"\n",
       "M1610.77 312.204 L2040.76 312.204 L2040.76 130.764 L1610.77 130.764  Z\n",
       "  \" fill=\"#ffffff\" fill-rule=\"evenodd\" fill-opacity=\"1\"/>\n",
       "<polyline clip-path=\"url(#clip2800)\" style=\"stroke:#000000; stroke-width:4; stroke-opacity:1; fill:none\" points=\"\n",
       "  1610.77,312.204 2040.76,312.204 2040.76,130.764 1610.77,130.764 1610.77,312.204 \n",
       "  \"/>\n",
       "<circle clip-path=\"url(#clip2800)\" cx=\"1718.77\" cy=\"191.244\" r=\"21\" fill=\"#e26f46\" fill-rule=\"evenodd\" fill-opacity=\"1\" stroke=\"#000000\" stroke-opacity=\"1\" stroke-width=\"3.2\"/>\n",
       "<g clip-path=\"url(#clip2800)\">\n",
       "<text style=\"fill:#000000; fill-opacity:1; font-family:Arial,Helvetica Neue,Helvetica,sans-serif; font-size:48px; text-anchor:start;\" transform=\"rotate(0, 1802.77, 208.744)\" x=\"1802.77\" y=\"208.744\">Apples</text>\n",
       "</g>\n",
       "<circle clip-path=\"url(#clip2800)\" cx=\"1718.77\" cy=\"251.724\" r=\"21\" fill=\"#3da44d\" fill-rule=\"evenodd\" fill-opacity=\"1\" stroke=\"#000000\" stroke-opacity=\"1\" stroke-width=\"3.2\"/>\n",
       "<g clip-path=\"url(#clip2800)\">\n",
       "<text style=\"fill:#000000; fill-opacity:1; font-family:Arial,Helvetica Neue,Helvetica,sans-serif; font-size:48px; text-anchor:start;\" transform=\"rotate(0, 1802.77, 269.224)\" x=\"1802.77\" y=\"269.224\">Bananas</text>\n",
       "</g>\n",
       "</svg>\n"
      ]
     },
     "execution_count": 63,
     "metadata": {},
     "output_type": "execute_result"
    }
   ],
   "source": [
    "#contour(0:.1:1, 0:.1:1, (x, y) -> model([x,y])[].data, fill=true)\n",
    "#newer versions of Flux do not return  a Tracked object, but the data directly... hence not using the \".data\" field\n",
    "contour(0:.1:1, 0:.1:1, (x, y) -> model([x,y])[], fill=true)\n",
    "scatter!(first.(x_apples), last.(x_apples), label=\"Apples\")\n",
    "scatter!(first.(x_bananas), last.(x_bananas), label=\"Bananas\")\n",
    "xlabel!(\"Mean Red Value\")\n",
    "ylabel!(\"Mean Green Value\")"
   ]
  },
  {
   "cell_type": "markdown",
   "metadata": {},
   "source": [
    "Plot predicted_output. Observe:\n",
    "- outputs for inputs from 0 to 492 corresponding to Apples are 0\n",
    "- outputs for inputs from 493 to 982 corresponding to Bananas are 1"
   ]
  },
  {
   "cell_type": "code",
   "execution_count": 59,
   "metadata": {
    "scrolled": true
   },
   "outputs": [
    {
     "data": {
      "image/svg+xml": [
       "<?xml version=\"1.0\" encoding=\"utf-8\"?>\n",
       "<svg xmlns=\"http://www.w3.org/2000/svg\" xmlns:xlink=\"http://www.w3.org/1999/xlink\" width=\"600\" height=\"400\" viewBox=\"0 0 2400 1600\">\n",
       "<defs>\n",
       "  <clipPath id=\"clip2000\">\n",
       "    <rect x=\"0\" y=\"0\" width=\"2400\" height=\"1600\"/>\n",
       "  </clipPath>\n",
       "</defs>\n",
       "<path clip-path=\"url(#clip2000)\" d=\"\n",
       "M0 1600 L2400 1600 L2400 0 L0 0  Z\n",
       "  \" fill=\"#ffffff\" fill-rule=\"evenodd\" fill-opacity=\"1\"/>\n",
       "<defs>\n",
       "  <clipPath id=\"clip2001\">\n",
       "    <rect x=\"480\" y=\"0\" width=\"1681\" height=\"1600\"/>\n",
       "  </clipPath>\n",
       "</defs>\n",
       "<path clip-path=\"url(#clip2000)\" d=\"\n",
       "M242.516 1425.62 L2352.76 1425.62 L2352.76 47.2441 L242.516 47.2441  Z\n",
       "  \" fill=\"#ffffff\" fill-rule=\"evenodd\" fill-opacity=\"1\"/>\n",
       "<defs>\n",
       "  <clipPath id=\"clip2002\">\n",
       "    <rect x=\"242\" y=\"47\" width=\"2111\" height=\"1379\"/>\n",
       "  </clipPath>\n",
       "</defs>\n",
       "<polyline clip-path=\"url(#clip2002)\" style=\"stroke:#000000; stroke-width:2; stroke-opacity:0.1; fill:none\" points=\"\n",
       "  302.24,1425.62 302.24,47.2441 \n",
       "  \"/>\n",
       "<polyline clip-path=\"url(#clip2002)\" style=\"stroke:#000000; stroke-width:2; stroke-opacity:0.1; fill:none\" points=\"\n",
       "  809.061,1425.62 809.061,47.2441 \n",
       "  \"/>\n",
       "<polyline clip-path=\"url(#clip2002)\" style=\"stroke:#000000; stroke-width:2; stroke-opacity:0.1; fill:none\" points=\"\n",
       "  1315.88,1425.62 1315.88,47.2441 \n",
       "  \"/>\n",
       "<polyline clip-path=\"url(#clip2002)\" style=\"stroke:#000000; stroke-width:2; stroke-opacity:0.1; fill:none\" points=\"\n",
       "  1822.7,1425.62 1822.7,47.2441 \n",
       "  \"/>\n",
       "<polyline clip-path=\"url(#clip2002)\" style=\"stroke:#000000; stroke-width:2; stroke-opacity:0.1; fill:none\" points=\"\n",
       "  2329.52,1425.62 2329.52,47.2441 \n",
       "  \"/>\n",
       "<polyline clip-path=\"url(#clip2002)\" style=\"stroke:#000000; stroke-width:2; stroke-opacity:0.1; fill:none\" points=\"\n",
       "  242.516,1386.61 2352.76,1386.61 \n",
       "  \"/>\n",
       "<polyline clip-path=\"url(#clip2002)\" style=\"stroke:#000000; stroke-width:2; stroke-opacity:0.1; fill:none\" points=\"\n",
       "  242.516,1061.52 2352.76,1061.52 \n",
       "  \"/>\n",
       "<polyline clip-path=\"url(#clip2002)\" style=\"stroke:#000000; stroke-width:2; stroke-opacity:0.1; fill:none\" points=\"\n",
       "  242.516,736.431 2352.76,736.431 \n",
       "  \"/>\n",
       "<polyline clip-path=\"url(#clip2002)\" style=\"stroke:#000000; stroke-width:2; stroke-opacity:0.1; fill:none\" points=\"\n",
       "  242.516,411.343 2352.76,411.343 \n",
       "  \"/>\n",
       "<polyline clip-path=\"url(#clip2002)\" style=\"stroke:#000000; stroke-width:2; stroke-opacity:0.1; fill:none\" points=\"\n",
       "  242.516,86.2547 2352.76,86.2547 \n",
       "  \"/>\n",
       "<polyline clip-path=\"url(#clip2000)\" style=\"stroke:#000000; stroke-width:4; stroke-opacity:1; fill:none\" points=\"\n",
       "  242.516,1425.62 2352.76,1425.62 \n",
       "  \"/>\n",
       "<polyline clip-path=\"url(#clip2000)\" style=\"stroke:#000000; stroke-width:4; stroke-opacity:1; fill:none\" points=\"\n",
       "  242.516,1425.62 242.516,47.2441 \n",
       "  \"/>\n",
       "<polyline clip-path=\"url(#clip2000)\" style=\"stroke:#000000; stroke-width:4; stroke-opacity:1; fill:none\" points=\"\n",
       "  302.24,1425.62 302.24,1409.08 \n",
       "  \"/>\n",
       "<polyline clip-path=\"url(#clip2000)\" style=\"stroke:#000000; stroke-width:4; stroke-opacity:1; fill:none\" points=\"\n",
       "  809.061,1425.62 809.061,1409.08 \n",
       "  \"/>\n",
       "<polyline clip-path=\"url(#clip2000)\" style=\"stroke:#000000; stroke-width:4; stroke-opacity:1; fill:none\" points=\"\n",
       "  1315.88,1425.62 1315.88,1409.08 \n",
       "  \"/>\n",
       "<polyline clip-path=\"url(#clip2000)\" style=\"stroke:#000000; stroke-width:4; stroke-opacity:1; fill:none\" points=\"\n",
       "  1822.7,1425.62 1822.7,1409.08 \n",
       "  \"/>\n",
       "<polyline clip-path=\"url(#clip2000)\" style=\"stroke:#000000; stroke-width:4; stroke-opacity:1; fill:none\" points=\"\n",
       "  2329.52,1425.62 2329.52,1409.08 \n",
       "  \"/>\n",
       "<polyline clip-path=\"url(#clip2000)\" style=\"stroke:#000000; stroke-width:4; stroke-opacity:1; fill:none\" points=\"\n",
       "  242.516,1386.61 267.839,1386.61 \n",
       "  \"/>\n",
       "<polyline clip-path=\"url(#clip2000)\" style=\"stroke:#000000; stroke-width:4; stroke-opacity:1; fill:none\" points=\"\n",
       "  242.516,1061.52 267.839,1061.52 \n",
       "  \"/>\n",
       "<polyline clip-path=\"url(#clip2000)\" style=\"stroke:#000000; stroke-width:4; stroke-opacity:1; fill:none\" points=\"\n",
       "  242.516,736.431 267.839,736.431 \n",
       "  \"/>\n",
       "<polyline clip-path=\"url(#clip2000)\" style=\"stroke:#000000; stroke-width:4; stroke-opacity:1; fill:none\" points=\"\n",
       "  242.516,411.343 267.839,411.343 \n",
       "  \"/>\n",
       "<polyline clip-path=\"url(#clip2000)\" style=\"stroke:#000000; stroke-width:4; stroke-opacity:1; fill:none\" points=\"\n",
       "  242.516,86.2547 267.839,86.2547 \n",
       "  \"/>\n",
       "<g clip-path=\"url(#clip2000)\">\n",
       "<text style=\"fill:#000000; fill-opacity:1; font-family:Arial,Helvetica Neue,Helvetica,sans-serif; font-size:48px; text-anchor:middle;\" transform=\"rotate(0, 302.24, 1479.62)\" x=\"302.24\" y=\"1479.62\">0</text>\n",
       "</g>\n",
       "<g clip-path=\"url(#clip2000)\">\n",
       "<text style=\"fill:#000000; fill-opacity:1; font-family:Arial,Helvetica Neue,Helvetica,sans-serif; font-size:48px; text-anchor:middle;\" transform=\"rotate(0, 809.061, 1479.62)\" x=\"809.061\" y=\"1479.62\">250</text>\n",
       "</g>\n",
       "<g clip-path=\"url(#clip2000)\">\n",
       "<text style=\"fill:#000000; fill-opacity:1; font-family:Arial,Helvetica Neue,Helvetica,sans-serif; font-size:48px; text-anchor:middle;\" transform=\"rotate(0, 1315.88, 1479.62)\" x=\"1315.88\" y=\"1479.62\">500</text>\n",
       "</g>\n",
       "<g clip-path=\"url(#clip2000)\">\n",
       "<text style=\"fill:#000000; fill-opacity:1; font-family:Arial,Helvetica Neue,Helvetica,sans-serif; font-size:48px; text-anchor:middle;\" transform=\"rotate(0, 1822.7, 1479.62)\" x=\"1822.7\" y=\"1479.62\">750</text>\n",
       "</g>\n",
       "<g clip-path=\"url(#clip2000)\">\n",
       "<text style=\"fill:#000000; fill-opacity:1; font-family:Arial,Helvetica Neue,Helvetica,sans-serif; font-size:48px; text-anchor:middle;\" transform=\"rotate(0, 2329.52, 1479.62)\" x=\"2329.52\" y=\"1479.62\">1000</text>\n",
       "</g>\n",
       "<g clip-path=\"url(#clip2000)\">\n",
       "<text style=\"fill:#000000; fill-opacity:1; font-family:Arial,Helvetica Neue,Helvetica,sans-serif; font-size:48px; text-anchor:end;\" transform=\"rotate(0, 218.516, 1404.11)\" x=\"218.516\" y=\"1404.11\">0.00</text>\n",
       "</g>\n",
       "<g clip-path=\"url(#clip2000)\">\n",
       "<text style=\"fill:#000000; fill-opacity:1; font-family:Arial,Helvetica Neue,Helvetica,sans-serif; font-size:48px; text-anchor:end;\" transform=\"rotate(0, 218.516, 1079.02)\" x=\"218.516\" y=\"1079.02\">0.25</text>\n",
       "</g>\n",
       "<g clip-path=\"url(#clip2000)\">\n",
       "<text style=\"fill:#000000; fill-opacity:1; font-family:Arial,Helvetica Neue,Helvetica,sans-serif; font-size:48px; text-anchor:end;\" transform=\"rotate(0, 218.516, 753.931)\" x=\"218.516\" y=\"753.931\">0.50</text>\n",
       "</g>\n",
       "<g clip-path=\"url(#clip2000)\">\n",
       "<text style=\"fill:#000000; fill-opacity:1; font-family:Arial,Helvetica Neue,Helvetica,sans-serif; font-size:48px; text-anchor:end;\" transform=\"rotate(0, 218.516, 428.843)\" x=\"218.516\" y=\"428.843\">0.75</text>\n",
       "</g>\n",
       "<g clip-path=\"url(#clip2000)\">\n",
       "<text style=\"fill:#000000; fill-opacity:1; font-family:Arial,Helvetica Neue,Helvetica,sans-serif; font-size:48px; text-anchor:end;\" transform=\"rotate(0, 218.516, 103.755)\" x=\"218.516\" y=\"103.755\">1.00</text>\n",
       "</g>\n",
       "<g clip-path=\"url(#clip2000)\">\n",
       "<text style=\"fill:#000000; fill-opacity:1; font-family:Arial,Helvetica Neue,Helvetica,sans-serif; font-size:66px; text-anchor:middle;\" transform=\"rotate(0, 1297.64, 1559.48)\" x=\"1297.64\" y=\"1559.48\">Input Instance</text>\n",
       "</g>\n",
       "<g clip-path=\"url(#clip2000)\">\n",
       "<text style=\"fill:#000000; fill-opacity:1; font-family:Arial,Helvetica Neue,Helvetica,sans-serif; font-size:66px; text-anchor:middle;\" transform=\"rotate(-90, 89.2861, 736.431)\" x=\"89.2861\" y=\"736.431\">Prediction Output</text>\n",
       "</g>\n",
       "<polyline clip-path=\"url(#clip2002)\" style=\"stroke:#009af9; stroke-width:4; stroke-opacity:1; fill:none\" points=\"\n",
       "  304.267,1386.61 306.295,1386.61 308.322,1386.61 310.349,1386.61 312.377,1386.61 314.404,1386.61 316.431,1386.61 318.458,1386.61 320.486,1386.61 322.513,1386.61 \n",
       "  324.54,1386.61 326.568,1386.61 328.595,1386.61 330.622,1386.61 332.649,1386.61 334.677,1386.61 336.704,1386.61 338.731,1386.61 340.759,1386.61 342.786,1386.61 \n",
       "  344.813,1386.61 346.84,1386.61 348.868,1386.61 350.895,1386.61 352.922,1386.61 354.95,1386.61 356.977,1386.61 359.004,1386.61 361.031,1386.61 363.059,1386.61 \n",
       "  365.086,1386.61 367.113,1386.61 369.141,1386.61 371.168,1386.61 373.195,1386.61 375.222,1386.61 377.25,1386.61 379.277,1386.61 381.304,1386.61 383.332,1386.61 \n",
       "  385.359,1386.61 387.386,1386.61 389.413,1386.61 391.441,1386.61 393.468,1386.61 395.495,1386.61 397.522,1386.61 399.55,1386.61 401.577,1386.61 403.604,1386.61 \n",
       "  405.632,1386.61 407.659,1386.61 409.686,1386.61 411.713,1386.61 413.741,1386.61 415.768,1386.61 417.795,1386.61 419.823,1386.61 421.85,1386.61 423.877,1386.61 \n",
       "  425.904,1386.61 427.932,1386.61 429.959,1386.61 431.986,1386.61 434.014,1386.61 436.041,1386.61 438.068,1386.61 440.095,1386.61 442.123,1386.61 444.15,1386.61 \n",
       "  446.177,1386.61 448.205,1386.61 450.232,1386.61 452.259,1386.61 454.286,1386.61 456.314,1386.61 458.341,1386.61 460.368,1386.61 462.396,1386.61 464.423,1386.61 \n",
       "  466.45,1386.61 468.477,1386.61 470.505,1386.61 472.532,1386.61 474.559,1386.61 476.587,1386.61 478.614,1386.61 480.641,1386.61 482.668,1386.61 484.696,1386.61 \n",
       "  486.723,1386.61 488.75,1386.61 490.778,1386.61 492.805,1386.61 494.832,1386.61 496.859,1386.61 498.887,1386.61 500.914,1386.61 502.941,1386.61 504.968,1386.61 \n",
       "  506.996,1386.61 509.023,1386.61 511.05,1386.61 513.078,1386.61 515.105,1386.61 517.132,1386.61 519.159,1386.61 521.187,1386.61 523.214,1386.61 525.241,1386.61 \n",
       "  527.269,1386.61 529.296,1386.61 531.323,1386.61 533.35,1386.61 535.378,1386.61 537.405,1386.61 539.432,1386.61 541.46,1386.61 543.487,1386.61 545.514,1386.61 \n",
       "  547.541,1386.61 549.569,1386.61 551.596,1386.61 553.623,1386.61 555.651,1386.61 557.678,1386.61 559.705,1386.61 561.732,1386.61 563.76,1386.61 565.787,1386.61 \n",
       "  567.814,1386.61 569.842,1386.61 571.869,1386.61 573.896,1386.61 575.923,1386.61 577.951,1386.61 579.978,1386.61 582.005,1386.61 584.033,1386.61 586.06,1386.61 \n",
       "  588.087,1386.61 590.114,1386.61 592.142,1386.61 594.169,1386.61 596.196,1386.61 598.224,1386.61 600.251,1386.61 602.278,1386.61 604.305,1386.61 606.333,1386.61 \n",
       "  608.36,1386.61 610.387,1386.61 612.414,1386.61 614.442,1386.61 616.469,1386.61 618.496,1386.61 620.524,1386.61 622.551,1386.61 624.578,1386.61 626.605,1386.61 \n",
       "  628.633,1386.61 630.66,1386.61 632.687,1386.61 634.715,1386.61 636.742,1386.61 638.769,1386.61 640.796,1386.61 642.824,1386.61 644.851,1386.61 646.878,1386.61 \n",
       "  648.906,1386.61 650.933,1386.61 652.96,1386.61 654.987,1386.61 657.015,1386.61 659.042,1386.61 661.069,1386.61 663.097,1386.61 665.124,1386.61 667.151,1386.61 \n",
       "  669.178,1386.61 671.206,1386.61 673.233,1386.61 675.26,1386.61 677.288,1386.61 679.315,1386.61 681.342,1386.61 683.369,1386.61 685.397,1386.61 687.424,1386.61 \n",
       "  689.451,1386.61 691.479,1386.61 693.506,1386.61 695.533,1386.61 697.56,1386.61 699.588,1386.61 701.615,1386.61 703.642,1386.61 705.67,1386.61 707.697,1386.61 \n",
       "  709.724,1386.61 711.751,1386.61 713.779,1386.61 715.806,1386.61 717.833,1386.61 719.86,1386.61 721.888,1386.61 723.915,1386.61 725.942,1386.61 727.97,1386.61 \n",
       "  729.997,1386.61 732.024,1386.61 734.051,1386.61 736.079,1386.61 738.106,1386.61 740.133,1386.61 742.161,1386.61 744.188,1386.61 746.215,1386.61 748.242,1386.61 \n",
       "  750.27,1386.61 752.297,1386.61 754.324,1386.61 756.352,1386.61 758.379,1386.61 760.406,1386.61 762.433,1386.61 764.461,1386.61 766.488,1386.61 768.515,1386.61 \n",
       "  770.543,1386.61 772.57,1386.61 774.597,1386.61 776.624,1386.61 778.652,1386.61 780.679,1386.61 782.706,1386.61 784.734,1386.61 786.761,1386.61 788.788,1386.61 \n",
       "  790.815,1386.61 792.843,1386.61 794.87,1386.61 796.897,1386.61 798.925,1386.61 800.952,1386.61 802.979,1386.61 805.006,1386.61 807.034,1386.61 809.061,1386.61 \n",
       "  811.088,1386.61 813.116,1386.61 815.143,1386.61 817.17,1386.61 819.197,1386.61 821.225,1386.61 823.252,1386.61 825.279,1386.61 827.306,1386.61 829.334,1386.61 \n",
       "  831.361,1386.61 833.388,1386.61 835.416,1386.61 837.443,1386.61 839.47,1386.61 841.497,1386.61 843.525,1386.61 845.552,1386.61 847.579,1386.61 849.607,1386.61 \n",
       "  851.634,1386.61 853.661,1386.61 855.688,1386.61 857.716,1386.61 859.743,1386.61 861.77,1386.61 863.798,1386.61 865.825,1386.61 867.852,1386.61 869.879,1386.61 \n",
       "  871.907,1386.61 873.934,1386.61 875.961,1386.61 877.989,1386.61 880.016,1386.61 882.043,1386.61 884.07,1386.61 886.098,1386.61 888.125,1386.61 890.152,1386.61 \n",
       "  892.18,1386.61 894.207,1386.61 896.234,1386.61 898.261,1386.61 900.289,1386.61 902.316,1386.61 904.343,1386.61 906.371,1386.61 908.398,1386.61 910.425,1386.61 \n",
       "  912.452,1386.61 914.48,1386.61 916.507,1386.61 918.534,1386.61 920.562,1386.61 922.589,1386.61 924.616,1386.61 926.643,1386.61 928.671,1386.61 930.698,1386.61 \n",
       "  932.725,1386.61 934.752,1386.61 936.78,1386.61 938.807,1386.61 940.834,1386.61 942.862,1386.61 944.889,1386.61 946.916,1386.61 948.943,1386.61 950.971,1386.61 \n",
       "  952.998,1386.61 955.025,1386.61 957.053,1386.61 959.08,1386.61 961.107,1386.61 963.134,1386.61 965.162,1386.61 967.189,1386.61 969.216,1386.61 971.244,1386.61 \n",
       "  973.271,1386.61 975.298,1386.61 977.325,1386.61 979.353,1386.61 981.38,1386.61 983.407,1386.61 985.435,1386.61 987.462,1386.61 989.489,1386.61 991.516,1386.61 \n",
       "  993.544,1386.61 995.571,1386.61 997.598,1386.61 999.626,1386.61 1001.65,1386.61 1003.68,1386.61 1005.71,1386.61 1007.73,1386.61 1009.76,1386.61 1011.79,1386.61 \n",
       "  1013.82,1386.61 1015.84,1386.61 1017.87,1386.61 1019.9,1386.61 1021.93,1386.61 1023.95,1386.61 1025.98,1386.61 1028.01,1386.61 1030.03,1386.61 1032.06,1386.61 \n",
       "  1034.09,1386.61 1036.12,1386.61 1038.14,1386.61 1040.17,1386.61 1042.2,1386.61 1044.23,1386.61 1046.25,1386.61 1048.28,1386.61 1050.31,1386.61 1052.33,1386.61 \n",
       "  1054.36,1386.61 1056.39,1386.61 1058.42,1386.61 1060.44,1386.61 1062.47,1386.61 1064.5,1386.61 1066.53,1386.61 1068.55,1386.61 1070.58,1386.61 1072.61,1386.61 \n",
       "  1074.64,1386.61 1076.66,1386.61 1078.69,1386.61 1080.72,1386.61 1082.74,1386.61 1084.77,1386.61 1086.8,1386.61 1088.83,1386.61 1090.85,1386.61 1092.88,1386.61 \n",
       "  1094.91,1386.61 1096.94,1386.61 1098.96,1386.61 1100.99,1386.61 1103.02,1386.61 1105.04,1386.61 1107.07,1386.61 1109.1,1386.61 1111.13,1386.61 1113.15,1386.61 \n",
       "  1115.18,1386.61 1117.21,1386.61 1119.24,1386.61 1121.26,1386.61 1123.29,1386.61 1125.32,1386.61 1127.34,1386.61 1129.37,1386.61 1131.4,1386.61 1133.43,1386.61 \n",
       "  1135.45,1386.61 1137.48,1386.61 1139.51,1386.61 1141.54,1386.61 1143.56,1386.61 1145.59,1386.61 1147.62,1386.61 1149.64,1386.61 1151.67,1386.61 1153.7,1386.61 \n",
       "  1155.73,1386.61 1157.75,1386.61 1159.78,1386.61 1161.81,1386.61 1163.84,1386.61 1165.86,1386.61 1167.89,1386.61 1169.92,1386.61 1171.94,1386.61 1173.97,1386.61 \n",
       "  1176,1386.61 1178.03,1386.61 1180.05,1386.61 1182.08,1386.61 1184.11,1386.61 1186.14,1386.61 1188.16,1386.61 1190.19,1386.61 1192.22,1386.61 1194.24,1386.61 \n",
       "  1196.27,1386.61 1198.3,1386.61 1200.33,1386.61 1202.35,1386.61 1204.38,1386.61 1206.41,1386.61 1208.44,1386.61 1210.46,1386.61 1212.49,1386.61 1214.52,1386.61 \n",
       "  1216.54,1386.61 1218.57,1386.61 1220.6,1386.61 1222.63,1386.61 1224.65,1386.61 1226.68,1386.61 1228.71,1386.61 1230.74,1386.61 1232.76,1386.61 1234.79,1386.61 \n",
       "  1236.82,1386.61 1238.84,1386.61 1240.87,1386.61 1242.9,1386.61 1244.93,1386.61 1246.95,1386.61 1248.98,1386.61 1251.01,1386.61 1253.04,1386.61 1255.06,1386.61 \n",
       "  1257.09,1386.61 1259.12,1386.61 1261.15,1386.61 1263.17,1386.61 1265.2,1386.61 1267.23,1386.61 1269.25,1386.61 1271.28,1386.61 1273.31,1386.61 1275.34,1386.61 \n",
       "  1277.36,1386.61 1279.39,1386.61 1281.42,1386.61 1283.45,1386.61 1285.47,1386.61 1287.5,1386.61 1289.53,1386.61 1291.55,1386.61 1293.58,1386.61 1295.61,1386.61 \n",
       "  1297.64,1386.61 1299.66,1386.61 1301.69,86.2547 1303.72,86.2547 1305.75,86.2547 1307.77,86.2547 1309.8,86.2547 1311.83,86.2547 1313.85,86.2547 1315.88,86.2547 \n",
       "  1317.91,86.2547 1319.94,86.2547 1321.96,86.2547 1323.99,86.2547 1326.02,86.2547 1328.05,86.2547 1330.07,86.2547 1332.1,86.2547 1334.13,86.2547 1336.15,86.2547 \n",
       "  1338.18,86.2547 1340.21,86.2547 1342.24,86.2547 1344.26,86.2547 1346.29,86.2547 1348.32,86.2547 1350.35,86.2547 1352.37,86.2547 1354.4,86.2547 1356.43,86.2547 \n",
       "  1358.45,86.2547 1360.48,86.2547 1362.51,86.2547 1364.54,86.2547 1366.56,86.2547 1368.59,86.2547 1370.62,86.2547 1372.65,86.2547 1374.67,86.2547 1376.7,86.2547 \n",
       "  1378.73,86.2547 1380.75,86.2547 1382.78,86.2547 1384.81,86.2547 1386.84,86.2547 1388.86,86.2547 1390.89,86.2547 1392.92,86.2547 1394.95,86.2547 1396.97,86.2547 \n",
       "  1399,86.2547 1401.03,86.2547 1403.05,86.2547 1405.08,86.2547 1407.11,86.2547 1409.14,86.2547 1411.16,86.2547 1413.19,86.2547 1415.22,86.2547 1417.25,86.2547 \n",
       "  1419.27,86.2547 1421.3,86.2547 1423.33,86.2547 1425.35,86.2547 1427.38,86.2547 1429.41,86.2547 1431.44,86.2547 1433.46,86.2547 1435.49,86.2547 1437.52,86.2547 \n",
       "  1439.55,86.2547 1441.57,86.2547 1443.6,86.2547 1445.63,86.2547 1447.66,86.2547 1449.68,86.2547 1451.71,86.2547 1453.74,86.2547 1455.76,86.2547 1457.79,86.2547 \n",
       "  1459.82,86.2547 1461.85,86.2547 1463.87,86.2547 1465.9,86.2547 1467.93,86.2547 1469.96,86.2547 1471.98,86.2547 1474.01,86.2547 1476.04,86.2547 1478.06,86.2547 \n",
       "  1480.09,86.2547 1482.12,86.2547 1484.15,86.2547 1486.17,86.2547 1488.2,86.2547 1490.23,86.2547 1492.26,86.2547 1494.28,86.2547 1496.31,86.2547 1498.34,86.2547 \n",
       "  1500.36,86.2547 1502.39,86.2547 1504.42,86.2547 1506.45,86.2547 1508.47,86.2547 1510.5,86.2547 1512.53,86.2547 1514.56,86.2547 1516.58,86.2547 1518.61,86.2547 \n",
       "  1520.64,86.2547 1522.66,86.2547 1524.69,86.2547 1526.72,86.2547 1528.75,86.2547 1530.77,86.2547 1532.8,86.2547 1534.83,86.2547 1536.86,86.2547 1538.88,86.2547 \n",
       "  1540.91,86.2547 1542.94,86.2547 1544.96,86.2547 1546.99,86.2547 1549.02,86.2547 1551.05,86.2547 1553.07,86.2547 1555.1,86.2547 1557.13,86.2547 1559.16,86.2547 \n",
       "  1561.18,86.2547 1563.21,86.2547 1565.24,86.2547 1567.26,86.2547 1569.29,86.2547 1571.32,86.2547 1573.35,86.2547 1575.37,86.2547 1577.4,86.2547 1579.43,86.2547 \n",
       "  1581.46,86.2547 1583.48,86.2547 1585.51,86.2547 1587.54,86.2547 1589.56,86.2547 1591.59,86.2547 1593.62,86.2547 1595.65,86.2547 1597.67,86.2547 1599.7,86.2547 \n",
       "  1601.73,86.2547 1603.76,86.2547 1605.78,86.2547 1607.81,86.2547 1609.84,86.2547 1611.87,86.2547 1613.89,86.2547 1615.92,86.2547 1617.95,86.2547 1619.97,86.2547 \n",
       "  1622,86.2547 1624.03,86.2547 1626.06,86.2547 1628.08,86.2547 1630.11,86.2547 1632.14,86.2547 1634.17,86.2547 1636.19,86.2547 1638.22,86.2547 1640.25,86.2547 \n",
       "  1642.27,86.2547 1644.3,86.2547 1646.33,86.2547 1648.36,86.2547 1650.38,86.2547 1652.41,86.2547 1654.44,86.2547 1656.47,86.2547 1658.49,86.2547 1660.52,86.2547 \n",
       "  1662.55,86.2547 1664.57,86.2547 1666.6,86.2547 1668.63,86.2547 1670.66,86.2547 1672.68,86.2547 1674.71,86.2547 1676.74,86.2547 1678.77,86.2547 1680.79,86.2547 \n",
       "  1682.82,86.2547 1684.85,86.2547 1686.87,86.2547 1688.9,86.2547 1690.93,86.2547 1692.96,86.2547 1694.98,86.2547 1697.01,86.2547 1699.04,86.2547 1701.07,86.2547 \n",
       "  1703.09,86.2547 1705.12,86.2547 1707.15,86.2547 1709.17,86.2547 1711.2,86.2547 1713.23,86.2547 1715.26,86.2547 1717.28,86.2547 1719.31,86.2547 1721.34,86.2547 \n",
       "  1723.37,86.2547 1725.39,86.2547 1727.42,86.2547 1729.45,86.2547 1731.47,86.2547 1733.5,86.2547 1735.53,86.2547 1737.56,86.2547 1739.58,86.2547 1741.61,86.2547 \n",
       "  1743.64,86.2547 1745.67,86.2547 1747.69,86.2547 1749.72,86.2547 1751.75,86.2547 1753.77,86.2547 1755.8,86.2547 1757.83,86.2547 1759.86,86.2547 1761.88,86.2547 \n",
       "  1763.91,86.2547 1765.94,86.2547 1767.97,86.2547 1769.99,86.2547 1772.02,86.2547 1774.05,86.2547 1776.07,86.2547 1778.1,86.2547 1780.13,86.2547 1782.16,86.2547 \n",
       "  1784.18,86.2547 1786.21,86.2547 1788.24,86.2547 1790.27,86.2547 1792.29,86.2547 1794.32,86.2547 1796.35,86.2547 1798.38,86.2547 1800.4,86.2547 1802.43,86.2547 \n",
       "  1804.46,86.2547 1806.48,86.2547 1808.51,86.2547 1810.54,86.2547 1812.57,86.2547 1814.59,86.2547 1816.62,86.2547 1818.65,86.2547 1820.68,86.2547 1822.7,86.2547 \n",
       "  1824.73,86.2547 1826.76,86.2547 1828.78,86.2547 1830.81,86.2547 1832.84,86.2547 1834.87,86.2547 1836.89,86.2547 1838.92,86.2547 1840.95,86.2547 1842.98,86.2547 \n",
       "  1845,86.2547 1847.03,86.2547 1849.06,86.2547 1851.08,86.2547 1853.11,86.2547 1855.14,86.2547 1857.17,86.2547 1859.19,86.2547 1861.22,86.2547 1863.25,86.2547 \n",
       "  1865.28,86.2547 1867.3,86.2547 1869.33,86.2547 1871.36,86.2547 1873.38,86.2547 1875.41,86.2547 1877.44,86.2547 1879.47,86.2547 1881.49,86.2547 1883.52,86.2547 \n",
       "  1885.55,86.2547 1887.58,86.2547 1889.6,86.2547 1891.63,86.2547 1893.66,86.2547 1895.68,86.2547 1897.71,86.2547 1899.74,86.2547 1901.77,86.2547 1903.79,86.2547 \n",
       "  1905.82,86.2547 1907.85,86.2547 1909.88,86.2547 1911.9,86.2547 1913.93,86.2547 1915.96,86.2547 1917.98,86.2547 1920.01,86.2547 1922.04,86.2547 1924.07,86.2547 \n",
       "  1926.09,86.2547 1928.12,86.2547 1930.15,86.2547 1932.18,86.2547 1934.2,86.2547 1936.23,86.2547 1938.26,86.2547 1940.28,86.2547 1942.31,86.2547 1944.34,86.2547 \n",
       "  1946.37,86.2547 1948.39,86.2547 1950.42,86.2547 1952.45,86.2547 1954.48,86.2547 1956.5,86.2547 1958.53,86.2547 1960.56,86.2547 1962.59,86.2547 1964.61,86.2547 \n",
       "  1966.64,86.2547 1968.67,86.2547 1970.69,86.2547 1972.72,86.2547 1974.75,86.2547 1976.78,86.2547 1978.8,86.2547 1980.83,86.2547 1982.86,86.2547 1984.89,86.2547 \n",
       "  1986.91,86.2547 1988.94,86.2547 1990.97,86.2547 1992.99,86.2547 1995.02,86.2547 1997.05,86.2547 1999.08,86.2547 2001.1,86.2547 2003.13,86.2547 2005.16,86.2547 \n",
       "  2007.19,86.2547 2009.21,86.2547 2011.24,86.2547 2013.27,86.2547 2015.29,86.2547 2017.32,86.2547 2019.35,86.2547 2021.38,86.2547 2023.4,86.2547 2025.43,86.2547 \n",
       "  2027.46,86.2547 2029.49,86.2547 2031.51,86.2547 2033.54,86.2547 2035.57,86.2547 2037.59,86.2547 2039.62,86.2547 2041.65,86.2547 2043.68,86.2547 2045.7,86.2547 \n",
       "  2047.73,86.2547 2049.76,86.2547 2051.79,86.2547 2053.81,86.2547 2055.84,86.2547 2057.87,86.2547 2059.89,86.2547 2061.92,86.2547 2063.95,86.2547 2065.98,86.2547 \n",
       "  2068,86.2547 2070.03,86.2547 2072.06,86.2547 2074.09,86.2547 2076.11,86.2547 2078.14,86.2547 2080.17,86.2547 2082.19,86.2547 2084.22,86.2547 2086.25,86.2547 \n",
       "  2088.28,86.2547 2090.3,86.2547 2092.33,86.2547 2094.36,86.2547 2096.39,86.2547 2098.41,86.2547 2100.44,86.2547 2102.47,86.2547 2104.49,86.2547 2106.52,86.2547 \n",
       "  2108.55,86.2547 2110.58,86.2547 2112.6,86.2547 2114.63,86.2547 2116.66,86.2547 2118.69,86.2547 2120.71,86.2547 2122.74,86.2547 2124.77,86.2547 2126.79,86.2547 \n",
       "  2128.82,86.2547 2130.85,86.2547 2132.88,86.2547 2134.9,86.2547 2136.93,86.2547 2138.96,86.2547 2140.99,86.2547 2143.01,86.2547 2145.04,86.2547 2147.07,86.2547 \n",
       "  2149.1,86.2547 2151.12,86.2547 2153.15,86.2547 2155.18,86.2547 2157.2,86.2547 2159.23,86.2547 2161.26,86.2547 2163.29,86.2547 2165.31,86.2547 2167.34,86.2547 \n",
       "  2169.37,86.2547 2171.4,86.2547 2173.42,86.2547 2175.45,86.2547 2177.48,86.2547 2179.5,86.2547 2181.53,86.2547 2183.56,86.2547 2185.59,86.2547 2187.61,86.2547 \n",
       "  2189.64,86.2547 2191.67,86.2547 2193.7,86.2547 2195.72,86.2547 2197.75,86.2547 2199.78,86.2547 2201.8,86.2547 2203.83,86.2547 2205.86,86.2547 2207.89,86.2547 \n",
       "  2209.91,86.2547 2211.94,86.2547 2213.97,86.2547 2216,86.2547 2218.02,86.2547 2220.05,86.2547 2222.08,86.2547 2224.1,86.2547 2226.13,86.2547 2228.16,86.2547 \n",
       "  2230.19,86.2547 2232.21,86.2547 2234.24,86.2547 2236.27,86.2547 2238.3,86.2547 2240.32,86.2547 2242.35,86.2547 2244.38,86.2547 2246.4,86.2547 2248.43,86.2547 \n",
       "  2250.46,86.2547 2252.49,86.2547 2254.51,86.2547 2256.54,86.2547 2258.57,86.2547 2260.6,86.2547 2262.62,86.2547 2264.65,86.2547 2266.68,86.2547 2268.7,86.2547 \n",
       "  2270.73,86.2547 2272.76,86.2547 2274.79,86.2547 2276.81,86.2547 2278.84,86.2547 2280.87,86.2547 2282.9,86.2547 2284.92,86.2547 2286.95,86.2547 2288.98,86.2547 \n",
       "  2291,86.2547 2293.03,86.2547 \n",
       "  \"/>\n",
       "<polyline clip-path=\"url(#clip2002)\" style=\"stroke:#008000; stroke-width:4; stroke-opacity:1; fill:none\" stroke-dasharray=\"16, 10\" points=\"\n",
       "  1299.66,2803.99 1299.66,-1331.13 \n",
       "  \"/>\n",
       "<polyline clip-path=\"url(#clip2002)\" style=\"stroke:#ff0000; stroke-width:4; stroke-opacity:1; fill:none\" stroke-dasharray=\"16, 10\" points=\"\n",
       "  2293.03,2803.99 2293.03,-1331.13 \n",
       "  \"/>\n",
       "<path clip-path=\"url(#clip2000)\" d=\"\n",
       "M1564.57 372.684 L2280.76 372.684 L2280.76 130.764 L1564.57 130.764  Z\n",
       "  \" fill=\"#ffffff\" fill-rule=\"evenodd\" fill-opacity=\"1\"/>\n",
       "<polyline clip-path=\"url(#clip2000)\" style=\"stroke:#000000; stroke-width:4; stroke-opacity:1; fill:none\" points=\"\n",
       "  1564.57,372.684 2280.76,372.684 2280.76,130.764 1564.57,130.764 1564.57,372.684 \n",
       "  \"/>\n",
       "<polyline clip-path=\"url(#clip2000)\" style=\"stroke:#009af9; stroke-width:4; stroke-opacity:1; fill:none\" points=\"\n",
       "  1588.57,191.244 1732.57,191.244 \n",
       "  \"/>\n",
       "<g clip-path=\"url(#clip2000)\">\n",
       "<text style=\"fill:#000000; fill-opacity:1; font-family:Arial,Helvetica Neue,Helvetica,sans-serif; font-size:48px; text-anchor:start;\" transform=\"rotate(0, 1756.57, 208.744)\" x=\"1756.57\" y=\"208.744\">Apple(0) or Banana(1)</text>\n",
       "</g>\n",
       "<polyline clip-path=\"url(#clip2000)\" style=\"stroke:#008000; stroke-width:4; stroke-opacity:1; fill:none\" stroke-dasharray=\"16, 10\" points=\"\n",
       "  1588.57,251.724 1732.57,251.724 \n",
       "  \"/>\n",
       "<g clip-path=\"url(#clip2000)\">\n",
       "<text style=\"fill:#000000; fill-opacity:1; font-family:Arial,Helvetica Neue,Helvetica,sans-serif; font-size:48px; text-anchor:start;\" transform=\"rotate(0, 1756.57, 269.224)\" x=\"1756.57\" y=\"269.224\">492</text>\n",
       "</g>\n",
       "<polyline clip-path=\"url(#clip2000)\" style=\"stroke:#ff0000; stroke-width:4; stroke-opacity:1; fill:none\" stroke-dasharray=\"16, 10\" points=\"\n",
       "  1588.57,312.204 1732.57,312.204 \n",
       "  \"/>\n",
       "<g clip-path=\"url(#clip2000)\">\n",
       "<text style=\"fill:#000000; fill-opacity:1; font-family:Arial,Helvetica Neue,Helvetica,sans-serif; font-size:48px; text-anchor:start;\" transform=\"rotate(0, 1756.57, 329.704)\" x=\"1756.57\" y=\"329.704\">982</text>\n",
       "</g>\n",
       "</svg>\n"
      ]
     },
     "execution_count": 59,
     "metadata": {},
     "output_type": "execute_result"
    }
   ],
   "source": [
    "plot(predicted_output,xlim=[0,982],ylim=[0,1],xlabel=\"Input Instance\",ylabel=\"Prediction Output\",label=\"Apple(0) or Banana(1)\")\n",
    "#plot!([492,492],[0,1], color=:red, ls=:dash)\n",
    "#plot!([982,982],[0,1], color=:red, ls=:dash)\n",
    "vline!([492], color=:green, ls=:dash, lw=1, label=\"492\")\n",
    "vline!([982], color=:red, ls=:dash, lw=1, label=\"982\")"
   ]
  },
  {
   "cell_type": "markdown",
   "metadata": {},
   "source": [
    "Reconfirm there are not false positive detection for apples."
   ]
  },
  {
   "cell_type": "code",
   "execution_count": 60,
   "metadata": {},
   "outputs": [
    {
     "name": "stdout",
     "output_type": "stream",
     "text": [
      "Apples True Positives = 492\n",
      "Apples False Positives = 0\n"
     ]
    }
   ],
   "source": [
    "global applesTP = 0\n",
    "global applesFP = 0\n",
    "for j in 1:492\n",
    "    if (predicted_output[j][1] == 0)\n",
    "        applesTP +=1\n",
    "    else\n",
    "        applesFP +=1\n",
    "    end\n",
    "end\n",
    "println(\"Apples True Positives = \",applesTP)\n",
    "println(\"Apples False Positives = \",applesFP)"
   ]
  },
  {
   "cell_type": "markdown",
   "metadata": {},
   "source": [
    "Reconfirm there are no false positive detection for bananas."
   ]
  },
  {
   "cell_type": "code",
   "execution_count": 61,
   "metadata": {},
   "outputs": [
    {
     "name": "stdout",
     "output_type": "stream",
     "text": [
      "Bananas True Positives = 490\n",
      "Bananas False Positives = 0\n"
     ]
    }
   ],
   "source": [
    "global bananasTP = 0\n",
    "global bananasFP = 0\n",
    "for k in 493:982\n",
    "    if (predicted_output[k][1] == 1)\n",
    "        bananasTP +=1\n",
    "    else\n",
    "        bananasFP +=1\n",
    "    end\n",
    "end\n",
    "println(\"Bananas True Positives = \",bananasTP)\n",
    "println(\"Bananas False Positives = \",bananasFP)"
   ]
  }
 ],
 "metadata": {
  "@webio": {
   "lastCommId": null,
   "lastKernelId": null
  },
  "kernelspec": {
   "display_name": "Julia 1.3.1",
   "language": "julia",
   "name": "julia-1.3"
  },
  "language_info": {
   "file_extension": ".jl",
   "mimetype": "application/julia",
   "name": "julia",
   "version": "1.3.1"
  }
 },
 "nbformat": 4,
 "nbformat_minor": 4
}
